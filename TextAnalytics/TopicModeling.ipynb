{
 "cells": [
  {
   "cell_type": "markdown",
   "metadata": {},
   "source": [
    "# Topic Modeling through Latent Dirichlet Allocation"
   ]
  },
  {
   "cell_type": "markdown",
   "metadata": {},
   "source": [
    "**Outline**\n",
    "\n",
    "* [Introduction](#intro)\n",
    "* [Implementation using gensim](#example)\n",
    "* [Math behind LDA](#math)\n",
    "* [Reference](#refer)"
   ]
  },
  {
   "cell_type": "code",
   "execution_count": 471,
   "metadata": {},
   "outputs": [
    {
     "name": "stdout",
     "output_type": "stream",
     "text": [
      "Johnny 2019-01-29 13:52:00 \n",
      "\n",
      "CPython 3.6.3\n",
      "IPython 6.1.0\n",
      "\n",
      "pandas 0.20.3\n",
      "numpy 1.13.3\n",
      "nltk 3.2.4\n",
      "gensim 3.4.0\n",
      "re 2.2.1\n"
     ]
    }
   ],
   "source": [
    "%reload_ext watermark\n",
    "%matplotlib inline  \n",
    "%config InlineBackend.figure_format = 'retina'\n",
    "\n",
    "import pandas as pd\n",
    "import numpy as np\n",
    "from nltk.corpus import stopwords\n",
    "from nltk.tokenize import word_tokenize\n",
    "from nltk.stem import WordNetLemmatizer\n",
    "from gensim import corpora\n",
    "from gensim.models.ldamodel import LdaModel\n",
    "import re, string\n",
    "import matplotlib.pyplot as plt\n",
    "\n",
    "%watermark -a 'Johnny' -d -t -v -p pandas,numpy,nltk,gensim,re"
   ]
  },
  {
   "cell_type": "markdown",
   "metadata": {},
   "source": [
    "---"
   ]
  },
  {
   "cell_type": "markdown",
   "metadata": {},
   "source": [
    "# <a id='intro'>Introduction</a>"
   ]
  },
  {
   "cell_type": "markdown",
   "metadata": {},
   "source": [
    "There are many time that we would have a large collection of documents (let's call them corpus) and would like to somehow identify the topics among these documents. Since the corpus might be large, it would be very difficult for us to know how to define those topics that can cover each of the documents, not to mention to hand label them one by one. Furthermore, each documents can potentially be related to multiple topics. For example, Online booking platform Airbnb may want to [discover and classifying in-app message](https://medium.com/airbnb-engineering/discovering-and-classifying-in-app-message-intent-at-airbnb-6a55f5400a0c) to help them better understand guest intent in order to provide a more seamless communication experience for both their guests and hosts. A meesage like \n",
    "> Could you recommend some things to do in the area? We were looking to go to a public beach or lake\n",
    "\n",
    "The first sentence, “Could you recommend some things to do in the area?”, is a general ask. However the next sentence in the same message, “We were looking to go to a public beach or lake”, apparently has very specific intent. The message does not neatly fit into either label (specific or generic) as a whole.\n",
    "\n",
    "This is exactly where Latent Dirichlet Allocation(LDA) can come into play. Unlike other unsupervised algorithms that  assume one data point belongs to one cluster, LDA discover potential topics in the large corpus with \n",
    "* **Input**: a lot of documents\n",
    "* **Output**: \n",
    "    * Topics with the top words. For example, top 10 words for topic 1 is delicious, recommend, popular, ...etc (We can use these top words to define a topic such as positive experience or intent)\n",
    "    * Distribution to each document. For example, doc1 with 40% topic1, 30% topic2, ...etc)"
   ]
  },
  {
   "cell_type": "markdown",
   "metadata": {},
   "source": [
    "# <a id='example'>Implementation using gensim</a>"
   ]
  },
  {
   "cell_type": "markdown",
   "metadata": {
    "collapsed": true
   },
   "source": [
    "In this post, similar to Airbnb's in-app message intent example, we would like to identify the customer intent using the [Customer Support related tweets on Twitter with over 3 million tweets and replies from the biggest brands](https://www.kaggle.com/thoughtvector/customer-support-on-twitter/home). Among all the tweets, these are the top brand by volume\n",
    "<img src=\"pic/top_brands.png\" style=\"width: 620px;height: 380px;\"/>\n",
    "\n",
    "We can see that AppleSupport accounts for the largest volume. Since customer intent and the questions people ask for each brand might be quite different, we would like to firstly focus on the tweets related to @AppleSupport. Topic Modeling for other brands can be done following the same sturcture. \n",
    "\n",
    "The goal here is to help AppleSupport\n",
    "* better serve their customer's need by automatically label the tweets with topics and potentially help them to expedite the response time\n",
    "* identify what are the top issues from the tweet that people send to customer support\n",
    "\n",
    "<img src=\"pic/twitter_apple.png\" style=\"width: 520px;height: 560px;\"/>"
   ]
  },
  {
   "cell_type": "markdown",
   "metadata": {},
   "source": [
    "> **Read Data**"
   ]
  },
  {
   "cell_type": "code",
   "execution_count": 56,
   "metadata": {
    "collapsed": true
   },
   "outputs": [],
   "source": [
    "df_raw = pd.read_csv('data/twcs.csv')"
   ]
  },
  {
   "cell_type": "code",
   "execution_count": 453,
   "metadata": {},
   "outputs": [
    {
     "name": "stdout",
     "output_type": "stream",
     "text": [
      "(2811774, 7)\n"
     ]
    },
    {
     "data": {
      "text/html": [
       "<div>\n",
       "<style>\n",
       "    .dataframe thead tr:only-child th {\n",
       "        text-align: right;\n",
       "    }\n",
       "\n",
       "    .dataframe thead th {\n",
       "        text-align: left;\n",
       "    }\n",
       "\n",
       "    .dataframe tbody tr th {\n",
       "        vertical-align: top;\n",
       "    }\n",
       "</style>\n",
       "<table border=\"1\" class=\"dataframe\">\n",
       "  <thead>\n",
       "    <tr style=\"text-align: right;\">\n",
       "      <th></th>\n",
       "      <th>tweet_id</th>\n",
       "      <th>author_id</th>\n",
       "      <th>inbound</th>\n",
       "      <th>created_at</th>\n",
       "      <th>text</th>\n",
       "      <th>response_tweet_id</th>\n",
       "      <th>in_response_to_tweet_id</th>\n",
       "    </tr>\n",
       "  </thead>\n",
       "  <tbody>\n",
       "    <tr>\n",
       "      <th>0</th>\n",
       "      <td>1</td>\n",
       "      <td>sprintcare</td>\n",
       "      <td>False</td>\n",
       "      <td>Tue Oct 31 22:10:47 +0000 2017</td>\n",
       "      <td>@115712 I understand. I would like to assist y...</td>\n",
       "      <td>2</td>\n",
       "      <td>3.0</td>\n",
       "    </tr>\n",
       "    <tr>\n",
       "      <th>1</th>\n",
       "      <td>2</td>\n",
       "      <td>115712</td>\n",
       "      <td>True</td>\n",
       "      <td>Tue Oct 31 22:11:45 +0000 2017</td>\n",
       "      <td>@sprintcare and how do you propose we do that</td>\n",
       "      <td>NaN</td>\n",
       "      <td>1.0</td>\n",
       "    </tr>\n",
       "    <tr>\n",
       "      <th>2</th>\n",
       "      <td>3</td>\n",
       "      <td>115712</td>\n",
       "      <td>True</td>\n",
       "      <td>Tue Oct 31 22:08:27 +0000 2017</td>\n",
       "      <td>@sprintcare I have sent several private messag...</td>\n",
       "      <td>1</td>\n",
       "      <td>4.0</td>\n",
       "    </tr>\n",
       "    <tr>\n",
       "      <th>3</th>\n",
       "      <td>4</td>\n",
       "      <td>sprintcare</td>\n",
       "      <td>False</td>\n",
       "      <td>Tue Oct 31 21:54:49 +0000 2017</td>\n",
       "      <td>@115712 Please send us a Private Message so th...</td>\n",
       "      <td>3</td>\n",
       "      <td>5.0</td>\n",
       "    </tr>\n",
       "    <tr>\n",
       "      <th>4</th>\n",
       "      <td>5</td>\n",
       "      <td>115712</td>\n",
       "      <td>True</td>\n",
       "      <td>Tue Oct 31 21:49:35 +0000 2017</td>\n",
       "      <td>@sprintcare I did.</td>\n",
       "      <td>4</td>\n",
       "      <td>6.0</td>\n",
       "    </tr>\n",
       "  </tbody>\n",
       "</table>\n",
       "</div>"
      ],
      "text/plain": [
       "   tweet_id   author_id  inbound                      created_at  \\\n",
       "0         1  sprintcare    False  Tue Oct 31 22:10:47 +0000 2017   \n",
       "1         2      115712     True  Tue Oct 31 22:11:45 +0000 2017   \n",
       "2         3      115712     True  Tue Oct 31 22:08:27 +0000 2017   \n",
       "3         4  sprintcare    False  Tue Oct 31 21:54:49 +0000 2017   \n",
       "4         5      115712     True  Tue Oct 31 21:49:35 +0000 2017   \n",
       "\n",
       "                                                text response_tweet_id  \\\n",
       "0  @115712 I understand. I would like to assist y...                 2   \n",
       "1      @sprintcare and how do you propose we do that               NaN   \n",
       "2  @sprintcare I have sent several private messag...                 1   \n",
       "3  @115712 Please send us a Private Message so th...                 3   \n",
       "4                                 @sprintcare I did.                 4   \n",
       "\n",
       "   in_response_to_tweet_id  \n",
       "0                      3.0  \n",
       "1                      1.0  \n",
       "2                      4.0  \n",
       "3                      5.0  \n",
       "4                      6.0  "
      ]
     },
     "execution_count": 453,
     "metadata": {},
     "output_type": "execute_result"
    }
   ],
   "source": [
    "# there are totally 2.8 million tweets\n",
    "print(df_raw.shape)\n",
    "\n",
    "# see dataframe\n",
    "df_raw.head()"
   ]
  },
  {
   "cell_type": "markdown",
   "metadata": {},
   "source": [
    "* **tweet_id**: A unique, anonymized ID for the Tweet. Referenced by response_tweet_id and in_response_to_tweet_id.\n",
    "* **author_id**: A unique, anonymized user ID. @s in the dataset have been replaced with their associated anonymized user ID.\n",
    "* **inbound**: Whether the tweet is \"inbound\" to a company doing customer support on Twitter. This feature is useful when re-organizing data for training conversational models.\n",
    "* **created_at**: Date and time when the tweet was sent.\n",
    "* **text**: Tweet content. Sensitive information like phone numbers and email addresses are replaced with mask values like \\__email\\__.\n",
    "* **response_tweet_id**: IDs of tweets that are responses to this tweet, comma-separated.\n",
    "* **in_response_to_tweet_id**: ID of the tweet this tweet is in response to, if any."
   ]
  },
  {
   "cell_type": "code",
   "execution_count": 261,
   "metadata": {},
   "outputs": [
    {
     "data": {
      "text/plain": [
       "(50823, 7)"
      ]
     },
     "execution_count": 261,
     "metadata": {},
     "output_type": "execute_result"
    }
   ],
   "source": [
    "# let's keep only the tweets that contains @AppleSupport\n",
    "# Also keep only non-responding tweet (in_response_to_tweet_id=NA) to include tweets with some degree of intent\n",
    "# These are the tweets that Apple Support get on Twitter, which are the tweets that we want to identify the intent\n",
    "df = df_raw[(df_raw['text'].str.contains('@AppleSupport')) & (df_raw['in_response_to_tweet_id'].isnull())].copy()\n",
    "df.shape"
   ]
  },
  {
   "cell_type": "code",
   "execution_count": 262,
   "metadata": {},
   "outputs": [
    {
     "data": {
      "text/plain": [
       "2017 Nov    27103\n",
       "2017 Oct    21097\n",
       "2017 Dec     2509\n",
       "2017 Sep       89\n",
       "2017 Aug        5\n",
       "2017 Jan        3\n",
       "2017 Jun        3\n",
       "2017 Jul        2\n",
       "2017 May        2\n",
       "2017 Apr        2\n",
       "Name: year_month, dtype: int64"
      ]
     },
     "execution_count": 262,
     "metadata": {},
     "output_type": "execute_result"
    }
   ],
   "source": [
    "df['year_month'] = df['created_at'].apply(lambda x: x[-4:]+' '+x[4:7])\n",
    "df['year_month'].value_counts().head(10)"
   ]
  },
  {
   "cell_type": "code",
   "execution_count": 263,
   "metadata": {
    "collapsed": true
   },
   "outputs": [],
   "source": [
    "df.to_csv('data/apple.csv',index=False)"
   ]
  },
  {
   "cell_type": "markdown",
   "metadata": {},
   "source": [
    "There are ~97k tweets, with most of them happens during October to November in 2017."
   ]
  },
  {
   "cell_type": "code",
   "execution_count": 266,
   "metadata": {},
   "outputs": [
    {
     "name": "stdout",
     "output_type": "stream",
     "text": [
      "@AppleSupport why are my I️’s changing not showing up correctly on any of my social media platforms? https://t.co/GyRvpyVnkE\n",
      "\n",
      "Hey @AppleSupport and anyone else who upgraded to ios11.1, are y’all having issues with capital “I️” in the Mail app? As it puts in “A”?\n",
      "\n",
      "@115858 @AppleSupport hello are all the lines closed for tonight #help\n",
      "\n",
      "Hello, internet. Can someone explain why this symbol keeps appearing on my phone and when I️ try to type the letter I️? Also @AppleSupport https://t.co/QKwvTLtiN7\n",
      "\n",
      "@AppleSupport I’ve got a screenshot saying my #iPhoneX is reserved for the 3rd then an email saying it’s the 18th... what happened?\n",
      "\n",
      "Thank you @AppleSupport I updated my phone and now it is even slower and barely works. Thank you for ruining my phone.😤\n",
      "\n",
      "Hola @AppleSupport necesito urgente la actualización de software. La batería me dura literal medio día 🙍🏼🙇🏼‍♀️\n",
      "\n",
      "@AppleSupport Hi! What is going on? Has Youtube lost it? What can be done about it? Thanks for the support! https://t.co/T8ZZp4IH6t\n",
      "\n",
      "@AppleSupport my Apple TV works fine with my phone, but when playing videos on Mac air it stutters so much &amp; sound is still on Mac not tv?\n",
      "\n",
      "MY HOME BUTTON DOESN’T WORK #IOS11 @AppleSupport\n",
      "\n"
     ]
    }
   ],
   "source": [
    "# let's take a look at those tweets\n",
    "for i in df['text'].head(10):    \n",
    "    print(i+'\\n')"
   ]
  },
  {
   "cell_type": "markdown",
   "metadata": {},
   "source": [
    "> **Step 1: Clean the corpus**"
   ]
  },
  {
   "cell_type": "code",
   "execution_count": 305,
   "metadata": {
    "collapsed": true
   },
   "outputs": [],
   "source": [
    "# create English stop words list (you can always define your own stopwords)\n",
    "# add 'applesupport' as stop words since we don't need it in the document\n",
    "stop_words = set(stopwords.words('english'))\n",
    "custom_removel = ['applesupport', '115858', '115948', '118936', '116333']\n",
    "for i in custom_removel:\n",
    "    stop_words.add(i)\n",
    "\n",
    "# Create a WordNetLemmatizer object\n",
    "lemmatizer = WordNetLemmatizer()"
   ]
  },
  {
   "cell_type": "code",
   "execution_count": 306,
   "metadata": {
    "collapsed": true
   },
   "outputs": [],
   "source": [
    "df['text']= df['text'].apply(lambda x: x.strip())"
   ]
  },
  {
   "cell_type": "code",
   "execution_count": 307,
   "metadata": {},
   "outputs": [
    {
     "data": {
      "text/html": [
       "<div>\n",
       "<style>\n",
       "    .dataframe thead tr:only-child th {\n",
       "        text-align: right;\n",
       "    }\n",
       "\n",
       "    .dataframe thead th {\n",
       "        text-align: left;\n",
       "    }\n",
       "\n",
       "    .dataframe tbody tr th {\n",
       "        vertical-align: top;\n",
       "    }\n",
       "</style>\n",
       "<table border=\"1\" class=\"dataframe\">\n",
       "  <thead>\n",
       "    <tr style=\"text-align: right;\">\n",
       "      <th></th>\n",
       "      <th>tweet_id</th>\n",
       "      <th>author_id</th>\n",
       "      <th>inbound</th>\n",
       "      <th>created_at</th>\n",
       "      <th>text</th>\n",
       "      <th>response_tweet_id</th>\n",
       "      <th>in_response_to_tweet_id</th>\n",
       "      <th>year_month</th>\n",
       "    </tr>\n",
       "  </thead>\n",
       "  <tbody>\n",
       "    <tr>\n",
       "      <th>400</th>\n",
       "      <td>700</td>\n",
       "      <td>115854</td>\n",
       "      <td>True</td>\n",
       "      <td>Tue Oct 31 22:16:56 +0000 2017</td>\n",
       "      <td>@AppleSupport why are my I️’s changing not sho...</td>\n",
       "      <td>698</td>\n",
       "      <td>NaN</td>\n",
       "      <td>2017 Oct</td>\n",
       "    </tr>\n",
       "    <tr>\n",
       "      <th>413</th>\n",
       "      <td>714</td>\n",
       "      <td>115856</td>\n",
       "      <td>True</td>\n",
       "      <td>Tue Oct 31 22:19:32 +0000 2017</td>\n",
       "      <td>Hey @AppleSupport and anyone else who upgraded...</td>\n",
       "      <td>712,715</td>\n",
       "      <td>NaN</td>\n",
       "      <td>2017 Oct</td>\n",
       "    </tr>\n",
       "    <tr>\n",
       "      <th>421</th>\n",
       "      <td>723</td>\n",
       "      <td>115859</td>\n",
       "      <td>True</td>\n",
       "      <td>Tue Oct 31 22:11:16 +0000 2017</td>\n",
       "      <td>@115858 @AppleSupport hello are all the lines ...</td>\n",
       "      <td>722</td>\n",
       "      <td>NaN</td>\n",
       "      <td>2017 Oct</td>\n",
       "    </tr>\n",
       "    <tr>\n",
       "      <th>427</th>\n",
       "      <td>730</td>\n",
       "      <td>115861</td>\n",
       "      <td>True</td>\n",
       "      <td>Tue Oct 31 20:46:35 +0000 2017</td>\n",
       "      <td>Hello, internet. Can someone explain why this ...</td>\n",
       "      <td>729,731</td>\n",
       "      <td>NaN</td>\n",
       "      <td>2017 Oct</td>\n",
       "    </tr>\n",
       "    <tr>\n",
       "      <th>429</th>\n",
       "      <td>733</td>\n",
       "      <td>115863</td>\n",
       "      <td>True</td>\n",
       "      <td>Tue Oct 31 22:16:40 +0000 2017</td>\n",
       "      <td>@AppleSupport I’ve got a screenshot saying my ...</td>\n",
       "      <td>732</td>\n",
       "      <td>NaN</td>\n",
       "      <td>2017 Oct</td>\n",
       "    </tr>\n",
       "  </tbody>\n",
       "</table>\n",
       "</div>"
      ],
      "text/plain": [
       "     tweet_id author_id  inbound                      created_at  \\\n",
       "400       700    115854     True  Tue Oct 31 22:16:56 +0000 2017   \n",
       "413       714    115856     True  Tue Oct 31 22:19:32 +0000 2017   \n",
       "421       723    115859     True  Tue Oct 31 22:11:16 +0000 2017   \n",
       "427       730    115861     True  Tue Oct 31 20:46:35 +0000 2017   \n",
       "429       733    115863     True  Tue Oct 31 22:16:40 +0000 2017   \n",
       "\n",
       "                                                  text response_tweet_id  \\\n",
       "400  @AppleSupport why are my I️’s changing not sho...               698   \n",
       "413  Hey @AppleSupport and anyone else who upgraded...           712,715   \n",
       "421  @115858 @AppleSupport hello are all the lines ...               722   \n",
       "427  Hello, internet. Can someone explain why this ...           729,731   \n",
       "429  @AppleSupport I’ve got a screenshot saying my ...               732   \n",
       "\n",
       "     in_response_to_tweet_id year_month  \n",
       "400                      NaN   2017 Oct  \n",
       "413                      NaN   2017 Oct  \n",
       "421                      NaN   2017 Oct  \n",
       "427                      NaN   2017 Oct  \n",
       "429                      NaN   2017 Oct  "
      ]
     },
     "execution_count": 307,
     "metadata": {},
     "output_type": "execute_result"
    }
   ],
   "source": [
    "df.head()"
   ]
  },
  {
   "cell_type": "code",
   "execution_count": 308,
   "metadata": {
    "collapsed": true
   },
   "outputs": [],
   "source": [
    "# lower case\n",
    "# remove url from doc\n",
    "# remove stop words from sentences \n",
    "# lemmatize verbs and nouns\n",
    "def clean(doc, lemmatize=True):\n",
    "    url_free = re.sub(r'https?:\\/\\/.+/\\w+', '', doc, flags=re.MULTILINE)\n",
    "    tokenized = word_tokenize(url_free.lower())\n",
    "    stop_free = [x for x in tokenized if not re.fullmatch('[' + string.punctuation + ']+', x) and x not in stop_words]\n",
    "    y = [s for s in stop_free if len(s) > 2] # remove string with length 1\n",
    "    \n",
    "    if lemmatize==True:\n",
    "        lemma_verb = [lemmatizer.lemmatize(word,'v') for word in stop_free]\n",
    "        lemma_noun = [lemmatizer.lemmatize(word,'n') for word in lemma_verb]\n",
    "        y = [s for s in lemma_noun if len(s) > 2] # remove string with length 1\n",
    "    return y"
   ]
  },
  {
   "cell_type": "code",
   "execution_count": 310,
   "metadata": {
    "collapsed": true
   },
   "outputs": [],
   "source": [
    "# corpus_clean is a list for tokenized documents (a list of list)\n",
    "# each list contains the tokenized words in a document\n",
    "corpus_clean = [clean(doc, lemmatize=True) for doc in list(df['text'])]"
   ]
  },
  {
   "cell_type": "code",
   "execution_count": 456,
   "metadata": {},
   "outputs": [
    {
     "data": {
      "text/plain": [
       "['change', 'show', 'correctly', 'social', 'medium', 'platform']"
      ]
     },
     "execution_count": 456,
     "metadata": {},
     "output_type": "execute_result"
    }
   ],
   "source": [
    "corpus_clean[0]"
   ]
  },
  {
   "cell_type": "markdown",
   "metadata": {},
   "source": [
    "> **Step 2: Create the dictionary**"
   ]
  },
  {
   "cell_type": "code",
   "execution_count": 312,
   "metadata": {
    "collapsed": true
   },
   "outputs": [],
   "source": [
    "# find a unique id for each unique term {term : id}\n",
    "dictionary = corpora.Dictionary(corpus_clean)"
   ]
  },
  {
   "cell_type": "markdown",
   "metadata": {},
   "source": [
    "> **Step 3: Convert list of documents (i.e., reviews) into Document Term Matrix**\n",
    "\n",
    "LDA requires documents to be represented as a bag of words"
   ]
  },
  {
   "cell_type": "code",
   "execution_count": 313,
   "metadata": {
    "collapsed": true
   },
   "outputs": [],
   "source": [
    "# convert tokenized documents into a document-term matrix\n",
    "corpus = [dictionary.doc2bow(doc_clean) for doc_clean in corpus_clean]"
   ]
  },
  {
   "cell_type": "code",
   "execution_count": 314,
   "metadata": {},
   "outputs": [
    {
     "data": {
      "text/plain": [
       "[(0, 1), (1, 1), (2, 1), (3, 1), (4, 1), (5, 1)]"
      ]
     },
     "execution_count": 314,
     "metadata": {},
     "output_type": "execute_result"
    }
   ],
   "source": [
    "corpus[0]"
   ]
  },
  {
   "cell_type": "markdown",
   "metadata": {},
   "source": [
    "> **(Optional) Step 3.5: Try using TF-IDF as the weight of bag-of-words for LDA**"
   ]
  },
  {
   "cell_type": "code",
   "execution_count": 459,
   "metadata": {
    "collapsed": true
   },
   "outputs": [],
   "source": [
    "from gensim.models import TfidfModel"
   ]
  },
  {
   "cell_type": "code",
   "execution_count": 460,
   "metadata": {
    "collapsed": true
   },
   "outputs": [],
   "source": [
    "temp = []\n",
    "corpus_tfidf = [temp+model[corpus[i]] for i in range(0,len(corpus))]"
   ]
  },
  {
   "cell_type": "code",
   "execution_count": 461,
   "metadata": {},
   "outputs": [
    {
     "data": {
      "text/plain": [
       "[(0, 0.2463502022834394),\n",
       " (1, 0.420708623603127),\n",
       " (2, 0.41010986836319935),\n",
       " (3, 0.586073920514529),\n",
       " (4, 0.24036958188184429),\n",
       " (5, 0.43916460641844418)]"
      ]
     },
     "execution_count": 461,
     "metadata": {},
     "output_type": "execute_result"
    }
   ],
   "source": [
    "corpus_tfidf[0]"
   ]
  },
  {
   "cell_type": "markdown",
   "metadata": {},
   "source": [
    "> **Step 4: Run the LDA model on the document term matrix**"
   ]
  },
  {
   "cell_type": "code",
   "execution_count": 315,
   "metadata": {
    "collapsed": true
   },
   "outputs": [],
   "source": [
    "# LDA model needs many iterations/passes and a large corpus to work well\n",
    "# must define the number of topics you want to extract from the corpus\n",
    "ldamodel_k10 = LdaModel(corpus_tfidf, num_topics=10, id2word = dictionary, passes=10, iterations=2000) # or use corpus"
   ]
  },
  {
   "cell_type": "code",
   "execution_count": 462,
   "metadata": {
    "collapsed": true
   },
   "outputs": [],
   "source": [
    "# ldamodel_k10.show_topics()"
   ]
  },
  {
   "cell_type": "markdown",
   "metadata": {},
   "source": [
    "> **Step 6: For each of the k topics, print the top 10 words**"
   ]
  },
  {
   "cell_type": "code",
   "execution_count": 318,
   "metadata": {
    "collapsed": true
   },
   "outputs": [],
   "source": [
    "def get_topic_df(ldamodel, num_topics, num_words):\n",
    "    \"\"\"get the top # words per topic dataframe\"\"\"\n",
    "    \n",
    "    # get the top # words per topic\n",
    "    top_list = {}\n",
    "    for i in range(num_topics):\n",
    "        top_list[i]=[re.sub('[\\\"]', '',s.split(\"*\")[1]).strip() for s in ldamodel.print_topics(num_topics=num_topics, num_words=num_words)[i][1].split(\"+\")]\n",
    "  \n",
    "    return pd.DataFrame(top_list)    "
   ]
  },
  {
   "cell_type": "code",
   "execution_count": 319,
   "metadata": {
    "scrolled": true
   },
   "outputs": [
    {
     "data": {
      "text/html": [
       "<div>\n",
       "<style>\n",
       "    .dataframe thead tr:only-child th {\n",
       "        text-align: right;\n",
       "    }\n",
       "\n",
       "    .dataframe thead th {\n",
       "        text-align: left;\n",
       "    }\n",
       "\n",
       "    .dataframe tbody tr th {\n",
       "        vertical-align: top;\n",
       "    }\n",
       "</style>\n",
       "<table border=\"1\" class=\"dataframe\">\n",
       "  <thead>\n",
       "    <tr style=\"text-align: right;\">\n",
       "      <th></th>\n",
       "      <th>0</th>\n",
       "      <th>1</th>\n",
       "      <th>2</th>\n",
       "      <th>3</th>\n",
       "      <th>4</th>\n",
       "      <th>5</th>\n",
       "      <th>6</th>\n",
       "      <th>7</th>\n",
       "      <th>8</th>\n",
       "      <th>9</th>\n",
       "    </tr>\n",
       "  </thead>\n",
       "  <tbody>\n",
       "    <tr>\n",
       "      <th>0</th>\n",
       "      <td>update</td>\n",
       "      <td>fix</td>\n",
       "      <td>battery</td>\n",
       "      <td>help</td>\n",
       "      <td>screen</td>\n",
       "      <td>que</td>\n",
       "      <td>email</td>\n",
       "      <td>iphone</td>\n",
       "      <td>apple</td>\n",
       "      <td>iphone</td>\n",
       "    </tr>\n",
       "    <tr>\n",
       "      <th>1</th>\n",
       "      <td>phone</td>\n",
       "      <td>please</td>\n",
       "      <td>iphone</td>\n",
       "      <td>try</td>\n",
       "      <td>iphone</td>\n",
       "      <td>iphone</td>\n",
       "      <td>iphone</td>\n",
       "      <td>issue</td>\n",
       "      <td>music</td>\n",
       "      <td>get</td>\n",
       "    </tr>\n",
       "    <tr>\n",
       "      <th>2</th>\n",
       "      <td>iphone</td>\n",
       "      <td>turn</td>\n",
       "      <td>drain</td>\n",
       "      <td>n't</td>\n",
       "      <td>lock</td>\n",
       "      <td>ring</td>\n",
       "      <td>apple</td>\n",
       "      <td>anyone</td>\n",
       "      <td>question</td>\n",
       "      <td>phone</td>\n",
       "    </tr>\n",
       "    <tr>\n",
       "      <th>3</th>\n",
       "      <td>since</td>\n",
       "      <td>type</td>\n",
       "      <td>charge</td>\n",
       "      <td>photo</td>\n",
       "      <td>work</td>\n",
       "      <td>pause</td>\n",
       "      <td>ipad</td>\n",
       "      <td>plus</td>\n",
       "      <td>get</td>\n",
       "      <td>one</td>\n",
       "    </tr>\n",
       "    <tr>\n",
       "      <th>4</th>\n",
       "      <td>new</td>\n",
       "      <td>get</td>\n",
       "      <td>life</td>\n",
       "      <td>app</td>\n",
       "      <td>home</td>\n",
       "      <td>11.0.2</td>\n",
       "      <td>check</td>\n",
       "      <td>work</td>\n",
       "      <td>account</td>\n",
       "      <td>apple</td>\n",
       "    </tr>\n",
       "    <tr>\n",
       "      <th>5</th>\n",
       "      <td>freeze</td>\n",
       "      <td>phone</td>\n",
       "      <td>update</td>\n",
       "      <td>macbook</td>\n",
       "      <td>explain</td>\n",
       "      <td>wtf</td>\n",
       "      <td>receive</td>\n",
       "      <td>else</td>\n",
       "      <td>box</td>\n",
       "      <td>day</td>\n",
       "    </tr>\n",
       "    <tr>\n",
       "      <th>6</th>\n",
       "      <td>time</td>\n",
       "      <td>annoy</td>\n",
       "      <td>die</td>\n",
       "      <td>download</td>\n",
       "      <td>black</td>\n",
       "      <td>heck</td>\n",
       "      <td>take</td>\n",
       "      <td>wifi</td>\n",
       "      <td>help</td>\n",
       "      <td>new</td>\n",
       "    </tr>\n",
       "    <tr>\n",
       "      <th>7</th>\n",
       "      <td>keep</td>\n",
       "      <td>letter</td>\n",
       "      <td>hour</td>\n",
       "      <td>mac</td>\n",
       "      <td>button</td>\n",
       "      <td>spotify</td>\n",
       "      <td>thank</td>\n",
       "      <td>problem</td>\n",
       "      <td>mark</td>\n",
       "      <td>contact</td>\n",
       "    </tr>\n",
       "    <tr>\n",
       "      <th>8</th>\n",
       "      <td>fix</td>\n",
       "      <td>glitch</td>\n",
       "      <td>phone</td>\n",
       "      <td>sierra</td>\n",
       "      <td>time</td>\n",
       "      <td>entire</td>\n",
       "      <td>much</td>\n",
       "      <td>11.1.2</td>\n",
       "      <td>someone</td>\n",
       "      <td>call</td>\n",
       "    </tr>\n",
       "    <tr>\n",
       "      <th>9</th>\n",
       "      <td>get</td>\n",
       "      <td>need</td>\n",
       "      <td>fix</td>\n",
       "      <td>delete</td>\n",
       "      <td>gon</td>\n",
       "      <td>não</td>\n",
       "      <td>way</td>\n",
       "      <td>fix</td>\n",
       "      <td>change</td>\n",
       "      <td>buy</td>\n",
       "    </tr>\n",
       "  </tbody>\n",
       "</table>\n",
       "</div>"
      ],
      "text/plain": [
       "        0       1        2         3        4        5        6        7  \\\n",
       "0  update     fix  battery      help   screen      que    email   iphone   \n",
       "1   phone  please   iphone       try   iphone   iphone   iphone    issue   \n",
       "2  iphone    turn    drain       n't     lock     ring    apple   anyone   \n",
       "3   since    type   charge     photo     work    pause     ipad     plus   \n",
       "4     new     get     life       app     home   11.0.2    check     work   \n",
       "5  freeze   phone   update   macbook  explain      wtf  receive     else   \n",
       "6    time   annoy      die  download    black     heck     take     wifi   \n",
       "7    keep  letter     hour       mac   button  spotify    thank  problem   \n",
       "8     fix  glitch    phone    sierra     time   entire     much   11.1.2   \n",
       "9     get    need      fix    delete      gon      não      way      fix   \n",
       "\n",
       "          8        9  \n",
       "0     apple   iphone  \n",
       "1     music      get  \n",
       "2  question    phone  \n",
       "3       get      one  \n",
       "4   account    apple  \n",
       "5       box      day  \n",
       "6      help      new  \n",
       "7      mark  contact  \n",
       "8   someone     call  \n",
       "9    change      buy  "
      ]
     },
     "execution_count": 319,
     "metadata": {},
     "output_type": "execute_result"
    }
   ],
   "source": [
    "# show the result using not lemmatized corpus with k = 10\n",
    "ldamodel_k10_df = get_topic_df(ldamodel_k10, 10, 10)\n",
    "ldamodel_k10_df"
   ]
  },
  {
   "cell_type": "code",
   "execution_count": 565,
   "metadata": {
    "scrolled": false
   },
   "outputs": [
    {
     "name": "stdout",
     "output_type": "stream",
     "text": [
      "Original Text:\n",
      "My battery was at 64% and I restarted my phone and now it’s at 52%. WHAT THE FUCK FIX YOUR SHIT IOS 11!!!\n",
      "\n",
      "cc: @115858 @AppleSupport\n",
      "\n",
      "\n",
      "Tokenize Text:\n",
      "['battery', 'restart', 'phone', 'fuck', 'fix', 'shit']\n",
      "\n",
      "\n",
      "LDA output:\n",
      "[(0, 0.030052716), (1, 0.030045943), (2, 0.030056933), (3, 0.11591073), (4, 0.030044822), (5, 0.030044878), (6, 0.64367431), (7, 0.030045208), (8, 0.030044822), (9, 0.030079611)]\n",
      "\n",
      "\n",
      "============\n",
      "Original Text:\n",
      "@115858  @AppleSupport music and podcast “skip” around like a CD, then distorts and clears up in few seconds, only happens after iOS 11\n",
      "\n",
      "\n",
      "Tokenize Text:\n",
      "['music', 'podcast', 'skip', 'around', 'like', 'distort', 'clear', 'second', 'happen']\n",
      "\n",
      "\n",
      "LDA output:\n",
      "[(0, 0.025963323), (1, 0.025948977), (2, 0.025950326), (3, 0.20343733), (4, 0.025948245), (5, 0.02595426), (6, 0.3126927), (7, 0.025948972), (8, 0.025948245), (9, 0.30220762)]\n",
      "\n",
      "\n",
      "============\n",
      "Original Text:\n",
      "@AppleSupport my watch has been saying I’ve been averaging 57 minutes, now today it’s 52, I checked and did the math it’s 57... what the??? https://t.co/kQWakgjXJ5\n",
      "\n",
      "\n",
      "Tokenize Text:\n",
      "['watch', 'say', 'average', 'minute', 'today', 'check', 'math']\n",
      "\n",
      "\n",
      "LDA output:\n",
      "[(0, 0.31180626), (1, 0.3031171), (2, 0.028857816), (3, 0.028863817), (4, 0.028847916), (5, 0.028850235), (6, 0.028850209), (7, 0.028851194), (8, 0.18309616), (9, 0.028859261)]\n",
      "\n",
      "\n",
      "============\n",
      "Original Text:\n",
      "@AppleSupport @118101 would love to know why my pictures look like this when I take a picture 😡 https://t.co/yVpQKCBzFu\n",
      "\n",
      "\n",
      "Tokenize Text:\n",
      "['118101', 'would', 'love', 'know', 'picture', 'look', 'like', 'take', 'picture']\n",
      "\n",
      "\n",
      "LDA output:\n",
      "[(0, 0.62184942), (1, 0.027631562), (2, 0.02763625), (3, 0.027636109), (4, 0.027631482), (5, 0.027634304), (6, 0.027643589), (7, 0.15706994), (8, 0.027631482), (9, 0.027635859)]\n",
      "\n",
      "\n",
      "============\n",
      "Original Text:\n",
      "@AppleSupport @20600 lucky I was home and next to this when it randomly started to smoke. Unplugged before disaster!! What the hell? https://t.co/k42Ei9OXuG\n",
      "\n",
      "\n",
      "Tokenize Text:\n",
      "['20600', 'lucky', 'home', 'next', 'randomly', 'start', 'smoke', 'unplug', 'disaster', 'hell']\n",
      "\n",
      "\n",
      "LDA output:\n",
      "[(0, 0.024764135), (1, 0.024739174), (2, 0.56096363), (3, 0.024722705), (4, 0.024722399), (5, 0.024722399), (6, 0.12407231), (7, 0.024722399), (8, 0.024722399), (9, 0.14184844)]\n",
      "\n",
      "\n",
      "============\n"
     ]
    }
   ],
   "source": [
    "for id in range(100,105):\n",
    "    print(\"Original Text:\\n\" + df.text.iloc[id])\n",
    "    print('\\n')\n",
    "    print(\"Tokenize Text:\\n\" + str(corpus_clean[id]))\n",
    "    print('\\n')    \n",
    "    print(\"LDA output:\\n\" + str(ldamodel_k10_tfidf[corpus_tfidf[id]]))\n",
    "    print('\\n')\n",
    "    print('============')    "
   ]
  },
  {
   "cell_type": "markdown",
   "metadata": {},
   "source": [
    "It turns out that there are it's hard to label these topics and this can be due to the following reasons\n",
    "* There are more 10 categories in all these tweets. We should spend longer time to identify the number of topics that make sense for this document. (Trial & Error)\n",
    "* Tweets are too short to have multiple topics, we might also want to try lower the number of topics\n",
    "* Better tune hyperparameters **alpha** and **eta** so that the distribution of the top words and topics can better fit our need. Check out [the blog from Ethen](https://nbviewer.jupyter.org/github/ethen8181/machine-learning/blob/master/clustering/topic_model/LDA.ipynb#Understanding-the-role-of-LDA-model-hyperparameters) for more information about the effects of these two hyperparamters. In short,\n",
    "    * **higher alpha makes the document preferences \"smoother\" over topics** (harder to say one docuemnt belongs to a single topic)\n",
    "    * **higher eta makes the topic preferences \"smoother\" over words** (the top 10 words would seem to be less important according to the output probability)."
   ]
  },
  {
   "cell_type": "markdown",
   "metadata": {},
   "source": [
    "> **See the distribution of Top 1 and Top 2 topics across these tweets**"
   ]
  },
  {
   "cell_type": "code",
   "execution_count": 463,
   "metadata": {},
   "outputs": [
    {
     "data": {
      "text/html": [
       "<div>\n",
       "<style>\n",
       "    .dataframe thead tr:only-child th {\n",
       "        text-align: right;\n",
       "    }\n",
       "\n",
       "    .dataframe thead th {\n",
       "        text-align: left;\n",
       "    }\n",
       "\n",
       "    .dataframe tbody tr th {\n",
       "        vertical-align: top;\n",
       "    }\n",
       "</style>\n",
       "<table border=\"1\" class=\"dataframe\">\n",
       "  <thead>\n",
       "    <tr style=\"text-align: right;\">\n",
       "      <th></th>\n",
       "      <th>text</th>\n",
       "      <th>Top1</th>\n",
       "      <th>Top1 Prob</th>\n",
       "      <th>Top2</th>\n",
       "      <th>Top2 Prob</th>\n",
       "    </tr>\n",
       "  </thead>\n",
       "  <tbody>\n",
       "    <tr>\n",
       "      <th>0</th>\n",
       "      <td>@AppleSupport why are my I️’s changing not sho...</td>\n",
       "      <td>5</td>\n",
       "      <td>0.517467</td>\n",
       "      <td>9</td>\n",
       "      <td>0.243178</td>\n",
       "    </tr>\n",
       "    <tr>\n",
       "      <th>1</th>\n",
       "      <td>Hey @AppleSupport and anyone else who upgraded...</td>\n",
       "      <td>9</td>\n",
       "      <td>0.778293</td>\n",
       "      <td>6</td>\n",
       "      <td>0.024638</td>\n",
       "    </tr>\n",
       "    <tr>\n",
       "      <th>2</th>\n",
       "      <td>@115858 @AppleSupport hello are all the lines ...</td>\n",
       "      <td>0</td>\n",
       "      <td>0.541068</td>\n",
       "      <td>2</td>\n",
       "      <td>0.203345</td>\n",
       "    </tr>\n",
       "    <tr>\n",
       "      <th>3</th>\n",
       "      <td>Hello, internet. Can someone explain why this ...</td>\n",
       "      <td>9</td>\n",
       "      <td>0.343718</td>\n",
       "      <td>6</td>\n",
       "      <td>0.327235</td>\n",
       "    </tr>\n",
       "    <tr>\n",
       "      <th>4</th>\n",
       "      <td>@AppleSupport I’ve got a screenshot saying my ...</td>\n",
       "      <td>0</td>\n",
       "      <td>0.409176</td>\n",
       "      <td>7</td>\n",
       "      <td>0.238090</td>\n",
       "    </tr>\n",
       "  </tbody>\n",
       "</table>\n",
       "</div>"
      ],
      "text/plain": [
       "                                                text  Top1  Top1 Prob  Top2  \\\n",
       "0  @AppleSupport why are my I️’s changing not sho...     5   0.517467     9   \n",
       "1  Hey @AppleSupport and anyone else who upgraded...     9   0.778293     6   \n",
       "2  @115858 @AppleSupport hello are all the lines ...     0   0.541068     2   \n",
       "3  Hello, internet. Can someone explain why this ...     9   0.343718     6   \n",
       "4  @AppleSupport I’ve got a screenshot saying my ...     0   0.409176     7   \n",
       "\n",
       "   Top2 Prob  \n",
       "0   0.243178  \n",
       "1   0.024638  \n",
       "2   0.203345  \n",
       "3   0.327235  \n",
       "4   0.238090  "
      ]
     },
     "execution_count": 463,
     "metadata": {},
     "output_type": "execute_result"
    }
   ],
   "source": [
    "# keep only text column from the original data frame\n",
    "df2 = df[['text']].reset_index(drop=True).copy()\n",
    "\n",
    "# get top 1&2 topic info\n",
    "top1_list = [sorted(ldamodel_k10_tfidf[corpus_tfidf[id]], key=lambda x:x[1], reverse=True)[0] for id in range(0,len(corpus_tfidf))]\n",
    "top2_list = [sorted(ldamodel_k10_tfidf[corpus_tfidf[id]], key=lambda x:x[1], reverse=True)[1] for id in range(0,len(corpus_tfidf))]\n",
    "\n",
    "# add top 1 topic info\n",
    "top1_labels = ['Top1', 'Top1 Prob']\n",
    "top1 = pd.DataFrame(top1_list, columns=top1_labels)\n",
    "df2 = pd.concat([df2, top1], axis=1)\n",
    "\n",
    "# add top 2 topic info\n",
    "top2_labels = ['Top2', 'Top2 Prob']\n",
    "top2 = pd.DataFrame(top2_list, columns=top2_labels)\n",
    "df2 = pd.concat([df2, top2], axis=1)\n",
    "\n",
    "df2.head()"
   ]
  },
  {
   "cell_type": "code",
   "execution_count": 535,
   "metadata": {},
   "outputs": [
    {
     "data": {
      "image/png": "[encoded data removed]",
      "text/plain": [
       "<matplotlib.figure.Figure at 0x1ac3fc5940>"
      ]
     },
     "metadata": {
      "image/png": {
       "height": 277,
       "width": 403
      }
     },
     "output_type": "display_data"
    }
   ],
   "source": [
    "# plot the top 1 topic distribution of tweets\n",
    "# total weight assigned by each topic to its top 10 words\n",
    "top_probs = []\n",
    "n_topics = 10\n",
    "top_probs = list(df2.Top1.value_counts(sort=False))\n",
    "\n",
    "ind = np.arange(n_topics)\n",
    "width = 0.5\n",
    "\n",
    "fig, ax = plt.subplots()\n",
    "\n",
    "ax.bar(ind, top_probs, width, color = 'lightcoral')\n",
    "ax.set_xticks(ind)\n",
    "\n",
    "plt.xlabel('Topic')\n",
    "plt.ylabel('Count')\n",
    "plt.title('Top 1 Topic Distribution')\n",
    "plt.xlim(-0.5, 9.5)\n",
    "plt.ylim(0, 13000)\n",
    "plt.show()"
   ]
  },
  {
   "cell_type": "code",
   "execution_count": 534,
   "metadata": {},
   "outputs": [
    {
     "data": {
      "image/png": "[encoded data removed]",
      "text/plain": [
       "<matplotlib.figure.Figure at 0x1abfeee358>"
      ]
     },
     "metadata": {
      "image/png": {
       "height": 277,
       "width": 403
      }
     },
     "output_type": "display_data"
    }
   ],
   "source": [
    "# plot the top 2 topic distribution of tweets\n",
    "# total weight assigned by each topic to its top 10 words\n",
    "top_probs = []\n",
    "n_topics = 10\n",
    "top_probs = list(df2.Top2.value_counts(sort=False))\n",
    "\n",
    "ind = np.arange(n_topics)\n",
    "width = 0.5\n",
    "\n",
    "fig, ax = plt.subplots()\n",
    "\n",
    "ax.bar(ind, top_probs, width, color = 'lightcoral')\n",
    "ax.set_xticks(ind)\n",
    "\n",
    "plt.xlabel('Topic')\n",
    "plt.ylabel('Count')\n",
    "plt.title('Top 2 Topic Distribution')\n",
    "plt.xlim(-0.5, 9.5)\n",
    "plt.ylim(0, 13000)\n",
    "plt.show()"
   ]
  },
  {
   "cell_type": "markdown",
   "metadata": {},
   "source": [
    "It turns out that the result is not as good as we might expected using this data. Hopefully this exmaple can stll be serve as an example for other applications. Things are worth to try further are:\n",
    "* Tune hyperparameter **alpha** and **eta**\n",
    "* Tune number of topics\n",
    "* Use other brand and see if the result would make more sense\n",
    "* Remove words that might not related to the potential topics of customer service\n",
    "* (maybe for apple's customer service, there are just too many things can happen badly. From little detail to system update issues. This data might simply not be a good example for LDA)."
   ]
  },
  {
   "cell_type": "markdown",
   "metadata": {},
   "source": [
    "# <a id='math'>Math behind LDA</a>"
   ]
  },
  {
   "cell_type": "markdown",
   "metadata": {},
   "source": [
    "* walk through the math behind LDA (EM step) -- To Be Updated"
   ]
  },
  {
   "cell_type": "markdown",
   "metadata": {},
   "source": [
    "## <a id='refer'>Reference</a>\n",
    "\n",
    "* [Topic Modeling from Ethen Liu](https://nbviewer.jupyter.org/github/ethen8181/machine-learning/blob/master/clustering/topic_model/LDA.ipynb)\n",
    "* [gensim DOC: TFIDF model](https://radimrehurek.com/gensim/models/tfidfmodel.html)\n",
    "* [gensim DOC: LDA model](https://radimrehurek.com/gensim/models/ldamodel.html)"
   ]
  }
 ],
 "metadata": {
  "kernelspec": {
   "display_name": "Python 3",
   "language": "python",
   "name": "python3"
  },
  "language_info": {
   "codemirror_mode": {
    "name": "ipython",
    "version": 3
   },
   "file_extension": ".py",
   "mimetype": "text/x-python",
   "name": "python",
   "nbconvert_exporter": "python",
   "pygments_lexer": "ipython3",
   "version": "3.6.3"
  }
 },
 "nbformat": 4,
 "nbformat_minor": 2
}
