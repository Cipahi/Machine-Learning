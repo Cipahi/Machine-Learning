{
 "cells": [
  {
   "cell_type": "markdown",
   "metadata": {},
   "source": [
    "# Customer Lifetime Value Evaluation"
   ]
  },
  {
   "cell_type": "markdown",
   "metadata": {},
   "source": [
    "Outline\n",
    "* [Introduction](#intro)\n",
    "* Gone for Good type of model\n",
    "    * [Simple retention model](#simple)\n",
    "    * [General retention model](#general)\n",
    "    * [Example](#example_retention_model)\n",
    "* Always a share type of model\n",
    "    * [Markov chain models](#markov)\n",
    "* [Reference](#refer)\n",
    "    "
   ]
  },
  {
   "cell_type": "markdown",
   "metadata": {},
   "source": [
    "---"
   ]
  },
  {
   "cell_type": "markdown",
   "metadata": {},
   "source": [
    "## <a id='intro'>Introduction</a>"
   ]
  },
  {
   "cell_type": "markdown",
   "metadata": {},
   "source": [
    "According to wikipedia\n",
    "\n",
    "**Customer lifetime value** can be defined as the dollar value of a customer relationship, based on the present value of the projected future cash flows from the customer relationship. Customer lifetime value is an important concept in that it encourages firms to shift their focus from quarterly profits to the long-term health of their customer relationships. Customer lifetime value is an important number because it represents an upper limit on spending to acquire new customers. For this reason it is an important element in calculating payback of advertising spent in marketing mix modeling.\n",
    "\n",
    "To estimate CLV, there are two situations\n",
    "* **Gone for good**: customers generate period cash flows until they cancel, and then they never come back. This is also called the retention model. For example, subscriptions (cable TV, cell phones), services, media.\n",
    "    * – Simple retention model: retention rates constant across customers and time\n",
    "    * – General retention model / survival analysis: retention rates vary over time and as a function of customer characteristics (covariates)\n",
    "    * – Beta-geometric: retention rates vary randomly over customers, no covariates\n",
    "\n",
    "* **Always a share**: customer inactivity during a period does not mean the customer is “gone,” e.g., retailers, airlines, hotels, nonprofits.\n",
    "    * – Markov chain models\n",
    "    * – Regression approaches\n",
    "    * – Negative binomial (NBD)/Pareto"
   ]
  },
  {
   "cell_type": "markdown",
   "metadata": {},
   "source": [
    "## <a id='simple'>Simple retention model</a>"
   ]
  },
  {
   "cell_type": "markdown",
   "metadata": {},
   "source": [
    "**Assumption**\n",
    "* Retention rate are independent of each other across time\n",
    "* Rerention rate are constant across customer and time\n",
    "* Periodical payment is constant across time\n",
    "* Time between period is constant"
   ]
  },
  {
   "cell_type": "markdown",
   "metadata": {},
   "source": [
    "**Calculating Present Value**\n",
    "\n",
    "$$PV_t = m\\frac{1-(1+d)^{-t}}{d}$$\n",
    "\n",
    "**Calculating Customer Lifetime Value**\n",
    "\n",
    "$$E(CLV) = \\frac{mr}{1+d-r}$$\n"
   ]
  },
  {
   "cell_type": "markdown",
   "metadata": {},
   "source": [
    "**Estimating Retention Rate**\n",
    "\n",
    "How do we estimate the overall retention rate for simple retention model?\n",
    "Before we dive into how to get an overall retention rate, let's first see what does \"censor\" mean:\n",
    "\n",
    "```\n",
    "Observations are called censored when the information about their survival time is incomplete; the most commonly encountered form is right censoring. Suppose patients are followed in a study for 20 weeks. A patient who does not experience the event of interest for the duration of the study is said to be right censored. The survival time for this person is considered to be at least as long as the duration of the study. Another example of right censoring is when a person drops out of the study before the end of the study observation time and did not experience the event.\n",
    "```\n",
    "\n",
    "Therefore, an customer is censored when he/she doesn't cancel by the end of the study or the person drops out of the study before the study ends.\n",
    "\n",
    "Suppose $n_1$ customers have canceled, and $n_0$ are censored. Let $t_1, t_2, \\dots, t_n$ be cancel times and $c_1, c_2, \\dots, c_m$ be the censoring. Then the likelihood function given these condition is \n",
    "\n",
    "$$L(r) = \\prod_{i=1}^{n_1} (1-r) r^{t_i-1} \\prod_{i=1}^{n_0} r^{c_i}$$\n",
    "\n",
    "The first product indicates the likelihood for canceled customers; the second product indicate the likelihood for censored customers. We can obtain an overall likelihood by changing the retention rate $r$.\n",
    "\n",
    "The retention rate that maximize the likelihood function is \n",
    "\n",
    "$$\\hat{r} = \\frac{\\sum{t_t}+ \\sum{c_t} + n_1}{\\sum{t_t}+\\sum{c_t}} = 1 - \\frac{n_1}{\\sum{t_t}+ \\sum{c_t}}$$\n",
    "\n",
    "Using an analogy of a coin flip experiment to this case, we can think of $\\sum{t_t}+ \\sum{c_t}$ as the total number of flips and $n_1$ as total number of fail. Therefore, $\\frac{n_1}{\\sum{t_t}+ \\sum{c_t}}$ indicate the probability of cancelation, and 1 minus it indicates the retention rate."
   ]
  },
  {
   "cell_type": "markdown",
   "metadata": {},
   "source": [
    "## <a id='general'>General Retention Model</a>"
   ]
  },
  {
   "cell_type": "markdown",
   "metadata": {},
   "source": [
    "**Idea**\n",
    "\n",
    "What if retention rates vary across time? In this case, the expected CLV is no longer the formula that we saw above. We will need to estimate the probabilty that the user cancel or leave in each of the time t and also the present value of the periodical cash flow.\n",
    "\n",
    "Survival analysis can be used in estimating the probabilty that the user cancel or leave in each of the time *t*. Therefore, in the following post, we will first discuss several concept of survival analysis and then see how it can be used to calculate the customer lifetime value."
   ]
  },
  {
   "cell_type": "markdown",
   "metadata": {},
   "source": [
    "**Survival Analysis**\n",
    "\n",
    "Survival analysis is a branch of statistics for analyzing the expected duration of time until one or more events happen. Why do we need survival analysis for general retention model? We need survival analysis since it is a way to estimate how long the customer is going to leave. Here are some of the functions introduced in survival analysis:\n",
    "\n",
    "* **Survival Function**: it is a function that represent the chance taht the customer cancels at time *t* or later, or equivalently, that the customer is retained the first *t-1* periods:\n",
    "\n",
    "$$S(t) = P(T\\ge t) = \\prod_{i=1}^{t-1}r_i = r^{t-1}S(t-1)$$\n",
    "\n",
    "* **Probability Mass Function**: the function gives the probability that a customer is retained during the first *t-1* periods and not retained during period t:\n",
    "\n",
    "$$f(t) = P(T=t) = S(t)(1-r_t) = S(t) - S(t+1)$$\n",
    "\n",
    "* **Hazard Rate**: the conditioal probability that the customer cancels at time *t*, given that the customer has not already canceled. In other words, given that I survive now at time *t*, what is the probability that I go away right now:\n",
    "\n",
    "$$\\pi_t = P(T=t|T\\ge t) = \\frac{P(T=t)}{S(t)} = 1-r_t$$\n",
    "\n",
    "Note that some common shapes of hazard rate function with t as x axis are exponential and bath tub shape."
   ]
  },
  {
   "cell_type": "markdown",
   "metadata": {},
   "source": [
    "**Assumption**\n",
    "* Retention rate are independent of each other across time\n",
    "* The simple retention model assume retention rate is constant across time. The general retention model relaxes this assumption\n",
    "* Periodical payment is constant across time\n",
    "* Time between period is constant"
   ]
  },
  {
   "cell_type": "markdown",
   "metadata": {},
   "source": [
    "**Calculating Customer Lifetime Value**"
   ]
  },
  {
   "cell_type": "markdown",
   "metadata": {},
   "source": [
    "Let $m_t$ be the discount cash flows at time *t=0,1*$\\dots$, then lifetime value is a function of cancelation time *t*:\n",
    "$$CLV(t) =\\sum_{i=0}^{t-1}m_i$$\n",
    "\n",
    "The expected value of CLV(T) is:\n",
    "\n",
    "$$E[CLV(T)] = \\sum_{t=1}^{\\infty} P(t) CLV(t) = \\sum_{t=1}^{\\infty} P(t) \\sum_{t=0}^{t-1}m_i$$\n",
    "\n",
    "The idea is that we want to get the probability of surviving in each of the time t multiple by the lifetime value if a customer survive until time *t*, this equals to the expected customer lifetime value.\n",
    "\n",
    "Writing out the sum over *t* horizontally and then sum over *i* vertically, the equaltion becomes:\n",
    "\n",
    "<img src=\"_pic/eclv.png\" style=\"width: 550px;height: 200px;\"/>\n",
    "\n",
    "Thus E[CLV(T)] can be evaluated with either\n",
    "\n",
    "$$E[CLV(T)] = \\sum_{t=1}^{\\infty} P(t) CLV(t) = \\sum_{t=1}^{\\infty} m_{t-1} S(t)$$\n"
   ]
  },
  {
   "cell_type": "markdown",
   "metadata": {},
   "source": [
    "**Estimating retention rate with Survival Analysis using Kaplan-Meier Method**"
   ]
  },
  {
   "cell_type": "markdown",
   "metadata": {},
   "source": [
    "Kaplan-Meier Method is a nonparametric way to estimate the survival rate for each time *t*. \n",
    "* Let $n_t$ be the nubmer of customers \"at risk\" at time *t*\n",
    "* Let $d_t$ be the number of customers who cancel at time *t*\n",
    "* The product-moment estimate of the survival function is\n",
    "$$\\hat{S}(t) = \\prod_{i \\le t} \\Big( 1-\\frac{d_i}{n_i}  \\Big)$$\n",
    "\n",
    "Let find the following example to see how to calculate the estimate of Survival function using KM \n",
    "\n",
    "<img src=\"_pic/km_example.png\" style=\"width: 550px;height: 550px;\"/>"
   ]
  },
  {
   "cell_type": "markdown",
   "metadata": {},
   "source": [
    "We can see in *T=1*, there are three customer censored, meaning that these 3 customers are droped out from the experiment for some reason. Therefore, for *T=2*, the $n_t$ equals 671-3. \n",
    "\n",
    "In *T=2*, we can see that there are 4 customers canceled and 0 customers censored. The probability of cancelation in this time period is $1-\\frac{4}{668} = 0.994$ and the survival probabilty is the product of the probabilty since the first period, i.e., $1 \\times 0.994$.\n",
    "\n",
    "For *T=3*, we can see that there are 16 customers canceled and 2 customers censored. The probability of cancelation in this time period is $1-\\frac{16}{668-4} = 0.9759$ and the survival probabilty is the product of the probabilty since the first period, i.e., $1 \\times 0.994 \\times 0.9759 = 0.9701$. \n",
    "\n",
    "The final estimate using KM method is shown in the following plot:\n",
    "\n",
    "<img src=\"_pic/km_curve.png\" style=\"width: 500px;height: 400px;\"/>"
   ]
  },
  {
   "cell_type": "markdown",
   "metadata": {},
   "source": [
    "## <a id=\"example_retention_model\">Example: Calculating the CLV for a service provider using Retention Model</a>"
   ]
  },
  {
   "cell_type": "markdown",
   "metadata": {},
   "source": [
    "In the following example, we will use a sample data from a service provider with three kinds of customers. The difference between each kind of customer is the start length, indicating the length of the contract when the customer firstly sign up for the service. The length can be 1 month, 6 months, or 12 months.\n",
    "\n",
    "The goal is to estimate the the probabilty that the customer cancels at time t or later for each of the time period using Kaplan-Meier method."
   ]
  },
  {
   "cell_type": "code",
   "execution_count": 3,
   "metadata": {
    "collapsed": true
   },
   "outputs": [],
   "source": [
    "library(survival)"
   ]
  },
  {
   "cell_type": "code",
   "execution_count": 30,
   "metadata": {
    "collapsed": true
   },
   "outputs": [],
   "source": [
    "service5yr = read.table(\"_data/service5yr.txt\", header=T) "
   ]
  },
  {
   "cell_type": "code",
   "execution_count": 32,
   "metadata": {},
   "outputs": [
    {
     "data": {
      "text/html": [
       "<table>\n",
       "<thead><tr><th scope=col>startlen</th><th scope=col>bigT</th><th scope=col>cancel</th><th scope=col>count</th></tr></thead>\n",
       "<tbody>\n",
       "\t<tr><td>1   </td><td>1   </td><td>0   </td><td>   7</td></tr>\n",
       "\t<tr><td>1   </td><td>2   </td><td>0   </td><td>   4</td></tr>\n",
       "\t<tr><td>1   </td><td>2   </td><td>1   </td><td> 296</td></tr>\n",
       "\t<tr><td>1   </td><td>3   </td><td>0   </td><td>  13</td></tr>\n",
       "\t<tr><td>1   </td><td>3   </td><td>1   </td><td>1318</td></tr>\n",
       "\t<tr><td>1   </td><td>4   </td><td>0   </td><td>  22</td></tr>\n",
       "</tbody>\n",
       "</table>\n"
      ],
      "text/latex": [
       "\\begin{tabular}{r|llll}\n",
       " startlen & bigT & cancel & count\\\\\n",
       "\\hline\n",
       "\t 1    & 1    & 0    &    7\\\\\n",
       "\t 1    & 2    & 0    &    4\\\\\n",
       "\t 1    & 2    & 1    &  296\\\\\n",
       "\t 1    & 3    & 0    &   13\\\\\n",
       "\t 1    & 3    & 1    & 1318\\\\\n",
       "\t 1    & 4    & 0    &   22\\\\\n",
       "\\end{tabular}\n"
      ],
      "text/markdown": [
       "\n",
       "startlen | bigT | cancel | count | \n",
       "|---|---|---|---|---|---|\n",
       "| 1    | 1    | 0    |    7 | \n",
       "| 1    | 2    | 0    |    4 | \n",
       "| 1    | 2    | 1    |  296 | \n",
       "| 1    | 3    | 0    |   13 | \n",
       "| 1    | 3    | 1    | 1318 | \n",
       "| 1    | 4    | 0    |   22 | \n",
       "\n",
       "\n"
      ],
      "text/plain": [
       "  startlen bigT cancel count\n",
       "1 1        1    0         7 \n",
       "2 1        2    0         4 \n",
       "3 1        2    1       296 \n",
       "4 1        3    0        13 \n",
       "5 1        3    1      1318 \n",
       "6 1        4    0        22 "
      ]
     },
     "metadata": {},
     "output_type": "display_data"
    },
    {
     "data": {
      "text/plain": [
       "    startlen           bigT           cancel           count       \n",
       " Min.   : 1.000   Min.   : 1.00   Min.   :0.0000   Min.   :   1.0  \n",
       " 1st Qu.: 1.000   1st Qu.:18.00   1st Qu.:0.0000   1st Qu.:  16.0  \n",
       " Median : 6.000   Median :32.00   Median :1.0000   Median :  56.0  \n",
       " Mean   : 6.087   Mean   :31.58   Mean   :0.5134   Mean   : 182.5  \n",
       " 3rd Qu.:12.000   3rd Qu.:46.00   3rd Qu.:1.0000   3rd Qu.: 154.5  \n",
       " Max.   :12.000   Max.   :60.00   Max.   :1.0000   Max.   :3603.0  "
      ]
     },
     "metadata": {},
     "output_type": "display_data"
    }
   ],
   "source": [
    "head(service5yr)\n",
    "summary(service5yr)"
   ]
  },
  {
   "cell_type": "code",
   "execution_count": 48,
   "metadata": {},
   "outputs": [
    {
     "data": {
      "text/plain": [
       "Call: survfit(formula = Surv(bigT, cancel) ~ 1, data = service5yr, \n",
       "    weights = count)\n",
       "\n",
       " time n.risk n.event survival  std.err lower 95% CI upper 95% CI\n",
       "    2  61133     392    0.994 0.000323        0.993        0.994\n",
       "    3  60737    1555    0.968 0.000710        0.967        0.970\n",
       "    4  59169    2762    0.923 0.001079        0.921        0.925\n",
       "    5  56385    2231    0.886 0.001283        0.884        0.889\n",
       "    6  54128    2158    0.851 0.001440        0.848        0.854\n",
       "    7  51668    5486    0.761 0.001728        0.757        0.764\n",
       "    8  45997    2268    0.723 0.001814        0.720        0.727\n",
       "    9  43396    2210    0.686 0.001883        0.683        0.690\n",
       "   10  41012    1658    0.659 0.001926        0.655        0.662\n",
       "   11  39257    1271    0.637 0.001955        0.633        0.641\n",
       "   12  37764    1270    0.616 0.001979        0.612        0.620\n",
       "   13  34859    4924    0.529 0.002052        0.525        0.533\n",
       "   14  29418    1590    0.500 0.002062        0.496        0.504\n",
       "   15  27386    1339    0.476 0.002067        0.472        0.480\n",
       "   16  25487     986    0.457 0.002068        0.453        0.462\n",
       "   17  24226     733    0.444 0.002068        0.440        0.448\n",
       "   18  23231     614    0.432 0.002067        0.428        0.436\n",
       "   19  22480    1729    0.399 0.002056        0.395        0.403\n",
       "   20  20714     696    0.385 0.002049        0.381        0.389\n",
       "   21  19717     690    0.372 0.002041        0.368        0.376\n",
       "   22  18867     609    0.360 0.002032        0.356        0.364\n",
       "   23  18036     444    0.351 0.002025        0.347        0.355\n",
       "   24  17423     503    0.341 0.002016        0.337        0.345\n",
       "   25  15357    1626    0.305 0.001991        0.301        0.309\n",
       "   26  13164     476    0.294 0.001982        0.290        0.298\n",
       "   27  12236     424    0.284 0.001974        0.280        0.287\n",
       "   28  11427     308    0.276 0.001968        0.272        0.280\n",
       "   29  10845     182    0.271 0.001965        0.267        0.275\n",
       "   30  10403     210    0.266 0.001961        0.262        0.270\n",
       "   31   9974     577    0.250 0.001950        0.247        0.254\n",
       "   32   9329     220    0.244 0.001944        0.241        0.248\n",
       "   33   8706     198    0.239 0.001939        0.235        0.243\n",
       "   34   8358     184    0.234 0.001935        0.230        0.237\n",
       "   35   7874     150    0.229 0.001932        0.225        0.233\n",
       "   36   7558     144    0.225 0.001929        0.221        0.229\n",
       "   37   5648     400    0.209 0.001950        0.205        0.213\n",
       "   38   4681     140    0.203 0.001962        0.199        0.207\n",
       "   39   4107     115    0.197 0.001977        0.193        0.201\n",
       "   40   3674      67    0.193 0.001989        0.190        0.197\n",
       "   41   3464      54    0.190 0.002000        0.187        0.194\n",
       "   42   3391      58    0.187 0.002011        0.183        0.191\n",
       "   43   3309     168    0.178 0.002038        0.174        0.182\n",
       "   44   3127      56    0.174 0.002045        0.170        0.179\n",
       "   45   2950      45    0.172 0.002052        0.168        0.176\n",
       "   46   2883      52    0.169 0.002060        0.165        0.173\n",
       "   47   2805      41    0.166 0.002065        0.162        0.170\n",
       "   48   2620      39    0.164 0.002072        0.160        0.168\n",
       "   49   1895     121    0.153 0.002147        0.149        0.158\n",
       "   50   1521      31    0.150 0.002175        0.146        0.154\n",
       "   51   1276      30    0.147 0.002218        0.142        0.151\n",
       "   52   1101      14    0.145 0.002245        0.140        0.149\n",
       "   53   1065      17    0.142 0.002278        0.138        0.147\n",
       "   54   1017      16    0.140 0.002310        0.136        0.145\n",
       "   55    956      29    0.136 0.002371        0.131        0.141\n",
       "   56    903      16    0.134 0.002404        0.129        0.138\n",
       "   57    764      14    0.131 0.002448        0.126        0.136\n",
       "   58    718      10    0.129 0.002481        0.125        0.134\n",
       "   59    666       9    0.128 0.002515        0.123        0.133\n",
       "   60    533       8    0.126 0.002566        0.121        0.131"
      ]
     },
     "metadata": {},
     "output_type": "display_data"
    },
    {
     "data": {
      "image/png": "[encoded data removed]",
      "text/plain": [
       "plot without title"
      ]
     },
     "metadata": {},
     "output_type": "display_data"
    }
   ],
   "source": [
    "fit = survfit(Surv(bigT, cancel) ~ 1, data=service5yr, weight=count)\n",
    "summary(fit)\n",
    "plot(fit)"
   ]
  },
  {
   "cell_type": "code",
   "execution_count": 36,
   "metadata": {},
   "outputs": [
    {
     "data": {
      "text/plain": [
       "Call: survfit(formula = Surv(bigT, cancel) ~ startlen, data = service5yr, \n",
       "    weights = count)\n",
       "\n",
       "                startlen=1 \n",
       " time n.risk n.event survival  std.err lower 95% CI upper 95% CI\n",
       "    2  34026     296   0.9913 0.000503       0.9903       0.9923\n",
       "    3  33726    1318   0.9526 0.001152       0.9503       0.9548\n",
       "    4  32395    2403   0.8819 0.001750       0.8785       0.8853\n",
       "    5  29970    1926   0.8252 0.002060       0.8212       0.8293\n",
       "    6  28018    1871   0.7701 0.002282       0.7657       0.7746\n",
       "    7  25999    1806   0.7166 0.002446       0.7118       0.7214\n",
       "    8  24048    1633   0.6680 0.002560       0.6630       0.6730\n",
       "    9  22155    1461   0.6239 0.002637       0.6188       0.6291\n",
       "   10  20562    1187   0.5879 0.002684       0.5827       0.5932\n",
       "   11  19300    1070   0.5553 0.002714       0.5500       0.5606\n",
       "   12  18085    1050   0.5231 0.002733       0.5177       0.5284\n",
       "   13  16413    1125   0.4872 0.002747       0.4819       0.4926\n",
       "   14  15009     987   0.4552 0.002749       0.4498       0.4606\n",
       "   15  13776     756   0.4302 0.002744       0.4248       0.4356\n",
       "   16  12678     693   0.4067 0.002736       0.4014       0.4121\n",
       "   17  11827     617   0.3855 0.002723       0.3802       0.3908\n",
       "   18  11072     505   0.3679 0.002709       0.3626       0.3732\n",
       "   19  10514     468   0.3515 0.002692       0.3463       0.3568\n",
       "   20  10024     462   0.3353 0.002671       0.3301       0.3406\n",
       "   21   9427     448   0.3194 0.002648       0.3142       0.3246\n",
       "   22   8889     427   0.3040 0.002623       0.2989       0.3092\n",
       "   23   8366     350   0.2913 0.002600       0.2863       0.2964\n",
       "   24   7935     404   0.2765 0.002570       0.2715       0.2816\n",
       "   25   6925     358   0.2622 0.002546       0.2572       0.2672\n",
       "   26   6327     275   0.2508 0.002526       0.2459       0.2558\n",
       "   27   5841     237   0.2406 0.002509       0.2357       0.2456\n",
       "   28   5400     195   0.2319 0.002494       0.2271       0.2369\n",
       "   29   5040     155   0.2248 0.002482       0.2200       0.2297\n",
       "   30   4727     171   0.2167 0.002469       0.2119       0.2216\n",
       "   31   4413     151   0.2092 0.002457       0.2045       0.2141\n",
       "   32   4229     152   0.2017 0.002444       0.1970       0.2066\n",
       "   33   3878     115   0.1957 0.002434       0.1910       0.2006\n",
       "   34   3674     134   0.1886 0.002422       0.1839       0.1934\n",
       "   35   3388     107   0.1826 0.002413       0.1780       0.1874\n",
       "   36   3202     117   0.1760 0.002402       0.1713       0.1807\n",
       "   37   2414      92   0.1693 0.002410       0.1646       0.1741\n",
       "   38   2100      72   0.1635 0.002423       0.1588       0.1683\n",
       "   39   1839      69   0.1573 0.002442       0.1526       0.1622\n",
       "   40   1656      43   0.1532 0.002457       0.1485       0.1581\n",
       "   41   1553      44   0.1489 0.002473       0.1441       0.1538\n",
       "   42   1499      46   0.1443 0.002487       0.1395       0.1493\n",
       "   43   1440      39   0.1404 0.002497       0.1356       0.1454\n",
       "   44   1394      31   0.1373 0.002504       0.1325       0.1423\n",
       "   45   1302      24   0.1348 0.002510       0.1299       0.1398\n",
       "   46   1271      36   0.1310 0.002519       0.1261       0.1360\n",
       "   47   1223      32   0.1275 0.002524       0.1227       0.1326\n",
       "   48   1114      36   0.1234 0.002535       0.1185       0.1285\n",
       "   49    808      36   0.1179 0.002582       0.1130       0.1231\n",
       "   50    663      12   0.1158 0.002608       0.1108       0.1210\n",
       "   51    570      19   0.1119 0.002667       0.1068       0.1173\n",
       "   52    475       9   0.1098 0.002708       0.1046       0.1152\n",
       "   53    456      12   0.1069 0.002763       0.1016       0.1125\n",
       "   54    430      13   0.1037 0.002821       0.0983       0.1094\n",
       "   55    392       8   0.1016 0.002861       0.0961       0.1073\n",
       "   56    375       4   0.1005 0.002881       0.0950       0.1063\n",
       "   57    301       9   0.0975 0.002964       0.0918       0.1035\n",
       "   58    279       7   0.0950 0.003030       0.0893       0.1012\n",
       "   59    250       9   0.0916 0.003128       0.0857       0.0979\n",
       "   60    193       4   0.0897 0.003204       0.0836       0.0962\n",
       "\n",
       "                startlen=6 \n",
       " time n.risk n.event survival std.err lower 95% CI upper 95% CI\n",
       "    2  20189      53    0.997 0.00036        0.997        0.998\n",
       "    3  20136     173    0.989 0.00074        0.987        0.990\n",
       "    4  19963     295    0.974 0.00112        0.972        0.976\n",
       "    5  19668     237    0.962 0.00134        0.960        0.965\n",
       "    6  19431     232    0.951 0.00152        0.948        0.954\n",
       "    7  19045    3603    0.771 0.00297        0.765        0.777\n",
       "    8  15402     540    0.744 0.00308        0.738        0.750\n",
       "    9  14789     676    0.710 0.00321        0.704        0.716\n",
       "   10  14071     402    0.690 0.00327        0.683        0.696\n",
       "   11  13647     145    0.682 0.00329        0.676        0.689\n",
       "   12  13425     142    0.675 0.00331        0.669        0.682\n",
       "   13  12727    2412    0.547 0.00357        0.540        0.554\n",
       "   14  10100     363    0.528 0.00358        0.521        0.535\n",
       "   15   9564     364    0.507 0.00360        0.500        0.515\n",
       "   16   9006     206    0.496 0.00361        0.489        0.503\n",
       "   17   8706      78    0.491 0.00361        0.484        0.499\n",
       "   18   8526      68    0.488 0.00361        0.480        0.495\n",
       "   19   8382    1196    0.418 0.00361        0.411        0.425\n",
       "   20   7175     187    0.407 0.00361        0.400        0.414\n",
       "   21   6850     205    0.395 0.00360        0.388        0.402\n",
       "   22   6588     145    0.386 0.00359        0.379        0.393\n",
       "   23   6347      62    0.382 0.00359        0.375        0.390\n",
       "   24   6226      71    0.378 0.00358        0.371        0.385\n",
       "   25   5552     781    0.325 0.00355        0.318        0.332\n",
       "   26   4545     108    0.317 0.00354        0.310        0.324\n",
       "   27   4269     106    0.309 0.00353        0.302        0.316\n",
       "   28   4037      75    0.304 0.00353        0.297        0.311\n",
       "   29   3887      18    0.302 0.00353        0.295        0.309\n",
       "   30   3792      22    0.300 0.00353        0.294        0.307\n",
       "   31   3715     385    0.269 0.00350        0.262        0.276\n",
       "   32   3300      56    0.265 0.00349        0.258        0.272\n",
       "   33   3097      68    0.259 0.00349        0.252        0.266\n",
       "   34   2993      40    0.255 0.00348        0.249        0.262\n",
       "   35   2856      28    0.253 0.00348        0.246        0.260\n",
       "   36   2772      19    0.251 0.00348        0.244        0.258\n",
       "   37   2150     191    0.229 0.00353        0.222        0.236\n",
       "   38   1752      39    0.224 0.00354        0.217        0.231\n",
       "   39   1565      30    0.219 0.00356        0.213        0.227\n",
       "   40   1409       8    0.218 0.00357        0.211        0.225\n",
       "   41   1347       6    0.217 0.00357        0.210        0.224\n",
       "   42   1335       7    0.216 0.00358        0.209        0.223\n",
       "   43   1319     113    0.198 0.00367        0.191        0.205\n",
       "   44   1199      17    0.195 0.00368        0.188        0.202\n",
       "   45   1134      18    0.192 0.00369        0.185        0.199\n",
       "   46   1103      13    0.189 0.00370        0.182        0.197\n",
       "   47   1082       7    0.188 0.00371        0.181        0.196\n",
       "   49    770      54    0.175 0.00386        0.168        0.183\n",
       "   50    613      12    0.172 0.00391        0.164        0.179\n",
       "   51    513       9    0.169 0.00397        0.161        0.177\n",
       "   52    457       5    0.167 0.00401        0.159        0.175\n",
       "   53    444       4    0.165 0.00404        0.157        0.173\n",
       "   54    426       2    0.164 0.00406        0.157        0.173\n",
       "   55    406      16    0.158 0.00421        0.150        0.166\n",
       "   56    378      12    0.153 0.00432        0.145        0.162\n",
       "   57    320       3    0.152 0.00436        0.143        0.160\n",
       "   58    301       1    0.151 0.00437        0.143        0.160\n",
       "   60    230       2    0.150 0.00443        0.141        0.159\n",
       "\n",
       "                startlen=12 \n",
       " time n.risk n.event survival  std.err lower 95% CI upper 95% CI\n",
       "    2   6918      43    0.994 0.000945        0.992        0.996\n",
       "    3   6875      64    0.985 0.001484        0.982        0.987\n",
       "    4   6811      64    0.975 0.001867        0.972        0.979\n",
       "    5   6747      68    0.965 0.002196        0.961        0.970\n",
       "    6   6679      55    0.958 0.002425        0.953        0.962\n",
       "    7   6624      77    0.946 0.002709        0.941        0.952\n",
       "    8   6547      95    0.933 0.003013        0.927        0.939\n",
       "    9   6452      73    0.922 0.003223        0.916        0.928\n",
       "   10   6379      69    0.912 0.003404        0.905        0.919\n",
       "   11   6310      56    0.904 0.003542        0.897        0.911\n",
       "   12   6254      78    0.893 0.003720        0.885        0.900\n",
       "   13   5719    1387    0.676 0.005792        0.665        0.688\n",
       "   14   4309     240    0.639 0.005958        0.627        0.650\n",
       "   15   4046     219    0.604 0.006076        0.592        0.616\n",
       "   16   3803      87    0.590 0.006115        0.578        0.602\n",
       "   17   3693      38    0.584 0.006131        0.572        0.596\n",
       "   18   3633      41    0.578 0.006147        0.566        0.590\n",
       "   19   3584      65    0.567 0.006171        0.555        0.579\n",
       "   20   3515      47    0.559 0.006187        0.547        0.572\n",
       "   21   3440      37    0.553 0.006199        0.541        0.566\n",
       "   22   3390      37    0.547 0.006211        0.535        0.560\n",
       "   23   3323      32    0.542 0.006220        0.530        0.554\n",
       "   24   3262      28    0.537 0.006229        0.525        0.550\n",
       "   25   2880     487    0.447 0.006394        0.434        0.459\n",
       "   26   2292      93    0.428 0.006404        0.416        0.441\n",
       "   27   2126      81    0.412 0.006412        0.400        0.425\n",
       "   28   1990      38    0.404 0.006416        0.392        0.417\n",
       "   29   1918       9    0.402 0.006417        0.390        0.415\n",
       "   30   1884      17    0.399 0.006419        0.386        0.412\n",
       "   31   1846      41    0.390 0.006424        0.378        0.403\n",
       "   32   1800      12    0.387 0.006424        0.375        0.400\n",
       "   33   1731      15    0.384 0.006427        0.372        0.397\n",
       "   34   1691      10    0.382 0.006429        0.369        0.394\n",
       "   35   1630      15    0.378 0.006433        0.366        0.391\n",
       "   36   1584       8    0.376 0.006436        0.364        0.389\n",
       "   37   1084     117    0.336 0.006748        0.323        0.349\n",
       "   38    829      29    0.324 0.006855        0.311        0.338\n",
       "   39    703      16    0.317 0.006943        0.303        0.330\n",
       "   40    609      16    0.308 0.007065        0.295        0.322\n",
       "   41    564       4    0.306 0.007099        0.292        0.320\n",
       "   42    557       5    0.303 0.007140        0.290        0.318\n",
       "   43    550      16    0.294 0.007265        0.281        0.309\n",
       "   44    534       8    0.290 0.007322        0.276        0.305\n",
       "   45    514       3    0.288 0.007344        0.274        0.303\n",
       "   46    509       3    0.287 0.007366        0.273        0.301\n",
       "   47    500       2    0.286 0.007381        0.271        0.300\n",
       "   48    481       3    0.284 0.007406        0.270        0.299\n",
       "   49    317      31    0.256 0.008189        0.240        0.273\n",
       "   50    245       7    0.249 0.008408        0.233        0.266\n",
       "   51    193       2    0.246 0.008516        0.230        0.263\n",
       "   53    165       1    0.245 0.008594        0.228        0.262\n",
       "   54    161       1    0.243 0.008674        0.227        0.261\n",
       "   55    158       5    0.235 0.009056        0.218        0.254\n",
       "   57    143       2    0.232 0.009224        0.215        0.251\n",
       "   58    138       2    0.229 0.009392        0.211        0.248\n",
       "   60    110       2    0.225 0.009670        0.206        0.244\n"
      ]
     },
     "metadata": {},
     "output_type": "display_data"
    }
   ],
   "source": [
    "fit2 = survfit(Surv(bigT, cancel) ~ startlen, data=service5yr, weight=count)\n",
    "summary(fit2)"
   ]
  },
  {
   "cell_type": "code",
   "execution_count": 40,
   "metadata": {},
   "outputs": [
    {
     "data": {
      "image/png": "[encoded data removed]",
      "text/plain": [
       "plot without title"
      ]
     },
     "metadata": {},
     "output_type": "display_data"
    }
   ],
   "source": [
    "plot(fit2, col=1:3, lty=1:3)\n",
    "legend(\"topright\", paste(\"\",c('1 Month','6 Months', '12 Months')), col=1:3, lty=1:3)"
   ]
  },
  {
   "cell_type": "markdown",
   "metadata": {},
   "source": [
    "From the above plot, we can see that the survival curve for customer with 1 month plan is under the other two, indicating that the survival probability, i.e., the probabilty that the customer remain sign up at time t or later is lower than the customers in the other two plans.\n",
    "\n",
    "We can also see that for customer in the 6 months plan, their survival probabilty drops for every 6 months, indicating that a portion of the customer cancel their plan after their 6 months plan expires. We can see a similar trend for customers using 12 months plan."
   ]
  },
  {
   "cell_type": "markdown",
   "metadata": {},
   "source": [
    "**Calculating CLV using general retention model**"
   ]
  },
  {
   "cell_type": "markdown",
   "metadata": {},
   "source": [
    "Recall that the company makes $23.2 profit per customer at the beginning of each period. We can use survival probabilty estimate by KM method plugging into the equation that we have previously to get an estimate of the expected customer lifetime value:\n",
    "\n",
    "$$E(CLV) = \\sum_{t=1}^{\\infty} m_{t-1} S(t)$$"
   ]
  },
  {
   "cell_type": "code",
   "execution_count": 60,
   "metadata": {},
   "outputs": [],
   "source": [
    "clv_grm <- function(fit, profit, discount_rate){\n",
    "#     calcuate the expected customer lifetime value according to the survival probability estimated using Kaplan-Meier method\n",
    "\n",
    "#     Parameters\n",
    "#     ----------\n",
    "#     fit: a fit object obtained from survfit funciton\n",
    "#     profit: profit per customer at the beginning of each period\n",
    "#     discount_rate: the period discount rate\n",
    "\n",
    "#     Return\n",
    "#     ----------\n",
    "#     Expected customer lifetime value \n",
    "\n",
    "#     Note\n",
    "#     ----------\n",
    "#     fit$surv: the survival probabilty\n",
    "#     profit/((1+discount_rate)^(fit$time-1)): the discounted cash flow\n",
    "\n",
    "    return(sum(fit$surv*profit/((1+discount_rate)^(fit$time-1))))\n",
    "}"
   ]
  },
  {
   "cell_type": "code",
   "execution_count": 61,
   "metadata": {},
   "outputs": [
    {
     "data": {
      "text/html": [
       "424.112259237271"
      ],
      "text/latex": [
       "424.112259237271"
      ],
      "text/markdown": [
       "424.112259237271"
      ],
      "text/plain": [
       "[1] 424.1123"
      ]
     },
     "metadata": {},
     "output_type": "display_data"
    }
   ],
   "source": [
    "clv_grm(fit, 23.2, 0.01)"
   ]
  },
  {
   "cell_type": "markdown",
   "metadata": {},
   "source": [
    "**Calculating CLV using simple retention model**"
   ]
  },
  {
   "cell_type": "markdown",
   "metadata": {},
   "source": [
    "From the previous section, we can see that we can get the overall retention rate of the customers using the equation:\n",
    "\n",
    "$$\\hat{r} = 1 - \\frac{n_1}{\\sum{t_t}+ \\sum{c_t}}$$\n",
    "\n",
    "In this case, \n",
    "* $n_1$: the number of people who canceled\n",
    "* $\\sum{t_t}+ \\sum{c_t}$: the total number of coin flips\n",
    "\n",
    "\n",
    "To get the expected CLV, we can use the equation introduced prevously:\n",
    "\n",
    "$$E(CLV) = \\frac{mr}{1+d-r}$$"
   ]
  },
  {
   "cell_type": "code",
   "execution_count": 68,
   "metadata": {
    "collapsed": true
   },
   "outputs": [],
   "source": [
    "srm_r <- function(dat){\n",
    "    # total flips\n",
    "    total_flips = sum(dat$bigT*dat$count)\n",
    "    \n",
    "    # total fail\n",
    "    fail = sum(dat$cancel*dat$count)\n",
    "    \n",
    "    r = 1 - fail/total_flips\n",
    "    \n",
    "    return(r)\n",
    "}\n",
    "\n",
    "clv_srm <- function(m,r,d){\n",
    "    return(m*r/(1+d-r))\n",
    "}"
   ]
  },
  {
   "cell_type": "code",
   "execution_count": 70,
   "metadata": {},
   "outputs": [
    {
     "data": {
      "text/html": [
       "0.958687443839711"
      ],
      "text/latex": [
       "0.958687443839711"
      ],
      "text/markdown": [
       "0.958687443839711"
      ],
      "text/plain": [
       "[1] 0.9586874"
      ]
     },
     "metadata": {},
     "output_type": "display_data"
    }
   ],
   "source": [
    "srm_r(service5yr)"
   ]
  },
  {
   "cell_type": "code",
   "execution_count": 69,
   "metadata": {},
   "outputs": [
    {
     "data": {
      "text/html": [
       "433.452362568016"
      ],
      "text/latex": [
       "433.452362568016"
      ],
      "text/markdown": [
       "433.452362568016"
      ],
      "text/plain": [
       "[1] 433.4524"
      ]
     },
     "metadata": {},
     "output_type": "display_data"
    }
   ],
   "source": [
    "clv_srm(23.2, srm_r(service5yr), 0.01)"
   ]
  },
  {
   "cell_type": "markdown",
   "metadata": {},
   "source": [
    "---"
   ]
  },
  {
   "cell_type": "markdown",
   "metadata": {},
   "source": [
    "## <a id='refer'>Reference</a>\n",
    "\n",
    "* [Wiki: Customer Lifetime Value](https://en.wikipedia.org/wiki/Customer_lifetime_value)\n",
    "* The textbook used in MSiA 421: Data Mining written by professor Edward C. Malthouse."
   ]
  }
 ],
 "metadata": {
  "kernelspec": {
   "display_name": "R",
   "language": "R",
   "name": "ir"
  },
  "language_info": {
   "codemirror_mode": "r",
   "file_extension": ".r",
   "mimetype": "text/x-r-source",
   "name": "R",
   "pygments_lexer": "r",
   "version": "3.4.0"
  }
 },
 "nbformat": 4,
 "nbformat_minor": 2
}
