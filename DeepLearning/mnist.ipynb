{
 "cells": [
  {
   "cell_type": "markdown",
   "metadata": {},
   "source": [
    "# Recognizing hand-written digits using neural network"
   ]
  },
  {
   "cell_type": "markdown",
   "metadata": {},
   "source": [
    "**Outline**\n",
    "\n",
    "* [Intro](#intro)\n",
    "* [Basic Concepts to understand deep learning](#concepts)\n",
    "* [1 layer neural network using Keras](#1nn_keras)\n",
    "    * [Model Building](#keras_model)\n",
    "    * [Make Prediction](#keras_predict)    \n",
    "* [1 layer neural network using Sklearn](#1nn_sklearn)\n",
    "    * [Parameter Tuning](#tune)\n",
    "    * [Make Prediction](#sklearn_predict)  \n",
    "* [Side Note for activation function](#activation)    \n",
    "* [Reference](#refer)        "
   ]
  },
  {
   "cell_type": "markdown",
   "metadata": {},
   "source": [
    "---"
   ]
  },
  {
   "cell_type": "code",
   "execution_count": 3,
   "metadata": {},
   "outputs": [
    {
     "name": "stderr",
     "output_type": "stream",
     "text": [
      "Using TensorFlow backend.\n"
     ]
    }
   ],
   "source": [
    "%matplotlib inline\n",
    "# basic setup\n",
    "import pandas as pd\n",
    "import numpy as np\n",
    "import matplotlib.pyplot as plt\n",
    "from keras.datasets import mnist\n",
    "np.random.seed(0)\n",
    "\n",
    "# model related\n",
    "import keras.utils.np_utils as np_utils\n",
    "import keras.models as models, keras.layers.core as layers, keras.optimizers"
   ]
  },
  {
   "cell_type": "markdown",
   "metadata": {},
   "source": [
    "## <a id='intro'>Intro</a>"
   ]
  },
  {
   "cell_type": "markdown",
   "metadata": {},
   "source": [
    "For almost every begineer of deep learning, the first \"Hello world\" example is to recognizing hand-written digits using the MNIST database. It includes handwritten digits from 0 to 9 and has a training set of 60,000 examples, and a test set of 10,000 examples. It is a subset of a larger set available from NIST. The digits have been size-normalized and centered in a fixed-size image. In this notebook, we will be using this data set to get a sense of building deep learing model using keras."
   ]
  },
  {
   "cell_type": "markdown",
   "metadata": {},
   "source": [
    "## <a id='concepts'>Basic Concepts to understand deep learning</a>"
   ]
  },
  {
   "cell_type": "markdown",
   "metadata": {},
   "source": [
    "### **Important Concepts**\n",
    "\n",
    "Good weights are the key to good predictions. There are three concepts to understand how a model gets good weights. Those are\n",
    "\n",
    "* Loss Function\n",
    "* Gradient Descent\n",
    "* Back Propagations\n",
    "\n",
    "> **Loss Function**\n",
    "\n",
    "the loss function of a logistic regression is log likelihood. The larger the value is, the better the model is. \n",
    "\n",
    "In Scikit-learn has a conventin in its metrics that lower scores are better. So, scikit-learn report -1 * log loss / num_observations. The division by the number of datapoints is used so the range of values doesn't systematically vary with the dataset size.\n",
    "\n",
    "The function's input is actual and predicted value. If the predicted values are close to the actual values, then the loss function will output a small value; if the predicted values are far off, the function will return a high value.\n",
    "\n",
    "> **Gradient Descent**\n",
    "\n",
    "The input of the loss function is actual and predicted value. We also know that the predicted value is the output of the model itself with some weights. Therefore, we can get the value of our loss function by changing the weight, i.e., some parameters, of the model. The goal is to find the weight that can generate us the best, i.e., the lowest value for the loss function. Gradient descent is a method that can help us get those weight. For a more detailed illustration about gradient descent as well as stochastic gradient descent, please see this [post](https://nbviewer.jupyter.org/github/johnnychiuchiu/Machine-Learning/blob/master/OptimizationMethod/gradientDescent.ipynb).\n",
    "\n",
    "Generally, we don't use all of our data to calculate each step in gradient descent, since doing so would require a lot of calculations and it'll be slow. Instead, we use a batch of data point or just a single data point. That is basically what batch gradient descent and stochastic gradient descent are. \n",
    "\n",
    "1 time through the data is called an epoch. We incrementally improve weight from multiple epochs, so each image will be used to improve weights more than once. We set the number of epochs as a parameter into the fit command as we have seen above. We can set the batch size in the ImageDataGenerator function as well.\n",
    "\n",
    "The size of the weight changes is determined by something called the learning rate. Low learning rate means that our model may take a long time training before it gets accurate. High learning rate means that our model may take hugh steps around in that field, and it may result in jumping over the best weights. \n",
    "\n",
    "> **Backward Propagation**\n",
    "\n",
    "How do we find which way we can change the weights to improve the loss function? Basically, how do we see which way goes downhill? That is what backward propagation does.\n",
    "\n",
    "More specifically, suppose we have only one parameters with a bell shape curve. It is pretty straight forward for us to know which way to go downhill of the loss function. We can do it by simply take a partial derivative of that parameter. However, since neural network is a combination of a lots of activation function, for example, logistic function or ReLu. We can think of neural network as function of many other function. If we want to know whether if the partial derivative of a particular data point is positive or negative, we'll need to take the partial derivative of the outer most function. Then by chain rule, we'll need to know the partial derivative of the 1-step ahead inner function...etc. I think this is the idea of backward propagation.\n",
    "\n",
    "In short, backward propagation is a process by which we use to find out which way to change the weights at each step of gradient descent."
   ]
  },
  {
   "cell_type": "markdown",
   "metadata": {},
   "source": [
    "<img src=\"pic/loss.png\" style=\"width: 600px;height: 450px;\"/>"
   ]
  },
  {
   "cell_type": "markdown",
   "metadata": {},
   "source": [
    "### Number of parameters for a single layer neural network\n",
    "\n",
    "Suppose, \n",
    "\n",
    "* There are k features in the model\n",
    "* The number of node in the hidden layer is M\n",
    "* The number of output is 1 for regression neural network\n",
    "\n",
    "For each node, we will need $k+1$ parameters, and there are M nodes. Therefore, in the input to hidden layer, we'll need $M \\times (k+1)$ parameters.\n",
    "\n",
    "From hidden to output layer, we will need $M+1$ parameters.\n",
    "\n",
    "Totally, we need $M \\times (k+1) + (M + 1)$ parameters to fit this neural network model."
   ]
  },
  {
   "cell_type": "markdown",
   "metadata": {},
   "source": [
    "<img src=\"pic/1nn.png\" style=\"width: 600px;height: 450px;\"/>"
   ]
  },
  {
   "cell_type": "markdown",
   "metadata": {},
   "source": [
    "### Steps to fit a neural network model\n",
    "\n",
    "1. Standardize predictors. Due to the high flexibility of the model, it is very easy to overfit the data. To solve this, we add a regularization term in the cost function. We want to standardize our features before fitting the model since we want to give the same shrinkage weight to all the predictors. If we don’t scale it, the predictor with larger range will shrink more. In other words, the weight of shrink will be different.\n",
    "\n",
    "2. Standard the response. For a prediction problem the model is learning an approximation of the function between the input and output data. Commonly this is done through gradient descent which relies on calculation of the error between predictions and true values for each instance. Now obviously your gradient descent wont work if your model output is constrained to a range of values by your activation function (such as Sigmoid with range [0, 1]) which your real output values fall outside of. \n",
    "\n",
    "3. choose\n",
    "    * hidden layers \n",
    "    * nodes in each hidden layer\n",
    "    * output activation function (usually linear or logistic)\n",
    "    * other options and tuning parameters (e.g. $\\lambda$)\n",
    "\n",
    "4. Software estimates parameters to minimize (nonlinear LS with shrinkage):\n",
    "\n",
    "    $$\\sum_{i=1}^{n}\\Big[y_i - g(x_i, \\theta)  \\Big]^2 + \\lambda \\Big(\\sum_{m=1}^{M}\\sum_{j=0}^{k}\\alpha_{m,j}^2 +\\sum_{m=0}^{M}\\beta_m^2 \\Big)$$\n",
    "\n",
    "5. For making prediction: when you reach the last layer (the output neuron(s)), what you get is again another activation between -1 and 1. You have to convert this back into a value for the house in question, whether that value will be used as a prediction in a test set or to calculate error during training. However you do this, you just have to be consistent and use the same de-normalization procedure in training and testing."
   ]
  },
  {
   "cell_type": "markdown",
   "metadata": {},
   "source": [
    "![](pic/1nn.jpg)"
   ]
  },
  {
   "cell_type": "markdown",
   "metadata": {},
   "source": [
    "## <a id='1nn_keras'>1 layer neural network using Keras</a>"
   ]
  },
  {
   "cell_type": "markdown",
   "metadata": {},
   "source": [
    "### **Read Data**"
   ]
  },
  {
   "cell_type": "code",
   "execution_count": 16,
   "metadata": {
    "collapsed": true
   },
   "outputs": [],
   "source": [
    "# load dataset from keras datasets\n",
    "(X_train, Y_train), (X_test, Y_test) = keras.datasets.mnist.load_data() \n",
    "\n",
    "# reshape a 2D array (28, 28) into a vector (784, )\n",
    "# -1 means that it will figure out the length of another dimension automatically\n",
    "X_train = X_train.reshape(-1, 784) \n",
    "X_test = X_test.reshape(-1, 784)\n",
    "\n",
    "# constrant the values in the array within [0,1]\n",
    "X_train = X_train.astype('float32') / 255.0\n",
    "X_test = X_test.astype('float32') / 255.0 \n",
    "\n",
    "# one-hot encoding to the response variable\n",
    "Y_train = np_utils.to_categorical(Y_train, 10)\n",
    "Y_test = np_utils.to_categorical(Y_test, 10)"
   ]
  },
  {
   "cell_type": "markdown",
   "metadata": {},
   "source": [
    "### <a id='keras_model'>Build 1 layer neural network model</a>"
   ]
  },
  {
   "cell_type": "code",
   "execution_count": 17,
   "metadata": {
    "collapsed": true
   },
   "outputs": [],
   "source": [
    "# create a nn model\n",
    "model = models.Sequential() \n",
    "\n",
    "# first layer, input is 784 dim with 128 nodes\n",
    "model.add(layers.Dense(units=128, input_dim=784)) \n",
    "\n",
    "# the activation function is sigmoid\n",
    "model.add(layers.Activation('sigmoid')) \n",
    "\n",
    "# the number of output category is with 10\n",
    "model.add(layers.Dense(units=10)) \n",
    "\n",
    "# output prob calculation function\n",
    "model.add(layers.Activation('softmax'))"
   ]
  },
  {
   "cell_type": "code",
   "execution_count": 22,
   "metadata": {},
   "outputs": [
    {
     "name": "stdout",
     "output_type": "stream",
     "text": [
      "Epoch 1/20\n",
      " - 1s - loss: 0.0320\n",
      "Epoch 2/20\n",
      " - 1s - loss: 0.0316\n",
      "Epoch 3/20\n",
      " - 1s - loss: 0.0314\n",
      "Epoch 4/20\n",
      " - 1s - loss: 0.0313\n",
      "Epoch 5/20\n",
      " - 1s - loss: 0.0312\n",
      "Epoch 6/20\n",
      " - 1s - loss: 0.0312\n",
      "Epoch 7/20\n",
      " - 1s - loss: 0.0311\n",
      "Epoch 8/20\n",
      " - 1s - loss: 0.0310\n",
      "Epoch 9/20\n",
      " - 1s - loss: 0.0310\n",
      "Epoch 10/20\n",
      " - 1s - loss: 0.0309\n",
      "Epoch 11/20\n",
      " - 1s - loss: 0.0309\n",
      "Epoch 12/20\n",
      " - 1s - loss: 0.0308\n",
      "Epoch 13/20\n",
      " - 1s - loss: 0.0308\n",
      "Epoch 14/20\n",
      " - 1s - loss: 0.0307\n",
      "Epoch 15/20\n",
      " - 1s - loss: 0.0307\n",
      "Epoch 16/20\n",
      " - 1s - loss: 0.0307\n",
      "Epoch 17/20\n",
      " - 1s - loss: 0.0306\n",
      "Epoch 18/20\n",
      " - 1s - loss: 0.0306\n",
      "Epoch 19/20\n",
      " - 1s - loss: 0.0305\n",
      "Epoch 20/20\n",
      " - 1s - loss: 0.0305\n"
     ]
    },
    {
     "data": {
      "text/plain": [
       "<keras.callbacks.History at 0x119c2a0b8>"
      ]
     },
     "execution_count": 22,
     "metadata": {},
     "output_type": "execute_result"
    }
   ],
   "source": [
    "model.compile(loss='categorical_crossentropy', optimizer='sgd')  #keras.optimizers.RMSprop()\n",
    "model.fit(X_train, Y_train, batch_size=128, epochs=20, verbose=2)"
   ]
  },
  {
   "cell_type": "markdown",
   "metadata": {},
   "source": [
    "### <a id='keras_predict'>Make Prediction</a>"
   ]
  },
  {
   "cell_type": "code",
   "execution_count": 23,
   "metadata": {
    "collapsed": true
   },
   "outputs": [],
   "source": [
    "predictions = model.predict(X_test) "
   ]
  },
  {
   "cell_type": "markdown",
   "metadata": {},
   "source": [
    "### **Evaluate using overall training accuracy**"
   ]
  },
  {
   "cell_type": "code",
   "execution_count": 27,
   "metadata": {
    "collapsed": true
   },
   "outputs": [],
   "source": [
    "def test_accuracy_1nn(predictions, X_test, Y_test):\n",
    "    ncorrect = 0\n",
    "    i=0    \n",
    "    for (ex, cls) in zip(X_test, Y_test):\n",
    "        if np.argmax(cls) == np.argmax(predictions[i]):\n",
    "            ncorrect += 1\n",
    "        i = i+1   \n",
    "    print(\"Test accuracy: %d/%d = %0.2f %%\" % (ncorrect, len(Y_test), 100.0*ncorrect/len(Y_test)))    "
   ]
  },
  {
   "cell_type": "code",
   "execution_count": 28,
   "metadata": {},
   "outputs": [
    {
     "name": "stdout",
     "output_type": "stream",
     "text": [
      "Test accuracy: 9772/10000 = 97.72 %\n"
     ]
    }
   ],
   "source": [
    "test_accuracy_1nn(predictions, X_test, Y_test)"
   ]
  },
  {
   "cell_type": "markdown",
   "metadata": {},
   "source": [
    "As shown above, the overall accuracy using 1 layer neural network is 97.72%, which is quite high."
   ]
  },
  {
   "cell_type": "markdown",
   "metadata": {},
   "source": [
    "### **Let's also plot out the image and the result to get a better sense of it**"
   ]
  },
  {
   "cell_type": "code",
   "execution_count": 39,
   "metadata": {},
   "outputs": [
    {
     "name": "stdout",
     "output_type": "stream",
     "text": [
      "Prediction: 7\n",
      "Probability: 0.999656\n"
     ]
    },
    {
     "data": {
      "image/png": "[encoded data removed]",
      "text/plain": [
       "<matplotlib.figure.Figure at 0x183295db70>"
      ]
     },
     "metadata": {},
     "output_type": "display_data"
    },
    {
     "name": "stdout",
     "output_type": "stream",
     "text": [
      "--------------------------------------\n",
      "Prediction: 2\n",
      "Probability: 0.999811\n"
     ]
    },
    {
     "data": {
      "image/png": "[encoded data removed]",
      "text/plain": [
       "<matplotlib.figure.Figure at 0x1844446208>"
      ]
     },
     "metadata": {},
     "output_type": "display_data"
    },
    {
     "name": "stdout",
     "output_type": "stream",
     "text": [
      "--------------------------------------\n",
      "Prediction: 1\n",
      "Probability: 0.998948\n"
     ]
    },
    {
     "data": {
      "image/png": "[encoded data removed]",
      "text/plain": [
       "<matplotlib.figure.Figure at 0x1832763e80>"
      ]
     },
     "metadata": {},
     "output_type": "display_data"
    },
    {
     "name": "stdout",
     "output_type": "stream",
     "text": [
      "--------------------------------------\n",
      "Prediction: 0\n",
      "Probability: 0.999795\n"
     ]
    },
    {
     "data": {
      "image/png": "[encoded data removed]",
      "text/plain": [
       "<matplotlib.figure.Figure at 0x1832859b38>"
      ]
     },
     "metadata": {},
     "output_type": "display_data"
    },
    {
     "name": "stdout",
     "output_type": "stream",
     "text": [
      "--------------------------------------\n",
      "Prediction: 4\n",
      "Probability: 0.997996\n"
     ]
    },
    {
     "data": {
      "image/png": "[encoded data removed]",
      "text/plain": [
       "<matplotlib.figure.Figure at 0x183262b828>"
      ]
     },
     "metadata": {},
     "output_type": "display_data"
    },
    {
     "name": "stdout",
     "output_type": "stream",
     "text": [
      "--------------------------------------\n",
      "Prediction: 1\n",
      "Probability: 0.998364\n"
     ]
    },
    {
     "data": {
      "image/png": "[encoded data removed]",
      "text/plain": [
       "<matplotlib.figure.Figure at 0x11d030ef0>"
      ]
     },
     "metadata": {},
     "output_type": "display_data"
    },
    {
     "name": "stdout",
     "output_type": "stream",
     "text": [
      "--------------------------------------\n",
      "Prediction: 4\n",
      "Probability: 0.999793\n"
     ]
    },
    {
     "data": {
      "image/png": "[encoded data removed]",
      "text/plain": [
       "<matplotlib.figure.Figure at 0x11d68efd0>"
      ]
     },
     "metadata": {},
     "output_type": "display_data"
    },
    {
     "name": "stdout",
     "output_type": "stream",
     "text": [
      "--------------------------------------\n",
      "Prediction: 9\n",
      "Probability: 0.99955\n"
     ]
    },
    {
     "data": {
      "image/png": "[encoded data removed]",
      "text/plain": [
       "<matplotlib.figure.Figure at 0x11d011240>"
      ]
     },
     "metadata": {},
     "output_type": "display_data"
    },
    {
     "name": "stdout",
     "output_type": "stream",
     "text": [
      "--------------------------------------\n",
      "Prediction: 6\n",
      "Probability: 0.500208\n"
     ]
    },
    {
     "data": {
      "image/png": "[encoded data removed]",
      "text/plain": [
       "<matplotlib.figure.Figure at 0x11d0d16d8>"
      ]
     },
     "metadata": {},
     "output_type": "display_data"
    },
    {
     "name": "stdout",
     "output_type": "stream",
     "text": [
      "--------------------------------------\n",
      "Prediction: 9\n",
      "Probability: 0.991316\n"
     ]
    },
    {
     "data": {
      "image/png": "[encoded data removed]",
      "text/plain": [
       "<matplotlib.figure.Figure at 0x18325bcd68>"
      ]
     },
     "metadata": {},
     "output_type": "display_data"
    },
    {
     "name": "stdout",
     "output_type": "stream",
     "text": [
      "--------------------------------------\n"
     ]
    }
   ],
   "source": [
    "for i in range(10):\n",
    "    plt.imshow(np.reshape(X_test[i], (28, 28)), cmap='gray') \n",
    "    print(\"Prediction:\", np.argmax(predictions[i])) \n",
    "    print(\"Probability:\", predictions[i][np.argmax(predictions[i])])     \n",
    "    plt.show()\n",
    "    print(\"--------------------------------------\")"
   ]
  },
  {
   "cell_type": "markdown",
   "metadata": {},
   "source": [
    "---"
   ]
  },
  {
   "cell_type": "markdown",
   "metadata": {},
   "source": [
    "## <a id=\"1nn_sklearn\">1 layer neural network using Sklearn</a>"
   ]
  },
  {
   "cell_type": "code",
   "execution_count": 40,
   "metadata": {
    "collapsed": true
   },
   "outputs": [],
   "source": [
    "%matplotlib inline\n",
    "\n",
    "import os\n",
    "import pandas as pd\n",
    "import numpy as np\n",
    "import matplotlib.pyplot as plt\n",
    "import math\n",
    "\n",
    "from sklearn.model_selection import train_test_split, cross_val_score, GridSearchCV\n",
    "from sklearn import model_selection\n",
    "from sklearn.neural_network import MLPClassifier\n",
    "from sklearn.preprocessing import scale\n",
    "\n",
    "from sklearn.metrics import classification_report\n",
    "\n",
    "SEED = 12345"
   ]
  },
  {
   "cell_type": "code",
   "execution_count": 41,
   "metadata": {
    "collapsed": true
   },
   "outputs": [],
   "source": [
    "def fit_nn(x, y, param_setting={}, fold=5, seed=SEED):\n",
    "    \"\"\"Neural Network for Classification, get the CV AUC\"\"\"        \n",
    "    \n",
    "   # set seed and default parameter \n",
    "    params_default = {'random_state':seed,\n",
    "                     'activation': 'logistic',\n",
    "                     }\n",
    "\n",
    "    # update the input parameters\n",
    "    params = dict(params_default)\n",
    "    params.update(param_setting)\n",
    "    \n",
    "    seed= SEED        \n",
    "    kfold = model_selection.KFold(n_splits=fold, random_state=seed)\n",
    "    model = MLPClassifier(**params)    \n",
    "    \n",
    "    results = model_selection.cross_val_score(model, x, y, cv=kfold, scoring='roc_auc')\n",
    "    print(results.mean())\n",
    "    \n",
    "    model.fit(x, y)\n",
    "    \n",
    "    return model"
   ]
  },
  {
   "cell_type": "code",
   "execution_count": 42,
   "metadata": {},
   "outputs": [
    {
     "name": "stdout",
     "output_type": "stream",
     "text": [
      "0.998000470515\n"
     ]
    }
   ],
   "source": [
    "param_setting={'max_iter':2000, 'early_stopping':True, 'learning_rate_init':0.01}\n",
    "nn_base = fit_nn(X_train, Y_train, fold=5, param_setting=param_setting, seed=SEED)"
   ]
  },
  {
   "cell_type": "code",
   "execution_count": 43,
   "metadata": {},
   "outputs": [
    {
     "data": {
      "text/plain": [
       "MLPClassifier(activation='logistic', alpha=0.0001, batch_size='auto',\n",
       "       beta_1=0.9, beta_2=0.999, early_stopping=True, epsilon=1e-08,\n",
       "       hidden_layer_sizes=(100,), learning_rate='constant',\n",
       "       learning_rate_init=0.01, max_iter=2000, momentum=0.9,\n",
       "       nesterovs_momentum=True, power_t=0.5, random_state=12345,\n",
       "       shuffle=True, solver='adam', tol=0.0001, validation_fraction=0.1,\n",
       "       verbose=False, warm_start=False)"
      ]
     },
     "execution_count": 43,
     "metadata": {},
     "output_type": "execute_result"
    }
   ],
   "source": [
    "nn_base"
   ]
  },
  {
   "cell_type": "markdown",
   "metadata": {},
   "source": [
    "### <a id=\"tune\">Parameter Tuning </a>"
   ]
  },
  {
   "cell_type": "markdown",
   "metadata": {},
   "source": [
    "**Steps**\n",
    "1. Use logistics activation function for 1 hidden layer neural network\n",
    "2. Tune the model using combination of node in the hidden layer and alpha and pick the best parameters.\n",
    "\n",
    "**Key parameters**\n",
    "\n",
    "* **hidden_layer_sizes**: The ith element represents the number of neurons in the ith hidden layer. length = n_layers - 2. Default is (100,), which means that there is only 1 hidden layer with 100 nodes, since len((100,))=1=3-2. 3 means that there are 3 layers including input and output layer. For architecture 56:25:11:7:5:3:1 with input 56 and 1 output hidden layers will be (25:11:7:5:3). So tuple hidden_layer_sizes = (25,11,7,5,3,)\n",
    "* **alpha**: L2 penalty (regularization term) parameter."
   ]
  },
  {
   "cell_type": "code",
   "execution_count": 45,
   "metadata": {
    "collapsed": true
   },
   "outputs": [],
   "source": [
    "def parameter_tuning(model, X_train, y_train, param_grid, fold=5):   \n",
    "    \"\"\"\n",
    "    Tune a tree based model using GridSearch, and return a model object with an updated parameters\n",
    "    \n",
    "    Parameters\n",
    "    ----------\n",
    "    model: sklearn's ensemble tree model\n",
    "        the model we want to do the hyperparameter tuning.\n",
    "    \n",
    "    X_train: pandas DataFrame\n",
    "        Preprocessed training data. Note that all the columns should be in numeric format.\n",
    "    \n",
    "    y_train: pandas Series\n",
    "    \n",
    "    param_grid: dict\n",
    "        contains all the parameters that we want to tune for the responding model.    \n",
    "        \n",
    "\n",
    "    Note\n",
    "    ----------\n",
    "    * we use kfold in GridSearchCV in order to make sure the CV Score is consistent with the score \n",
    "      that we get from all the other function, including fit_bagging, fit_randomforest and fit_gbm. \n",
    "    * We use model_selection.KFold with fixed seed in order to make sure GridSearchCV uses the same seed as model_selection.cross_val_score.\n",
    "    \n",
    "    \"\"\"\n",
    "    seed=SEED\n",
    "    \n",
    "#     if 'n_estimators' in param_grid:\n",
    "#         model.set_params(warm_start=True) \n",
    "    \n",
    "    kfold = model_selection.KFold(n_splits=fold, random_state=seed)\n",
    "    gs_model = GridSearchCV(model, param_grid, cv=kfold, scoring='roc_auc')\n",
    "    gs_model.fit(X_train, y_train)\n",
    "    \n",
    "    # best hyperparameter setting\n",
    "    print('best parameters:{}'.format(gs_model.best_params_)) \n",
    "    print('best score:{}'.format(gs_model.best_score_)) \n",
    "    \n",
    "    # refit model on best parameters\n",
    "    model.set_params(**gs_model.best_params_)\n",
    "    model.fit(X_train, y_train)\n",
    "\n",
    "    return(model)"
   ]
  },
  {
   "cell_type": "markdown",
   "metadata": {},
   "source": [
    "> **Set Default Parameter**"
   ]
  },
  {
   "cell_type": "code",
   "execution_count": 46,
   "metadata": {
    "collapsed": true
   },
   "outputs": [],
   "source": [
    "params = {\n",
    "    'max_iter':2000, \n",
    "    'early_stopping':True, \n",
    "    'learning_rate_init':0.01,\n",
    "    'random_state':SEED\n",
    "}\n",
    "\n",
    "nn = MLPClassifier(**params)"
   ]
  },
  {
   "cell_type": "markdown",
   "metadata": {},
   "source": [
    "> **Set Tuning Parameter**"
   ]
  },
  {
   "cell_type": "code",
   "execution_count": 51,
   "metadata": {
    "collapsed": true
   },
   "outputs": [],
   "source": [
    "param_grid_nn_1 = {\n",
    "    'hidden_layer_sizes': [(100,), (150,)],\n",
    "    'alpha': [0.001, 0.01],\n",
    "}"
   ]
  },
  {
   "cell_type": "code",
   "execution_count": 52,
   "metadata": {},
   "outputs": [
    {
     "name": "stdout",
     "output_type": "stream",
     "text": [
      "best parameters:{'alpha': 0.001, 'hidden_layer_sizes': (150,)}\n",
      "best score:0.9985582993460546\n"
     ]
    }
   ],
   "source": [
    "nn_2 = parameter_tuning(nn, X_train, Y_train, param_grid_nn_1)"
   ]
  },
  {
   "cell_type": "code",
   "execution_count": 53,
   "metadata": {},
   "outputs": [
    {
     "data": {
      "text/plain": [
       "MLPClassifier(activation='relu', alpha=0.001, batch_size='auto', beta_1=0.9,\n",
       "       beta_2=0.999, early_stopping=True, epsilon=1e-08,\n",
       "       hidden_layer_sizes=(150,), learning_rate='constant',\n",
       "       learning_rate_init=0.01, max_iter=2000, momentum=0.9,\n",
       "       nesterovs_momentum=True, power_t=0.5, random_state=12345,\n",
       "       shuffle=True, solver='adam', tol=0.0001, validation_fraction=0.1,\n",
       "       verbose=False, warm_start=False)"
      ]
     },
     "execution_count": 53,
     "metadata": {},
     "output_type": "execute_result"
    }
   ],
   "source": [
    "nn_2"
   ]
  },
  {
   "cell_type": "markdown",
   "metadata": {},
   "source": [
    "> **Get Cross Validation Accuracy**"
   ]
  },
  {
   "cell_type": "code",
   "execution_count": null,
   "metadata": {
    "collapsed": true
   },
   "outputs": [],
   "source": [
    "def get_cv_score(model, x, y, fold=5, scoring='accuracy', seed=SEED):\n",
    "    \"\"\"Get the cv score for a fitted model\"\"\"\n",
    "    \n",
    "    kfold = model_selection.KFold(n_splits=fold, random_state=seed)\n",
    "    results = model_selection.cross_val_score(model, x, y, cv=kfold, scoring=scoring)\n",
    "    print(results.mean())\n",
    "    \n",
    "    return results"
   ]
  },
  {
   "cell_type": "code",
   "execution_count": 56,
   "metadata": {},
   "outputs": [
    {
     "name": "stdout",
     "output_type": "stream",
     "text": [
      "0.946133333333\n"
     ]
    },
    {
     "data": {
      "text/plain": [
       "array([ 0.94633333,  0.94366667,  0.94383333,  0.94266667,  0.95416667])"
      ]
     },
     "execution_count": 56,
     "metadata": {},
     "output_type": "execute_result"
    }
   ],
   "source": [
    "# get the mean accuracy.\n",
    "get_cv_score(nn_2, X_train, Y_train, fold=5, scoring='accuracy', seed=SEED)"
   ]
  },
  {
   "cell_type": "markdown",
   "metadata": {},
   "source": [
    "### <a id='sklearn_predict'>Make Prediction</a>"
   ]
  },
  {
   "cell_type": "markdown",
   "metadata": {},
   "source": [
    "plot out the image and the result to get a better sense of it"
   ]
  },
  {
   "cell_type": "code",
   "execution_count": 60,
   "metadata": {
    "collapsed": true
   },
   "outputs": [],
   "source": [
    "predictions_sklearn = nn_2.predict_proba(X_test) "
   ]
  },
  {
   "cell_type": "code",
   "execution_count": 62,
   "metadata": {},
   "outputs": [
    {
     "name": "stdout",
     "output_type": "stream",
     "text": [
      "Prediction: 7\n",
      "Probability: 0.999860723018\n"
     ]
    },
    {
     "data": {
      "image/png": "[encoded data removed]",
      "text/plain": [
       "<matplotlib.figure.Figure at 0x1832b411d0>"
      ]
     },
     "metadata": {},
     "output_type": "display_data"
    },
    {
     "name": "stdout",
     "output_type": "stream",
     "text": [
      "--------------------------------------\n",
      "Prediction: 2\n",
      "Probability: 0.996602426925\n"
     ]
    },
    {
     "data": {
      "image/png": "[encoded data removed]",
      "text/plain": [
       "<matplotlib.figure.Figure at 0x18329376d8>"
      ]
     },
     "metadata": {},
     "output_type": "display_data"
    },
    {
     "name": "stdout",
     "output_type": "stream",
     "text": [
      "--------------------------------------\n",
      "Prediction: 1\n",
      "Probability: 0.989897747128\n"
     ]
    },
    {
     "data": {
      "image/png": "[encoded data removed]",
      "text/plain": [
       "<matplotlib.figure.Figure at 0x1833151d68>"
      ]
     },
     "metadata": {},
     "output_type": "display_data"
    },
    {
     "name": "stdout",
     "output_type": "stream",
     "text": [
      "--------------------------------------\n",
      "Prediction: 0\n",
      "Probability: 0.999998336198\n"
     ]
    },
    {
     "data": {
      "image/png": "[encoded data removed]",
      "text/plain": [
       "<matplotlib.figure.Figure at 0x18331ebc18>"
      ]
     },
     "metadata": {},
     "output_type": "display_data"
    },
    {
     "name": "stdout",
     "output_type": "stream",
     "text": [
      "--------------------------------------\n",
      "Prediction: 4\n",
      "Probability: 0.998982994314\n"
     ]
    },
    {
     "data": {
      "image/png": "[encoded data removed]",
      "text/plain": [
       "<matplotlib.figure.Figure at 0x183325fa90>"
      ]
     },
     "metadata": {},
     "output_type": "display_data"
    },
    {
     "name": "stdout",
     "output_type": "stream",
     "text": [
      "--------------------------------------\n",
      "Prediction: 1\n",
      "Probability: 0.999762614805\n"
     ]
    },
    {
     "data": {
      "image/png": "[encoded data removed]",
      "text/plain": [
       "<matplotlib.figure.Figure at 0x18333ba160>"
      ]
     },
     "metadata": {},
     "output_type": "display_data"
    },
    {
     "name": "stdout",
     "output_type": "stream",
     "text": [
      "--------------------------------------\n",
      "Prediction: 4\n",
      "Probability: 0.996917944033\n"
     ]
    },
    {
     "data": {
      "image/png": "[encoded data removed]",
      "text/plain": [
       "<matplotlib.figure.Figure at 0x183370eb70>"
      ]
     },
     "metadata": {},
     "output_type": "display_data"
    },
    {
     "name": "stdout",
     "output_type": "stream",
     "text": [
      "--------------------------------------\n",
      "Prediction: 9\n",
      "Probability: 0.984984191503\n"
     ]
    },
    {
     "data": {
      "image/png": "[encoded data removed]",
      "text/plain": [
       "<matplotlib.figure.Figure at 0x1833d36f60>"
      ]
     },
     "metadata": {},
     "output_type": "display_data"
    },
    {
     "name": "stdout",
     "output_type": "stream",
     "text": [
      "--------------------------------------\n",
      "Prediction: 4\n",
      "Probability: 0.312927489256\n"
     ]
    },
    {
     "data": {
      "image/png": "[encoded data removed]",
      "text/plain": [
       "<matplotlib.figure.Figure at 0x1833dcbd68>"
      ]
     },
     "metadata": {},
     "output_type": "display_data"
    },
    {
     "name": "stdout",
     "output_type": "stream",
     "text": [
      "--------------------------------------\n",
      "Prediction: 9\n",
      "Probability: 0.982375349388\n"
     ]
    },
    {
     "data": {
      "image/png": "[encoded data removed]",
      "text/plain": [
       "<matplotlib.figure.Figure at 0x1833e8ef60>"
      ]
     },
     "metadata": {},
     "output_type": "display_data"
    },
    {
     "name": "stdout",
     "output_type": "stream",
     "text": [
      "--------------------------------------\n"
     ]
    }
   ],
   "source": [
    "for i in range(10):\n",
    "    plt.imshow(np.reshape(X_test[i], (28, 28)), cmap='gray') \n",
    "    print(\"Prediction:\", np.argmax(predictions_sklearn[i])) \n",
    "    print(\"Probability:\", predictions_sklearn[i][np.argmax(predictions_sklearn[i])])     \n",
    "    plt.show()\n",
    "    print(\"--------------------------------------\")"
   ]
  },
  {
   "cell_type": "markdown",
   "metadata": {},
   "source": [
    "### <a id='activation'>Side note for Activation Function</a>"
   ]
  },
  {
   "cell_type": "markdown",
   "metadata": {},
   "source": [
    "> **What is activation function?**\n",
    "\n",
    "The function help to decide whether each neuron should be activated or not and adding non-linearity to the networks. See more on [Understanding Activation Functions in Neural Networks](https://medium.com/the-theory-of-everything/understanding-activation-functions-in-neural-networks-9491262884e0)"
   ]
  },
  {
   "cell_type": "markdown",
   "metadata": {},
   "source": [
    "> **Why do we use ReLU replacing Sigmoid?**"
   ]
  },
  {
   "cell_type": "markdown",
   "metadata": {},
   "source": [
    "The gradient of the sigmoid is close to 0 when the x is large positive or very negative. It means that when we try to update the weight, the update is very small. It takes a long time to run. Even when the value of the data point is big, when it times the gradient, the result will be still small. \n",
    "\n",
    "That's why we need ReLU. The gradient of ReLU will not be close to 0 when x is large positive or very negative. When we use ReLU as activation function, the larger derivative (or gradient) or it can help us update the weight more efficiently than using the sigmoid function. \n",
    "\n",
    "The pros of using ReLu is that we can train the model more efficiently. If we have enough time, the result of using sigmoid and ReLU will be the same. \n",
    "\n",
    "When we do the back propagation, what we really calculate is the derivative of the activation function. The parameters of the activation is the things that we have control of. That's where the difference of using ReLU and Sigmoid function from.\n",
    "\n",
    "[Why do we use ReLU in neural networks and how do we use it?](https://stats.stackexchange.com/questions/226923/why-do-we-use-relu-in-neural-networks-and-how-do-we-use-it)\n",
    "\n",
    "Gradients of logistic and hyperbolic tangent networks are smaller than the positive portion of the ReLU. This means that the positive portion is updated more rapidly as training progresses. However, this comes at a cost. The 0 gradient on the left-hand side is has its own problem, called \"dead neurons,\" in which a gradient update sets the incoming values to a ReLU such that the output is always zero; modified ReLU units such as ELU (or Leaky ReLU etc.) can minimize this.\n"
   ]
  },
  {
   "cell_type": "markdown",
   "metadata": {},
   "source": [
    "## <a id=\"refer\">Reference</a>\n",
    "\n",
    "* [sklearn MLPClassifier](http://scikit-learn.org/stable/modules/generated/sklearn.neural_network.MLPClassifier.html#sklearn.neural_network.MLPClassifier)\n",
    "* [sklearn scale](http://scikit-learn.org/stable/modules/generated/sklearn.preprocessing.scale.html)\n",
    "* [Stackoverflow: hidden_layer_sizes](https://stackoverflow.com/questions/35363530/python-scikit-learn-mlpclassifier-hidden-layer-sizes)\n",
    "* [Adam Optimization](https://machinelearningmastery.com/adam-optimization-algorithm-for-deep-learning/)\n",
    "* [sklearn: scoring parameter](http://scikit-learn.org/0.15/modules/model_evaluation.html)"
   ]
  }
 ],
 "metadata": {
  "kernelspec": {
   "display_name": "Python 3",
   "language": "python",
   "name": "python3"
  },
  "language_info": {
   "codemirror_mode": {
    "name": "ipython",
    "version": 3
   },
   "file_extension": ".py",
   "mimetype": "text/x-python",
   "name": "python",
   "nbconvert_exporter": "python",
   "pygments_lexer": "ipython3",
   "version": "3.6.8"
  }
 },
 "nbformat": 4,
 "nbformat_minor": 2
}
