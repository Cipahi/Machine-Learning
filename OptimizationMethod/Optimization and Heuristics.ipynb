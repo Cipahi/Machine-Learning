{
 "cells": [
  {
   "cell_type": "markdown",
   "metadata": {},
   "source": [
    "# Optimization"
   ]
  },
  {
   "cell_type": "markdown",
   "metadata": {},
   "source": [
    "**Outline**\n",
    "\n",
    "* [Introduction](#intro)\n",
    "* [Linear Programming](#lp)\n",
    "    * [Brewer's Problem](#example1)\n",
    "        * [Shadow Price](#shadow)\n",
    "        * [Implementation using python Pulp](#exmaple1_implement)\n",
    "        * [Dual Problem](#dual)        \n",
    "    * [Simplified Shelf Space Problem](#example2)\n",
    "* [Some Tips and Definitions](#tips)\n",
    "* [Piecewise Linear Programming](#piecewise)\n",
    "* [Reference](#reference)"
   ]
  },
  {
   "attachments": {},
   "cell_type": "markdown",
   "metadata": {},
   "source": [
    "**Disclaimer**\n",
    "\n",
    "This is a note taken from 2018 Fall MSiA 440 Optimization class - Prof. Michael S. Watson. Hence, many of the content below can be copied directly from the class material"
   ]
  },
  {
   "cell_type": "markdown",
   "metadata": {},
   "source": [
    "---"
   ]
  },
  {
   "cell_type": "markdown",
   "metadata": {},
   "source": [
    "## <a id=\"intro\">Introduction</a>"
   ]
  },
  {
   "cell_type": "markdown",
   "metadata": {},
   "source": [
    "This is the [definition from wikipedia](https://en.wikipedia.org/wiki/Constrained_optimization)\n",
    "\n",
    "\n",
    "> In mathematical optimization, **constrained optimization** (in some contexts called constraint optimization) is the process of optimizing an objective function with respect to some variables in the presence of constraints on those variables. The objective function is either a cost function or energy function, which is to be minimized, or a reward function or utility function, which is to be maximized. Constraints can be either **hard constraints**, which set conditions for the variables that are required to be satisfied, or **soft constraints**, which have some variable values that are penalized in the objective function if, and based on the extent that, the conditions on the variables are not satisfied."
   ]
  },
  {
   "cell_type": "markdown",
   "metadata": {},
   "source": [
    "## <a id='lp'>Linear Programming</a>"
   ]
  },
  {
   "attachments": {},
   "cell_type": "markdown",
   "metadata": {},
   "source": [
    "> **What is it?**\n",
    "\n",
    "* Quintessential tool for optimal allocation of scarce resources, among a number of competing activities Powerful and general problem-solving method\n",
    "* Linear Programming is a optimization method, a method to achieve the best outcome (such as maximum profit or lowest cost) in a mathematical model whose requirements are represented by linear relationships.\n",
    "\n",
    "\n",
    "> **Why significant?**\n",
    "\n",
    "* One of the most important mathematical techniques of the 20th century (Nobel Prize in Economics in 1975)\n",
    "* Fast commercial solvers\n",
    "* Powerful modeling languages\n",
    "* Embedded in many types of applications\n",
    "* Forms the basis of Integer, Non-Linear Programming, and Heuristics\n",
    "* Widely applicable to industry (When someone mentions “optimizing” a process, chances are they are referring to LP Probably used somewhere in the companies you are associated with)\n",
    "* When the term “linear programming” was coined, the term “programming” referred to planning or scheduling within a large organization. It has nothing to do with what we now call computer programming."
   ]
  },
  {
   "attachments": {},
   "cell_type": "markdown",
   "metadata": {},
   "source": [
    "> **How Do you Create a Linear Programming Optimization Model?**\n",
    "\n",
    "* Take your real business problems and challenges...\n",
    "* ...and break down your problem so you can model it...\n",
    "    * Objective\n",
    "    * Decisions\n",
    "    * Constraints\n",
    "* ...and use this to create a set of equations that become your model.\n",
    "\n",
    "\\begin{aligned}&{\\text{Maximize}}&&\\mathbf {c} ^{\\mathrm {T} }\\mathbf {x} \\\\&{\\text{subject to}}&&A\\mathbf {x} \\leq \\mathbf {b} \\\\&{\\text{and}}&&\\mathbf {x} \\geq \\mathbf {0} \\end{aligned}"
   ]
  },
  {
   "attachments": {},
   "cell_type": "markdown",
   "metadata": {},
   "source": [
    "> **The Components of an Optimization Problem are Worth Repeating**\n",
    "\n",
    "* What makes one choice better than another? What **target** should be used to compare one set of choices to another? What is the **objective**? \n",
    "    * Objectives can be costs, revenue, profit, service, others...    \n",
    "* What **resources** need to managed? How are they **limited**? What are the **constraints**? \n",
    "* What **choices** need to be in order to manage these resources? What are the **decision variables**?"
   ]
  },
  {
   "attachments": {},
   "cell_type": "markdown",
   "metadata": {},
   "source": [
    "> **Notes About Linear Programs**\n",
    "\n",
    "* Have to be linear\n",
    "    * Objective function and constraints must be written as linear equations\n",
    "    * You can’t multiple decision variables together\n",
    "    * You can’t divide by decision variables\n",
    "    * You can’t use if-statements.  (I’m going to have you get started in Excel to build intuition– you really don’t want to use any formula in Excel except adding and multiplying by constants.\n",
    "\n",
    "* The “linear” assumption seems to be limited\n",
    "    * Let’s make sure we can do this before we try to tackle this assumption!\n",
    "\n",
    "* Note:  We can solve these problems!  Two choices:\n",
    "    * Choice One:  You might have to make some assumptions or create work-arounds because of linear assumptions, but you get a reliable answer\n",
    "    * Choice Two:  You don’t use limiting linear assumptions, but you don’t have a way to solve the problem\n",
    "* I think you’ll find:  the linear assumptions aren’t so bad!\n"
   ]
  },
  {
   "cell_type": "markdown",
   "metadata": {},
   "source": [
    "> <a id='example1'>**Brewers Problem**</a>\n",
    "\n",
    "Let's use a simple example to get a feeling of it! Here we go:\n",
    "\n",
    "You are the owner of a small brewery. Since it's just the start of the business, we want to focus on brew 2 types of beer: Ale & Pilsner. These 2 types of beer would yield differet profit, also they need different combination of raw materials to brew it. \n",
    "\n",
    "The goal here is to decide how many Ale & Pilsner we want to make in order to have the maximum profit, assuming the only constraints here are raw materials. Here is the information\n",
    "\n",
    "|Type| Corn(pounds) |  Hops(ounces)  | Malt(pounds) | Profit($) |\n",
    "|------|------|------|\n",
    "| Ale | 5 | 4 | 35 | 13 |\n",
    "| Pilsner | 15 | 4 | 20 | 23 |\n",
    "| Limit | 480 | 160 | 1190 | |"
   ]
  },
  {
   "attachments": {},
   "cell_type": "markdown",
   "metadata": {},
   "source": [
    "Let's change this problem into something we can model. Assume the number of Ale produced is **A** and the number of Pilsner produced is **B**\n",
    "\n",
    "* **Objective**:\n",
    "$$\\text{maximize 23A+13B}$$\n",
    "\n",
    "* **Constraints**\n",
    "$$\\begin{aligned}&{\\text{Corn: 5A  + 15B <= 480}} \\\\&{\\text{Hops:  4A  + 4B  <= 160}} \\\\&{\\text{Malt:  35A + 20B <= 1190}}\\end{aligned}$$\n",
    "\n",
    "* **Decisions**:\n",
    "\\begin{cases}\n",
    "    A  = ? \\\\\n",
    "    B  = ?\n",
    "  \\end{cases}"
   ]
  },
  {
   "cell_type": "markdown",
   "metadata": {},
   "source": [
    "> **<a id='shadow'>Shadow Price</a>**"
   ]
  },
  {
   "attachments": {},
   "cell_type": "markdown",
   "metadata": {},
   "source": [
    "In many occasions, we may want to know \"what if we have 10 more punds of Corn? How much it would effect our profit?\" or simply \"How much of each of the raw material that we should get more in order to earn more?\"\n",
    "\n",
    "**Shadow price** can tell us this type of information. It is defined as the __*marginal increase of the objective when the constraint is relaxed by 1 unit*__.\n",
    "\n",
    "Note:\n",
    "* Work for Linear Programs (not Integer)\n",
    "* Provide information on the impact to the objective value of small changes to the constraint (or right hand side)\n",
    "* show which constraint is tight constraint\n",
    "* Can provide value on the relative value of relaxing tight constraints\n",
    "* Does not necessarily\n",
    "    * Provide information on multiple changes at once (should we use all the budget to get Hops or should we get more Hops and some Corn?)\n",
    "    * Provide information on large changes (should we get 1000 more corns?)\n",
    "    \n",
    "Comments on Shadow price:\n",
    "* If you know about Linear Programming, you should know about Shadow Prices and Dual Problems\n",
    "    * Everyone covers it in the classroom\n",
    "    * The shadow prices can be useful (see below)\n",
    "    * Sometimes the dual problem has a more intuitive interpretation\n",
    "    * Some sophisticated algorithms take advantage of dual problems- you should know they exist and what they mean\n",
    "\n",
    "But...\n",
    "* Shadow prices are only for small changes and for linear programs (and most problems have integer variables)\n",
    "* This was a lot more useful when computing power was at a premium and linear programs ran slow (remember, since 1988 LP’s are more than 5 million times faster!!)\n",
    "* People are finding that is easier to just run a variety of what-if scenarios\n"
   ]
  },
  {
   "cell_type": "markdown",
   "metadata": {},
   "source": [
    "> **<a id='example1_implement'>Implement using Pulp from Python</a>**"
   ]
  },
  {
   "cell_type": "code",
   "execution_count": 12,
   "metadata": {
    "collapsed": true
   },
   "outputs": [],
   "source": [
    "# This model separates the data from the optimization model\n",
    "from pulp import *\n",
    "\n",
    "#Create a list of all the products\n",
    "Products = [\"Ale\",\"Pilsner\"]\n",
    "\n",
    "#Create a dictionary of the prices for products\n",
    "Prices = {\"Ale\": 13,\n",
    "          \"Pilsner\": 23}\n",
    "\n",
    "#Create a list of all the raw materials\n",
    "RawMaterials = [\"Corn\",\"Hops\",\"Malt\"]\n",
    "\n",
    "#Create a Dictionary of Amount of each Raw Material Available\n",
    "RawAvailability = {\"Corn\": 480,\n",
    "                  \"Hops\": 160,\n",
    "                  \"Malt\": 1190}\n",
    "\n",
    "#Create a list for amount used of each raw material for each product\n",
    "AmountUsed = {\"Ale\": {\"Corn\": 5, \"Hops\": 4, \"Malt\": 35},\n",
    "              \"Pilsner\":{\"Corn\": 15, \"Hops\": 4, \"Malt\": 20}\n",
    "             }"
   ]
  },
  {
   "cell_type": "code",
   "execution_count": 15,
   "metadata": {},
   "outputs": [
    {
     "name": "stdout",
     "output_type": "stream",
     "text": [
      "Status: Optimal\n",
      "Prods_Ale = 12.0\n",
      "Prods_Pilsner = 28.0\n",
      "Total Revenue of Plan =  800.0\n",
      "Corn Remaining Slack 0.0\n",
      "Corn Original RHS Value -480\n",
      "Corn Shadow Price 1.0\n",
      "Hops Remaining Slack 0.0\n",
      "Hops Original RHS Value -160\n",
      "Hops Shadow Price 2.0\n",
      "Malt Remaining Slack -210.0\n",
      "Malt Original RHS Value -1190\n",
      "Malt Shadow Price -0.0\n"
     ]
    }
   ],
   "source": [
    "# Create the 'prob' variable to contain the problem data\n",
    "prob = LpProblem(\"Ale and Pilsner\",LpMaximize)\n",
    "\n",
    "# Create --decision variables--\n",
    "product_vars = LpVariable.dicts(\"Prods\",Products,lowBound=0,upBound=None,cat=LpContinuous)\n",
    "\n",
    "# The --objective function-- is added to 'prob' first\n",
    "prob += lpSum([Prices[i]*product_vars[i] for i in Products]), \"Total Revenue of Production Plan\"\n",
    "\n",
    "# We can enter the --constraints-- that relate to limited amount of material\n",
    "for r in RawMaterials:\n",
    "    prob += lpSum([product_vars[i]*AmountUsed[i][r] for i in Products]) <= RawAvailability[r], r\n",
    "    \n",
    "# The problem data is written to an .lp file\n",
    "prob.writeLP(\"BeerAle.lp\")\n",
    "\n",
    "# The problem is solved using PuLP's choice of Solver\n",
    "prob.solve()\n",
    "\n",
    "# The status of the solution is printed to the screen\n",
    "print(\"Status:\", LpStatus[prob.status])\n",
    "\n",
    "# Each of the variables is printed with it's resolved optimum value\n",
    "for v in prob.variables():\n",
    "    print(v.name, \"=\", v.varValue)\n",
    "    \n",
    "# The optimised objective function value is printed to the screen\n",
    "print(\"Total Revenue of Plan = \", value(prob.objective))\n",
    "\n",
    "for constraint in prob.constraints:\n",
    "        # print(prob.constraints[constraint].name, prob.constraints[constraint].value() - prob.constraints[constraint].constant)\n",
    "        print(prob.constraints[constraint].name,\"Remaining Slack\" , prob.constraints[constraint].value())        \n",
    "        print(prob.constraints[constraint].name,\"Original RHS Value\" , prob.constraints[constraint].constant)\n",
    "        print(prob.constraints[constraint].name,\"Shadow Price\" , prob.constraints[constraint].pi)        "
   ]
  },
  {
   "cell_type": "code",
   "execution_count": 16,
   "metadata": {},
   "outputs": [
    {
     "data": {
      "text/plain": [
       "Ale and Pilsner:\n",
       "MAXIMIZE\n",
       "13*Prods_Ale + 23*Prods_Pilsner + 0\n",
       "SUBJECT TO\n",
       "Corn: 5 Prods_Ale + 15 Prods_Pilsner <= 480\n",
       "\n",
       "Hops: 4 Prods_Ale + 4 Prods_Pilsner <= 160\n",
       "\n",
       "Malt: 35 Prods_Ale + 20 Prods_Pilsner <= 1190\n",
       "\n",
       "VARIABLES\n",
       "Prods_Ale Continuous\n",
       "Prods_Pilsner Continuous"
      ]
     },
     "execution_count": 16,
     "metadata": {},
     "output_type": "execute_result"
    }
   ],
   "source": [
    "prob"
   ]
  },
  {
   "cell_type": "markdown",
   "metadata": {},
   "source": [
    "The result indicats that we should brew 13 barrels of Ale and 23 barrels of Pilzner, and this would yield the maximum revenue of 800. As for the raw materials, we would use all the corn and hops, but still have 210 pounds of Malt left.\n",
    "\n",
    "In term of the raw material, if we still have budget, our first priority is to get more Hops.\n",
    "\n",
    "In reality, there might be many other constraints come into play, such as\n",
    "* **Time**: maybe pilsner can be done faster than Ale, and we need to hand in our products within certain amount of time. \n",
    "* **Laber**: there may be only a certain people know how to brew ale.\n",
    "* **Demand**: Pilsner may be less popular than Ale, we may over produce it if we don't take this into account.\n",
    "* **Budget**: the factory would must have the total amount of money that they can spend\n",
    "* **Space**: Maybe the factory don't have so much space to put all the barrels.\n",
    "* **Other**"
   ]
  },
  {
   "attachments": {},
   "cell_type": "markdown",
   "metadata": {},
   "source": [
    "> **<a id='dual'>Dual Problems</a>**\n",
    "\n",
    "Every Linear Program has a Dual. In rough terms, the dual problem is the reverse of the Primal (Think of the original Linear Program as the Primal). The constraints become decision variables, the decision variables become constraints.\n",
    "\n",
    "Here shows the duality of brewer's problem:\n",
    "\n",
    "<img src=\"_pic/duality.png\" style=\"width: 500px;height: 350px;\"/>"
   ]
  },
  {
   "cell_type": "markdown",
   "metadata": {},
   "source": [
    "> **<a id='example2'>Simplified Shelf Space Problem using Open Solver</a>**"
   ]
  },
  {
   "attachments": {},
   "cell_type": "markdown",
   "metadata": {},
   "source": [
    "In a supermarker, since people's decision would be effect by where the product is located, it naturally make sense that how the product is located would effect the final profit.\n",
    "\n",
    "In this model we want to determine which product will go onto which slot on the shelf. For each product, at each location, you know the expected daily profit as seen in this table.\n",
    "\n",
    "<img src=\"_pic/ShelfSpaceTable.png\" style=\"width: 800px;height: 200px;\"/>\n",
    "\n",
    "We need to determine what product should be slotted in which location. Only one product can go in each location and each product can only be slotted once.\n",
    "\n",
    "Determine the profit if each item was slotted in its best possible location- not considering the overall feasibility of the solution. What does this number tell you from a business point of view?\n",
    "\n",
    "The complete solution can be found [here in the google sheet](https://docs.google.com/spreadsheets/d/1Ey6uk2G4d2GYWT3bP6sIrPvSIsb9f9S__n9KQ3Tuv3k/edit?usp=sharing)."
   ]
  },
  {
   "cell_type": "markdown",
   "metadata": {},
   "source": [
    "## <a id='tips'>Some Tips and Definitiion</a> "
   ]
  },
  {
   "attachments": {},
   "cell_type": "markdown",
   "metadata": {},
   "source": [
    "> **Tips**\n",
    "\n",
    "* Optimization Approaches: Getting The True Optimal Answer\n",
    "    * **Enumeration**: when doing optimization problems, make sure we give user choices by listing out all the possible solutions and pick the best one\n",
    "         * Pro’s\n",
    "             * Easy\n",
    "             * Works for small problems\n",
    "             * Can help you explicit trade-offs\n",
    "         * Con’s\n",
    "             * Fails completely when the solution set is large. \n",
    "             * And, may real world problems have so many possible solutions, that enumeration is impossible\n",
    "    * **Mathematical Optimization**: formulate the problem in the language of mathematics and use an approach that leads to a provable optimal solution\n",
    "        * Pro’s\n",
    "            * Can solve large problems\n",
    "            * Guaranteed optimal solution\n",
    "            * Robust with new constraints, variables, and data\n",
    "        * Con’s\n",
    "            * You have to be able to formulate the problem and may need to make assumptions to do so\n",
    "            * Can be slow            "
   ]
  },
  {
   "attachments": {},
   "cell_type": "markdown",
   "metadata": {},
   "source": [
    "> **Definition**\n",
    "\n",
    "* **Integer Programming**: like linear programming, except some of the variables can be forced to be binary– 0 or 1, or just an integer value\n",
    "    * Where it seems like you would need integer variables\n",
    "        * You must make an integer amount of product (120 cans, not 120.2)\n",
    "        * You must order an integer amount of coils (263 vs 262.5)\n",
    "        * You must order an integer amount of food (depending on how it is packaged)\n",
    "        * Or, maybe you just don’t like to see decimal amounts \n",
    "        * And, many more cases...\n",
    "    * Surprisingly, this is not the real reason IP exists. And, this use of IP usually makes the problems much harder, with limited benefits\n",
    "    * Problems with IP:\n",
    "        * We can not solve IP’s as fast as LP’s.\n",
    "            * Problem is worse than not being just as fast\n",
    "            * At the risk of oversimplifying, there are two basic type of optimization problems P and NP-Complete\n",
    "        * We cannot solve IP’s as large as LP’s.\n",
    "        * We do not get the sensitivity results for IP’s we get for  LP’s.\n",
    "* **Non-Linear Optimization**: For some non-linear equations, there are techniques for finding the best solutions (think of the derivative in your Calculus class)\n",
    "    * For some specific problems, there are other techniques\n",
    "        * Options pricing\n",
    "        * Queuing theory\n"
   ]
  },
  {
   "cell_type": "markdown",
   "metadata": {},
   "source": [
    "## <a id='piecewise'>Piecewise Linear Programming</a>"
   ]
  },
  {
   "attachments": {},
   "cell_type": "markdown",
   "metadata": {},
   "source": [
    "Linear programming is good, but it's still linear. Linear formulations can be good approximations. To capture some aspects of the problem that follow cost structure as a curve, we can formulate the problem as piece-wise linear programs. \n",
    "\n",
    "Here we want to illustrate using a simple example.\n",
    "\n",
    "* Company buys slabs of raw steel, does minor processing and resells the slabs\n",
    "* They can sell for $5.50 per slab\n",
    "* They have a budget of \\$3,000 to buy slabs\n",
    "* They can buy slabs at the following prices\n",
    "\n",
    "<img src=\"_pic/piecewise.png\" style=\"width: 400px;height: 120px;\"/>\n",
    "\n",
    "The solution can be found here: \n",
    "* [Case 1](https://docs.google.com/spreadsheets/d/1Ey6uk2G4d2GYWT3bP6sIrPvSIsb9f9S__n9KQ3Tuv3k/edit#gid=2125242938)\n",
    "* [Case 2](https://docs.google.com/spreadsheets/d/1Ey6uk2G4d2GYWT3bP6sIrPvSIsb9f9S__n9KQ3Tuv3k/edit#gid=610776840)\n",
    "\n"
   ]
  },
  {
   "cell_type": "markdown",
   "metadata": {},
   "source": [
    "## <a id=\"reference\">Reference</a>\n",
    "\n",
    "* [OpenSolver Website](https://opensolver.org/)\n",
    "* [Youtube: Linear Programming - Shadow Price, Slack/Surplus calculations](https://www.youtube.com/watch?v=uaxOfTIC_pI)"
   ]
  }
 ],
 "metadata": {
  "kernelspec": {
   "display_name": "Python 3",
   "language": "python",
   "name": "python3"
  },
  "language_info": {
   "codemirror_mode": {
    "name": "ipython",
    "version": 3
   },
   "file_extension": ".py",
   "mimetype": "text/x-python",
   "name": "python",
   "nbconvert_exporter": "python",
   "pygments_lexer": "ipython3",
   "version": "3.6.3"
  }
 },
 "nbformat": 4,
 "nbformat_minor": 2
}
