{
 "cells": [
  {
   "cell_type": "markdown",
   "metadata": {},
   "source": [
    "# Model Selection Method"
   ]
  },
  {
   "cell_type": "markdown",
   "metadata": {},
   "source": [
    "**Outline**\n",
    "* [Introduction](#introduction)\n",
    "* [Validation Set](#validation)\n",
    "* Cross Validation\n",
    "    * [Leave one out Cross Validation (LOOCV)](#loocv)\n",
    "    * [K-fold cross validation](#kcv)\n",
    "* [Grid Search](#gridsearch)\n",
    "* [Out of Bag Estimate for Bagging](#oob)"
   ]
  },
  {
   "cell_type": "markdown",
   "metadata": {},
   "source": [
    "---"
   ]
  },
  {
   "cell_type": "markdown",
   "metadata": {},
   "source": [
    "## <a id=\"introduction\"> Introduction </a>"
   ]
  },
  {
   "cell_type": "markdown",
   "metadata": {},
   "source": [
    "When we finish building a model, if we don't have any testing data, how do we know our model is overfitting or underfitting? Actually, if we use all the data to train our model, we don't know whether if our model is overfitting or underfitting. Let's firstly assume we have built a model and have a test data to test it, if the test MSE is much higher than our train MSE, then our model is said to be overfitted.\n",
    "\n",
    "Cross validation is a way to prevent it from happening. Before our model is fitting using the test data to get the test MSE, we manually group our train data into k fold and calculate the MSE using the kth fold each time and have a final estimate of the test MSE by averaging all the MSE of the k fold. \n",
    "\n",
    "The main idea of all the model selection method that we are going to introduce is to obtain an estimate of the test set MSE. When we build up a model, how can we know which model is better than another? When we don't have a test dataset available, we might imagine simply selecting the one with the lowest training MSE. However, it is not true. When a given method yields a small training MSE but a large test MSE, we are said to be overfitting the data. \n",
    "\n",
    "Therefore, we don't want to use training MSE to select our model. What we want is a metrics that can be an estimate of the test MSE. If we believe that estimate is correct, then the lower the estimate is, the better our model should be when we perform the model using test data later on. When doing model selection, we can imagine a plot with flexibility in x-axis and MSE in y. Each model has its level of flexibility. The more complex the model is, the higher flexibility the model is. If we reduce the flexibility of our model and result in a lower estimate test MSE, then the original model should have already been overfitted. \n",
    "\n",
    "When we compare the estimate test MSE of two models, A and B. A is more complex than B. If A has a lower estimate test MSE, then the next thing we can do is probably increase the flexibility of our model even more; if B has a lower CV score than A, then we might want to try to lower the flexibility of B and see if the estimate test MSE can be even lower.\n",
    "\n",
    "Also, we know that ```Expected test MSE = Variance of the model + Bias of the model + irreducible error```. The relative rate of change of first two quantities determines whether the test MSE increases or decreases. As we increase hte flexibility of a model, the bias tend to initially decrease faster than the variance increases. Consequently, the expected test MSE declines. However, at some point increaseing flexibility has little impact on the bias but starts to significantly increase the variance. When this happens the test MSE increases.\n",
    "\n",
    "Some of the approaches are described below.\n",
    "\n",
    "\n",
    "**Some Note:**\n",
    "* Overfitting refers specifically to the case in which a less flexible model would have yieled a smaller test MSE. \n",
    "* We refer to test data as the set of observations that were not used to train the model. "
   ]
  },
  {
   "cell_type": "markdown",
   "metadata": {},
   "source": [
    "To compare different approach to obtain an estimate of test MSE, we are going to use the [Wine Quality Data Set](https://archive.ics.uci.edu/ml/datasets/wine+quality). You can download the data from this [link](https://archive.ics.uci.edu/ml/machine-learning-databases/wine-quality/winequality-red.csv). The goal is to model wine quality as a numeric value based on the features we have in the dataset."
   ]
  },
  {
   "cell_type": "code",
   "execution_count": 114,
   "metadata": {},
   "outputs": [],
   "source": [
    "%matplotlib inline\n",
    "import pandas as pd\n",
    "import numpy as np\n",
    "from sklearn.model_selection import train_test_split, GridSearchCV\n",
    "from sklearn import cross_validation\n",
    "from sklearn.ensemble import GradientBoostingRegressor\n",
    "from sklearn.ensemble import RandomForestRegressor\n",
    "import matplotlib.pyplot as plt\n",
    "from sklearn.metrics import mean_squared_error"
   ]
  },
  {
   "cell_type": "code",
   "execution_count": 5,
   "metadata": {},
   "outputs": [
    {
     "data": {
      "text/html": [
       "<div>\n",
       "<style>\n",
       "    .dataframe thead tr:only-child th {\n",
       "        text-align: right;\n",
       "    }\n",
       "\n",
       "    .dataframe thead th {\n",
       "        text-align: left;\n",
       "    }\n",
       "\n",
       "    .dataframe tbody tr th {\n",
       "        vertical-align: top;\n",
       "    }\n",
       "</style>\n",
       "<table border=\"1\" class=\"dataframe\">\n",
       "  <thead>\n",
       "    <tr style=\"text-align: right;\">\n",
       "      <th></th>\n",
       "      <th>fixed acidity</th>\n",
       "      <th>volatile acidity</th>\n",
       "      <th>citric acid</th>\n",
       "      <th>residual sugar</th>\n",
       "      <th>chlorides</th>\n",
       "      <th>free sulfur dioxide</th>\n",
       "      <th>total sulfur dioxide</th>\n",
       "      <th>density</th>\n",
       "      <th>pH</th>\n",
       "      <th>sulphates</th>\n",
       "      <th>alcohol</th>\n",
       "      <th>quality</th>\n",
       "    </tr>\n",
       "  </thead>\n",
       "  <tbody>\n",
       "    <tr>\n",
       "      <th>0</th>\n",
       "      <td>7.4</td>\n",
       "      <td>0.70</td>\n",
       "      <td>0.00</td>\n",
       "      <td>1.9</td>\n",
       "      <td>0.076</td>\n",
       "      <td>11.0</td>\n",
       "      <td>34.0</td>\n",
       "      <td>0.9978</td>\n",
       "      <td>3.51</td>\n",
       "      <td>0.56</td>\n",
       "      <td>9.4</td>\n",
       "      <td>5</td>\n",
       "    </tr>\n",
       "    <tr>\n",
       "      <th>1</th>\n",
       "      <td>7.8</td>\n",
       "      <td>0.88</td>\n",
       "      <td>0.00</td>\n",
       "      <td>2.6</td>\n",
       "      <td>0.098</td>\n",
       "      <td>25.0</td>\n",
       "      <td>67.0</td>\n",
       "      <td>0.9968</td>\n",
       "      <td>3.20</td>\n",
       "      <td>0.68</td>\n",
       "      <td>9.8</td>\n",
       "      <td>5</td>\n",
       "    </tr>\n",
       "    <tr>\n",
       "      <th>2</th>\n",
       "      <td>7.8</td>\n",
       "      <td>0.76</td>\n",
       "      <td>0.04</td>\n",
       "      <td>2.3</td>\n",
       "      <td>0.092</td>\n",
       "      <td>15.0</td>\n",
       "      <td>54.0</td>\n",
       "      <td>0.9970</td>\n",
       "      <td>3.26</td>\n",
       "      <td>0.65</td>\n",
       "      <td>9.8</td>\n",
       "      <td>5</td>\n",
       "    </tr>\n",
       "    <tr>\n",
       "      <th>3</th>\n",
       "      <td>11.2</td>\n",
       "      <td>0.28</td>\n",
       "      <td>0.56</td>\n",
       "      <td>1.9</td>\n",
       "      <td>0.075</td>\n",
       "      <td>17.0</td>\n",
       "      <td>60.0</td>\n",
       "      <td>0.9980</td>\n",
       "      <td>3.16</td>\n",
       "      <td>0.58</td>\n",
       "      <td>9.8</td>\n",
       "      <td>6</td>\n",
       "    </tr>\n",
       "    <tr>\n",
       "      <th>4</th>\n",
       "      <td>7.4</td>\n",
       "      <td>0.70</td>\n",
       "      <td>0.00</td>\n",
       "      <td>1.9</td>\n",
       "      <td>0.076</td>\n",
       "      <td>11.0</td>\n",
       "      <td>34.0</td>\n",
       "      <td>0.9978</td>\n",
       "      <td>3.51</td>\n",
       "      <td>0.56</td>\n",
       "      <td>9.4</td>\n",
       "      <td>5</td>\n",
       "    </tr>\n",
       "  </tbody>\n",
       "</table>\n",
       "</div>"
      ],
      "text/plain": [
       "   fixed acidity  volatile acidity  citric acid  residual sugar  chlorides  \\\n",
       "0            7.4              0.70         0.00             1.9      0.076   \n",
       "1            7.8              0.88         0.00             2.6      0.098   \n",
       "2            7.8              0.76         0.04             2.3      0.092   \n",
       "3           11.2              0.28         0.56             1.9      0.075   \n",
       "4            7.4              0.70         0.00             1.9      0.076   \n",
       "\n",
       "   free sulfur dioxide  total sulfur dioxide  density    pH  sulphates  \\\n",
       "0                 11.0                  34.0   0.9978  3.51       0.56   \n",
       "1                 25.0                  67.0   0.9968  3.20       0.68   \n",
       "2                 15.0                  54.0   0.9970  3.26       0.65   \n",
       "3                 17.0                  60.0   0.9980  3.16       0.58   \n",
       "4                 11.0                  34.0   0.9978  3.51       0.56   \n",
       "\n",
       "   alcohol  quality  \n",
       "0      9.4        5  \n",
       "1      9.8        5  \n",
       "2      9.8        5  \n",
       "3      9.8        6  \n",
       "4      9.4        5  "
      ]
     },
     "execution_count": 5,
     "metadata": {},
     "output_type": "execute_result"
    }
   ],
   "source": [
    "wine=pd.read_csv('_data/winequality-red.csv', sep=';')\n",
    "wine.head()"
   ]
  },
  {
   "cell_type": "code",
   "execution_count": 7,
   "metadata": {},
   "outputs": [],
   "source": [
    "# train/test split the features and response column\n",
    "X = wine.drop('quality', axis = 1).values\n",
    "y = wine['quality'].values\n",
    "X_train, X_test, y_train, y_test = model_selection.train_test_split(X, y, test_size = 0.2, random_state = 7)"
   ]
  },
  {
   "cell_type": "markdown",
   "metadata": {},
   "source": [
    "---"
   ]
  },
  {
   "cell_type": "markdown",
   "metadata": {},
   "source": [
    "### <a id=\"validation\"> Validation Set </a>"
   ]
  },
  {
   "cell_type": "markdown",
   "metadata": {},
   "source": [
    "**Idea:**\n",
    "separate the data into 2 parts, training and validation set. Fit model using training set and calculate the MSE using validation set.\n",
    "\n",
    "**Drawback:**\n",
    "* The validation estimate of the test error can be highly variable\n",
    "* Since statistical method tends to perform worse when trained on fewer observations. Calculating the estimate MSE using validation set can overestimate the test error. In other words, it is not the model's fault, it is because we use fewer data to fit the model that result in a worse estimate of the test MSE."
   ]
  },
  {
   "cell_type": "markdown",
   "metadata": {},
   "source": [
    "### <a id=\"kcv\"> K-fold cross validation </a>"
   ]
  },
  {
   "cell_type": "markdown",
   "metadata": {},
   "source": [
    "**Pros:**\n",
    "* Computational cheaper than LOOCV.\n",
    "* Since we use more data to train the model, the variance will be lower than randomly using validation set for k times.\n",
    "* Set aside the computational issue, k-fold often gives more accurate estimates of the test error rate than does LOOCV.\n",
    "\n",
    "How is K-fold better than LOOCV? Bias-Variance tradeoff... Page 183."
   ]
  },
  {
   "cell_type": "markdown",
   "metadata": {},
   "source": [
    "When we fit a boosting model, the higher n_estimator, the higher flexibility for the model is. Therefore, we might want to plot out n_estimators as x, and the cross-validation score as y to see which n_estimator has the lowest estimate test MSE. Therefore, in the following example, we fit a gbm model using different number of iterations, and check the change in CV score in each iteration"
   ]
  },
  {
   "cell_type": "code",
   "execution_count": 105,
   "metadata": {},
   "outputs": [],
   "source": [
    "def plot_train_test_error_kfold(X_train, X_test, y_train, y_test):\n",
    "    \"\"\"\n",
    "    Compare the difference between training and testing error using MSE/R2 by adjusting number of tree built for GBRT.\n",
    "    Here we use K-fold Cross Validation to obtain the estimate of our test MSE.\n",
    "    \"\"\"\n",
    "    train_mse = list()\n",
    "    test_mse = list()\n",
    "    cv_mse = list()\n",
    "    train_r2 = list()\n",
    "    test_r2 = list()\n",
    "    cv_r2 = list()\n",
    "    kfold=10\n",
    "    param_name = 'n_estimators'\n",
    "    options = np.arange(1, 100)\n",
    "    \n",
    "    for n in options:\n",
    "        gbm = GradientBoostingRegressor(n_estimators=n)\n",
    "        gbm.fit(X_train, y_train)\n",
    "\n",
    "        y_train_predict = gbm.predict(X_train)    \n",
    "        train_mse.append(mean_squared_error(y_train, y_train_predict))\n",
    "\n",
    "        cv_mse.append(abs(cross_validation.cross_val_score(gbm, X_train, y_train, scoring='neg_mean_squared_error', cv=kfold).mean()))\n",
    "\n",
    "        y_test_predict = gbm.predict(X_test)    \n",
    "        test_mse.append(mean_squared_error(y_test, y_test_predict))\n",
    "\n",
    "        train_r2.append(gbm.score(X_train, y_train))\n",
    "        test_r2.append(gbm.score(X_test, y_test))\n",
    "\n",
    "        cv_r2.append(model_selection.cross_val_score(gbm, X_train, y_train, cv=kfold).mean())\n",
    "\n",
    "\n",
    "    mean_mse_scores = [train_mse, test_mse, cv_mse]\n",
    "    mse_labels = ['train MSE', 'test MSE', 'cv MSE']       \n",
    "    i_mse_optim = np.argmin(test_mse)\n",
    "    options_mse_optim = options[i_mse_optim]\n",
    "\n",
    "    mean_r2_scores = [train_r2, test_r2, cv_r2]\n",
    "    r2_labels = [\"train R^2\",\"test R^2\",\"cv R^2\"]\n",
    "    i_r2_optim = np.argmax(test_r2)\n",
    "    options_r2_optim = options[i_r2_optim]\n",
    "    \n",
    "    # plot with y axis using MSE\n",
    "    for score, label in zip(mean_mse_scores, mse_labels):\n",
    "        plt.plot(options, score, label = label)\n",
    "\n",
    "    plt.vlines(options_mse_optim, plt.ylim()[0], np.min(test_mse), color='k',\n",
    "           linewidth=3, label='Optimum on test')    \n",
    "    plt.legend()\n",
    "    plt.ylabel('MSE')\n",
    "    plt.xlabel(param_name)\n",
    "    plt.show()\n",
    "    \n",
    "    # plot with y axis using R^2\n",
    "    for score, label in zip(mean_r2_scores, r2_labels):\n",
    "        plt.plot(options, score, label = label)\n",
    "\n",
    "    plt.vlines(options_r2_optim, plt.ylim()[0], np.max(test_r2), color='k',\n",
    "           linewidth=3, label='Optimum on test')   \n",
    "    plt.legend()\n",
    "    plt.ylabel('R^2')\n",
    "    plt.xlabel(param_name)\n",
    "    plt.show()"
   ]
  },
  {
   "cell_type": "code",
   "execution_count": 106,
   "metadata": {},
   "outputs": [
    {
     "data": {
      "image/png": "[encoded data removed]",
      "text/plain": [
       "<matplotlib.figure.Figure at 0x112b47438>"
      ]
     },
     "metadata": {},
     "output_type": "display_data"
    },
    {
     "data": {
      "image/png": "[encoded data removed]",
      "text/plain": [
       "<matplotlib.figure.Figure at 0x11295fcc0>"
      ]
     },
     "metadata": {},
     "output_type": "display_data"
    }
   ],
   "source": [
    "plot_train_test_error_kfold(X_train, X_test, y_train, y_test)"
   ]
  },
  {
   "cell_type": "markdown",
   "metadata": {},
   "source": [
    "From the above plot, we see that train MSE is continuously decreasing while test test MSE slightly goes up when the number of estimator goes up. Meaning that our model is overfitted after n_estimators over some value around 40. Also, we see that the CV score aligns pretty well with our actual test MSE. Before we use test data to test the performance of our model, we can actually rely on CV score to determine which model we should use in order to have the lowest test MSE. "
   ]
  },
  {
   "cell_type": "markdown",
   "metadata": {},
   "source": [
    "## <a id=\"loocv\"> Leave one out Cross Validation (LOOCV) </a>"
   ]
  },
  {
   "cell_type": "markdown",
   "metadata": {},
   "source": [
    "**Summary:** LOOCV is a special case of k-fold CV in which k is set to equal n.\n",
    "\n",
    "**Pros:**\n",
    "* There is no randomness in the training/ validation set splits. Therefore the estimate is not variable.\n",
    "\n",
    "**Cons:**\n",
    "* Expensive to implement, since the model has to be fit n times. If the number of observation is large or the model is slow to fit, using this method can be very time consuming."
   ]
  },
  {
   "cell_type": "markdown",
   "metadata": {},
   "source": [
    "To perform LOOCV, we just need to set the number of fold into the number of observations we have in our training data. It actually take a long time to run. We'll skip the execution of the following code."
   ]
  },
  {
   "cell_type": "code",
   "execution_count": 89,
   "metadata": {},
   "outputs": [],
   "source": [
    "def plot_train_test_error_loocv(X_train, X_test, y_train, y_test):\n",
    "    \"\"\"\n",
    "    Compare the difference between training and testing error using MSE/R2 by adjusting number of tree built for GBRT.\n",
    "    Here we use leave one out Cross Validation to obtain the estimate of our test MSE.\n",
    "    \"\"\"\n",
    "    train_mse = list()\n",
    "    test_mse = list()\n",
    "    cv_mse = list()\n",
    "    train_r2 = list()\n",
    "    test_r2 = list()\n",
    "    cv_r2 = list()\n",
    "    kfold=10\n",
    "    param_name = 'n_estimators'\n",
    "    options = np.arange(1, 100)\n",
    "    \n",
    "    loo = cross_validation.LeaveOneOut(len(y_train))\n",
    "    \n",
    "    for n in options:\n",
    "        gbm = GradientBoostingRegressor(n_estimators=n)\n",
    "        gbm.fit(X_train, y_train)\n",
    "\n",
    "        y_train_predict = gbm.predict(X_train)    \n",
    "        train_mse.append(mean_squared_error(y_train, y_train_predict))\n",
    "\n",
    "        cv_mse.append(abs(cross_validation.cross_val_score(gbm, X_train, y_train, scoring='neg_mean_squared_error', cv=loo).mean()))\n",
    "\n",
    "        y_test_predict = gbm.predict(X_test)    \n",
    "        test_mse.append(mean_squared_error(y_test, y_test_predict))\n",
    "\n",
    "        train_r2.append(gbm.score(X_train, y_train))\n",
    "        test_r2.append(gbm.score(X_test, y_test))\n",
    "\n",
    "        cv_r2.append(model_selection.cross_val_score(gbm, X_train, y_train, cv=loo).mean())\n",
    "\n",
    "\n",
    "    mean_mse_scores = [train_mse, test_mse, cv_mse]\n",
    "    mse_labels = ['train MSE', 'test MSE', 'cv MSE']   \n",
    "\n",
    "    mean_r2_scores = [train_r2, test_r2, cv_r2]\n",
    "    r2_labels = [\"train R^2\",\"test R^2\",\"cv R^2\"]\n",
    "    \n",
    "    # plot with y axis using MSE\n",
    "    for score, label in zip(mean_mse_scores, mse_labels):\n",
    "        plt.plot(options, score, label = label)\n",
    "\n",
    "    plt.legend()\n",
    "    plt.ylabel('MSE')\n",
    "    plt.xlabel(param_name)\n",
    "    plt.show()\n",
    "    \n",
    "    # plot with y axis using R^2\n",
    "    for score, label in zip(mean_r2_scores, r2_labels):\n",
    "        plt.plot(options, score, label = label)\n",
    "\n",
    "    plt.legend()\n",
    "    plt.ylabel('R^2')\n",
    "    plt.xlabel(param_name)\n",
    "    plt.show()"
   ]
  },
  {
   "cell_type": "markdown",
   "metadata": {},
   "source": [
    "## <a id=\"gridsearch\"> Grid Search </a>"
   ]
  },
  {
   "cell_type": "markdown",
   "metadata": {},
   "source": [
    "We can also use [Grid Search](http://scikit-learn.org/stable/modules/generated/sklearn.model_selection.GridSearchCV.html) from sklearn.model_selection to obtain the parameter that generate us the best cv score. We set range of the parameters that we want to search through, and the combination with the highest CV score will be recorded. Below is an example of it:"
   ]
  },
  {
   "cell_type": "code",
   "execution_count": 96,
   "metadata": {},
   "outputs": [
    {
     "name": "stdout",
     "output_type": "stream",
     "text": [
      "Best hyperparameters: {'n_estimators': 98}\n"
     ]
    },
    {
     "data": {
      "image/png": "[encoded data removed]",
      "text/plain": [
       "<matplotlib.figure.Figure at 0x11206ccc0>"
      ]
     },
     "metadata": {},
     "output_type": "display_data"
    }
   ],
   "source": [
    "# set parameter range for GridSearchCV\n",
    "param_name = 'n_estimators'\n",
    "options = np.arange(1, 100)\n",
    "param_grid = {param_name: options}\n",
    "\n",
    "gbm = GradientBoostingRegressor()\n",
    "# this may take some minutes\n",
    "gs_gbm = GridSearchCV(gbm, param_grid)\n",
    "gs_gbm.fit(X_train, y_train)\n",
    "\n",
    "# best hyperparameter setting\n",
    "print('Best hyperparameters: %r' % gs_gbm.best_params_)\n",
    "\n",
    "# get the mean R^2 for all the folds, in this case, 100.\n",
    "gs_gbm_mean_score = gs_gbm.cv_results_['mean_test_score']\n",
    "\n",
    "# plot out the result with x as n_estimators and y as R^2.\n",
    "plt.plot(options, gs_gbm_mean_score)\n",
    "plt.ylabel('R^2')\n",
    "plt.xlabel(param_name)\n",
    "plt.show()"
   ]
  },
  {
   "cell_type": "markdown",
   "metadata": {},
   "source": [
    "Notice that Grid Search pick the number which has the highest CV score, which in this case is R^2. The n_estimator number Grid Search pick using CV score is 98, which is a lot higher than the previous n_estimators we saw using the actual test data, which is around 40. \n",
    "\n",
    "However, when we don't have a test data with us. Using cross validation score to pick the best n_estimators number seems to be our only choice for now."
   ]
  },
  {
   "cell_type": "markdown",
   "metadata": {},
   "source": [
    "**We can set the parameter to fit our final model using the following command.**"
   ]
  },
  {
   "cell_type": "code",
   "execution_count": 98,
   "metadata": {},
   "outputs": [
    {
     "data": {
      "text/plain": [
       "GradientBoostingRegressor(alpha=0.9, criterion='friedman_mse', init=None,\n",
       "             learning_rate=0.1, loss='ls', max_depth=3, max_features=None,\n",
       "             max_leaf_nodes=None, min_impurity_decrease=0.0,\n",
       "             min_impurity_split=None, min_samples_leaf=1,\n",
       "             min_samples_split=2, min_weight_fraction_leaf=0.0,\n",
       "             n_estimators=98, presort='auto', random_state=None,\n",
       "             subsample=1.0, verbose=0, warm_start=False)"
      ]
     },
     "execution_count": 98,
     "metadata": {},
     "output_type": "execute_result"
    }
   ],
   "source": [
    "# refit model on best parameters\n",
    "gbm.set_params(**gs_gbm.best_params_)\n",
    "gbm.fit(X_train, y_train)\n"
   ]
  },
  {
   "cell_type": "markdown",
   "metadata": {},
   "source": [
    "**Predict the final result**"
   ]
  },
  {
   "cell_type": "code",
   "execution_count": 102,
   "metadata": {},
   "outputs": [
    {
     "data": {
      "text/plain": [
       "array([ 5.56218169,  6.28635755,  5.49330293,  6.10269198,  5.65476195,\n",
       "        5.46981983,  6.52166422,  5.45564734,  5.24649586])"
      ]
     },
     "execution_count": 102,
     "metadata": {},
     "output_type": "execute_result"
    }
   ],
   "source": [
    "gbm.predict(X_test)[1:10]"
   ]
  },
  {
   "cell_type": "markdown",
   "metadata": {},
   "source": [
    "## <a id=\"oob\"> Out of Bag Estimate for Bagging </a>"
   ]
  },
  {
   "cell_type": "markdown",
   "metadata": {},
   "source": [
    "In bagging, it turns out we can use another technique called **Out of Bag Error Estimation** to estimate the test error. Originally, if we also want to use cross validation to estimate the test error of our training data set, performing bagging on large data sets would be computationally expensive. Let's assume we want to use 10-fold cross validation and bootstrap 21 training data set when building a model. In this case, for each fold we'll need to build 21 models, i.e, we train our method on the **bth** bootstrapped training set in order to get our estimated function, denoted by $\\hat{f}^b(x)$. We then get our final prediction using the average of the predictions from each model, $\\hat{f}^1(x), \\hat{f}^2(x), \\dots \\hat{f}^{21}(x)$. Therefore, totally we will need to build $21 \\times 10 = 210$ models in order to get an estimation of the test error. \n",
    "\n",
    "It turns out that we can actually get our test error estimation for a bagged model in an intuitively way. Since we know that in bagging, essentially we fit our model on a subset of the original training data set. For illustration purpose, let's say in each subset, we randomly use 2/3 of the original data set, and we totally take 21 bootstrapped training sets. For the $i_{th}$ observation, it will be in the training set in 14 of the bootstrapped training sets. We can predict the response for the $i_{th}$ observation using each of the trees in which that observation was out ob bag (OOB). This will yield around 7 predictions for the $i_{th}$ observation. To obtain a single prediction, we can average these predicted responses for regresssion tree or can take a mojority vote for classification tree. By using **Out of Bag Error Estimation**, we will only need to build 21 models but still get a fairly good estimation of the test error. It is particularly convenient when performing bagging on large data sets. \n"
   ]
  },
  {
   "cell_type": "code",
   "execution_count": 150,
   "metadata": {},
   "outputs": [],
   "source": [
    "def plot_train_test_error_oob(X_train, X_test, y_train, y_test):\n",
    "    \"\"\"\n",
    "    Compare the difference between training and testing error using MSE/R2 by adjusting number of tree built for GBRT.\n",
    "    Here we use K-fold Cross Validation to obtain the estimate of our test MSE.\n",
    "    \"\"\"\n",
    "    train_mse = list()\n",
    "    test_mse = list()\n",
    "    oob_mse = list()\n",
    "\n",
    "    seed = 7\n",
    "    num_trees = 100    \n",
    "    param_name = 'n_estimators'\n",
    "    options = np.arange(15, 100)\n",
    "    \n",
    "    for n in options:\n",
    "        # fit random forest using different n_estimator, i.e., the number of trees that we fit each time for bagging.\n",
    "        rf = RandomForestRegressor(n_estimators=n, oob_score=True, warm_start=True, random_state=seed)\n",
    "        rf.fit(X_train, y_train)\n",
    "        \n",
    "        # get train mse\n",
    "        train_mse.append(1-rf.score(X_train, y_train))\n",
    "        \n",
    "        # get test mse\n",
    "        test_mse.append(1-rf.score(X_test, y_test))\n",
    "\n",
    "        # get oob estimates\n",
    "        oob_mse.append(1-rf.oob_score_.mean())\n",
    "\n",
    "    mean_mse_scores = [train_mse, test_mse, oob_mse]\n",
    "    mse_labels = ['train MSE', 'test MSE', 'oob MSE']       \n",
    "    i_mse_optim = np.argmin(test_mse)\n",
    "    options_mse_optim = options[i_mse_optim]\n",
    "\n",
    "    \n",
    "    # plot with y axis using MSE\n",
    "    for score, label in zip(mean_mse_scores, mse_labels):\n",
    "        plt.plot(options, score, label = label)\n",
    "\n",
    "    plt.vlines(options_mse_optim, plt.ylim()[0], np.min(test_mse), color='k',\n",
    "           linewidth=3, label='Optimum on test')    \n",
    "    plt.legend()\n",
    "    plt.ylabel('OOB Error Rate=1-R^2')\n",
    "    plt.xlabel(param_name)\n",
    "    plt.show()\n",
    "    return(train_mse, test_mse, oob_mse)"
   ]
  },
  {
   "cell_type": "code",
   "execution_count": 151,
   "metadata": {},
   "outputs": [
    {
     "data": {
      "image/png": "[encoded data removed]",
      "text/plain": [
       "<matplotlib.figure.Figure at 0x113366588>"
      ]
     },
     "metadata": {},
     "output_type": "display_data"
    }
   ],
   "source": [
    "train_mse, test_mse, oob_mse= plot_train_test_error_oob(X_train, X_test, y_train, y_test)"
   ]
  },
  {
   "cell_type": "markdown",
   "metadata": {},
   "source": [
    "From the above plot, we see that random forest is a relatively steady approach for our data. The algorithm gives us a low train MSE even with small n_estimators.\n",
    "\n",
    "The test MSE doesn't decrease much when n_estimator goes higher. We see that like CV score, OOB error rate, which is defined by 1 - R^2, estimate our test MSE pretty well when n_estimators goes larger. We notice that when n_estimators is small, our oob error rate overestimate the test MSE. It is due to the fact that when n_estimators is small, for example, when n=2. It means we only build 2 full trees when building a random forest. Assume we have 100 observations and the subsample rate is 0.7, we predict the response for the ith observation using only 1 tree in which that observation was out ob bag (OOB). The reason for overestimate is the same as using Validation set to obtain the estimate test MSE. Since for each tree we use fewer training data to build our full tree, it is not surprised that we will have a weaker prediction. In other words, it is not the model's fault, it is because we use fewer data to fit the model that result in a worse estimate of the test MSE. "
   ]
  },
  {
   "cell_type": "markdown",
   "metadata": {},
   "source": [
    "### Reference\n",
    "* [Plot train error vs test error](http://scikit-learn.org/stable/auto_examples/model_selection/plot_train_error_vs_test_error.html)\n",
    "* [Sklearn: Underfitting vs. Overfitting](http://scikit-learn.org/stable/auto_examples/model_selection/plot_underfitting_overfitting.html#sphx-glr-auto-examples-model-selection-plot-underfitting-overfitting-py)\n",
    "* [Sklearn: OOB Errors for Random Forests](http://scikit-learn.org/stable/auto_examples/ensemble/plot_ensemble_oob.html)"
   ]
  }
 ],
 "metadata": {
  "kernelspec": {
   "display_name": "Python 3",
   "language": "python",
   "name": "python3"
  },
  "language_info": {
   "codemirror_mode": {
    "name": "ipython",
    "version": 3
   },
   "file_extension": ".py",
   "mimetype": "text/x-python",
   "name": "python",
   "nbconvert_exporter": "python",
   "pygments_lexer": "ipython3",
   "version": "3.6.2"
  }
 },
 "nbformat": 4,
 "nbformat_minor": 2
}
