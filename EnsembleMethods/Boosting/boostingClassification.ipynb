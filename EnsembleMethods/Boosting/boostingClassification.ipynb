{
 "cells": [
  {
   "cell_type": "markdown",
   "metadata": {},
   "source": [
    "# Gradient Boosting Machine for Classification"
   ]
  },
  {
   "cell_type": "markdown",
   "metadata": {},
   "source": [
    "Table of Content:\n",
    "\n",
    "* [Boosting Methodology for Classification](#methodology)\n",
    "\n",
    "* [Gradient Boosting Machine for Classification](#model)\n",
    "\n",
    "* [Examples of Gradient Boosting Machine for Classification](#example)"
   ]
  },
  {
   "cell_type": "markdown",
   "metadata": {},
   "source": [
    "---"
   ]
  },
  {
   "cell_type": "markdown",
   "metadata": {},
   "source": [
    "## <a id='methodology'>Boosting Methodology for Classification</a>"
   ]
  },
  {
   "cell_type": "markdown",
   "metadata": {},
   "source": [
    "Outline\n",
    "* Change loss function into cross entropy\n",
    "* Calculate the probability of cross entropy using Softmax function\n",
    "* Get the partial derivative of the overall loss function J\n",
    "* The gradient descent function of GBM classification"
   ]
  },
  {
   "cell_type": "markdown",
   "metadata": {},
   "source": [
    "Continued our previous discussion on [Gradient Boosting Machine for Regression](http://nbviewer.jupyter.org/github/johnnychiuchiu/Machine-Learning/blob/master/EnsembleMethods/Boosting/boosting.ipynb), the overall process for building a GBRT is as follows.\n",
    "1. use response as the original resudual\n",
    "\n",
    "2. Iterate until converge\n",
    "\n",
    "    2.1 fit a model h, using X and residual. For GBRT, the model we use is Decision Tree. Note that we will denoted our first model as F in step 2.2\n",
    "    \n",
    "    2.2 Using the shrinkage parameter and the model h to update on the residual. The updated residual is calculated as $residual = residual - shrinkage \\times h.predict(X)$. The model we built until this step is $F:= F + \\rho * h$.\n",
    "    \n",
    "Note:\n",
    "* The number of tree we generates is the number of iterations in the second step. In the second step, when building a model on residual, it is essentially the same as build a model on negative gradient. That's why it is called gradient boosting machine.\n",
    "* Also, the final model $F$, is the addition of all the models generates in each iteration. For example, if our number of iteration is 100, when making a prediction, we will need to firstly make prediction using the first model, and the predicted output from the first model will be $shrinkage \\times \\text{predicted output}$. The final prediction will be the sum of $shrinkage \\times \\text{predicted output}$ using the same X."
   ]
  },
  {
   "cell_type": "markdown",
   "metadata": {},
   "source": [
    "**Cross Entropy & Softmax Function**"
   ]
  },
  {
   "cell_type": "markdown",
   "metadata": {},
   "source": [
    "We can also use Gradient Boosting Machine for Classification problems. When doing gradient boosting, we are trying to minimize our overall cost function by using gradient descent. Gradient descent is executed by fitting a model on residual in each iteration. We have shown that if we use least square as the loss function, fitting a model on residual is essentially the same as fitting a model on negative gradient.\n",
    "\n",
    "For classification, instead of using least square as the loss function, we will introduce another loss function called cross entropy, it is a way to capture the distance between two probability vectors. The smaller the cross entropy of the two vectors is, the nearer the distance is. Also, we will need another function called Softmax function, which turns a vector of scores into probabilities that sum up to 1. \n",
    "\n",
    "Once again, the same as GBRT, our overall loss function is defined as:\n",
    "$$J = \\sum_{i}^{n} L(y_i, F(x_i))$$\n",
    "\n",
    "For each observation, we will calculate the loss by cross entropy. If we have two vectors, one is $y_k$, which is a dummy indicator of the response variable that takes the value of 1 if the ith observation belongs to class k and 0 otherwise; another is $p(x_i)$, which is a vector of length k with each element, denoted as $p_k(x_i)$, represent the probability of the observation $x_i$ belong to class k, then the formula is as follow:\n",
    "\n",
    "$$L(y_i, p(x_i)) = - \\sum_{k=1}^{K}y_k log(p_k(x_i))$$\n",
    "\n",
    "Another question in mind is: How do we get the predicted probability of each class for each observation? As mentioned earlier, we use [Softmax function](https://en.wikipedia.org/wiki/Softmax_function) to help us. It is defined as follows:\n",
    "\n",
    "$$p_k(x_i) = \\frac{e^{score_k(x_i)}}{\\sum_{j=1}^{K} e^{score_j(x_i)}}$$\n",
    "\n",
    "Let's give an example of Softmax function using simple numbers."
   ]
  },
  {
   "cell_type": "code",
   "execution_count": 2,
   "metadata": {},
   "outputs": [],
   "source": [
    "import math\n",
    "def mySoftmax(z):\n",
    "    \"\"\"Transform list of numbers into list of probabilities using Softmax function\"\"\"\n",
    "    z_exp = [math.exp(i) for i in z]\n",
    "    sum_z_exp = sum(z_exp)\n",
    "\n",
    "    softmax = [round(i / sum_z_exp, 3) for i in z_exp]\n",
    "    return(softmax)"
   ]
  },
  {
   "cell_type": "code",
   "execution_count": 3,
   "metadata": {},
   "outputs": [
    {
     "name": "stdout",
     "output_type": "stream",
     "text": [
      "[0.024, 0.064, 0.175, 0.475, 0.024, 0.064, 0.175]\n"
     ]
    }
   ],
   "source": [
    "z = [1.0, 2.0, 3.0, 4.0, 1.0, 2.0, 3.0]\n",
    "print(mySoftmax(z))"
   ]
  },
  {
   "cell_type": "markdown",
   "metadata": {},
   "source": [
    "## <a id='model'>Gradient Boosting Machine for Classification</a>"
   ]
  },
  {
   "cell_type": "markdown",
   "metadata": {},
   "source": [
    "In this paragraph, we are going to firstly introduce the overall process of Gradient Boosting Machine for Classification. We will see that the underlying algorithm is still a regression tree. Afterwards, we are going to explain the reason behind it in detail."
   ]
  },
  {
   "cell_type": "markdown",
   "metadata": {},
   "source": [
    "Let's assume our toy example with target value Y is [1,1,2,1]. We denote our train data as X, with a shape of 4*3, i.e., 4 observations with 3 features."
   ]
  },
  {
   "cell_type": "code",
   "execution_count": 43,
   "metadata": {},
   "outputs": [
    {
     "name": "stdout",
     "output_type": "stream",
     "text": [
      "X \n",
      "\n",
      "   feature1  feature2  feature3\n",
      "0         1         2         1\n",
      "1         2         2         2\n",
      "2         3         7         3\n",
      "3         2         3         1\n",
      "\n",
      "\n",
      "y \n",
      "\n",
      "0    1\n",
      "1    1\n",
      "2    2\n",
      "3    1\n",
      "dtype: int64\n"
     ]
    }
   ],
   "source": [
    "import pandas as pd\n",
    "import numpy as np\n",
    "y=pd.Series([1,1,2,1])\n",
    "X=pd.DataFrame({'feature1': [1,2,3,2],\n",
    "               'feature2': [2,2,7,3],\n",
    "               'feature3': [1,2,3,1]})\n",
    "print(\"X \\n\")\n",
    "print(X)\n",
    "print(\"\\n\")\n",
    "\n",
    "print(\"y \\n\")\n",
    "print(y)"
   ]
  },
  {
   "cell_type": "markdown",
   "metadata": {},
   "source": [
    "**Step 1**"
   ]
  },
  {
   "cell_type": "markdown",
   "metadata": {},
   "source": [
    "We transform our Y using One hot encoder, in this case, each element of Y will be a dummy indicator of the response variable that takes the value of 1 if the ith observation belongs to class k and 0 otherwise.\n",
    "\n",
    "```\n",
    "[ 1.,  0.],\n",
    "[ 1.,  0.],\n",
    "[ 0.,  1.],\n",
    "[ 1.,  0.]\n",
    "```"
   ]
  },
  {
   "cell_type": "markdown",
   "metadata": {},
   "source": [
    "**Step 2**"
   ]
  },
  {
   "cell_type": "markdown",
   "metadata": {},
   "source": [
    "We start out with a predicted probability that is uniform over all classes, i.e., $p_k(x_i)$= 1/(#unique class). The probabilty of each observation to be each class is the same across all the observations.  \n",
    "\n",
    "```\n",
    "[ 0.5,  0.5],\n",
    "[ 0.5,  0.5],\n",
    "[ 0.5,  0.5],\n",
    "[ 0.5,  0.5]\n",
    "```"
   ]
  },
  {
   "cell_type": "markdown",
   "metadata": {},
   "source": [
    "**Step 3**"
   ]
  },
  {
   "cell_type": "markdown",
   "metadata": {},
   "source": [
    "We calculate the initial residual as the difference between the predicted probability and the class label. The gradient is the difference between the associated dummy variable and the predicted probability of belonging to that class. This is essentially the \"residuals\" from the classification gradient boosting\n",
    "\n",
    "\n",
    "```\n",
    "[ 0.5, -0.5],\n",
    "[ 0.5, -0.5],\n",
    "[-0.5,  0.5],\n",
    "[ 0.5, -0.5]\n",
    "```"
   ]
  },
  {
   "cell_type": "markdown",
   "metadata": {},
   "source": [
    "Iterate **Step 4** until convergence\n",
    "\n",
    "**Step 4.1**"
   ]
  },
  {
   "cell_type": "markdown",
   "metadata": {},
   "source": [
    "Fit a regression tree model for each class using X and the residual for that class. "
   ]
  },
  {
   "cell_type": "markdown",
   "metadata": {},
   "source": [
    "**Step 4.2**"
   ]
  },
  {
   "cell_type": "markdown",
   "metadata": {},
   "source": [
    "Predict the score of X using the h calculated for each class. Using the shrinkage parameter and the model h to update on the residual for each class. The updated residual is calculated as $residual = residual - shrinkage \\times h.predict(X)$. The model we built until this step is $F:= F + \\rho * h$.\n",
    "    \n",
    "\n",
    "\n",
    "\n"
   ]
  },
  {
   "cell_type": "markdown",
   "metadata": {},
   "source": [
    "Notice that \n",
    "* the overall process of training a regression tree has still not changed, only now we must deal with the dummy variables, $y_k$ and fit a regression tree on the negative gradient for each dummy variable. In our sample above, we have $y_1$ =[1,1,0,1] and $y_2$=[0,0,1,0]\n",
    "\n",
    "* When making a prediction using testing dataset, we will need to apply all the trees that we build in each iteration for each class. For example, in our example, we have 2 class and suppose we only run 10 iterations. We'll have 2*10=20 tree being built up in the model building process. The tree built up in iteration 1 for class 1 is used to calcuate the probability of every observation belong to class 1. The the predicted output from the first iteration will be $shrinkage \\times \\text{predicted output}$ for each class. The raw prediction will be the sum of $shrinkage \\times \\text{predicted output}$ using the same X for each class. To obtain the final prediction, we will need to apply softmax function to make the prediction of each class for each observation summing up to 1.\n",
    "\n",
    "For example, the raw prediction can be something like\n",
    "```\n",
    "[ 0.49984154, -0.49984154],\n",
    "[ 0.49984154, -0.49984154],\n",
    "[-0.49952463,  0.49952463],\n",
    "[ 0.49984154, -0.49984154]\n",
    "```\n",
    "\n",
    "The first list represent the raw probabilty of 1st observation being in each class. After applying softmax function to each list, we get:\n",
    "\n",
    "```\n",
    "[ 0.73099627,  0.26900373],\n",
    "[ 0.73099627,  0.26900373],\n",
    "[ 0.26912839,  0.73087161],\n",
    "[ 0.73099627,  0.26900373]\n",
    "```\n",
    "\n"
   ]
  },
  {
   "cell_type": "markdown",
   "metadata": {},
   "source": [
    "**Some question in mind:**"
   ]
  },
  {
   "cell_type": "markdown",
   "metadata": {},
   "source": [
    "* Why do we build our regression tree model on the \"residual\", which is defined by the difference between predicted probability and the dummy vector? What's the relationship of the residual to gradient descent?\n",
    "\n",
    "> We can show that if the overall loss function is the sum of all the cross entropies, then the partial derivative of J is equals to \"residual\". That's why we use the build models on residual in each iteration. The derivation is [here](https://math.stackexchange.com/questions/945871/derivative-of-softmax-loss-function)."
   ]
  },
  {
   "cell_type": "markdown",
   "metadata": {},
   "source": [
    "## <a id='example'>Examples of Gradient Boosting Machine for Classification</a>"
   ]
  },
  {
   "cell_type": "code",
   "execution_count": 188,
   "metadata": {},
   "outputs": [],
   "source": [
    "%matplotlib inline\n",
    "from sklearn import model_selection\n",
    "from sklearn.ensemble import GradientBoostingClassifier\n",
    "from sklearn import metrics\n",
    "import matplotlib.pyplot as plt"
   ]
  },
  {
   "cell_type": "markdown",
   "metadata": {},
   "source": [
    "In practice, when fitting a GBM classifier, the most important parameters are similar to GBM Regressor:\n",
    "\n",
    "* **n_estimators**: The number of boosting stages to perform. One of the most important parameter.\n",
    "* **max_depth**: Depth of each individual tree. One of the most important parameter. \n",
    "* **loss**: Loss function. One of the most important parameter.\n",
    "* **learning_rate**: default=0.1. learning rate shrinks the contribution of each tree by learning_rate. There is a trade-off between learning_rate and n_estimators. This parameter is the the shrinkage parameter **$\\rho$** mentioned prevoisly.\n",
    "* **min_samples_split**: The minimum number of samples required to split an internal node.\n",
    "* **min_samples_leaf**: The minimum number of samples required to be at a leaf node.\n",
    "* **subsample**: The fraction of samples to be used for fitting the individual base learners. If smaller than 1.0 this results in Stochastic Gradient Boosting. subsample interacts with the parameter n_estimators. Choosing subsample < 1.0 leads to a reduction of variance and an increase in bias.\n",
    "* **max_features**: The number of features to consider when looking for the best split. Choosing max_features < n_features leads to a reduction of variance and an increase in bias. The idea of choosing max_features < n_features is the same as random forest.\n",
    "* **min_impurity_decrease**: A node will be split if this split induces a decrease of the impurity greater than or equal to this value. Default 0.\n",
    "\n",
    "Some parameter that we wouldn't change are:\n",
    "* **criterion**: The function to measure the quality of a split. Supported criteria are “friedman_mse” for the mean squared error with improvement score by Friedman, “mse” for mean squared error, and “mae” for the mean absolute error. The default value of “friedman_mse” is generally the best as it can provide a better approximation in some cases.\n"
   ]
  },
  {
   "cell_type": "code",
   "execution_count": 227,
   "metadata": {},
   "outputs": [],
   "source": [
    "def evaluate_classification_binary(y_test, y_pred):\n",
    "    \"\"\" A function that calculate all the evaluation metrics for classification problems. \"\"\" \n",
    "    \n",
    "    fpr, tpr, thresholds = metrics.roc_curve(y_test, y_pred)\n",
    "    \n",
    "    return {'Confusion Matrix': metrics.confusion_matrix(y_test, y_pred),\n",
    "           'accuracy': metrics.accuracy_score(y_test, y_pred),\n",
    "           'precision_score': metrics.precision_score(y_test, y_pred),\n",
    "           'recall_score': metrics.recall_score(y_test, y_pred),\n",
    "           'f1_score': metrics.f1_score(y_test, y_pred),\n",
    "           'auc': metrics.auc(fpr, tpr)}"
   ]
  },
  {
   "cell_type": "code",
   "execution_count": 210,
   "metadata": {},
   "outputs": [],
   "source": [
    "def viz_importance(model, feature_names, n_features):\n",
    "    \"\"\"Print out the relative importance of predictors\"\"\"\n",
    "    \n",
    "    if hasattr(model, 'feature_importances_'):\n",
    "        importances = model.feature_importances_\n",
    "    else:        \n",
    "        importances = np.mean([tree.feature_importances_ \n",
    "                                       for tree in model.estimators_], axis=0)\n",
    "    \n",
    "    idx = np.argsort(importances)[::-1]\n",
    "    names = feature_names[idx]\n",
    "    scores = importances[idx]\n",
    "    \n",
    "    if hasattr(model, 'estimators_'):\n",
    "        tree_importances = np.asarray([tree[0].feature_importances_\n",
    "                                       for tree in model.estimators_])\n",
    "        importances_std = np.std(tree_importances, axis = 0)\n",
    "        scores_std = importances_std[idx]            \n",
    "    \n",
    "    print(\"Feature ranking:\")\n",
    "    for i in range(X.shape[1]):        \n",
    "        print(\"%d. feature %s (%f, var(%f))\" % (i + 1, names[i], scores[i], scores_std[i]))\n",
    "    \n",
    "    y_pos = np.arange(1, n_features + 1)\n",
    "    plt.barh(y_pos, scores[::-1], align = 'center', xerr = scores_std[::-1])\n",
    "    plt.yticks(y_pos, names[::-1])\n",
    "    plt.xlabel('Importance')\n",
    "    plt.title('Feature Importance Plot')   \n",
    "    plt.show()"
   ]
  },
  {
   "cell_type": "code",
   "execution_count": 205,
   "metadata": {},
   "outputs": [],
   "source": [
    "def fit_boosting_with_cv(X_train, y_train):\n",
    "    \"\"\"Gradient Boosting Machine for Classification\"\"\"\n",
    "    seed = 7   \n",
    "    num_trees = 100\n",
    "    kfold = model_selection.KFold(n_splits=10, random_state=seed)\n",
    "    model = GradientBoostingClassifier(n_estimators=num_trees, random_state=seed)\n",
    "    results = model_selection.cross_val_score(model, X_train, y_train, cv=kfold)\n",
    "    print(results.mean())\n",
    "    \n",
    "    model.fit(X_train, y_train)\n",
    "    \n",
    "    return(model)"
   ]
  },
  {
   "cell_type": "markdown",
   "metadata": {},
   "source": [
    "### Example for Binary Classification Problem"
   ]
  },
  {
   "cell_type": "markdown",
   "metadata": {},
   "source": [
    "**Read Data**"
   ]
  },
  {
   "cell_type": "markdown",
   "metadata": {},
   "source": [
    "We are going to use the [Pima Indians onset of Diabetes dataset](https://archive.ics.uci.edu/ml/datasets/Pima+Indians+Diabetes). It is a binary classficaiton problem."
   ]
  },
  {
   "cell_type": "code",
   "execution_count": 202,
   "metadata": {},
   "outputs": [],
   "source": [
    "url = \"https://archive.ics.uci.edu/ml/machine-learning-databases/pima-indians-diabetes/pima-indians-diabetes.data\"\n",
    "names = ['preg', 'plas', 'pres', 'skin', 'test', 'mass', 'pedi', 'age', 'class']\n",
    "dataframe = pd.read_csv(url, names=names)\n",
    "array = dataframe.values\n",
    "X = array[:,0:8]\n",
    "Y = array[:,-1]"
   ]
  },
  {
   "cell_type": "markdown",
   "metadata": {},
   "source": [
    "**Make Train and Test Data**"
   ]
  },
  {
   "cell_type": "code",
   "execution_count": 203,
   "metadata": {},
   "outputs": [],
   "source": [
    "X_train, X_test, y_train, y_test = model_selection.train_test_split(X, Y, test_size=0.33, random_state=42)"
   ]
  },
  {
   "cell_type": "code",
   "execution_count": 204,
   "metadata": {},
   "outputs": [
    {
     "name": "stdout",
     "output_type": "stream",
     "text": [
      "(514, 8)\n",
      "(254, 8)\n",
      "(514,)\n",
      "(254,)\n"
     ]
    }
   ],
   "source": [
    "print(X_train.shape)\n",
    "print(X_test.shape)\n",
    "print(y_train.shape)\n",
    "print(y_test.shape)"
   ]
  },
  {
   "cell_type": "markdown",
   "metadata": {},
   "source": [
    "**Fit Model**"
   ]
  },
  {
   "cell_type": "code",
   "execution_count": 206,
   "metadata": {},
   "outputs": [
    {
     "name": "stdout",
     "output_type": "stream",
     "text": [
      "0.764630467572\n"
     ]
    }
   ],
   "source": [
    "model = fit_boosting_with_cv(X_train, y_train)"
   ]
  },
  {
   "cell_type": "markdown",
   "metadata": {},
   "source": [
    "**Make Prediction & Evaluation**"
   ]
  },
  {
   "cell_type": "code",
   "execution_count": 207,
   "metadata": {},
   "outputs": [
    {
     "data": {
      "text/plain": [
       "0.0    162\n",
       "1.0     92\n",
       "dtype: int64"
      ]
     },
     "execution_count": 207,
     "metadata": {},
     "output_type": "execute_result"
    }
   ],
   "source": [
    "y_pred = model.predict(X_test)\n",
    "pd.Series(y_pred).value_counts()"
   ]
  },
  {
   "cell_type": "code",
   "execution_count": 209,
   "metadata": {},
   "outputs": [
    {
     "data": {
      "text/plain": [
       "{'Confusion Matrix': array([[131,  37],\n",
       "        [ 31,  55]]),\n",
       " 'accuracy': 0.73228346456692917,\n",
       " 'auc': 0.70964839424141746,\n",
       " 'f1_score': 0.6179775280898876,\n",
       " 'precision_score': 0.59782608695652173,\n",
       " 'recall_score': 0.63953488372093026}"
      ]
     },
     "execution_count": 209,
     "metadata": {},
     "output_type": "execute_result"
    }
   ],
   "source": [
    "evaluate_classification_binary(y_test, y_pred)"
   ]
  },
  {
   "cell_type": "markdown",
   "metadata": {},
   "source": [
    "**Feature Importance**"
   ]
  },
  {
   "cell_type": "code",
   "execution_count": 211,
   "metadata": {},
   "outputs": [
    {
     "name": "stdout",
     "output_type": "stream",
     "text": [
      "Feature ranking:\n",
      "1. feature plas (0.232535, var(0.213334))\n",
      "2. feature pedi (0.183005, var(0.224189))\n",
      "3. feature mass (0.143236, var(0.133171))\n",
      "4. feature age (0.137555, var(0.136614))\n",
      "5. feature preg (0.090516, var(0.136693))\n",
      "6. feature pres (0.077394, var(0.119008))\n",
      "7. feature skin (0.068498, var(0.146230))\n",
      "8. feature test (0.067260, var(0.107529))\n"
     ]
    },
    {
     "data": {
      "image/png": "[encoded data removed]",
      "text/plain": [
       "<matplotlib.figure.Figure at 0x10e3e1390>"
      ]
     },
     "metadata": {},
     "output_type": "display_data"
    }
   ],
   "source": [
    "viz_importance(model, dataframe.columns[0:8], X.shape[1])"
   ]
  },
  {
   "cell_type": "markdown",
   "metadata": {},
   "source": [
    "In this case, feature importance is the average decrease in MSE due to spliting over a given predictor, averaged over the number of trees, which equals the value of the parameter n_estimators.\n",
    "\n",
    "In the plot above, we see that `pedi` has the highest mean feature importance. However, we see that the variance of all the feature importance are very large. It seems weird at the first look, but it actually make sense after a second thought. We could imagine the importance to change with different amount of iterations as well as different combinations of features. It would make sense to have variable importance change with using different features and over boosting iterations. In some iteration, weak features might outperform a single strong features. In other words, boosting will change its focus during iterations. That's why we see the variance is so large for all of our features."
   ]
  },
  {
   "cell_type": "markdown",
   "metadata": {},
   "source": [
    "### Example for Multiple Label Classification Problem"
   ]
  },
  {
   "cell_type": "markdown",
   "metadata": {},
   "source": [
    "To implement gradient boosting for multiple label classification, we are going to use the [Wine Quality Data Set](https://archive.ics.uci.edu/ml/datasets/wine+quality). You can download the data from this [link](https://archive.ics.uci.edu/ml/machine-learning-databases/wine-quality/winequality-red.csv). The goal is to model wine quality based on the features we have in the dataset."
   ]
  },
  {
   "cell_type": "markdown",
   "metadata": {},
   "source": [
    "**Read Data**"
   ]
  },
  {
   "cell_type": "code",
   "execution_count": 230,
   "metadata": {},
   "outputs": [
    {
     "data": {
      "text/html": [
       "<div>\n",
       "<style>\n",
       "    .dataframe thead tr:only-child th {\n",
       "        text-align: right;\n",
       "    }\n",
       "\n",
       "    .dataframe thead th {\n",
       "        text-align: left;\n",
       "    }\n",
       "\n",
       "    .dataframe tbody tr th {\n",
       "        vertical-align: top;\n",
       "    }\n",
       "</style>\n",
       "<table border=\"1\" class=\"dataframe\">\n",
       "  <thead>\n",
       "    <tr style=\"text-align: right;\">\n",
       "      <th></th>\n",
       "      <th>fixed acidity</th>\n",
       "      <th>volatile acidity</th>\n",
       "      <th>citric acid</th>\n",
       "      <th>residual sugar</th>\n",
       "      <th>chlorides</th>\n",
       "      <th>free sulfur dioxide</th>\n",
       "      <th>total sulfur dioxide</th>\n",
       "      <th>density</th>\n",
       "      <th>pH</th>\n",
       "      <th>sulphates</th>\n",
       "      <th>alcohol</th>\n",
       "      <th>quality</th>\n",
       "    </tr>\n",
       "  </thead>\n",
       "  <tbody>\n",
       "    <tr>\n",
       "      <th>0</th>\n",
       "      <td>7.4</td>\n",
       "      <td>0.70</td>\n",
       "      <td>0.00</td>\n",
       "      <td>1.9</td>\n",
       "      <td>0.076</td>\n",
       "      <td>11.0</td>\n",
       "      <td>34.0</td>\n",
       "      <td>0.9978</td>\n",
       "      <td>3.51</td>\n",
       "      <td>0.56</td>\n",
       "      <td>9.4</td>\n",
       "      <td>5</td>\n",
       "    </tr>\n",
       "    <tr>\n",
       "      <th>1</th>\n",
       "      <td>7.8</td>\n",
       "      <td>0.88</td>\n",
       "      <td>0.00</td>\n",
       "      <td>2.6</td>\n",
       "      <td>0.098</td>\n",
       "      <td>25.0</td>\n",
       "      <td>67.0</td>\n",
       "      <td>0.9968</td>\n",
       "      <td>3.20</td>\n",
       "      <td>0.68</td>\n",
       "      <td>9.8</td>\n",
       "      <td>5</td>\n",
       "    </tr>\n",
       "    <tr>\n",
       "      <th>2</th>\n",
       "      <td>7.8</td>\n",
       "      <td>0.76</td>\n",
       "      <td>0.04</td>\n",
       "      <td>2.3</td>\n",
       "      <td>0.092</td>\n",
       "      <td>15.0</td>\n",
       "      <td>54.0</td>\n",
       "      <td>0.9970</td>\n",
       "      <td>3.26</td>\n",
       "      <td>0.65</td>\n",
       "      <td>9.8</td>\n",
       "      <td>5</td>\n",
       "    </tr>\n",
       "    <tr>\n",
       "      <th>3</th>\n",
       "      <td>11.2</td>\n",
       "      <td>0.28</td>\n",
       "      <td>0.56</td>\n",
       "      <td>1.9</td>\n",
       "      <td>0.075</td>\n",
       "      <td>17.0</td>\n",
       "      <td>60.0</td>\n",
       "      <td>0.9980</td>\n",
       "      <td>3.16</td>\n",
       "      <td>0.58</td>\n",
       "      <td>9.8</td>\n",
       "      <td>6</td>\n",
       "    </tr>\n",
       "    <tr>\n",
       "      <th>4</th>\n",
       "      <td>7.4</td>\n",
       "      <td>0.70</td>\n",
       "      <td>0.00</td>\n",
       "      <td>1.9</td>\n",
       "      <td>0.076</td>\n",
       "      <td>11.0</td>\n",
       "      <td>34.0</td>\n",
       "      <td>0.9978</td>\n",
       "      <td>3.51</td>\n",
       "      <td>0.56</td>\n",
       "      <td>9.4</td>\n",
       "      <td>5</td>\n",
       "    </tr>\n",
       "  </tbody>\n",
       "</table>\n",
       "</div>"
      ],
      "text/plain": [
       "   fixed acidity  volatile acidity  citric acid  residual sugar  chlorides  \\\n",
       "0            7.4              0.70         0.00             1.9      0.076   \n",
       "1            7.8              0.88         0.00             2.6      0.098   \n",
       "2            7.8              0.76         0.04             2.3      0.092   \n",
       "3           11.2              0.28         0.56             1.9      0.075   \n",
       "4            7.4              0.70         0.00             1.9      0.076   \n",
       "\n",
       "   free sulfur dioxide  total sulfur dioxide  density    pH  sulphates  \\\n",
       "0                 11.0                  34.0   0.9978  3.51       0.56   \n",
       "1                 25.0                  67.0   0.9968  3.20       0.68   \n",
       "2                 15.0                  54.0   0.9970  3.26       0.65   \n",
       "3                 17.0                  60.0   0.9980  3.16       0.58   \n",
       "4                 11.0                  34.0   0.9978  3.51       0.56   \n",
       "\n",
       "   alcohol  quality  \n",
       "0      9.4        5  \n",
       "1      9.8        5  \n",
       "2      9.8        5  \n",
       "3      9.8        6  \n",
       "4      9.4        5  "
      ]
     },
     "execution_count": 230,
     "metadata": {},
     "output_type": "execute_result"
    }
   ],
   "source": [
    "wine=pd.read_csv('../_data/winequality-red.csv', sep=';')\n",
    "wine.head()"
   ]
  },
  {
   "cell_type": "markdown",
   "metadata": {},
   "source": [
    "**Make training and testing data**"
   ]
  },
  {
   "cell_type": "code",
   "execution_count": 215,
   "metadata": {},
   "outputs": [],
   "source": [
    "# train/test split the features and response column\n",
    "X = wine.drop('quality', axis = 1).values\n",
    "y = wine['quality'].values\n",
    "X_train, X_test, y_train, y_test = model_selection.train_test_split(X, y, test_size = 0.2, random_state = 7)"
   ]
  },
  {
   "cell_type": "markdown",
   "metadata": {},
   "source": [
    "**Fit Model**"
   ]
  },
  {
   "cell_type": "code",
   "execution_count": 217,
   "metadata": {},
   "outputs": [
    {
     "name": "stdout",
     "output_type": "stream",
     "text": [
      "0.645041830709\n"
     ]
    }
   ],
   "source": [
    "model_wine = fit_boosting_with_cv(X_train, y_train)"
   ]
  },
  {
   "cell_type": "markdown",
   "metadata": {},
   "source": [
    "**Make Prediction & Evaluation**"
   ]
  },
  {
   "cell_type": "code",
   "execution_count": 219,
   "metadata": {},
   "outputs": [
    {
     "data": {
      "text/plain": [
       "5    140\n",
       "6    136\n",
       "7     33\n",
       "8      5\n",
       "4      5\n",
       "3      1\n",
       "dtype: int64"
      ]
     },
     "execution_count": 219,
     "metadata": {},
     "output_type": "execute_result"
    }
   ],
   "source": [
    "y_pred = model_wine.predict(X_test)\n",
    "pd.Series(y_pred).value_counts()"
   ]
  },
  {
   "cell_type": "code",
   "execution_count": 228,
   "metadata": {},
   "outputs": [
    {
     "name": "stdout",
     "output_type": "stream",
     "text": [
      "gbm library:  0.678125\n"
     ]
    }
   ],
   "source": [
    "print('gbm library: ', metrics.accuracy_score(y_test, y_pred))"
   ]
  },
  {
   "cell_type": "markdown",
   "metadata": {},
   "source": [
    "**Feature Importance**"
   ]
  },
  {
   "cell_type": "code",
   "execution_count": 229,
   "metadata": {},
   "outputs": [
    {
     "name": "stdout",
     "output_type": "stream",
     "text": [
      "Feature ranking:\n",
      "1. feature volatile acidity (0.145143, var(0.246263))\n",
      "2. feature alcohol (0.109728, var(0.119414))\n",
      "3. feature sulphates (0.099735, var(0.081396))\n",
      "4. feature pH (0.091595, var(0.095320))\n",
      "5. feature total sulfur dioxide (0.091060, var(0.119889))\n",
      "6. feature chlorides (0.086596, var(0.231213))\n",
      "7. feature density (0.086553, var(0.134173))\n",
      "8. feature residual sugar (0.081767, var(0.175914))\n",
      "9. feature fixed acidity (0.081529, var(0.093929))\n",
      "10. feature citric acid (0.078819, var(0.191199))\n",
      "11. feature free sulfur dioxide (0.047474, var(0.155757))\n"
     ]
    },
    {
     "data": {
      "image/png": "[encoded data removed]",
      "text/plain": [
       "<matplotlib.figure.Figure at 0x10e44b710>"
      ]
     },
     "metadata": {},
     "output_type": "display_data"
    }
   ],
   "source": [
    "viz_importance(model_wine, wine.columns[0:11], X.shape[1])"
   ]
  },
  {
   "cell_type": "markdown",
   "metadata": {},
   "source": [
    "### Reference\n",
    "* [Ensemble Machine Learning Algorithms blog post from Machine Learning Mastery](https://machinelearningmastery.com/ensemble-machine-learning-algorithms-python-scikit-learn/)\n",
    "* [Feature importance in gradient boosted trees](https://stats.stackexchange.com/questions/219769/feature-importance-in-gradient-boosted-trees)\n",
    "* [GRADIENT BOOSTING MACHINE (GBM) from Ethen](http://nbviewer.jupyter.org/github/ethen8181/machine-learning/blob/master/trees/gbm/gbm.ipynb)\n",
    "* [A Gentle Introduction to Gradient Boosting](http://www.ccs.neu.edu/home/vip/teach/MLcourse/4_boosting/slides/gradient_boosting.pdf)"
   ]
  }
 ],
 "metadata": {
  "kernelspec": {
   "display_name": "Python 3",
   "language": "python",
   "name": "python3"
  },
  "language_info": {
   "codemirror_mode": {
    "name": "ipython",
    "version": 3
   },
   "file_extension": ".py",
   "mimetype": "text/x-python",
   "name": "python",
   "nbconvert_exporter": "python",
   "pygments_lexer": "ipython3",
   "version": "3.6.2"
  }
 },
 "nbformat": 4,
 "nbformat_minor": 2
}
