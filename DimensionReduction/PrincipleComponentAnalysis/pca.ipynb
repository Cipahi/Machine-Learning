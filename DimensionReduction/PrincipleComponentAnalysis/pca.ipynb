{
 "cells": [
  {
   "cell_type": "markdown",
   "metadata": {},
   "source": [
    "# Understanding Principal Component Analysis"
   ]
  },
  {
   "cell_type": "markdown",
   "metadata": {},
   "source": [
    "**Outline**\n",
    "\n",
    "* [Introduction](#intro)\n",
    "* [Assumption and derivation](#derive)\n",
    "* [PCA Example](#example)\n",
    "* [PCA Usage](#usage)"
   ]
  },
  {
   "cell_type": "code",
   "execution_count": 32,
   "metadata": {},
   "outputs": [
    {
     "name": "stdout",
     "output_type": "stream",
     "text": [
      "The watermark extension is already loaded. To reload it, use:\n",
      "  %reload_ext watermark\n",
      "Johnny 2018-11-24 17:26:10 \n",
      "\n",
      "CPython 3.6.3\n",
      "IPython 6.1.0\n",
      "\n",
      "numpy 1.13.3\n",
      "pandas 0.20.3\n",
      "matplotlib 2.1.0\n",
      "sklearn 0.19.1\n"
     ]
    }
   ],
   "source": [
    "%load_ext watermark\n",
    "%matplotlib inline\n",
    "# %config InlineBackend.figure_format='retina'\n",
    "\n",
    "from matplotlib import pyplot as plt\n",
    "import pandas as pd\n",
    "import numpy as np\n",
    "import math\n",
    "from sklearn.preprocessing import StandardScaler\n",
    "from sklearn.decomposition import PCA\n",
    "from sklearn.model_selection import train_test_split\n",
    "from sklearn.linear_model import LogisticRegression\n",
    "from sklearn.pipeline import Pipeline\n",
    "from sklearn.metrics import accuracy_score\n",
    "\n",
    "%watermark -a 'Johnny' -d -t -v -p numpy,pandas,matplotlib,sklearn"
   ]
  },
  {
   "cell_type": "markdown",
   "metadata": {},
   "source": [
    "---"
   ]
  },
  {
   "cell_type": "markdown",
   "metadata": {},
   "source": [
    "## <a id=\"intro\">Introduction</a>"
   ]
  },
  {
   "cell_type": "markdown",
   "metadata": {},
   "source": [
    "When we have two features that are highly correlated with each other, we may not want to include both of them in our model. In [Lasso and Ridge regression](http://nbviewer.jupyter.org/github/johnnychiuchiu/Machine-Learning/blob/master/LinearRegression/linearRegressionModelBuilding.ipynb#ridge), what it does is fitting a model with all the predictors but put a penalized term, either L1 or L2 norm on the value of the regression coefficients, this will shrinks the coefficient estimates towards zero. In other words, it try to pick some predictors out of all the predictors in order to reduce the dimension of our column space.\n",
    "\n",
    "Principal Component Analysis(PCA) is another type of dimension reduction method. What PCA is all about is **Finding the directions of maximum variance in high-dimensional data and project it onto a smaller dimensional subspace while retaining most of the information.** The main idea and motivation is that each of the $n$ observations lives in $p$-dimensional space, but not all of these dimensions are equally interesting. PCA seeks a small number of dimensions that are as intersteing as possible. The concept of *interesting* is measured by the amount that the observations vary along each dimension.\n",
    "\n",
    "Note that PCA is just a linear transformation method. Compared to the original space, it can project our high-dimensional data into another dimension, of which each of the direction are with the maximum variance. In other words, the orthogonality of principal components implies that PCA finds the most uncorrelated components to explain as much variation in the data as possible. We can then pick the number of directions, i.e. components, we want to keep while containing most of the information of the original data. The direction of the highest variance is called the first principal component, the second highest is call the second principal component, and so on.\n",
    "\n",
    "In PCA, we found out that the first principal component is obtained by doing eigendecomposition of the covariance matrix X, and the eigenvector with the largest eigenvalue is our first principal component in the sense that every vector in the span of this eigenvector will strech out by the largest amount, since eigenvalues are the factors by which the eigenvectors streckes or squishes during the transformation. Therefore, we can sort the top k component by the value of the eigenvalues that we found from doing eigendecomposition of the covariance matrix X.\n",
    "\n",
    "**Application of PCA**\n",
    "\n",
    "* We can use PCA as a tool for data visualization. For instance, if we can obtain a two-dimensional representation of the data that captures most of the information, then we can plot hte observations in this low-dimensional space.\n",
    "* We can use princial components as predictors in a regression model in place of the original larger set of variables.\n",
    "\n",
    "\n"
   ]
  },
  {
   "cell_type": "markdown",
   "metadata": {},
   "source": [
    "---"
   ]
  },
  {
   "cell_type": "markdown",
   "metadata": {},
   "source": [
    "## <a id=\"derive\">Assumption and derivation</a>"
   ]
  },
  {
   "cell_type": "markdown",
   "metadata": {},
   "source": [
    "**Assumption** for PCA before we derive the whole process are\n",
    "* Since we are only interested in variance, we assume that each of the variables in $X$ has been and should be centered to have mean zero, i.e. the column means of $X$ are zero."
   ]
  },
  {
   "cell_type": "markdown",
   "metadata": {},
   "source": [
    "**Method Derivation**\n",
    "\n",
    "Assume we have n observation, and a set of features $X1, X2, X3, \\dots, Xp$. In order words, we have\n",
    "\n",
    "\\begin{pmatrix}\n",
    "  x_{1,1} & x_{1,2} & \\cdots & x_{1,p} \\\\\n",
    "  x_{2,1} & x_{2,2} & \\cdots & x_{2,p} \\\\\n",
    "  \\vdots  & \\vdots  & \\ddots & \\vdots  \\\\\n",
    "  x_{n,1} & x_{n,2} & \\cdots & x_{n,p} \n",
    "\\end{pmatrix}\n",
    "\n",
    "where \n",
    "\n",
    "\\begin{equation*}\n",
    "X1 = \\begin{bmatrix}\n",
    "       x_{1,1} \\\\\n",
    "       x_{2,1} \\\\\n",
    "       \\vdots \\\\\n",
    "       x_{n,1}        \n",
    "     \\end{bmatrix}\n",
    "\\end{equation*}\n",
    "  \n",
    "\n",
    "PCA will try to find a low dimensional representation of a dataset that contains as much as possible of the variance. The idea is that each of the n observations lives in p-dimensional space, but not all of these dimensions are equally interesting. PCA seeks a small number of dimensions that are as interesting as possible. Let see how these dimensions, or *principal component* are found.\n",
    "\n",
    "Given $n \\times p$ data set $X$, how do we compute the first principal component? We look for the linear combination of the sample feature values of the form\n",
    "\n",
    "$$z_{i,1} = \\phi_{1,1}x_{i,1}+\\phi_{2,1}x_{i,2}+\\dots+\\phi_{p,1}x_{i,p}$$\n",
    "where\n",
    "0<i<n and $\\phi_1$ denotes the first principal component loading vector, which is\n",
    "\n",
    "\\begin{equation*}\n",
    "    \\phi_1=\\begin{pmatrix}\n",
    "       \\phi_{1,1} \\\\\n",
    "       \\phi_{2,1} \\\\\n",
    "       \\vdots \\\\\n",
    "       \\phi_{p,1}        \n",
    "     \\end{pmatrix}\n",
    "\\end{equation*} \n",
    "\n",
    "We'll have n values of $z_1$, and we want to look for the linear combination that has the largest sample variance. More formally,\n",
    "\n",
    "\\begin{equation*}\n",
    "Z_1\n",
    "=\n",
    "\\begin{pmatrix}\n",
    "       z_{1,1} \\\\\n",
    "       z_{2,1} \\\\\n",
    "       \\vdots \\\\\n",
    "       z_{n,1}        \n",
    "     \\end{pmatrix}\n",
    "= \n",
    "\\begin{pmatrix}\n",
    "  \\phi_{1,1}x_{1,1} + \\phi_{2,1}x_{1,2} + \\cdots + \\phi_{p,1}x_{1,p} \\\\\n",
    "  \\phi_{1,1}x_{2,1} + \\phi_{2,1}x_{2,2} + \\cdots + \\phi_{p,1}x_{2,p} \\\\\n",
    "  \\vdots  \\\\\n",
    "  \\phi_{1,1}x_{n,1} + \\phi_{2,1}x_{n,2} + \\cdots + \\phi_{p,1}x_{n,p} \n",
    "\\end{pmatrix}\n",
    "=\n",
    "\\begin{pmatrix}\n",
    "       \\phi_{1,1} \n",
    "       \\phi_{2,1} \n",
    "       \\dots \n",
    "       \\phi_{p,1}        \n",
    "     \\end{pmatrix}\n",
    "\\begin{pmatrix}\n",
    "  x_{1,1} & x_{1,2} & \\cdots & x_{1,p} \\\\\n",
    "  x_{2,1} & x_{2,2} & \\cdots & x_{2,p} \\\\\n",
    "  \\vdots  & \\vdots  & \\ddots & \\vdots  \\\\\n",
    "  x_{n,1} & x_{n,2} & \\cdots & x_{n,p} \n",
    "\\end{pmatrix}\n",
    "=\n",
    "\\phi_{1,1}X_{1}+\\phi_{2,1}X_{2}+\\dots+\\phi_{p,1}X_{p}\n",
    "=\n",
    "\\phi_1^T X\n",
    "\\end{equation*}\n",
    "\n",
    "We assume that each of the variables in $X$ has been centered to have mean zero, i.e., the column means of $X$ are zero. Therefore, $E(X_i)=0$ for i in 1,...p. It's obvious to know that $E(Z_1)=E(\\phi_{1,1}X_{1}+\\phi_{2,1}X_{2}+\\dots+\\phi_{p,1}X_{p}) = 0$\n",
    "\n",
    "Therefore, the variance of $Z_1$ is \n",
    "\n",
    "$$Var(Z_1) = E\\Big[[Z_1-E(Z_1)][Z_1-E(Z_1)]^T\\Big] = E\\Big[Z_1 Z_1^T \\Big] = E\\Big[(\\phi_1^T X) (\\phi_1^T X)^T \\Big] = E\\Big[\\phi_1^T X X^T \\phi_1\\Big] = \\phi_1^T E[X X^T] \\phi_1$$\n",
    "\n",
    "We also know that the [covariance matrix](https://en.wikipedia.org/wiki/Covariance_matrix) of X is\n",
    "\n",
    "$$C = Cov(X) = E\\Big[[X-E(X)][X-E(X)]^T\\Big] = E[X X^T]$$\n",
    "\n",
    "Hence, the $Var(Z_1)= \\phi_1^T E[X X^T] \\phi_1 = \\phi_1^T C \\phi_1$\n",
    "\n",
    "Apart from finding the largest sample variance, we also constrain the loadings so that their sum of squares is equal to one, since otherwise setting these elements to be arbitrarily large in absolute value could result in an arbitrarily large variance. More formally,\n",
    "\n",
    "$$\\sum_{j=1}^{p}\\phi_{j1}^2=1$$"
   ]
  },
  {
   "cell_type": "markdown",
   "metadata": {},
   "source": [
    "In other words, the first principal component loading vector solves the optimization problem\n",
    "\n",
    "$$\\text{maximize}_\\phi \\quad \\phi^TC\\phi$$\n",
    "$$\\text{subject to} \\sum_{j=1}^{p}\\phi_{j1}^2 = \\phi_1^T \\phi_1 =1$$\n"
   ]
  },
  {
   "cell_type": "markdown",
   "metadata": {},
   "source": [
    "This objective function can be solved by the Lagrange multiplier, minimizing the loss function:\n",
    "\n",
    "$$L = \\phi^T C\\phi - \\lambda(\\phi^T \\phi-1)$$\n",
    "\n",
    "Next, to solve for $\\phi$, we set the partial derivative of L with respect to $\\phi$ to 0.\n",
    "\n",
    "$$\\frac{\\partial L}{\\partial \\phi_1} = C\\phi - \\lambda \\phi_1 =0 $$\n",
    "$$ C\\phi_1 = \\lambda \\phi_1 $$"
   ]
  },
  {
   "cell_type": "markdown",
   "metadata": {},
   "source": [
    "Surprisingly we see that it is actually a eigendecomposition problem. To refresh our mind a little bit, here is a very good [youtube video](https://www.youtube.com/watch?v=PFDu9oVAE-g&index=14&list=PLZHQObOWTQDPD3MizzM2xVFitgF8hE_ab) explaining what eigenvalue and eigenvector is in a very geometrical way."
   ]
  },
  {
   "cell_type": "markdown",
   "metadata": {},
   "source": [
    "Therefore, from the equation above, we pick $\\phi$ as the eigenvector associated with the largest eigenvalue.\n",
    "\n",
    "Also, most data can’t be well-described by a single principal component. Typically, we compute multiple principal components by computing all eigenvectors of the covariance matrix of $X$ and ranking them by their eigenvalues. After sorting the eigenpairs, the next question is “how many principal components are we going to choose for our new feature subspace?” A useful measure is the so-called “explained variance,” which can be calculated from the eigenvalues. The explained variance tells us how much information (variance) can be attributed to each of the principal components."
   ]
  },
  {
   "cell_type": "markdown",
   "metadata": {},
   "source": [
    "To sum up, here are the **steps that we take to perform a PCA analysis**\n",
    "1. Standardize the data.\n",
    "2. Obtain the Eigenvectors and Eigenvalues from the covariance matrix (technically the correlation matrix after performing the standardization).\n",
    "3. Sort eigenvalues in descending order and choose the k eigenvectors that correspond to the k largest eigenvalues where k is the number of dimensions of the new feature subspace.\n",
    "4. Projection onto the new feature space. During this step we will take the top k eigenvectors and use it to transform the original dataset X to obtain a k-dimensional feature subspace X′."
   ]
  },
  {
   "cell_type": "markdown",
   "metadata": {},
   "source": [
    "---"
   ]
  },
  {
   "cell_type": "markdown",
   "metadata": {},
   "source": [
    "## <a id=\"process\">PCA Analysis Example</a>"
   ]
  },
  {
   "cell_type": "markdown",
   "metadata": {},
   "source": [
    "Let's use the classical IRIS data to illustrate the topics that we just covered, including\n",
    "* What are the explained variance of each component? How many component should we pick?\n",
    "* How will the scatter plot be if we plot in the dimension of first and second component?"
   ]
  },
  {
   "cell_type": "code",
   "execution_count": 2,
   "metadata": {},
   "outputs": [
    {
     "data": {
      "text/html": [
       "<div>\n",
       "<style>\n",
       "    .dataframe thead tr:only-child th {\n",
       "        text-align: right;\n",
       "    }\n",
       "\n",
       "    .dataframe thead th {\n",
       "        text-align: left;\n",
       "    }\n",
       "\n",
       "    .dataframe tbody tr th {\n",
       "        vertical-align: top;\n",
       "    }\n",
       "</style>\n",
       "<table border=\"1\" class=\"dataframe\">\n",
       "  <thead>\n",
       "    <tr style=\"text-align: right;\">\n",
       "      <th></th>\n",
       "      <th>sepal_len</th>\n",
       "      <th>sepal_wid</th>\n",
       "      <th>petal_len</th>\n",
       "      <th>petal_wid</th>\n",
       "      <th>class</th>\n",
       "    </tr>\n",
       "  </thead>\n",
       "  <tbody>\n",
       "    <tr>\n",
       "      <th>145</th>\n",
       "      <td>6.7</td>\n",
       "      <td>3.0</td>\n",
       "      <td>5.2</td>\n",
       "      <td>2.3</td>\n",
       "      <td>Iris-virginica</td>\n",
       "    </tr>\n",
       "    <tr>\n",
       "      <th>146</th>\n",
       "      <td>6.3</td>\n",
       "      <td>2.5</td>\n",
       "      <td>5.0</td>\n",
       "      <td>1.9</td>\n",
       "      <td>Iris-virginica</td>\n",
       "    </tr>\n",
       "    <tr>\n",
       "      <th>147</th>\n",
       "      <td>6.5</td>\n",
       "      <td>3.0</td>\n",
       "      <td>5.2</td>\n",
       "      <td>2.0</td>\n",
       "      <td>Iris-virginica</td>\n",
       "    </tr>\n",
       "    <tr>\n",
       "      <th>148</th>\n",
       "      <td>6.2</td>\n",
       "      <td>3.4</td>\n",
       "      <td>5.4</td>\n",
       "      <td>2.3</td>\n",
       "      <td>Iris-virginica</td>\n",
       "    </tr>\n",
       "    <tr>\n",
       "      <th>149</th>\n",
       "      <td>5.9</td>\n",
       "      <td>3.0</td>\n",
       "      <td>5.1</td>\n",
       "      <td>1.8</td>\n",
       "      <td>Iris-virginica</td>\n",
       "    </tr>\n",
       "  </tbody>\n",
       "</table>\n",
       "</div>"
      ],
      "text/plain": [
       "     sepal_len  sepal_wid  petal_len  petal_wid           class\n",
       "145        6.7        3.0        5.2        2.3  Iris-virginica\n",
       "146        6.3        2.5        5.0        1.9  Iris-virginica\n",
       "147        6.5        3.0        5.2        2.0  Iris-virginica\n",
       "148        6.2        3.4        5.4        2.3  Iris-virginica\n",
       "149        5.9        3.0        5.1        1.8  Iris-virginica"
      ]
     },
     "execution_count": 2,
     "metadata": {},
     "output_type": "execute_result"
    }
   ],
   "source": [
    "# Read Data\n",
    "df = pd.read_csv(\n",
    "    filepath_or_buffer='https://archive.ics.uci.edu/ml/machine-learning-databases/iris/iris.data',\n",
    "    header=None,\n",
    "    sep=',')\n",
    "\n",
    "df.columns=['sepal_len', 'sepal_wid', 'petal_len', 'petal_wid', 'class']\n",
    "df.dropna(how=\"all\", inplace=True) # drops the empty line at file-end\n",
    "\n",
    "df.tail()"
   ]
  },
  {
   "cell_type": "code",
   "execution_count": 3,
   "metadata": {
    "collapsed": true
   },
   "outputs": [],
   "source": [
    "# split data table into data X and class labels y\n",
    "X = df.iloc[:,0:4].values\n",
    "y = df.iloc[:,4].values"
   ]
  },
  {
   "cell_type": "markdown",
   "metadata": {},
   "source": [
    "**EDA**\n",
    "\n",
    "To get a feeling for how the 3 different flower classes are distributes along the 4 different features, let us visualize them via histograms."
   ]
  },
  {
   "cell_type": "code",
   "execution_count": 4,
   "metadata": {},
   "outputs": [
    {
     "data": {
      "image/png": "[encoded data removed]",
      "text/plain": [
       "<matplotlib.figure.Figure at 0x1a0f879588>"
      ]
     },
     "metadata": {},
     "output_type": "display_data"
    }
   ],
   "source": [
    "def plot_iris():\n",
    "    label_dict = {1: 'Iris-Setosa',\n",
    "                  2: 'Iris-Versicolor',\n",
    "                  3: 'Iris-Virgnica'}\n",
    "\n",
    "    feature_dict = {0: 'sepal length [cm]',\n",
    "                    1: 'sepal width [cm]',\n",
    "                    2: 'petal length [cm]',\n",
    "                    3: 'petal width [cm]'}\n",
    "\n",
    "    with plt.style.context('seaborn-whitegrid'):\n",
    "        plt.figure(figsize=(8, 6))\n",
    "        for cnt in range(4):\n",
    "            plt.subplot(2, 2, cnt+1)\n",
    "            for lab in ('Iris-setosa', 'Iris-versicolor', 'Iris-virginica'):\n",
    "                plt.hist(X[y==lab, cnt],\n",
    "                         label=lab,\n",
    "                         bins=10,\n",
    "                         alpha=0.3,)\n",
    "            plt.xlabel(feature_dict[cnt])\n",
    "        plt.legend(loc='upper right', fancybox=True, fontsize=8)\n",
    "\n",
    "        plt.tight_layout()\n",
    "        plt.show()\n",
    "        \n",
    "plot_iris()     "
   ]
  },
  {
   "cell_type": "markdown",
   "metadata": {},
   "source": [
    "## Process"
   ]
  },
  {
   "cell_type": "markdown",
   "metadata": {},
   "source": [
    "### 1. Standardize the data"
   ]
  },
  {
   "cell_type": "code",
   "execution_count": 17,
   "metadata": {},
   "outputs": [
    {
     "data": {
      "text/plain": [
       "StandardScaler(copy=True, with_mean=True, with_std=True)"
      ]
     },
     "execution_count": 17,
     "metadata": {},
     "output_type": "execute_result"
    }
   ],
   "source": [
    "# create a StandardScaler object\n",
    "scaler = StandardScaler()\n",
    "# fit and then transform to get the standardized dataset\n",
    "scaler.fit(X)"
   ]
  },
  {
   "cell_type": "code",
   "execution_count": 18,
   "metadata": {
    "collapsed": true
   },
   "outputs": [],
   "source": [
    "X_std = scaler.transform(X)"
   ]
  },
  {
   "cell_type": "markdown",
   "metadata": {},
   "source": [
    "### 2. Do eigendecomposition and sort eigenvalues in descending order"
   ]
  },
  {
   "cell_type": "code",
   "execution_count": 21,
   "metadata": {},
   "outputs": [
    {
     "data": {
      "text/plain": [
       "PCA(copy=True, iterated_power='auto', n_components=None, random_state=None,\n",
       "  svd_solver='auto', tol=0.0, whiten=False)"
      ]
     },
     "execution_count": 21,
     "metadata": {},
     "output_type": "execute_result"
    }
   ],
   "source": [
    "# n_components: Number of components to keep\n",
    "# if n_components is not set all components are kept\n",
    "my_pca = PCA(n_components=None) \n",
    "my_pca.fit(X_std)"
   ]
  },
  {
   "cell_type": "code",
   "execution_count": 48,
   "metadata": {},
   "outputs": [],
   "source": [
    "def plot_var_explained(var_exp, figsize=(6,4)):\n",
    "    \"\"\"variance explained per component plot\"\"\"\n",
    "    \n",
    "    # get culmulative variance explained\n",
    "    cum_var_exp = np.cumsum(var_exp)\n",
    "    \n",
    "    # plot\n",
    "    with plt.style.context('seaborn-whitegrid'):\n",
    "        plt.figure(figsize=figsize)\n",
    "\n",
    "        plt.bar(range(len(var_exp)), var_exp, alpha=0.5, align='center',\n",
    "                label='individual explained variance')\n",
    "        plt.step(range(len(var_exp)), cum_var_exp, where='mid',\n",
    "                 label='cumulative explained variance')\n",
    "        plt.ylabel('Explained variance ratio')\n",
    "        plt.xlabel('Principal components')\n",
    "        plt.legend(loc='best')\n",
    "        plt.tight_layout()\n",
    "        plt.show()"
   ]
  },
  {
   "cell_type": "code",
   "execution_count": 50,
   "metadata": {},
   "outputs": [
    {
     "data": {
      "image/png": "[encoded data removed]",
      "text/plain": [
       "<matplotlib.figure.Figure at 0x1a19f41e10>"
      ]
     },
     "metadata": {
      "image/png": {
       "height": 281,
       "width": 425
      }
     },
     "output_type": "display_data"
    }
   ],
   "source": [
    "var_exp = my_pca.explained_variance_ratio_\n",
    "plot_var_explained(var_exp, figsize=(6,4))"
   ]
  },
  {
   "cell_type": "code",
   "execution_count": 51,
   "metadata": {},
   "outputs": [
    {
     "data": {
      "text/plain": [
       "<matplotlib.axes._subplots.AxesSubplot at 0x1a1a1d09b0>"
      ]
     },
     "execution_count": 51,
     "metadata": {},
     "output_type": "execute_result"
    },
    {
     "data": {
      "image/png": "[encoded data removed]",
      "text/plain": [
       "<matplotlib.figure.Figure at 0x1a1a2204e0>"
      ]
     },
     "metadata": {
      "image/png": {
       "height": 247,
       "width": 373
      }
     },
     "output_type": "display_data"
    }
   ],
   "source": [
    "# plot a simpler version of the bar chart\n",
    "pd.DataFrame(my_pca.explained_variance_ratio_).plot.bar()"
   ]
  },
  {
   "cell_type": "markdown",
   "metadata": {},
   "source": [
    "The plot above clearly shows that most of the variance (72.77% of the variance to be precise) can be explained by the first principal component alone. The second principal component still bears some information (23.03%) while the third and fourth principal components can safely be dropped without losing to much information. Together, the first two principal components contain 95.8% of the information."
   ]
  },
  {
   "cell_type": "markdown",
   "metadata": {},
   "source": [
    "### 3. Check the scores within each principal component"
   ]
  },
  {
   "cell_type": "code",
   "execution_count": 54,
   "metadata": {},
   "outputs": [
    {
     "data": {
      "text/html": [
       "<div>\n",
       "<style>\n",
       "    .dataframe thead tr:only-child th {\n",
       "        text-align: right;\n",
       "    }\n",
       "\n",
       "    .dataframe thead th {\n",
       "        text-align: left;\n",
       "    }\n",
       "\n",
       "    .dataframe tbody tr th {\n",
       "        vertical-align: top;\n",
       "    }\n",
       "</style>\n",
       "<table border=\"1\" class=\"dataframe\">\n",
       "  <thead>\n",
       "    <tr style=\"text-align: right;\">\n",
       "      <th></th>\n",
       "      <th>0</th>\n",
       "      <th>1</th>\n",
       "      <th>2</th>\n",
       "      <th>3</th>\n",
       "    </tr>\n",
       "  </thead>\n",
       "  <tbody>\n",
       "    <tr>\n",
       "      <th>sepal_len</th>\n",
       "      <td>0.522372</td>\n",
       "      <td>0.372318</td>\n",
       "      <td>-0.721017</td>\n",
       "      <td>-0.261996</td>\n",
       "    </tr>\n",
       "    <tr>\n",
       "      <th>sepal_wid</th>\n",
       "      <td>-0.263355</td>\n",
       "      <td>0.925556</td>\n",
       "      <td>0.242033</td>\n",
       "      <td>0.124135</td>\n",
       "    </tr>\n",
       "    <tr>\n",
       "      <th>petal_len</th>\n",
       "      <td>0.581254</td>\n",
       "      <td>0.021095</td>\n",
       "      <td>0.140892</td>\n",
       "      <td>0.801154</td>\n",
       "    </tr>\n",
       "    <tr>\n",
       "      <th>petal_wid</th>\n",
       "      <td>0.565611</td>\n",
       "      <td>0.065416</td>\n",
       "      <td>0.633801</td>\n",
       "      <td>-0.523546</td>\n",
       "    </tr>\n",
       "  </tbody>\n",
       "</table>\n",
       "</div>"
      ],
      "text/plain": [
       "                  0         1         2         3\n",
       "sepal_len  0.522372  0.372318 -0.721017 -0.261996\n",
       "sepal_wid -0.263355  0.925556  0.242033  0.124135\n",
       "petal_len  0.581254  0.021095  0.140892  0.801154\n",
       "petal_wid  0.565611  0.065416  0.633801 -0.523546"
      ]
     },
     "execution_count": 54,
     "metadata": {},
     "output_type": "execute_result"
    }
   ],
   "source": [
    "PC_df = pd.DataFrame(my_pca.components_,columns=df.iloc[:,0:4].columns).transpose()\n",
    "PC_df"
   ]
  },
  {
   "cell_type": "code",
   "execution_count": 65,
   "metadata": {},
   "outputs": [
    {
     "data": {
      "text/plain": [
       "<matplotlib.axes._subplots.AxesSubplot at 0x1a1b0e2438>"
      ]
     },
     "execution_count": 65,
     "metadata": {},
     "output_type": "execute_result"
    },
    {
     "data": {
      "image/png": "[encoded data removed]",
      "text/plain": [
       "<matplotlib.figure.Figure at 0x1a1b556828>"
      ]
     },
     "metadata": {
      "image/png": {
       "height": 250,
       "width": 358
      }
     },
     "output_type": "display_data"
    }
   ],
   "source": [
    "import seaborn as sns\n",
    "plt.figure(figsize=None) #(4,4)\n",
    "sns.heatmap(PC_df,cmap=\"RdBu_r\",annot=PC_df.values, linewidths=1, center=0)"
   ]
  },
  {
   "cell_type": "markdown",
   "metadata": {},
   "source": [
    "From the above heatmap & table, we can see that first component consist of all 4 features with a smaller weight on sepal_wid"
   ]
  },
  {
   "cell_type": "markdown",
   "metadata": {},
   "source": [
    "### 4. Projection onto the new feature space\n",
    "During this step we will take the top k eigenvectors and use it to transform the original dataset X to obtain a k-dimensional feature subspace X′."
   ]
  },
  {
   "cell_type": "code",
   "execution_count": 8,
   "metadata": {
    "collapsed": true
   },
   "outputs": [],
   "source": [
    "sklearn_pca = PCA(n_components=2)\n",
    "Y_sklearn = sklearn_pca.fit_transform(X_std)"
   ]
  },
  {
   "cell_type": "code",
   "execution_count": 9,
   "metadata": {},
   "outputs": [
    {
     "data": {
      "text/plain": [
       "array([[-2.0864255 , -0.65540473],\n",
       "       [-2.36795045, -0.31847731],\n",
       "       [-2.30419716, -0.57536771],\n",
       "       [-2.38877749,  0.6747674 ],\n",
       "       [-2.07053681,  1.51854856],\n",
       "       [-2.44571134,  0.07456268],\n",
       "       [-2.23384186,  0.24761393],\n",
       "       [-2.34195768, -1.09514636],\n",
       "       [-2.18867576, -0.44862905]])"
      ]
     },
     "execution_count": 9,
     "metadata": {},
     "output_type": "execute_result"
    }
   ],
   "source": [
    "Y_sklearn[1:10]"
   ]
  },
  {
   "cell_type": "markdown",
   "metadata": {},
   "source": [
    "Each of the list in the array above shows the projected value of each observation onto the first two principal components. If we want to fit model using the data projected on to their first 2 principal component, then `Y_sklearn` is the data we want to use."
   ]
  },
  {
   "cell_type": "markdown",
   "metadata": {},
   "source": [
    "## <a id=\"usage\">PCA Usage</a>"
   ]
  },
  {
   "cell_type": "markdown",
   "metadata": {},
   "source": [
    "### Data Visualization"
   ]
  },
  {
   "cell_type": "markdown",
   "metadata": {},
   "source": [
    "We can use PCA as a tool for data visualization. For instance, if we can obtain a two-dimensional representation of the data that captures most of the information, then we can plot hte observations in this low-dimensional space.\n",
    "\n",
    "Let's see how it will be like using IRIS data if we plot it out in the first two principal components."
   ]
  },
  {
   "cell_type": "code",
   "execution_count": 10,
   "metadata": {},
   "outputs": [
    {
     "name": "stdout",
     "output_type": "stream",
     "text": [
      "Iris-setosa\n",
      "blue\n",
      "Iris-versicolor\n",
      "red\n",
      "Iris-virginica\n",
      "green\n"
     ]
    },
    {
     "data": {
      "image/png": "[encoded data removed]",
      "text/plain": [
       "<matplotlib.figure.Figure at 0x11252bbe0>"
      ]
     },
     "metadata": {},
     "output_type": "display_data"
    }
   ],
   "source": [
    "with plt.style.context('seaborn-whitegrid'):\n",
    "    plt.figure(figsize=(6, 4))\n",
    "    for lab, col in zip(('Iris-setosa', 'Iris-versicolor', 'Iris-virginica'),\n",
    "                        ('blue', 'red', 'green')):\n",
    "        print(lab)\n",
    "        print(col)\n",
    "        plt.scatter(Y_sklearn[y==lab, 0],\n",
    "                    Y_sklearn[y==lab, 1],\n",
    "                    label=lab,\n",
    "                    c=col)\n",
    "    plt.xlabel('Principal Component 1')\n",
    "    plt.ylabel('Principal Component 2')\n",
    "    plt.legend(loc='lower center')\n",
    "    plt.tight_layout()\n",
    "    plt.show()"
   ]
  },
  {
   "cell_type": "markdown",
   "metadata": {},
   "source": [
    "### Principal Component Regression\n",
    "We can use princial components as predictors in a regression model in place of the original larger set of variables.\n",
    "\n",
    "Let's compare the result of logistic regression using all the features with the one using only the first two component"
   ]
  },
  {
   "cell_type": "code",
   "execution_count": 124,
   "metadata": {},
   "outputs": [
    {
     "name": "stdout",
     "output_type": "stream",
     "text": [
      "PCA Accuracy 0.800\n",
      "Accuracy 0.822\n"
     ]
    }
   ],
   "source": [
    "# the code is copied from Ethen's PCA blog post, which is listed in the reference.\n",
    "\n",
    "# split 30% of the iris data into a test set for evaluation\n",
    "X_train, X_test, y_train, y_test = train_test_split(\n",
    "    X, y, test_size = 0.3, random_state = 1)\n",
    "\n",
    "# create the pipeline, where we'll\n",
    "# standardize the data, perform PCA and\n",
    "# fit the logistic regression\n",
    "pipeline1 = Pipeline([\n",
    "    ('standardize', StandardScaler()),\n",
    "    ('pca', PCA(n_components = 2)),\n",
    "    ('logistic', LogisticRegression(random_state = 1))\n",
    "])\n",
    "pipeline1.fit(X_train, y_train)\n",
    "y_pred1 = pipeline1.predict(X_test)\n",
    "\n",
    "# pipeline without PCA\n",
    "pipeline2 = Pipeline([\n",
    "    ('standardize', StandardScaler()),\n",
    "    ('logistic', LogisticRegression(random_state = 1))\n",
    "])\n",
    "pipeline2.fit(X_train, y_train)\n",
    "y_pred2 = pipeline2.predict(X_test)\n",
    "\n",
    "# access the prediction accuracy\n",
    "print('PCA Accuracy %.3f' % accuracy_score(y_test, y_pred1))\n",
    "print('Accuracy %.3f' % accuracy_score(y_test, y_pred2))"
   ]
  },
  {
   "cell_type": "markdown",
   "metadata": {},
   "source": [
    "We saw that by using only the first two component, the accuracy only drop by 0.022, which is about 2-3% from the original accuracy. Actually, by using the first three principal component, we can get the same accuracy as the original model with all the features."
   ]
  },
  {
   "cell_type": "markdown",
   "metadata": {},
   "source": [
    "### Reference\n",
    "\n",
    "* [PCA in 3 steps](http://sebastianraschka.com/Articles/2015_pca_in_3_steps.html)\n",
    "* [Everything you did and didn't know about PCA\n",
    "](http://alexhwilliams.info/itsneuronalblog/2016/03/27/pca/)\n",
    "* [Ethen: Principal Component Analysis (PCA) from scratch](http://nbviewer.jupyter.org/github/ethen8181/machine-learning/blob/master/dim_reduct/PCA.ipynb)\n",
    "* [Wiki: Matrix Multiplication](https://en.wikipedia.org/wiki/Matrix_multiplication)\n",
    "* [Sklearn: Pipelining: chaining a PCA and a logistic regression](http://scikit-learn.org/stable/auto_examples/plot_digits_pipe.html#sphx-glr-auto-examples-plot-digits-pipe-py)"
   ]
  }
 ],
 "metadata": {
  "kernelspec": {
   "display_name": "Python 3",
   "language": "python",
   "name": "python3"
  },
  "language_info": {
   "codemirror_mode": {
    "name": "ipython",
    "version": 3
   },
   "file_extension": ".py",
   "mimetype": "text/x-python",
   "name": "python",
   "nbconvert_exporter": "python",
   "pygments_lexer": "ipython3",
   "version": "3.6.3"
  }
 },
 "nbformat": 4,
 "nbformat_minor": 2
}
