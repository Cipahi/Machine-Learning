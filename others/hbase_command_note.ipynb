{
 "cells": [
  {
   "cell_type": "markdown",
   "metadata": {},
   "source": [
    "# Hbase Command Note"
   ]
  },
  {
   "cell_type": "markdown",
   "metadata": {},
   "source": [
    "**Outline**\n",
    "\n",
    "* [Reference](#refer)"
   ]
  },
  {
   "cell_type": "markdown",
   "metadata": {},
   "source": [
    "> **run shell script using hbase**"
   ]
  },
  {
   "cell_type": "markdown",
   "metadata": {},
   "source": [
    "[cloudera doc](http://archive.cloudera.com/cdh5/cdh/5/hbase-0.98.6-cdh5.2.0/book/ch04s04.html)"
   ]
  },
  {
   "cell_type": "markdown",
   "metadata": {},
   "source": [
    "Pass the path to the command file as the only argument to the hbase shell command. Each command is executed and its output is shown. If you do not include the exit command in your script, you are returned to the HBase shell prompt. There is no way to programmatically check each individual command for success or failure. Also, though you see the output for each command, the commands themselves are not echoed to the screen so it can be difficult to line up the command with its output."
   ]
  },
  {
   "cell_type": "code",
   "execution_count": null,
   "metadata": {
    "collapsed": true
   },
   "outputs": [],
   "source": [
    "# both should work\n",
    "/usr/bin/hbase shell ./sample_commands.txt\n",
    "/usr/bin/hbase shell ./sample_commands.sh"
   ]
  },
  {
   "cell_type": "code",
   "execution_count": null,
   "metadata": {
    "collapsed": true
   },
   "outputs": [],
   "source": [
    "# save output as txt file\n",
    "/usr/bin/hbase shell ./sample_commands.sh > output.txt"
   ]
  },
  {
   "cell_type": "markdown",
   "metadata": {},
   "source": [
    "> **getting into hbase shell**"
   ]
  },
  {
   "cell_type": "code",
   "execution_count": null,
   "metadata": {
    "collapsed": true
   },
   "outputs": [],
   "source": [
    " /usr/bin/hbase shell"
   ]
  },
  {
   "cell_type": "markdown",
   "metadata": {},
   "source": [
    "> **listing a Table using HBase Shell**"
   ]
  },
  {
   "cell_type": "code",
   "execution_count": null,
   "metadata": {
    "collapsed": true
   },
   "outputs": [],
   "source": [
    "list"
   ]
  },
  {
   "cell_type": "markdown",
   "metadata": {},
   "source": [
    "> **create a table**"
   ]
  },
  {
   "cell_type": "code",
   "execution_count": null,
   "metadata": {
    "collapsed": true
   },
   "outputs": [],
   "source": [
    "# table name: railway\n",
    "# column family: locomotive, cars, cargo\n",
    "create 'railway_johnny', {NAME => 'locomotive'}, {NAME => 'cars'}, {NAME => 'cargo'}"
   ]
  },
  {
   "cell_type": "markdown",
   "metadata": {},
   "source": [
    "> **drop/delete a table**"
   ]
  },
  {
   "cell_type": "code",
   "execution_count": null,
   "metadata": {
    "collapsed": true
   },
   "outputs": [],
   "source": [
    "disable 'railway_johnny'\n",
    "drop 'railway_johnny'"
   ]
  },
  {
   "cell_type": "markdown",
   "metadata": {},
   "source": [
    "> **inserting data using HBase Shell**"
   ]
  },
  {
   "cell_type": "markdown",
   "metadata": {},
   "source": [
    "[tutorialspoint](https://www.tutorialspoint.com/hbase/hbase_create_data.htm)"
   ]
  },
  {
   "cell_type": "code",
   "execution_count": null,
   "metadata": {
    "collapsed": true
   },
   "outputs": [],
   "source": [
    "# format\n",
    "put '<table name>','row1','<colfamily:colname>','<value>'\n",
    "\n",
    "# example\n",
    "put 'enron_johnny', '1', 'name:employee', 'mCarson'"
   ]
  },
  {
   "cell_type": "markdown",
   "metadata": {},
   "source": [
    "> **Reading Data using HBase Shell**"
   ]
  },
  {
   "cell_type": "markdown",
   "metadata": {},
   "source": [
    "[tutorialspoint](https://www.tutorialspoint.com/hbase/hbase_read_data.htm)"
   ]
  },
  {
   "cell_type": "code",
   "execution_count": null,
   "metadata": {
    "collapsed": true
   },
   "outputs": [],
   "source": [
    "# format\n",
    "get '<table name>','row1'"
   ]
  },
  {
   "cell_type": "markdown",
   "metadata": {},
   "source": [
    "> **view the hbase table using scan**"
   ]
  },
  {
   "cell_type": "markdown",
   "metadata": {},
   "source": [
    "[tutorialspoint](https://www.tutorialspoint.com/hbase/hbase_scan.htm)"
   ]
  },
  {
   "cell_type": "code",
   "execution_count": null,
   "metadata": {
    "collapsed": true
   },
   "outputs": [],
   "source": [
    "scan '<table name>'"
   ]
  },
  {
   "cell_type": "markdown",
   "metadata": {},
   "source": [
    "> **delete all cells in a row**"
   ]
  },
  {
   "cell_type": "markdown",
   "metadata": {},
   "source": [
    "[tutorialspoint](https://www.tutorialspoint.com/hbase/hbase_delete_data.htm)"
   ]
  },
  {
   "cell_type": "code",
   "execution_count": null,
   "metadata": {
    "collapsed": true
   },
   "outputs": [],
   "source": [
    "deleteall '<table name>', '<row>'"
   ]
  },
  {
   "cell_type": "markdown",
   "metadata": {},
   "source": [
    "> **delete all the data in a hbase table / clear a table in hbase**"
   ]
  },
  {
   "cell_type": "markdown",
   "metadata": {},
   "source": [
    "[stackoverflow](https://stackoverflow.com/questions/9902353/how-to-clear-a-table-in-hbase)"
   ]
  },
  {
   "cell_type": "code",
   "execution_count": null,
   "metadata": {
    "collapsed": true
   },
   "outputs": [],
   "source": [
    "# equivalent to: disable -> drop -> create\n",
    "truncate 'yourTableName'"
   ]
  },
  {
   "cell_type": "markdown",
   "metadata": {},
   "source": [
    "> **select: reading a specific column**"
   ]
  },
  {
   "cell_type": "markdown",
   "metadata": {},
   "source": [
    "[tutorialspoint](https://www.tutorialspoint.com/hbase/hbase_read_data.htm)"
   ]
  },
  {
   "cell_type": "code",
   "execution_count": null,
   "metadata": {
    "collapsed": true
   },
   "outputs": [],
   "source": [
    "# format\n",
    "get 'table name', 'rowid', {COLUMN => 'column family:column name'}\n",
    "\n",
    "# example\n",
    "get 'emp', 'row1', {COLUMN => 'personal:name'}"
   ]
  },
  {
   "cell_type": "markdown",
   "metadata": {},
   "source": [
    "> **filter/where in hbase**"
   ]
  },
  {
   "cell_type": "markdown",
   "metadata": {},
   "source": [
    "* [hbase-shell-commands](https://learnhbase.wordpress.com/2013/03/02/hbase-shell-commands/)\n",
    "* [cloudera filter doc](https://www.cloudera.com/documentation/enterprise/5-5-x/topics/admin_hbase_filtering.html)\n",
    "* [hbase apache doc](http://hbase.apache.org/0.94/book/thrift.html)\n",
    "* [USEFUL: Different Types of Filters in HBase Shell](https://acadgild.com/blog/different-types-of-filters-in-hbase-shell)"
   ]
  },
  {
   "cell_type": "markdown",
   "metadata": {},
   "source": [
    "The following example are copied from [here](https://acadgild.com/blog/different-types-of-filters-in-hbase-shell)"
   ]
  },
  {
   "cell_type": "markdown",
   "metadata": {},
   "source": [
    "<img src=\"pic/bulktable.jpg\" style=\"width: 600px;height: 200px;\"/>"
   ]
  },
  {
   "cell_type": "code",
   "execution_count": null,
   "metadata": {
    "collapsed": true
   },
   "outputs": [],
   "source": [
    "# Show all the filters in hbase.\n",
    "show_filters"
   ]
  },
  {
   "cell_type": "markdown",
   "metadata": {},
   "source": [
    "**ValueFilter**: \n",
    "* output only the select cells from the hbase table\n",
    "* to select a column and output only a particular value of the selected column"
   ]
  },
  {
   "cell_type": "markdown",
   "metadata": {},
   "source": [
    "<img src=\"pic/valueFilter.png\" style=\"width: 600px;height: 150px;\"/>"
   ]
  },
  {
   "cell_type": "markdown",
   "metadata": {},
   "source": [
    "**SingleColumnValueFilter**: filter out rows matching the value of some column value"
   ]
  },
  {
   "cell_type": "markdown",
   "metadata": {},
   "source": [
    "<img src=\"pic/SingleColumnValueFilter.png\" style=\"width: 600px;height: 180px;\"/>"
   ]
  },
  {
   "cell_type": "markdown",
   "metadata": {},
   "source": [
    "**ColumnPrefixFilter**: to select a particular column name \n",
    "\n",
    "**PrefixFilter**: to select a particular row name"
   ]
  },
  {
   "cell_type": "markdown",
   "metadata": {},
   "source": [
    "<img src=\"pic/columnPrefixFilter.jpg\" style=\"width: 400px;height: 180px;\"/>"
   ]
  },
  {
   "cell_type": "markdown",
   "metadata": {},
   "source": [
    "# <a id='refer'>Reference</a>"
   ]
  },
  {
   "cell_type": "markdown",
   "metadata": {},
   "source": [
    "**HBase Stargate (REST API) client wrapper for Python.**\n",
    "* [Starbase](https://pypi.org/project/starbase/)\n",
    "* [Happybase](https://happybase.readthedocs.io/en/latest/)"
   ]
  }
 ],
 "metadata": {
  "kernelspec": {
   "display_name": "Python 3",
   "language": "python",
   "name": "python3"
  },
  "language_info": {
   "codemirror_mode": {
    "name": "ipython",
    "version": 3
   },
   "file_extension": ".py",
   "mimetype": "text/x-python",
   "name": "python",
   "nbconvert_exporter": "python",
   "pygments_lexer": "ipython3",
   "version": "3.6.3"
  }
 },
 "nbformat": 4,
 "nbformat_minor": 2
}
