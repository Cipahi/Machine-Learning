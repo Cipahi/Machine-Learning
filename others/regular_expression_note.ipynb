{
 "cells": [
  {
   "cell_type": "code",
   "execution_count": 1,
   "metadata": {
    "collapsed": true
   },
   "outputs": [],
   "source": [
    "import re"
   ]
  },
  {
   "cell_type": "markdown",
   "metadata": {},
   "source": [
    "# Regular Expression Note"
   ]
  },
  {
   "cell_type": "markdown",
   "metadata": {},
   "source": [
    "* [Summary](#summary)\n",
    "* [Example](#example)\n",
    "* [Note](#note)\n",
    "* [Reference](#refer)"
   ]
  },
  {
   "cell_type": "markdown",
   "metadata": {},
   "source": [
    "## <a id='summary'>Summary</a>"
   ]
  },
  {
   "cell_type": "markdown",
   "metadata": {},
   "source": [
    "* **a|b** -- Matches either a or b.\n",
    "\n",
    "* **+** -- 1 or more occurrences of the pattern to its left, e.g. 'i+' = one or more i's\n",
    "* ***** -- 0 or more occurrences of the pattern to its left\n",
    "* **?** -- match 0 or 1 occurrences of the pattern to its left\n",
    "* **{n}** -- repeat exact n times\n",
    "* **{n,}** -- repeat at least n times\n",
    "* **{n, m}** -- repeat [n-m] times\n",
    "\n",
    "* **[]**: Square brackets can be used to indicate a set of chars, so [abc] matches 'a' or 'b' or 'c'.\n",
    "\n",
    "* **()** -- Explicit capture the word in the bracket itself. For example, (a-z0-9) would capture the word \"a-z0-9\" itself.\n",
    "\n",
    "* a, X, 9, < -- ordinary characters just match themselves exactly.  \n",
    "* **.** (a period) -- matches any single character except newline '\\n'\n",
    "\n",
    "* **\\d** -- decimal digit [0-9] (some older regex utilities do not support \\d)\n",
    "* **\\D** -- Match a nondigit: [^0-9]\n",
    "\n",
    "* **\\w** -- (lowercase w) matches a \"word\" character: a letter or digit or underbar [a-zA-Z0-9_]. Note that although \"word\" is the mnemonic for this, it only matches a single word char, not a whole word. \n",
    "* **\\W** -- (upper case W) matches any non-word character.\n",
    "\n",
    "* \\t, \\n, \\r -- tab, newline, return\n",
    "\n",
    "* The meta-characters which do not match themselves because they have special meanings are: . ^ $ * + ? {} [ ] \\ | ( )\n",
    "\n",
    "* **^** (Caret) -- match the start the string \n",
    "* **$**  -- match the end of the string\n",
    "\n",
    "* **\\s** -- (lowercase s) matches a single whitespace character -- space, newline, return, tab, form [ \\n\\r\\t\\f]\n",
    "* **\\S** -- (upper case S) matches any non-whitespace character.\n",
    "\n",
    "* **\\b** -- boundary between word and non-word\n",
    "* **\\B** -- nonword boundary\n",
    "-> \\b should be the same as \\s+ except it can also capture the start and end of the input string.\n",
    "-> if we just use \\s+, the word that happens to be in start and end of the string wouldn't be captured.\n",
    "\n",
    "* **\\** -- inhibit the \"specialness\" of a character. So, for example, use \\. to match a period or \\\\ to match a slash. If you are unsure if a character has special meaning, such as '\\t', you can put a slash in front of it, \\\\t, to make sure it is treated just as a character."
   ]
  },
  {
   "cell_type": "markdown",
   "metadata": {},
   "source": [
    "## <a id='example'>Examples</a>"
   ]
  },
  {
   "cell_type": "code",
   "execution_count": 2,
   "metadata": {},
   "outputs": [
    {
     "name": "stdout",
     "output_type": "stream",
     "text": [
      "Found Cookies\n",
      "Found cookie\n",
      "Found Cookie\n",
      "Found Coookie\n"
     ]
    }
   ],
   "source": [
    "# example 1\n",
    "input_string = 'Sam: Cookies are here! Julie: The cookie is very good!! Cookie Coookie'\n",
    "matches = re.findall(r'[cC]o+kies?', input_string)\n",
    "# If-statement after matches() tests if it succeeded\n",
    "if matches:\n",
    "    for match in matches:\n",
    "        print ('Found', match)\n",
    "else:\n",
    "    print ('Did not find')"
   ]
  },
  {
   "cell_type": "code",
   "execution_count": 3,
   "metadata": {},
   "outputs": [
    {
     "name": "stdout",
     "output_type": "stream",
     "text": [
      "Found aaa\n",
      "Found \n"
     ]
    }
   ],
   "source": [
    "# example 2\n",
    "input_string = 'aaa'\n",
    "matches = re.findall(r'a*', input_string)\n",
    "# If-statement after matches() tests if it succeeded\n",
    "if matches:\n",
    "    for match in matches:\n",
    "        print ('Found', match) ## 'found all words'\n",
    "else:\n",
    "    print ('Did not find')"
   ]
  },
  {
   "cell_type": "code",
   "execution_count": 4,
   "metadata": {},
   "outputs": [
    {
     "name": "stdout",
     "output_type": "stream",
     "text": [
      "Found aaa\n"
     ]
    }
   ],
   "source": [
    "# example 3\n",
    "input_string = 'aaa'\n",
    "matches = re.findall(r'a+', input_string)\n",
    "# If-statement after matches() tests if it succeeded\n",
    "if matches:\n",
    "    for match in matches:\n",
    "        print ('Found', match) ## 'found all words'\n",
    "else:\n",
    "    print ('Did not find')"
   ]
  },
  {
   "cell_type": "code",
   "execution_count": 5,
   "metadata": {},
   "outputs": [
    {
     "name": "stdout",
     "output_type": "stream",
     "text": [
      "Found Sam\n",
      "Found Cookies\n",
      "Found are\n",
      "Found here\n",
      "Found Julie\n",
      "Found The\n",
      "Found cookie\n",
      "Found is\n",
      "Found very\n",
      "Found good\n",
      "Found Cookie\n",
      "Found Coookie\n"
     ]
    }
   ],
   "source": [
    "# example 4\n",
    "input_string = 'Sam: Cookies are here! Julie: The cookie is very good!! Cookie Coookie'\n",
    "matches = re.findall(r'[a-zA-Z]+', input_string)\n",
    "# If-statement after matches() tests if it succeeded\n",
    "if matches:\n",
    "    for match in matches:\n",
    "        print ('Found', match) ## 'found all words'\n",
    "else:\n",
    "    print ('Did not find')"
   ]
  },
  {
   "cell_type": "code",
   "execution_count": 6,
   "metadata": {},
   "outputs": [
    {
     "name": "stdout",
     "output_type": "stream",
     "text": [
      "Found 1\n",
      "Found 2\n",
      "Found 3\n",
      "Found 4\n",
      "Found 8\n",
      "Found 9\n",
      "Found 7\n",
      "Found 6\n"
     ]
    }
   ],
   "source": [
    "# example 5\n",
    "input_string = '12348976'\n",
    "matches = re.findall(r'[0-9]', input_string)\n",
    "# If-statement after matches() tests if it succeeded\n",
    "if matches:\n",
    "    for match in matches:\n",
    "        print ('Found', match) ## 'found all words'\n",
    "else:\n",
    "    print ('Did not find')"
   ]
  },
  {
   "cell_type": "code",
   "execution_count": 7,
   "metadata": {},
   "outputs": [
    {
     "name": "stdout",
     "output_type": "stream",
     "text": [
      "Found h\n",
      "Found e\n",
      "Found  \n",
      "Found d\n",
      "Found o\n",
      "Found g\n",
      "Found  \n",
      "Found i\n",
      "Found s\n",
      "Found  \n",
      "Found c\n",
      "Found u\n",
      "Found t\n",
      "Found e\n",
      "Found .\n"
     ]
    }
   ],
   "source": [
    "# example 6\n",
    "input_string = 'The dog is cute.'\n",
    "matches = re.findall(r'[^A-Z]', input_string)\n",
    "# If-statement after matches() tests if it succeeded\n",
    "if matches:\n",
    "    for match in matches:\n",
    "        print ('Found', match) ## 'found all words'\n",
    "else:\n",
    "    print ('Did not find')"
   ]
  },
  {
   "cell_type": "code",
   "execution_count": 8,
   "metadata": {},
   "outputs": [
    {
     "name": "stdout",
     "output_type": "stream",
     "text": [
      "Found Sam\n",
      "Found 100\n",
      "Found cookies\n",
      "Found are\n",
      "Found here\n",
      "Found Julie\n",
      "Found The\n",
      "Found cookie\n",
      "Found is\n",
      "Found very\n",
      "Found good\n",
      "Found Cookie\n",
      "Found Coookie\n"
     ]
    }
   ],
   "source": [
    "# example 7\n",
    "input_string = 'Sam: 100 cookies are here! Julie: The cookie is very good!! Cookie Coookie'\n",
    "matches = re.findall(r'[0-9a-zA-Z]+', input_string)\n",
    "# If-statement after matches() tests if it succeeded\n",
    "if matches:\n",
    "    for match in matches:\n",
    "        print ('Found', match) ## 'found all words and digits'\n",
    "else:\n",
    "    print ('Did not find')"
   ]
  },
  {
   "cell_type": "code",
   "execution_count": 9,
   "metadata": {},
   "outputs": [
    {
     "name": "stdout",
     "output_type": "stream",
     "text": [
      "Did not find\n"
     ]
    }
   ],
   "source": [
    "# example 8\n",
    "input_string = 'beggin'\n",
    "matches = re.findall(r'beg.n', input_string)\n",
    "# If-statement after matches() tests if it succeeded\n",
    "if matches:\n",
    "    for match in matches:\n",
    "        print ('Found', match) ## 'found all words'\n",
    "else:\n",
    "    print ('Did not find')"
   ]
  },
  {
   "cell_type": "code",
   "execution_count": 10,
   "metadata": {},
   "outputs": [
    {
     "name": "stdout",
     "output_type": "stream",
     "text": [
      "Found Sam: 100 cookies are here! Julie: The cookie is very good!! Cookie Coookie\n"
     ]
    }
   ],
   "source": [
    "# example 9\n",
    "input_string = 'Sam: 100 cookies are here! Julie: The cookie is very good!! Cookie Coookie'\n",
    "matches = re.findall(r'.+', input_string)\n",
    "# If-statement after matches() tests if it succeeded\n",
    "if matches:\n",
    "    for match in matches:\n",
    "        print ('Found', match) ## 'found all words'\n",
    "else:\n",
    "    print ('Did not find')"
   ]
  },
  {
   "cell_type": "code",
   "execution_count": 12,
   "metadata": {},
   "outputs": [
    {
     "name": "stdout",
     "output_type": "stream",
     "text": [
      "Found Sam\n",
      "Found 100\n",
      "Found cookies\n",
      "Found are\n",
      "Found here\n",
      "Found Julie\n",
      "Found The\n",
      "Found cookie\n",
      "Found is\n",
      "Found very\n",
      "Found good\n",
      "Found Cookie\n",
      "Found Coookie\n"
     ]
    }
   ],
   "source": [
    "# example 10\n",
    "input_string = 'Sam: 100 cookies are here! Julie: The cookie is very good. Cookie Coookie'\n",
    "matches = re.findall(r'[\\d\\w]+', input_string)\n",
    "# If-statement after matches() tests if it succeeded\n",
    "if matches:\n",
    "    for match in matches:\n",
    "        print ('Found', match) ## 'found all words and digits'\n",
    "else:\n",
    "    print ('Did not find')"
   ]
  },
  {
   "cell_type": "code",
   "execution_count": 13,
   "metadata": {},
   "outputs": [
    {
     "name": "stdout",
     "output_type": "stream",
     "text": [
      "Found Cookies are\n",
      "Found The cookie\n",
      "Found is very\n",
      "Found Cookie Coookie\n"
     ]
    }
   ],
   "source": [
    "# example 11\n",
    "input_string = 'Sam: Cookies are here! Julie: The cookie is very good!! Cookie Coookie'\n",
    "matches = re.findall(r'\\w+\\s\\w+', input_string)\n",
    "# If-statement after matches() tests if it succeeded\n",
    "if matches:\n",
    "    for match in matches:\n",
    "        print ('Found', match) ## 'found all words'\n",
    "else:\n",
    "    print ('Did not find')"
   ]
  },
  {
   "cell_type": "code",
   "execution_count": 14,
   "metadata": {},
   "outputs": [
    {
     "name": "stdout",
     "output_type": "stream",
     "text": [
      "Found The\n",
      "Found the\n"
     ]
    }
   ],
   "source": [
    "# example 12\n",
    "input_string = 'The other dog is happy.'\n",
    "matches = re.findall(r'[tT]he', input_string)\n",
    "# If-statement after matches() tests if it succeeded\n",
    "if matches:\n",
    "    for match in matches:\n",
    "        print ('Found', match) ## 'found all words'\n",
    "else:\n",
    "    print ('Did not find')"
   ]
  },
  {
   "cell_type": "code",
   "execution_count": 15,
   "metadata": {},
   "outputs": [
    {
     "name": "stdout",
     "output_type": "stream",
     "text": [
      "Found  the \n"
     ]
    }
   ],
   "source": [
    "# example 13\n",
    "input_string = 'The other dog is the happyest dog. The'\n",
    "matches = re.findall(r'\\s+[tT]he\\s+', input_string)\n",
    "# If-statement after matches() tests if it succeeded\n",
    "if matches:\n",
    "    for match in matches:\n",
    "        print ('Found', match) ## 'found The\"'\n",
    "else:\n",
    "    print ('Did not find')"
   ]
  },
  {
   "cell_type": "code",
   "execution_count": 16,
   "metadata": {},
   "outputs": [
    {
     "name": "stdout",
     "output_type": "stream",
     "text": [
      "Found The\n",
      "Found the\n",
      "Found The\n"
     ]
    }
   ],
   "source": [
    "# example 14\n",
    "input_string = 'The other dog is the happyest dog. The'\n",
    "matches = re.findall(r'\\b[tT]he\\b', input_string)\n",
    "# If-statement after matches() tests if it succeeded\n",
    "if matches:\n",
    "    for match in matches:\n",
    "        print ('Found', match) ## 'found The\"'\n",
    "else:\n",
    "    print ('Did not find')"
   ]
  },
  {
   "cell_type": "code",
   "execution_count": 17,
   "metadata": {},
   "outputs": [
    {
     "name": "stdout",
     "output_type": "stream",
     "text": [
      "Found the\n"
     ]
    }
   ],
   "source": [
    "# example 15\n",
    "input_string = 'The other dog is happy.'\n",
    "matches = re.findall(r'\\B[tT]he\\B', input_string)\n",
    "# If-statement after matches() tests if it succeeded\n",
    "if matches:\n",
    "    for match in matches:\n",
    "        print ('Found', match) ## 'found the in \"other\"'\n",
    "else:\n",
    "    print ('Did not find')"
   ]
  },
  {
   "cell_type": "code",
   "execution_count": 18,
   "metadata": {},
   "outputs": [
    {
     "name": "stdout",
     "output_type": "stream",
     "text": [
      "Found Cookies\n"
     ]
    }
   ],
   "source": [
    "# example 16\n",
    "input_string = 'Cookies are here! Cookie is here!'\n",
    "matches = re.findall(r'^Cookies?', input_string)\n",
    "# If-statement after matches() tests if it succeeded\n",
    "if matches:\n",
    "    for match in matches:\n",
    "        print ('Found', match) ## 'found Cookies'\n",
    "else:\n",
    "    print ('Did not find')"
   ]
  },
  {
   "cell_type": "code",
   "execution_count": 19,
   "metadata": {},
   "outputs": [
    {
     "name": "stdout",
     "output_type": "stream",
     "text": [
      "Found Cookie\n"
     ]
    }
   ],
   "source": [
    "# example 17\n",
    "input_string = 'Cookies are here! Cookie'\n",
    "matches = re.findall(r'Cookies?$', input_string)\n",
    "# If-statement after matches() tests if it succeeded\n",
    "if matches:\n",
    "    for match in matches:\n",
    "        print ('Found', match) ## 'found Cookie'\n",
    "else:\n",
    "    print ('Did not find')"
   ]
  },
  {
   "cell_type": "code",
   "execution_count": 20,
   "metadata": {},
   "outputs": [
    {
     "name": "stdout",
     "output_type": "stream",
     "text": [
      "Found \\t\n"
     ]
    }
   ],
   "source": [
    "# example 18\n",
    "input_string = r'Cookies are here! Cookie \\t' # notice r'' is used in here\n",
    "match = re.search(r'\\\\t', input_string)\n",
    "# If-statement after matches() tests if it succeeded\n",
    "if match:\n",
    "    print ('Found', match.group())  ## 'found \\t'\n",
    "else:\n",
    "    print ('Did not find')"
   ]
  },
  {
   "cell_type": "code",
   "execution_count": 21,
   "metadata": {},
   "outputs": [
    {
     "name": "stdout",
     "output_type": "stream",
     "text": [
      "Found xiaofengzhu2013@u.northwestern.edu@afaef\n"
     ]
    }
   ],
   "source": [
    "# example 19\n",
    "input_string = 'My email is xiaofengzhu2013@u.northwestern.edu@afaef'\n",
    "match = re.search(r'[\\d\\w]+@.+', input_string)\n",
    "# If-statement after search() tests if it succeeded\n",
    "if match:\n",
    "    print ('Found', match.group()) ## 'found xiaofengzhu2013@u.northwestern.edu'\n",
    "else:\n",
    "    print ('Did not find')"
   ]
  },
  {
   "cell_type": "code",
   "execution_count": 22,
   "metadata": {},
   "outputs": [
    {
     "name": "stdout",
     "output_type": "stream",
     "text": [
      "Found xiaofengzhu2013@u.northwestern.edu\n"
     ]
    }
   ],
   "source": [
    "# example 20\n",
    "input_string = 'My email is xiaofengzhu2013@u.northwestern.edu'\n",
    "match = re.search(r'[\\w.-]+@[\\w.-]+', input_string)\n",
    "# If-statement after search() tests if it succeeded\n",
    "if match:\n",
    "    print ('Found', match.group()) ## 'found xiaofengzhu2013@u.northwestern.edu'\n",
    "else:\n",
    "    print ('Did not find')"
   ]
  },
  {
   "cell_type": "code",
   "execution_count": 23,
   "metadata": {},
   "outputs": [
    {
     "name": "stdout",
     "output_type": "stream",
     "text": [
      "Found xiaofengzhu2013@u.northwestern.edu.\n",
      "Found xyxyxy@u.northwestern.edu.\n"
     ]
    }
   ],
   "source": [
    "# example 21\n",
    "input_string = 'My email is xiaofengzhu2013@u.northwestern.edu. His email is xyxyxy@u.northwestern.edu.'\n",
    "matches = re.findall(r'(((xiaofengzhu2013)|(xy){3})@[\\w.-]+)', input_string)\n",
    "# If-statement after search() tests if it succeeded\n",
    "if matches:\n",
    "    for match in matches:\n",
    "        print ('Found', match[0]) ## 'found both emails'\n",
    "else:\n",
    "    print ('Did not find')"
   ]
  },
  {
   "cell_type": "code",
   "execution_count": 24,
   "metadata": {},
   "outputs": [
    {
     "name": "stdout",
     "output_type": "stream",
     "text": [
      "Found 10/2/2018\n"
     ]
    }
   ],
   "source": [
    "# example 22\n",
    "input_string = 'The 1st lab was scheduled on 10/2/2018.'\n",
    "match = re.search(r'\\d+/\\d+/\\d+', input_string)\n",
    "# If-statement after search() tests if it succeeded\n",
    "if match:\n",
    "    print ('Found', match.group()) ## 'found 10/2/2018'\n",
    "else:\n",
    "    print ('Did not find')"
   ]
  },
  {
   "cell_type": "code",
   "execution_count": 25,
   "metadata": {},
   "outputs": [
    {
     "name": "stdout",
     "output_type": "stream",
     "text": [
      "Found 10/2/2018\n"
     ]
    }
   ],
   "source": [
    "# example 23\n",
    "input_string = 'The 1st lab was scheduled on 10/2/2018.'\n",
    "match = re.search(r'\\d+/\\d+/[12]\\d{3}', input_string)\n",
    "# If-statement after search() tests if it succeeded\n",
    "if match:\n",
    "    print ('Found', match.group()) ## 'found 10/2/2018'\n",
    "else:\n",
    "    print ('Did not find')"
   ]
  },
  {
   "cell_type": "code",
   "execution_count": 26,
   "metadata": {},
   "outputs": [
    {
     "name": "stdout",
     "output_type": "stream",
     "text": [
      "Found Cookie\n",
      "Found COOKIe\n"
     ]
    }
   ],
   "source": [
    "# example 24\n",
    "input_string = 'Cookie COOKIe'\n",
    "matches = re.findall(r'cookie', input_string, re.I)\n",
    "# If-statement after matches() tests if it succeeded\n",
    "if matches:\n",
    "    for match in matches:\n",
    "        print ('Found', match) ## 'found Cookie and COOKIe'\n",
    "else:\n",
    "    print ('Did not find')"
   ]
  },
  {
   "cell_type": "markdown",
   "metadata": {},
   "source": [
    "## <a id='note'>Notes</a>"
   ]
  },
  {
   "cell_type": "markdown",
   "metadata": {},
   "source": [
    "> **match** vs **findall**\n",
    "\n",
    "* **match** checks for a match only at the beginning of the string\n",
    "* **search** checks for a match anywhere in the string\n",
    "* **findall** checks for all the occurence\n",
    "* **finditer**"
   ]
  },
  {
   "cell_type": "code",
   "execution_count": 5,
   "metadata": {},
   "outputs": [
    {
     "name": "stdout",
     "output_type": "stream",
     "text": [
      "Did not find\n"
     ]
    }
   ],
   "source": [
    "input_string = 'The cookie is very good'\n",
    "match = re.match(r'cookie', input_string)\n",
    "# If-statement after match() tests if it succeeded\n",
    "if match:\n",
    "    print ('Found', match.group()) ## 'cookie'\n",
    "else:\n",
    "    print ('Did not find')"
   ]
  },
  {
   "cell_type": "code",
   "execution_count": 16,
   "metadata": {},
   "outputs": [
    {
     "name": "stdout",
     "output_type": "stream",
     "text": [
      "Found cookie\n"
     ]
    }
   ],
   "source": [
    "input_string = 'The cookie is very good. cookie'\n",
    "match = re.search(r'cookie', input_string)\n",
    "# If-statement after match() tests if it succeeded\n",
    "if match:\n",
    "    print ('Found', match.group()) ## 'cookie'\n",
    "else:\n",
    "    print ('Did not find')"
   ]
  },
  {
   "cell_type": "code",
   "execution_count": 17,
   "metadata": {},
   "outputs": [
    {
     "name": "stdout",
     "output_type": "stream",
     "text": [
      "Found ['coo', 'coo']\n"
     ]
    }
   ],
   "source": [
    "input_string = 'The cookie is very good. cookie'\n",
    "match = re.findall(r'(coo)kie', input_string)\n",
    "# If-statement after match() tests if it succeeded\n",
    "if match:\n",
    "    print ('Found', match) ## 'cookie'\n",
    "else:\n",
    "    print ('Did not find')"
   ]
  },
  {
   "cell_type": "code",
   "execution_count": 23,
   "metadata": {},
   "outputs": [
    {
     "data": {
      "text/plain": [
       "[(4, 10, 'cookie'), (25, 31, 'cookie')]"
      ]
     },
     "execution_count": 23,
     "metadata": {},
     "output_type": "execute_result"
    }
   ],
   "source": [
    "identified_pattern = []\n",
    "input_string = 'The cookie is very good. cookie'\n",
    "pattern_list = [r'cookie']\n",
    "for p in pattern_list:        \n",
    "    iter = re.finditer(p, input_string)\n",
    "    temp_pattern = [(m.start(0), m.start(0)+len(m.group()), m.group()) for m in iter]\n",
    "    identified_pattern+=temp_pattern\n",
    "    \n",
    "identified_pattern    "
   ]
  },
  {
   "cell_type": "markdown",
   "metadata": {},
   "source": [
    "> **?:**"
   ]
  },
  {
   "cell_type": "markdown",
   "metadata": {},
   "source": [
    "A group is, by default, capturing -- meaning you can fetch groups (sub-matches inside parens) with the group(int) method. \n",
    "\n",
    "A non-capturing group is just that -- don't capture the submatch. The group(int) method doesn't return submatches from non-capturing groups. Generally, if you don't need the value of a submatch, the group should be non-capturing, as there is no reason for the regex engine to collect the data for you, if you don't intend to use it. \n",
    "\n",
    "For example,\n",
    "* (?:abc){3} matches abcabcabc. No groups.\n",
    "* (abc){3} matches abcabcabc. First group matches abc.\n",
    "\n",
    "In short, regular expression will first capture the whole pattern and output it as match. With (abc), it will try to match the input string using the pattern abc again and output it as group 1. That's why we will have 2 outputs. abcabcabc and abc\n",
    "\n",
    "Reference\n",
    "* [refer](https://coderanch.com/t/466558/java/regular-expression)\n",
    "* [notation-in-regular-expression](https://stackoverflow.com/questions/36524507/notation-in-regular-expression)\n",
    "* [refcapture](https://www.regular-expressions.info/refcapture.html)"
   ]
  },
  {
   "cell_type": "code",
   "execution_count": 29,
   "metadata": {},
   "outputs": [
    {
     "name": "stdout",
     "output_type": "stream",
     "text": [
      "30 OCT 2015\n",
      "1 NOV 2010\n"
     ]
    }
   ],
   "source": [
    "str = \"\"\"COBOL is a compiled English-like computer programming language designed for business use. 122. On 30 OCT 2015 is a big date unlike 1 NOV 2010 \"\"\"\n",
    "\n",
    "# all = re.findall(r\"[\\d]{1,2} [ADFJMNOS]\\w* [\\d]{4}\", str) \n",
    "all = re.findall(r\"([\\d]{1,2}\\s(?:JAN|NOV|OCT|DEC)\\s[\\d]{4})\", str)\n",
    "for s in all:\n",
    "    print(s)"
   ]
  },
  {
   "cell_type": "code",
   "execution_count": 4,
   "metadata": {},
   "outputs": [
    {
     "name": "stdout",
     "output_type": "stream",
     "text": [
      "('30 OCT 2015', 'OCT')\n",
      "('1 NOV 2010', 'NOV')\n"
     ]
    }
   ],
   "source": [
    "str = \"\"\"COBOL is a compiled English-like computer programming language designed for business use. 122. On 30 OCT 2015 is a big date unlike 1 NOV 2010 \"\"\"\n",
    "\n",
    "all = re.findall(r\"([\\d]{1,2}\\s(JAN|NOV|OCT|DEC)\\s[\\d]{4})\", str)\n",
    "for s in all:\n",
    "    print(s)"
   ]
  },
  {
   "cell_type": "markdown",
   "metadata": {},
   "source": [
    "> **?=**\n",
    "\n",
    "positive lookahead: For example, q(?=u) matches a q that is followed by a u, without making the u part of the match.\n"
   ]
  },
  {
   "cell_type": "code",
   "execution_count": 34,
   "metadata": {},
   "outputs": [
    {
     "name": "stdout",
     "output_type": "stream",
     "text": [
      "Found q\n",
      "Found q\n"
     ]
    }
   ],
   "source": [
    "input_string = 'queen q qu'\n",
    "matches = re.findall(r'q(?=u)', input_string)\n",
    "# If-statement after matches() tests if it succeeded\n",
    "if matches:\n",
    "    for match in matches:\n",
    "        print ('Found', match) ## 'found Cookie and COOKIe'\n",
    "else:\n",
    "    print ('Did not find')\n",
    "    \n",
    "# the output matches the first & third word"
   ]
  },
  {
   "cell_type": "markdown",
   "metadata": {},
   "source": [
    "* https://www.regular-expressions.info/lookaround.html\n",
    "* https://stackoverflow.com/questions/1570896/what-does-mean-in-a-regular-expression/1570916#1570916\n",
    "* [Good explaination](https://www.regular-expressions.info/lookaround.html)"
   ]
  },
  {
   "cell_type": "markdown",
   "metadata": {},
   "source": [
    "> **?!**\n",
    "\n",
    "Negative lookahead: q(?!u) matches a q that is not followed by a u, without making the u part of the match."
   ]
  },
  {
   "cell_type": "code",
   "execution_count": 33,
   "metadata": {},
   "outputs": [
    {
     "name": "stdout",
     "output_type": "stream",
     "text": [
      "Found q\n"
     ]
    }
   ],
   "source": [
    "input_string = 'queen q qu'\n",
    "matches = re.findall(r'q(?!u)', input_string)\n",
    "# If-statement after matches() tests if it succeeded\n",
    "if matches:\n",
    "    for match in matches:\n",
    "        print ('Found', match) ## 'found Cookie and COOKIe'\n",
    "else:\n",
    "    print ('Did not find')\n",
    "    \n",
    "# the output matches the second word"
   ]
  },
  {
   "cell_type": "markdown",
   "metadata": {},
   "source": [
    "## <a id='refer'>Reference</a>\n",
    "\n",
    "* [Tutorialpoint - Python Regular Expressions](https://www.tutorialspoint.com/python/python_reg_expressions.htm)"
   ]
  }
 ],
 "metadata": {
  "kernelspec": {
   "display_name": "Python 3",
   "language": "python",
   "name": "python3"
  },
  "language_info": {
   "codemirror_mode": {
    "name": "ipython",
    "version": 3
   },
   "file_extension": ".py",
   "mimetype": "text/x-python",
   "name": "python",
   "nbconvert_exporter": "python",
   "pygments_lexer": "ipython3",
   "version": "3.6.3"
  }
 },
 "nbformat": 4,
 "nbformat_minor": 2
}
