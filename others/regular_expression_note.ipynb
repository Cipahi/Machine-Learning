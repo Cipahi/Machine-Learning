{
 "cells": [
  {
   "cell_type": "code",
   "execution_count": 2,
   "metadata": {
    "collapsed": true
   },
   "outputs": [],
   "source": [
    "import re"
   ]
  },
  {
   "cell_type": "markdown",
   "metadata": {},
   "source": [
    "a|b -- Matches either a or b.\n",
    "\n",
    "+ -- 1 or more occurrences of the pattern to its left, e.g. 'i+' = one or more i's\n",
    "* -- 0 or more occurrences of the pattern to its left\n",
    "? -- match 0 or 1 occurrences of the pattern to its left\n",
    "{n} -- repeat exact n times\n",
    "{n,} -- repeat at least n times\n",
    "{n, m} -- repeat [n-m] times\n",
    "\n",
    "[]: Square brackets can be used to indicate a set of chars, so [abc] matches 'a' or 'b' or 'c'.\n",
    "\n",
    "a, X, 9, < -- ordinary characters just match themselves exactly.  \n",
    ". (a period) -- matches any single character except newline '\\n'\n",
    "\n",
    "\\d -- decimal digit [0-9] (some older regex utilities do not support \\d)\n",
    "\\D -- Match a nondigit: [^0-9]\n",
    "\n",
    "\\w -- (lowercase w) matches a \"word\" character: a letter or digit or underbar [a-zA-Z0-9_]. Note that although \"word\" is the mnemonic for this, it only matches a single word char, not a whole word. \n",
    "\\W -- (upper case W) matches any non-word character.\n",
    "\n",
    "\\t, \\n, \\r -- tab, newline, return\n",
    "\n",
    "The meta-characters which do not match themselves because they have special meanings are: . ^ $ * + ? {} [ ] \\ | ( )\n",
    "\n",
    "^ (Caret) -- match the start the string \n",
    "$  -- match the end of the string\n",
    "\n",
    "\\s -- (lowercase s) matches a single whitespace character -- space, newline, return, tab, form [ \\n\\r\\t\\f]\n",
    "\\S -- (upper case S) matches any non-whitespace character.\n",
    "\n",
    "\\b -- boundary between word and non-word\n",
    "\\B -- nonword boundary\n",
    "-> \\b should be the same as \\s+ except it can also capture the start and end of the input string.\n",
    "-> if we just use \\s+, the word that happens to be in start and end of the string wouldn't be captured.\n",
    "\n",
    "\\ -- inhibit the \"specialness\" of a character. So, for example, use \\. to match a period or \\\\ to match a slash. If you are unsure if a character has special meaning, such as '\\t', you can put a slash in front of it, \\\\t, to make sure it is treated just as a character."
   ]
  },
  {
   "cell_type": "markdown",
   "metadata": {},
   "source": [
    "> **match** vs **findall**\n",
    "\n",
    "* **match** checks for a match only at the beginning of the string\n",
    "* **search** checks for a match anywhere in the string\n",
    "* **findall** checks for all the occurence\n",
    "* **finditer**"
   ]
  },
  {
   "cell_type": "code",
   "execution_count": 5,
   "metadata": {},
   "outputs": [
    {
     "name": "stdout",
     "output_type": "stream",
     "text": [
      "Did not find\n"
     ]
    }
   ],
   "source": [
    "input_string = 'The cookie is very good'\n",
    "match = re.match(r'cookie', input_string)\n",
    "# If-statement after match() tests if it succeeded\n",
    "if match:\n",
    "    print ('Found', match.group()) ## 'cookie'\n",
    "else:\n",
    "    print ('Did not find')"
   ]
  },
  {
   "cell_type": "code",
   "execution_count": 16,
   "metadata": {},
   "outputs": [
    {
     "name": "stdout",
     "output_type": "stream",
     "text": [
      "Found cookie\n"
     ]
    }
   ],
   "source": [
    "input_string = 'The cookie is very good. cookie'\n",
    "match = re.search(r'cookie', input_string)\n",
    "# If-statement after match() tests if it succeeded\n",
    "if match:\n",
    "    print ('Found', match.group()) ## 'cookie'\n",
    "else:\n",
    "    print ('Did not find')"
   ]
  },
  {
   "cell_type": "code",
   "execution_count": 17,
   "metadata": {},
   "outputs": [
    {
     "name": "stdout",
     "output_type": "stream",
     "text": [
      "Found ['coo', 'coo']\n"
     ]
    }
   ],
   "source": [
    "input_string = 'The cookie is very good. cookie'\n",
    "match = re.findall(r'(coo)kie', input_string)\n",
    "# If-statement after match() tests if it succeeded\n",
    "if match:\n",
    "    print ('Found', match) ## 'cookie'\n",
    "else:\n",
    "    print ('Did not find')"
   ]
  },
  {
   "cell_type": "code",
   "execution_count": 23,
   "metadata": {},
   "outputs": [
    {
     "data": {
      "text/plain": [
       "[(4, 10, 'cookie'), (25, 31, 'cookie')]"
      ]
     },
     "execution_count": 23,
     "metadata": {},
     "output_type": "execute_result"
    }
   ],
   "source": [
    "identified_pattern = []\n",
    "input_string = 'The cookie is very good. cookie'\n",
    "pattern_list = [r'cookie']\n",
    "for p in pattern_list:        \n",
    "    iter = re.finditer(p, input_string)\n",
    "    temp_pattern = [(m.start(0), m.start(0)+len(m.group()), m.group()) for m in iter]\n",
    "    identified_pattern+=temp_pattern\n",
    "    \n",
    "identified_pattern    "
   ]
  },
  {
   "cell_type": "markdown",
   "metadata": {},
   "source": [
    "> **?:**"
   ]
  },
  {
   "cell_type": "markdown",
   "metadata": {},
   "source": [
    "A group is, by default, capturing -- meaning you can fetch groups (sub-matches inside parens) with the group(int) method. \n",
    "\n",
    "A non-capturing group is just that -- don't capture the submatch. The group(int) method doesn't return submatches from non-capturing groups. Generally, if you don't need the value of a submatch, the group should be non-capturing, as there is no reason for the regex engine to collect the data for you, if you don't intend to use it. \n",
    "\n",
    "For example,\n",
    "* (?:abc){3} matches abcabcabc. No groups.\n",
    "* (abc){3} matches abcabcabc. First group matches abc.\n",
    "\n",
    "In short, regular expression will first capture the whole pattern and output it as match. With (abc), it will try to match the input string using the pattern abc again and output it as group 1. That's why we will have 2 outputs. abcabcabc and abc\n",
    "\n",
    "Reference\n",
    "* [refer](https://coderanch.com/t/466558/java/regular-expression)\n",
    "* [notation-in-regular-expression](https://stackoverflow.com/questions/36524507/notation-in-regular-expression)\n",
    "* [refcapture](https://www.regular-expressions.info/refcapture.html)"
   ]
  },
  {
   "cell_type": "code",
   "execution_count": 19,
   "metadata": {},
   "outputs": [
    {
     "name": "stdout",
     "output_type": "stream",
     "text": [
      "30 OCT 2015\n",
      "1 NOV 2010\n"
     ]
    }
   ],
   "source": [
    "str = \"\"\"COBOL is a compiled English-like computer programming language designed for business use. 122. On 30 OCT 2015 is a big date unlike 1 NOV 2010 \"\"\"\n",
    "\n",
    "# all = re.findall(r\"[\\d]{1,2} [ADFJMNOS]\\w* [\\d]{4}\", str) \n",
    "all = re.findall(r\"([\\d]{1,2}\\s(?:JAN|NOV|OCT|DEC)\\s[\\d]{4})\", str)\n",
    "for s in all:\n",
    "    print(s)"
   ]
  },
  {
   "cell_type": "code",
   "execution_count": 4,
   "metadata": {},
   "outputs": [
    {
     "name": "stdout",
     "output_type": "stream",
     "text": [
      "('30 OCT 2015', 'OCT')\n",
      "('1 NOV 2010', 'NOV')\n"
     ]
    }
   ],
   "source": [
    "str = \"\"\"COBOL is a compiled English-like computer programming language designed for business use. 122. On 30 OCT 2015 is a big date unlike 1 NOV 2010 \"\"\"\n",
    "\n",
    "all = re.findall(r\"([\\d]{1,2}\\s(JAN|NOV|OCT|DEC)\\s[\\d]{4})\", str)\n",
    "for s in all:\n",
    "    print(s)"
   ]
  },
  {
   "cell_type": "markdown",
   "metadata": {},
   "source": [
    "> **?=**"
   ]
  },
  {
   "cell_type": "markdown",
   "metadata": {},
   "source": [
    "* https://www.regular-expressions.info/lookaround.html\n",
    "* https://stackoverflow.com/questions/1570896/what-does-mean-in-a-regular-expression/1570916#1570916"
   ]
  }
 ],
 "metadata": {
  "kernelspec": {
   "display_name": "Python 3",
   "language": "python",
   "name": "python3"
  },
  "language_info": {
   "codemirror_mode": {
    "name": "ipython",
    "version": 3
   },
   "file_extension": ".py",
   "mimetype": "text/x-python",
   "name": "python",
   "nbconvert_exporter": "python",
   "pygments_lexer": "ipython3",
   "version": "3.6.3"
  }
 },
 "nbformat": 4,
 "nbformat_minor": 2
}
