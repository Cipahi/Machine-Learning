{
 "cells": [
  {
   "cell_type": "markdown",
   "metadata": {},
   "source": [
    "# Python Command Note"
   ]
  },
  {
   "cell_type": "markdown",
   "metadata": {},
   "source": [
    "---"
   ]
  },
  {
   "cell_type": "markdown",
   "metadata": {},
   "source": [
    "> **python class structure**"
   ]
  },
  {
   "cell_type": "code",
   "execution_count": null,
   "metadata": {
    "collapsed": true
   },
   "outputs": [],
   "source": [
    "class MissionFeature():\n",
    "    def __init__(self, global_parameter):\n",
    "        self.parameter = global_parameter\n",
    "\n",
    "    def method(self):\n",
    "        \"\"\"description\"\"\"\n",
    "\n",
    "        return \n",
    "\n",
    "if __name__ == '__main__':\n",
    "    mf = MissionFeature(my_parameter)\n",
    "    print(mf.method())\n"
   ]
  },
  {
   "cell_type": "markdown",
   "metadata": {},
   "source": [
    "> **for; while; ifelse**"
   ]
  },
  {
   "cell_type": "code",
   "execution_count": null,
   "metadata": {
    "collapsed": true
   },
   "outputs": [],
   "source": [
    "for i in range(0,9):\n",
    "    print(i)"
   ]
  },
  {
   "cell_type": "code",
   "execution_count": null,
   "metadata": {
    "collapsed": true
   },
   "outputs": [],
   "source": [
    "i = 0\n",
    "while i < 10:\n",
    "    print(i)\n",
    "    i+=1"
   ]
  },
  {
   "cell_type": "code",
   "execution_count": null,
   "metadata": {
    "collapsed": true
   },
   "outputs": [],
   "source": [
    "i = 0\n",
    "if i==0:\n",
    "    print('i is zero')\n",
    "else:    \n",
    "    print('i is not zero')"
   ]
  },
  {
   "cell_type": "markdown",
   "metadata": {},
   "source": [
    "> **Datetime Related Commands**"
   ]
  },
  {
   "cell_type": "markdown",
   "metadata": {},
   "source": [
    "* [StackOverFlow: How do I calculate the date six months from the current date using the datetime Python module?](https://stackoverflow.com/questions/546321/how-do-i-calculate-the-date-six-months-from-the-current-date-using-the-datetime)"
   ]
  },
  {
   "cell_type": "code",
   "execution_count": null,
   "metadata": {
    "collapsed": true
   },
   "outputs": [],
   "source": [
    "import datetime\n",
    "from dateutil.relativedelta import relativedelta"
   ]
  },
  {
   "cell_type": "code",
   "execution_count": null,
   "metadata": {
    "collapsed": true
   },
   "outputs": [],
   "source": [
    "# create datetime\n",
    "start_datetime = datetime.datetime(2010, 1, 1, 0, 0, 0)\n",
    "current_datetime = start_datetime + relativedelta(months=+6)\n",
    "\n",
    "print(start_datetime)\n",
    "print(current_datetime)"
   ]
  },
  {
   "cell_type": "code",
   "execution_count": null,
   "metadata": {
    "collapsed": true
   },
   "outputs": [],
   "source": [
    "# datetime comparison\n",
    "start_datetime < current_datetime"
   ]
  },
  {
   "cell_type": "markdown",
   "metadata": {},
   "source": [
    "> **Intersection between two list**"
   ]
  },
  {
   "cell_type": "markdown",
   "metadata": {},
   "source": [
    "[link](https://www.geeksforgeeks.org/python-intersection-two-lists/)"
   ]
  },
  {
   "cell_type": "code",
   "execution_count": 5,
   "metadata": {
    "collapsed": true
   },
   "outputs": [],
   "source": [
    "def intersection(lst1, lst2):\n",
    "    return list(set(lst1) & set(lst2))"
   ]
  },
  {
   "cell_type": "code",
   "execution_count": 6,
   "metadata": {},
   "outputs": [
    {
     "name": "stdout",
     "output_type": "stream",
     "text": [
      "[9, 10, 4, 5]\n"
     ]
    }
   ],
   "source": [
    "lst1 = [15, 9, 10, 56, 23, 78, 5, 4, 9]\n",
    "lst2 = [9, 4, 5, 36, 47, 26, 10, 45, 87]\n",
    "print(intersection(lst1, lst2))"
   ]
  },
  {
   "cell_type": "markdown",
   "metadata": {},
   "source": [
    "> **get the union of two lists**"
   ]
  },
  {
   "cell_type": "markdown",
   "metadata": {},
   "source": [
    "[link](https://www.saltycrane.com/blog/2008/01/how-to-find-intersection-and-union-of/)"
   ]
  },
  {
   "cell_type": "code",
   "execution_count": 7,
   "metadata": {},
   "outputs": [
    {
     "data": {
      "text/plain": [
       "[4, 5, 36, 9, 10, 45, 78, 15, 47, 87, 23, 56, 26]"
      ]
     },
     "execution_count": 7,
     "metadata": {},
     "output_type": "execute_result"
    }
   ],
   "source": [
    "list(set(lst1) | set(lst2))"
   ]
  },
  {
   "cell_type": "markdown",
   "metadata": {},
   "source": [
    "> **difference in lists**"
   ]
  },
  {
   "cell_type": "markdown",
   "metadata": {},
   "source": [
    "[stack](https://stackoverflow.com/questions/6486450/python-compute-list-difference)"
   ]
  },
  {
   "cell_type": "code",
   "execution_count": null,
   "metadata": {
    "collapsed": true
   },
   "outputs": [],
   "source": [
    "list(set([1,2,3,4]) - set([2,5]))"
   ]
  },
  {
   "cell_type": "markdown",
   "metadata": {},
   "source": [
    "> **Get unique list**"
   ]
  },
  {
   "cell_type": "code",
   "execution_count": null,
   "metadata": {
    "collapsed": true
   },
   "outputs": [],
   "source": [
    "a=[1,1,1,2,3]\n",
    "list(set(a))"
   ]
  },
  {
   "cell_type": "markdown",
   "metadata": {},
   "source": [
    "> **jupyter notebook custom image size**"
   ]
  },
  {
   "cell_type": "code",
   "execution_count": null,
   "metadata": {
    "collapsed": true
   },
   "outputs": [],
   "source": [
    "# only for illustration purpose. Make sure change cell to markdown\n",
    "<img src=\"pic/neo4j.png\" style=\"width: 600px;height: 450px;\"/>"
   ]
  },
  {
   "cell_type": "markdown",
   "metadata": {},
   "source": [
    "> **change color of text**"
   ]
  },
  {
   "cell_type": "markdown",
   "metadata": {},
   "source": [
    "<font color='red'>I am red text</font>"
   ]
  },
  {
   "cell_type": "markdown",
   "metadata": {},
   "source": [
    "> **yaml format**"
   ]
  },
  {
   "cell_type": "markdown",
   "metadata": {},
   "source": [
    "[Complete Introduction to yaml](https://github.com/Animosity/CraftIRC/wiki/Complete-idiot%27s-introduction-to-yaml)"
   ]
  },
  {
   "cell_type": "code",
   "execution_count": null,
   "metadata": {
    "collapsed": true
   },
   "outputs": [],
   "source": [
    "# use pound sign for comment\n",
    "# both works as long as the indent size is consistent\n",
    "formatting:\n",
    "  from-game:\n",
    "    chat: '(%sender%) %message%'\n",
    "    action: '* %sender% %message%'\n",
    "    num: 5\n",
    "\n",
    "\n",
    "formatting:\n",
    "        from-game:\n",
    "                chat: '(%sender%) %message%'\n",
    "                action: '* %sender% %message%'        "
   ]
  },
  {
   "cell_type": "code",
   "execution_count": null,
   "metadata": {
    "collapsed": true
   },
   "outputs": [],
   "source": [
    "# list. Both should work\n",
    "\n",
    "mylist:\n",
    "- 'item 1'\n",
    "- 'item 2'\n",
    "\n",
    "mylist:\n",
    "    - 100\n",
    "    - 200"
   ]
  },
  {
   "cell_type": "markdown",
   "metadata": {},
   "source": [
    "After creating the xxx.yaml file, this is the command to import the file into python script"
   ]
  },
  {
   "cell_type": "code",
   "execution_count": null,
   "metadata": {
    "collapsed": true
   },
   "outputs": [],
   "source": [
    "import yaml\n",
    "with open('example.yaml', 'r') as f:\n",
    "    params = yaml.load(f)"
   ]
  },
  {
   "cell_type": "markdown",
   "metadata": {},
   "source": [
    "> **note about run python script from command line and directory structure**"
   ]
  },
  {
   "cell_type": "markdown",
   "metadata": {},
   "source": [
    "* [StackOverFlow:ModuleNotFoundError issue for pytest](https://stackoverflow.com/questions/49605830/modulenotfounderror-issue-for-pytest)\n",
    "* [How to get the current working directory using python 3?](https://stackoverflow.com/questions/17359698/how-to-get-the-current-working-directory-using-python-3/17361545)"
   ]
  },
  {
   "cell_type": "markdown",
   "metadata": {},
   "source": [
    "Suppose the directory structure is like this with everything in the `home` folder:\n",
    "```\n",
    "src      \n",
    "  __init__.py\n",
    "  script1.py\n",
    "  script2.py\n",
    "test\n",
    "  test_fun.py\n",
    "```"
   ]
  },
  {
   "cell_type": "markdown",
   "metadata": {},
   "source": [
    "Some note about python file directory\n",
    "* 執行python abc.py時，如果abc.py裏頭有相對路徑，這個路徑是相對於“我們在command line的位置”\n",
    "    * 若我們從home執行pytest，若test_fun.py裡頭有相對路徑../，那麼實際上python會去找的檔案目錄位置home的上一層，而不是test_fun.py的上一層。\n",
    "    * 如果想要python去找test_fun.py的上一層，我們需要在test_fun.py加上下面這行，重新指定目前的位置是這個檔案的位置\n",
    "        * `os.chdir(os.path.dirname(__file__))` [reference link](https://stackoverflow.com/questions/17359698/how-to-get-the-current-working-directory-using-python-3/17361545)\n",
    "* When importing a file, Python only searches the current directory, the directory that the entry-point script is running from and sys.path.\n",
    "    * 如果想要import module，python會從我們下指定的地方去找有沒有這個檔案，如果沒有的話，他會從sys.path裡頭找，所以如果這個module不在“下指定”的位置，那我們要在script裡頭指名說要去哪個目錄找\n",
    "        * sys.path.insert(0, '../src/‘)\n",
    "        * sys.path.append('../src/‘)\n",
    "            * 用第一個較佳，因為python會先從我們指定的路徑裡頭去找。"
   ]
  },
  {
   "cell_type": "markdown",
   "metadata": {},
   "source": [
    "> **makefile related**"
   ]
  },
  {
   "cell_type": "markdown",
   "metadata": {},
   "source": [
    "* https://github.com/mwilliamson/python-makefile/blob/master/makefile\n",
    "* https://github.com/MSIA/msia423-example/blob/cmm-dev-model/analyze/Makefile\n",
    "* https://github.com/lucacolombomsia/turnover_analysis/blob/master/Makefile\n",
    "* https://krzysztofzuraw.com/blog/2016/makefiles-in-python-projects.html"
   ]
  },
  {
   "cell_type": "markdown",
   "metadata": {},
   "source": [
    "> **take arguement**"
   ]
  },
  {
   "cell_type": "code",
   "execution_count": null,
   "metadata": {
    "collapsed": true
   },
   "outputs": [],
   "source": [
    "import argparse\n",
    "parser = argparse.ArgumentParser()\n",
    "parser.add_argument('arg1', help=\"provide the path of the yaml file related to home directory\")\n",
    "\n",
    "args = parser.parse_args()\n",
    "    \n",
    "# use the input argument\n",
    "args.arg1"
   ]
  },
  {
   "cell_type": "markdown",
   "metadata": {},
   "source": [
    "> **create virtual env using conda**"
   ]
  },
  {
   "cell_type": "code",
   "execution_count": null,
   "metadata": {
    "collapsed": true
   },
   "outputs": [],
   "source": [
    "conda create -n myproject python=3\n",
    "source activate myproject \n",
    "source deactivate"
   ]
  },
  {
   "cell_type": "code",
   "execution_count": null,
   "metadata": {
    "collapsed": true
   },
   "outputs": [],
   "source": [
    "# put all the packages in the virtualenv into a txt file\n",
    "pip freeze > requirements.txt\n",
    "\n",
    "# install all the packages into txt file\n",
    "pip install -r requirements.txt"
   ]
  },
  {
   "cell_type": "markdown",
   "metadata": {},
   "source": [
    "> **markdown project directory**"
   ]
  },
  {
   "cell_type": "code",
   "execution_count": null,
   "metadata": {
    "collapsed": true
   },
   "outputs": [],
   "source": [
    "project\n",
    "|   README.md\n",
    "|   .gitignore\n",
    "|\n",
    "|__ data: contains the project related data \n",
    "|\n",
    "|__ src: source code used for this project\n",
    "│   │\n",
    "│   ├── customer_segment       <- customer segmentation related scripts\n",
    "│   │   ├── features               <- feature creation\n",
    "│   │   ├── models                 <- model building\n",
    "|\n",
    "|__ others: other files"
   ]
  },
  {
   "cell_type": "markdown",
   "metadata": {},
   "source": [
    "> **jupyter notebook picture**"
   ]
  },
  {
   "cell_type": "code",
   "execution_count": 1,
   "metadata": {},
   "outputs": [
    {
     "ename": "SyntaxError",
     "evalue": "invalid syntax (<ipython-input-1-6c90b5e49e61>, line 2)",
     "output_type": "error",
     "traceback": [
      "\u001b[0;36m  File \u001b[0;32m\"<ipython-input-1-6c90b5e49e61>\"\u001b[0;36m, line \u001b[0;32m2\u001b[0m\n\u001b[0;31m    <img src=\"pic/loss.png\" style=\"width: 600px;height: 450px;\"/>\u001b[0m\n\u001b[0m    ^\u001b[0m\n\u001b[0;31mSyntaxError\u001b[0m\u001b[0;31m:\u001b[0m invalid syntax\n"
     ]
    }
   ],
   "source": [
    "# set width and height\n",
    "<img src=\"pic/loss.png\" style=\"width: 600px;height: 450px;\"/>\n",
    "\n",
    "# original size\n",
    "![](_pic/intervention_example.png)"
   ]
  },
  {
   "cell_type": "markdown",
   "metadata": {},
   "source": [
    "> **separate string into characters list python | split a string into array of characters**\n",
    "\n",
    "[link](https://stackoverflow.com/questions/4978787/how-to-split-a-string-into-array-of-characters)"
   ]
  },
  {
   "cell_type": "code",
   "execution_count": 1,
   "metadata": {},
   "outputs": [
    {
     "data": {
      "text/plain": [
       "['a', 'p', 'p', 'l', 'e', '!', '!', ',', 'l', 'f', 'a', 'l', 'e', ',', 'f']"
      ]
     },
     "execution_count": 1,
     "metadata": {},
     "output_type": "execute_result"
    }
   ],
   "source": [
    "a='apple!!,lfale,f'\n",
    "list(a)"
   ]
  },
  {
   "cell_type": "markdown",
   "metadata": {},
   "source": [
    "> **count occurrences of all character in string**"
   ]
  },
  {
   "cell_type": "markdown",
   "metadata": {},
   "source": [
    "[performance comparison of different approaches](https://stackoverflow.com/questions/991350/counting-repeated-characters-in-a-string-in-python#43085208)"
   ]
  },
  {
   "cell_type": "code",
   "execution_count": 3,
   "metadata": {},
   "outputs": [
    {
     "data": {
      "text/plain": [
       "{'!': 2, ',': 2, 'a': 2, 'e': 2, 'f': 2, 'l': 3, 'p': 2}"
      ]
     },
     "execution_count": 3,
     "metadata": {},
     "output_type": "execute_result"
    }
   ],
   "source": [
    "a='apple!!,lfale,f'\n",
    "\n",
    "{c: a.count(c) for c in set(a)}"
   ]
  },
  {
   "cell_type": "markdown",
   "metadata": {},
   "source": [
    "> **separate text file by \\n python**\n",
    "\n",
    "[Best method for reading newline delimited files in Python and discarding the newlines?](https://stackoverflow.com/questions/544921/best-method-for-reading-newline-delimited-files-in-python-and-discarding-the-new)"
   ]
  },
  {
   "cell_type": "code",
   "execution_count": null,
   "metadata": {
    "collapsed": true
   },
   "outputs": [],
   "source": [
    "f = open('../data/LangId.test', 'rb')\n",
    "test = f.read().decode('utf8', 'backslashreplace').splitlines()\n",
    "f.close()"
   ]
  },
  {
   "cell_type": "markdown",
   "metadata": {},
   "source": [
    "> **get the max index list | find all positions of the maximum value in a list**\n",
    "\n",
    "[stackoverflow](https://stackoverflow.com/questions/3989016/how-to-find-all-positions-of-the-maximum-value-in-a-list)"
   ]
  },
  {
   "cell_type": "code",
   "execution_count": null,
   "metadata": {
    "collapsed": true
   },
   "outputs": [],
   "source": [
    "a.index(max(a))"
   ]
  },
  {
   "cell_type": "markdown",
   "metadata": {},
   "source": [
    "> **count number of show up in another list**\n",
    "\n",
    "[stackoverflow](https://stackoverflow.com/questions/53125803/count-number-of-show-up-in-another-list#53125825)"
   ]
  },
  {
   "cell_type": "code",
   "execution_count": 1,
   "metadata": {},
   "outputs": [
    {
     "data": {
      "text/plain": [
       "{'a': 2, 'b': 1}"
      ]
     },
     "execution_count": 1,
     "metadata": {},
     "output_type": "execute_result"
    }
   ],
   "source": [
    "total=[['a','a','b','b','b'],['a','c']]\n",
    "word=['a','b']\n",
    "\n",
    "{w: sum(w in l for l in total) for w in word}"
   ]
  },
  {
   "cell_type": "markdown",
   "metadata": {},
   "source": [
    "> **flatten list of lists**\n",
    "\n",
    "* [stack](https://stackoverflow.com/questions/952914/making-a-flat-list-out-of-list-of-lists-in-python)\n",
    "* [ frame two for loops in list comprehension python](https://stackoverflow.com/questions/18551458/how-to-frame-two-for-loops-in-list-comprehension-python)"
   ]
  },
  {
   "cell_type": "code",
   "execution_count": 2,
   "metadata": {},
   "outputs": [
    {
     "data": {
      "text/plain": [
       "['a', 'a', 'b', 'b', 'b', 'a', 'c']"
      ]
     },
     "execution_count": 2,
     "metadata": {},
     "output_type": "execute_result"
    }
   ],
   "source": [
    "[item for sublist in total for item in sublist]"
   ]
  },
  {
   "cell_type": "markdown",
   "metadata": {},
   "source": [
    "> **combine 1 gram into 2 gram list**\n",
    "\n",
    "[stack](https://stackoverflow.com/questions/17531684/n-grams-in-python-four-five-six-grams)"
   ]
  },
  {
   "cell_type": "code",
   "execution_count": 5,
   "metadata": {
    "collapsed": true
   },
   "outputs": [],
   "source": [
    "t_temp=[['a', 'a', 'b', 'a', 'c'], ['b', 'c', 'c']]\n",
    "n=2 # n-gram number\n",
    "\n",
    "# target output = [['a a', 'a b', 'b a', 'a c'], ['b c', 'c b']]"
   ]
  },
  {
   "cell_type": "code",
   "execution_count": 6,
   "metadata": {},
   "outputs": [
    {
     "data": {
      "text/plain": [
       "[['a a', 'a b', 'b a', 'a c'], ['b c', 'c c']]"
      ]
     },
     "execution_count": 6,
     "metadata": {},
     "output_type": "execute_result"
    }
   ],
   "source": [
    "[[' '.join(sentence[i : i + n]) for i in range(len(sentence)-n+1)] for sentence in t_temp]"
   ]
  },
  {
   "cell_type": "markdown",
   "metadata": {},
   "source": [
    "> **element-wise multiple two lists**\n",
    "\n",
    "[stack](https://stackoverflow.com/questions/10271484/how-to-perform-element-wise-multiplication-of-two-lists-in-python)"
   ]
  },
  {
   "cell_type": "code",
   "execution_count": 7,
   "metadata": {},
   "outputs": [
    {
     "data": {
      "text/plain": [
       "[3, 6, 3]"
      ]
     },
     "execution_count": 7,
     "metadata": {},
     "output_type": "execute_result"
    }
   ],
   "source": [
    "L1 = [1,2,3]\n",
    "L2 = [3,3,1]\n",
    "[i*j for i,j in zip(L1, L2)]"
   ]
  },
  {
   "cell_type": "markdown",
   "metadata": {},
   "source": [
    "> **dict of dict | High-performance container datatypes**\n",
    "\n",
    "[doc](https://docs.python.org/2/library/collections.html)"
   ]
  },
  {
   "cell_type": "code",
   "execution_count": 1,
   "metadata": {
    "collapsed": true
   },
   "outputs": [],
   "source": [
    "from collections import defaultdict"
   ]
  },
  {
   "cell_type": "code",
   "execution_count": 4,
   "metadata": {},
   "outputs": [
    {
     "name": "stdout",
     "output_type": "stream",
     "text": [
      "dict_items([('a', defaultdict(<class 'int'>, {'b': 1, 'c': 2})), ('b', defaultdict(<class 'int'>, {'c': 2}))])\n",
      "3\n"
     ]
    }
   ],
   "source": [
    "counts = defaultdict(lambda: defaultdict(int))\n",
    "\n",
    "counts['a']['b']=1\n",
    "counts['a']['c']=2\n",
    "counts['b']['c']=2\n",
    "\n",
    "print(counts.items())\n",
    "print(sum(counts['a'].values()))"
   ]
  },
  {
   "cell_type": "code",
   "execution_count": 10,
   "metadata": {},
   "outputs": [
    {
     "name": "stdout",
     "output_type": "stream",
     "text": [
      "b\n",
      "c\n",
      "c\n"
     ]
    }
   ],
   "source": [
    "for k in counts.keys():    \n",
    "    for sk in counts[k].keys():\n",
    "        print(sk)"
   ]
  },
  {
   "cell_type": "markdown",
   "metadata": {},
   "source": [
    "> **get top items from dictionary | top values from dictionary**\n",
    "\n",
    "[stack](https://stackoverflow.com/questions/11902665/top-values-from-dictionary)"
   ]
  },
  {
   "cell_type": "code",
   "execution_count": 13,
   "metadata": {},
   "outputs": [
    {
     "data": {
      "text/plain": [
       "[('and', 23), ('only.', 21), ('this', 14), ('test', 4), ('a', 2)]"
      ]
     },
     "execution_count": 13,
     "metadata": {},
     "output_type": "execute_result"
    }
   ],
   "source": [
    "from collections import Counter\n",
    "d = Counter({'a': 2, 'and': 23, 'this': 14, 'only.': 21, 'is': 2, 'work': 2, 'will': 2, 'as': 2, 'test': 4})\n",
    "d.most_common(5)"
   ]
  },
  {
   "cell_type": "markdown",
   "metadata": {},
   "source": [
    "> **read text files split by lines | \\n**"
   ]
  },
  {
   "cell_type": "code",
   "execution_count": null,
   "metadata": {
    "collapsed": true
   },
   "outputs": [],
   "source": [
    "f = open('ratemd.25k.all.txt', 'rb')\n",
    "ratemd = f.read().decode('utf8', 'backslashreplace').splitlines()\n",
    "f.close()"
   ]
  },
  {
   "cell_type": "markdown",
   "metadata": {
    "collapsed": true
   },
   "source": [
    "> **use matplotlib while running script on server**"
   ]
  },
  {
   "cell_type": "code",
   "execution_count": null,
   "metadata": {
    "collapsed": true
   },
   "outputs": [],
   "source": [
    "import matplotlib\n",
    "matplotlib.use('Agg')\n",
    "import matplotlib.pyplot as plt"
   ]
  },
  {
   "cell_type": "markdown",
   "metadata": {},
   "source": [
    "> **read all files from a directory**"
   ]
  },
  {
   "cell_type": "markdown",
   "metadata": {},
   "source": [
    "concat all the single csv files for each city into one csv file"
   ]
  },
  {
   "cell_type": "code",
   "execution_count": null,
   "metadata": {
    "collapsed": true
   },
   "outputs": [],
   "source": [
    "def read_all_files(dir_path):\n",
    "    data_files = glob.glob(dir_path)\n",
    "    frames = []\n",
    "    for f in data_files:\n",
    "        new_frame = pd.read_csv(f)\n",
    "        frames.append(new_frame)\n",
    "    return pd.concat(frames, ignore_index=True)\n",
    "\n",
    "if __name__ == '__main__':\n",
    "    atlanta_dir_path = \"../data/Atlanta/*.csv\"\n",
    "    atlanta = read_all_files(atlanta_dir_path)\n",
    "    atlanta.to_csv(\"../data/atlanta_all.csv\")\n",
    "\n",
    "    detroit_dir_path = \"../data/Detroit/*/*.csv\"\n",
    "    detroit = read_all_files(detroit_dir_path)\n",
    "    detroit.to_csv(\"../data/detroit_all.csv\")"
   ]
  },
  {
   "cell_type": "code",
   "execution_count": null,
   "metadata": {
    "collapsed": true
   },
   "outputs": [],
   "source": [
    "filepath = './abc/def/data'\n",
    "data = []\n",
    "for filename in os.listdir(filepath):\n",
    "    with open(filepath + filename, 'rb') as review:\n",
    "        data.append[review]"
   ]
  },
  {
   "cell_type": "markdown",
   "metadata": {},
   "source": [
    "rename files in a directory"
   ]
  },
  {
   "cell_type": "code",
   "execution_count": null,
   "metadata": {
    "collapsed": true
   },
   "outputs": [],
   "source": [
    "import os\n",
    "filepath = '/Users/johnnychiu/Desktop/kenny rogers'\n",
    "os.chdir(filepath)\n",
    "\n",
    "i=1\n",
    "for num, filename in enumerate(os.listdir(os.getcwd()), start= 1):\n",
    "    print(filename)\n",
    "    os.rename(filename, str(i)+'_'+filename)\n",
    "    i=i+1"
   ]
  }
 ],
 "metadata": {
  "kernelspec": {
   "display_name": "Python 3",
   "language": "python",
   "name": "python3"
  },
  "language_info": {
   "codemirror_mode": {
    "name": "ipython",
    "version": 3
   },
   "file_extension": ".py",
   "mimetype": "text/x-python",
   "name": "python",
   "nbconvert_exporter": "python",
   "pygments_lexer": "ipython3",
   "version": "3.6.8"
  }
 },
 "nbformat": 4,
 "nbformat_minor": 2
}
