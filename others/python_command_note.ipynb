{
 "cells": [
  {
   "cell_type": "markdown",
   "metadata": {},
   "source": [
    "# Python Command Note"
   ]
  },
  {
   "cell_type": "markdown",
   "metadata": {},
   "source": [
    "---"
   ]
  },
  {
   "cell_type": "markdown",
   "metadata": {},
   "source": [
    "> **python class structure**"
   ]
  },
  {
   "cell_type": "code",
   "execution_count": null,
   "metadata": {
    "collapsed": true
   },
   "outputs": [],
   "source": [
    "class MissionFeature():\n",
    "    def __init__(self, global_parameter):\n",
    "        self.parameter = global_parameter\n",
    "\n",
    "    def method(self):\n",
    "        \"\"\"description\"\"\"\n",
    "\n",
    "        return \n",
    "\n",
    "if __name__ == '__main__':\n",
    "    mf = MissionFeature(my_parameter)\n",
    "    print(mf.method())\n"
   ]
  },
  {
   "cell_type": "markdown",
   "metadata": {},
   "source": [
    "> **for; while; ifelse**"
   ]
  },
  {
   "cell_type": "code",
   "execution_count": 7,
   "metadata": {},
   "outputs": [
    {
     "name": "stdout",
     "output_type": "stream",
     "text": [
      "0\n",
      "1\n",
      "2\n",
      "3\n",
      "4\n",
      "5\n",
      "6\n",
      "7\n",
      "8\n"
     ]
    }
   ],
   "source": [
    "for i in range(0,9):\n",
    "    print(i)"
   ]
  },
  {
   "cell_type": "code",
   "execution_count": 9,
   "metadata": {},
   "outputs": [
    {
     "name": "stdout",
     "output_type": "stream",
     "text": [
      "0\n",
      "1\n",
      "2\n",
      "3\n",
      "4\n",
      "5\n",
      "6\n",
      "7\n",
      "8\n",
      "9\n"
     ]
    }
   ],
   "source": [
    "i = 0\n",
    "while i < 10:\n",
    "    print(i)\n",
    "    i+=1"
   ]
  },
  {
   "cell_type": "code",
   "execution_count": 10,
   "metadata": {},
   "outputs": [
    {
     "name": "stdout",
     "output_type": "stream",
     "text": [
      "i is zero\n"
     ]
    }
   ],
   "source": [
    "i = 0\n",
    "if i==0:\n",
    "    print('i is zero')\n",
    "else:    \n",
    "    print('i is not zero')"
   ]
  },
  {
   "cell_type": "markdown",
   "metadata": {},
   "source": [
    "> **Datetime Related Commands**"
   ]
  },
  {
   "cell_type": "markdown",
   "metadata": {},
   "source": [
    "* [StackOverFlow: How do I calculate the date six months from the current date using the datetime Python module?](https://stackoverflow.com/questions/546321/how-do-i-calculate-the-date-six-months-from-the-current-date-using-the-datetime)"
   ]
  },
  {
   "cell_type": "code",
   "execution_count": 1,
   "metadata": {
    "collapsed": true
   },
   "outputs": [],
   "source": [
    "import datetime\n",
    "from dateutil.relativedelta import relativedelta"
   ]
  },
  {
   "cell_type": "code",
   "execution_count": 5,
   "metadata": {},
   "outputs": [
    {
     "name": "stdout",
     "output_type": "stream",
     "text": [
      "2010-01-01 00:00:00\n",
      "2010-07-01 00:00:00\n"
     ]
    }
   ],
   "source": [
    "# create datetime\n",
    "start_datetime = datetime.datetime(2010, 1, 1, 0, 0, 0)\n",
    "current_datetime = start_datetime + relativedelta(months=+6)\n",
    "\n",
    "print(start_datetime)\n",
    "print(current_datetime)"
   ]
  },
  {
   "cell_type": "code",
   "execution_count": 6,
   "metadata": {},
   "outputs": [
    {
     "data": {
      "text/plain": [
       "True"
      ]
     },
     "execution_count": 6,
     "metadata": {},
     "output_type": "execute_result"
    }
   ],
   "source": [
    "# datetime comparison\n",
    "start_datetime < current_datetime"
   ]
  },
  {
   "cell_type": "markdown",
   "metadata": {},
   "source": [
    "> **Intersection between two list**"
   ]
  },
  {
   "cell_type": "markdown",
   "metadata": {},
   "source": [
    "[link](https://www.geeksforgeeks.org/python-intersection-two-lists/)"
   ]
  },
  {
   "cell_type": "code",
   "execution_count": 11,
   "metadata": {
    "collapsed": true
   },
   "outputs": [],
   "source": [
    "def intersection(lst1, lst2):\n",
    "    return list(set(lst1) & set(lst2))"
   ]
  },
  {
   "cell_type": "code",
   "execution_count": 12,
   "metadata": {},
   "outputs": [
    {
     "name": "stdout",
     "output_type": "stream",
     "text": [
      "[9, 10, 4, 5]\n"
     ]
    }
   ],
   "source": [
    "lst1 = [15, 9, 10, 56, 23, 78, 5, 4, 9]\n",
    "lst2 = [9, 4, 5, 36, 47, 26, 10, 45, 87]\n",
    "print(intersection(lst1, lst2))"
   ]
  },
  {
   "cell_type": "markdown",
   "metadata": {},
   "source": [
    "> **Get unique list**"
   ]
  },
  {
   "cell_type": "code",
   "execution_count": 13,
   "metadata": {},
   "outputs": [
    {
     "data": {
      "text/plain": [
       "[1, 2, 3]"
      ]
     },
     "execution_count": 13,
     "metadata": {},
     "output_type": "execute_result"
    }
   ],
   "source": [
    "a=[1,1,1,2,3]\n",
    "list(set(a))"
   ]
  },
  {
   "cell_type": "markdown",
   "metadata": {},
   "source": [
    "> **jupyter notebook custom image size**"
   ]
  },
  {
   "cell_type": "code",
   "execution_count": null,
   "metadata": {
    "collapsed": true
   },
   "outputs": [],
   "source": [
    "# only for illustration purpose. Make sure change cell to markdown\n",
    "<img src=\"pic/neo4j.png\" style=\"width: 600px;height: 450px;\"/>"
   ]
  },
  {
   "cell_type": "markdown",
   "metadata": {},
   "source": [
    "> **yaml format**"
   ]
  },
  {
   "cell_type": "markdown",
   "metadata": {},
   "source": [
    "[Complete Introduction to yaml](https://github.com/Animosity/CraftIRC/wiki/Complete-idiot%27s-introduction-to-yaml)"
   ]
  },
  {
   "cell_type": "code",
   "execution_count": null,
   "metadata": {
    "collapsed": true
   },
   "outputs": [],
   "source": [
    "# use pound sign for comment\n",
    "# both works as long as the indent size is consistent\n",
    "formatting:\n",
    "  from-game:\n",
    "    chat: '(%sender%) %message%'\n",
    "    action: '* %sender% %message%'\n",
    "    num: 5\n",
    "\n",
    "\n",
    "formatting:\n",
    "        from-game:\n",
    "                chat: '(%sender%) %message%'\n",
    "                action: '* %sender% %message%'        "
   ]
  },
  {
   "cell_type": "code",
   "execution_count": null,
   "metadata": {
    "collapsed": true
   },
   "outputs": [],
   "source": [
    "# list. Both should work\n",
    "\n",
    "mylist:\n",
    "- 'item 1'\n",
    "- 'item 2'\n",
    "\n",
    "mylist:\n",
    "    - 100\n",
    "    - 200"
   ]
  },
  {
   "cell_type": "markdown",
   "metadata": {},
   "source": [
    "After creating the xxx.yaml file, this is the command to import the file into python script"
   ]
  },
  {
   "cell_type": "code",
   "execution_count": null,
   "metadata": {
    "collapsed": true
   },
   "outputs": [],
   "source": [
    "import yaml\n",
    "with open('example.yaml', 'r') as f:\n",
    "    params = yaml.load(f)"
   ]
  },
  {
   "cell_type": "markdown",
   "metadata": {},
   "source": [
    "> **note about run python script from command line and directory structure**"
   ]
  },
  {
   "cell_type": "markdown",
   "metadata": {},
   "source": [
    "* [StackOverFlow:ModuleNotFoundError issue for pytest](https://stackoverflow.com/questions/49605830/modulenotfounderror-issue-for-pytest)\n",
    "* [How to get the current working directory using python 3?](https://stackoverflow.com/questions/17359698/how-to-get-the-current-working-directory-using-python-3/17361545)"
   ]
  },
  {
   "cell_type": "markdown",
   "metadata": {},
   "source": [
    "Suppose the directory structure is like this with everything in the `home` folder:\n",
    "```\n",
    "src      \n",
    "  __init__.py\n",
    "  script1.py\n",
    "  script2.py\n",
    "test\n",
    "  test_fun.py\n",
    "```"
   ]
  },
  {
   "cell_type": "markdown",
   "metadata": {},
   "source": [
    "Some note about python file directory\n",
    "* 執行python abc.py時，如果abc.py裏頭有相對路徑，這個路徑是相對於“我們在command line的位置”\n",
    "    * 若我們從home執行pytest，若test_fun.py裡頭有相對路徑../，那麼實際上python會去找的檔案目錄位置home的上一層，而不是test_fun.py的上一層。\n",
    "    * 如果想要python去找test_fun.py的上一層，我們需要在test_fun.py加上下面這行，重新指定目前的位置是這個檔案的位置\n",
    "        * `os.chdir(os.path.dirname(__file__))` [reference link](https://stackoverflow.com/questions/17359698/how-to-get-the-current-working-directory-using-python-3/17361545)\n",
    "* When importing a file, Python only searches the current directory, the directory that the entry-point script is running from and sys.path.\n",
    "    * 如果想要import module，python會從我們下指定的地方去找有沒有這個檔案，如果沒有的話，他會從sys.path裡頭找，所以如果這個module不在“下指定”的位置，那我們要在script裡頭指名說要去哪個目錄找\n",
    "        * sys.path.insert(0, '../src/‘)\n",
    "        * sys.path.append('../src/‘)\n",
    "            * 用第一個較佳，因為python會先從我們指定的路徑裡頭去找。"
   ]
  },
  {
   "cell_type": "markdown",
   "metadata": {},
   "source": [
    "> **makefile related**"
   ]
  },
  {
   "cell_type": "markdown",
   "metadata": {},
   "source": [
    "* https://github.com/mwilliamson/python-makefile/blob/master/makefile\n",
    "* https://github.com/MSIA/msia423-example/blob/cmm-dev-model/analyze/Makefile\n",
    "* https://github.com/lucacolombomsia/turnover_analysis/blob/master/Makefile\n",
    "* https://krzysztofzuraw.com/blog/2016/makefiles-in-python-projects.html"
   ]
  },
  {
   "cell_type": "markdown",
   "metadata": {},
   "source": [
    "> **take arguement**"
   ]
  },
  {
   "cell_type": "code",
   "execution_count": null,
   "metadata": {
    "collapsed": true
   },
   "outputs": [],
   "source": [
    "import argparse\n",
    "parser = argparse.ArgumentParser()\n",
    "parser.add_argument('arg1', help=\"provide the path of the yaml file related to home directory\")\n",
    "\n",
    "args = parser.parse_args()\n",
    "    \n",
    "# use the input argument\n",
    "args.arg1"
   ]
  },
  {
   "cell_type": "markdown",
   "metadata": {},
   "source": [
    "> **create virtual env using conda**"
   ]
  },
  {
   "cell_type": "code",
   "execution_count": null,
   "metadata": {
    "collapsed": true
   },
   "outputs": [],
   "source": [
    "conda create -n myproject python=3\n",
    "source activate myproject \n",
    "source deactivate"
   ]
  },
  {
   "cell_type": "code",
   "execution_count": null,
   "metadata": {
    "collapsed": true
   },
   "outputs": [],
   "source": [
    "# put all the packages in the virtualenv into a txt file\n",
    "pip freeze > requirements.txt\n",
    "\n",
    "# install all the packages into txt file\n",
    "pip install -r requirements.txt"
   ]
  },
  {
   "cell_type": "markdown",
   "metadata": {},
   "source": [
    "> **markdown project directory**"
   ]
  },
  {
   "cell_type": "code",
   "execution_count": null,
   "metadata": {
    "collapsed": true
   },
   "outputs": [],
   "source": [
    "project\n",
    "|   README.md\n",
    "|   .gitignore\n",
    "|\n",
    "|__ data: contains the project related data \n",
    "|\n",
    "|__ src: source code used for this project\n",
    "│   │\n",
    "│   ├── customer_segment       <- customer segmentation related scripts\n",
    "│   │   ├── features               <- feature creation\n",
    "│   │   ├── models                 <- model building\n",
    "|\n",
    "|__ others: other files"
   ]
  }
 ],
 "metadata": {
  "kernelspec": {
   "display_name": "Python 3",
   "language": "python",
   "name": "python3"
  },
  "language_info": {
   "codemirror_mode": {
    "name": "ipython",
    "version": 3
   },
   "file_extension": ".py",
   "mimetype": "text/x-python",
   "name": "python",
   "nbconvert_exporter": "python",
   "pygments_lexer": "ipython3",
   "version": "3.6.3"
  }
 },
 "nbformat": 4,
 "nbformat_minor": 2
}
