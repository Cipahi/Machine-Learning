{
 "cells": [
  {
   "cell_type": "markdown",
   "metadata": {},
   "source": [
    "# Python Data Visualization"
   ]
  },
  {
   "cell_type": "markdown",
   "metadata": {},
   "source": [
    "**Outline**\n",
    "\n",
    "* [histogram](#histogram)\n",
    "* [line](#line)\n",
    "* [bar](#bar)\n",
    "* [density](#density)"
   ]
  },
  {
   "cell_type": "markdown",
   "metadata": {},
   "source": [
    "---"
   ]
  },
  {
   "cell_type": "markdown",
   "metadata": {},
   "source": [
    "## <a id='histogram'>Histogram</a>"
   ]
  },
  {
   "cell_type": "markdown",
   "metadata": {},
   "source": [
    "* [matplotlib doc](https://matplotlib.org/2.1.1/gallery/statistics/hist.html)\n",
    "* [better example](https://matplotlib.org/1.2.1/examples/pylab_examples/histogram_demo.html)\n",
    "* [pandas histogram doc](https://pandas.pydata.org/pandas-docs/stable/visualization.html)"
   ]
  },
  {
   "cell_type": "code",
   "execution_count": null,
   "metadata": {
    "collapsed": true
   },
   "outputs": [],
   "source": [
    "import numpy as np\n",
    "import matplotlib.mlab as mlab\n",
    "import matplotlib.pyplot as plt"
   ]
  },
  {
   "cell_type": "code",
   "execution_count": null,
   "metadata": {
    "collapsed": true
   },
   "outputs": [],
   "source": [
    "# create np.array data\n",
    "mu, sigma = 100, 15\n",
    "x = mu + sigma*np.random.randn(10000)\n",
    "\n",
    "# the histogram of the data\n",
    "n, bins, patches = plt.hist(x, 50, normed=1, facecolor='green', alpha=0.75)\n",
    "\n",
    "# add a 'best fit' line\n",
    "# y = mlab.normpdf( bins, mu, sigma)\n",
    "# l = plt.plot(bins, y, 'r--', linewidth=1)\n",
    "\n",
    "plt.xlabel('Smarts')\n",
    "plt.ylabel('Probability')\n",
    "plt.title(r'$\\mathrm{Histogram\\ of\\ IQ:}\\ \\mu=100,\\ \\sigma=15$')\n",
    "plt.axis([40, 160, 0, 0.03])\n",
    "plt.grid(True)\n",
    "\n",
    "plt.show()"
   ]
  },
  {
   "cell_type": "markdown",
   "metadata": {},
   "source": [
    "> **Save Figure**"
   ]
  },
  {
   "cell_type": "markdown",
   "metadata": {},
   "source": [
    "when running python script on cmd, rememer to `plt.close()` after each plot, otherwise it will have some errors."
   ]
  },
  {
   "cell_type": "code",
   "execution_count": null,
   "metadata": {
    "collapsed": true
   },
   "outputs": [],
   "source": [
    "plt.savefig('jchiu_1.png')"
   ]
  },
  {
   "cell_type": "markdown",
   "metadata": {},
   "source": [
    "> **Ploting using pandas series**"
   ]
  },
  {
   "cell_type": "code",
   "execution_count": null,
   "metadata": {
    "collapsed": true
   },
   "outputs": [],
   "source": [
    "import pandas as pd"
   ]
  },
  {
   "cell_type": "code",
   "execution_count": null,
   "metadata": {
    "collapsed": true
   },
   "outputs": [],
   "source": [
    "# create np.array data\n",
    "mu, sigma = 100, 15\n",
    "x = mu + sigma*np.random.randn(10000)"
   ]
  },
  {
   "cell_type": "code",
   "execution_count": null,
   "metadata": {
    "collapsed": true
   },
   "outputs": [],
   "source": [
    "mypd = pd.DataFrame({'A':x})"
   ]
  },
  {
   "cell_type": "code",
   "execution_count": null,
   "metadata": {
    "collapsed": true
   },
   "outputs": [],
   "source": [
    "mypd['A'].hist(bins=100)"
   ]
  },
  {
   "cell_type": "markdown",
   "metadata": {},
   "source": [
    "## <a id='line'>Line Chart</a>"
   ]
  },
  {
   "cell_type": "markdown",
   "metadata": {},
   "source": [
    "* [link 1](https://medium.com/@mrpowers/working-with-dates-and-times-in-spark-491a9747a1d2)"
   ]
  },
  {
   "cell_type": "code",
   "execution_count": null,
   "metadata": {
    "collapsed": true
   },
   "outputs": [],
   "source": [
    "x = [2, 4, 6]\n",
    "y = [1, 3, 5]\n",
    "plt.plot(x, y)\n",
    "plt.show()"
   ]
  },
  {
   "cell_type": "code",
   "execution_count": null,
   "metadata": {
    "collapsed": true
   },
   "outputs": [],
   "source": [
    "# data\n",
    "year = [1960, 1970, 1980, 1990, 2000, 2010]\n",
    "pop_pakistan = [44.91, 58.09, 78.07, 107.7, 138.5, 170.6]\n",
    "pop_india = [449.48, 553.57, 696.783, 870.133, 1000.4, 1309.1]\n",
    "\n",
    "# plot\n",
    "plt.plot(year, pop_pakistan, color='g')\n",
    "plt.plot(year, pop_india, color='orange')\n",
    "\n",
    "# add title\n",
    "plt.xlabel('Countries')\n",
    "plt.ylabel('Population in million')\n",
    "plt.title('Pakistan India Population till 2010')\n",
    "\n",
    "# show\n",
    "plt.show()"
   ]
  },
  {
   "cell_type": "markdown",
   "metadata": {},
   "source": [
    "> **With Legend**"
   ]
  },
  {
   "cell_type": "code",
   "execution_count": null,
   "metadata": {
    "collapsed": true
   },
   "outputs": [],
   "source": [
    "def plot_lines(name, value1, value2, legend, xlabel, ylabel, legend_title, title):\n",
    "    \"\"\"plot multiple line chart with legend\"\"\"\n",
    "    \n",
    "    fig, ax = plt.subplots(figsize=(20,10))\n",
    "    x = np.arange(len(name))\n",
    "    ax.plot(x, value1, label=legend[0]) #, color='g'\n",
    "    ax.plot(x, value2, label=legend[1]) #, color='orange'\n",
    "\n",
    "    # add legend\n",
    "    ax.set_xticks(x)\n",
    "    ax.set_xticklabels(name)\n",
    "    ax.legend(title=legend_title)\n",
    "\n",
    "    # add title and label\n",
    "    ax.set_xlabel(xlabel)\n",
    "    ax.set_ylabel(ylabel)\n",
    "    ax.set_title(title)\n",
    "    ax.grid()\n",
    "\n",
    "    # show\n",
    "    plt.show()\n",
    "    plt.close()     "
   ]
  },
  {
   "cell_type": "code",
   "execution_count": null,
   "metadata": {
    "collapsed": true
   },
   "outputs": [],
   "source": [
    "plot_lines(name=[1960, 1970, 1980, 1990, 2000, 2010], \n",
    "           value1=[44.91, 58.09, 78.07, 107.7, 138.5, 170.6], \n",
    "           value2=[449.48, 553.57, 696.783, 870.133, 1000.4, 1309.1], \n",
    "           legend=['Pakistan','India'], \n",
    "           xlabel='Countries', \n",
    "           ylabel='Population in million', \n",
    "           legend_title=\"Country\", \n",
    "           title='Pakistan India Population till 2010')"
   ]
  },
  {
   "cell_type": "markdown",
   "metadata": {},
   "source": [
    "## <a id='bar'>Bar Chart</a>"
   ]
  },
  {
   "cell_type": "markdown",
   "metadata": {},
   "source": [
    "> **Bar Chart**"
   ]
  },
  {
   "cell_type": "markdown",
   "metadata": {},
   "source": [
    "* [Barchart with label](https://matplotlib.org/gallery/lines_bars_and_markers/barchart.html#sphx-glr-gallery-lines-bars-and-markers-barchart-py)\n",
    "* [Stacked Bar Graph](https://matplotlib.org/gallery/lines_bars_and_markers/bar_stacked.html#sphx-glr-gallery-lines-bars-and-markers-bar-stacked-py)"
   ]
  },
  {
   "cell_type": "code",
   "execution_count": null,
   "metadata": {
    "collapsed": true
   },
   "outputs": [],
   "source": [
    "# def plot_bar_chart(name, value, xlabel, ylabel, title):\n",
    "#     \"\"\"both name and value are list\"\"\"\n",
    "    \n",
    "#     # plot\n",
    "#     barWidth = 0.85\n",
    "#     x = np.arange(0.9, len(name)) # specify the location of x ticks and then use .xticks to put on the actual category later\n",
    "#     plt.bar(x, value, width=barWidth, color='#49639a')\n",
    "\n",
    "#     # Custom x axis\n",
    "# #     r = np.arange(0.9,len(name))   \n",
    "#     plt.xticks(x, name)#,rotation=90\n",
    "#     plt.xlabel(xlabel)\n",
    "#     plt.ylabel(ylabel)    \n",
    "#     plt.title(title)    \n",
    "#     # plt.ylim([0, 100])\n",
    "\n",
    "#     # save graphic\n",
    "#     plt.show()   \n",
    "#     plt.close() "
   ]
  },
  {
   "cell_type": "code",
   "execution_count": null,
   "metadata": {
    "collapsed": true
   },
   "outputs": [],
   "source": [
    "def plot_bar_chart(name, value, xlabel, ylabel, title, bar_label = False):\n",
    "    \"\"\"both name and value are list\"\"\"\n",
    "    \n",
    "    # create fig and ax\n",
    "    fig, ax = plt.subplots()#figsize=(20,10)\n",
    "    x = np.arange(len(name))\n",
    "    bar1 = ax.bar(x, value, color='#49639a')\n",
    "    \n",
    "    # Add some text for labels, title and custom x-axis tick labels, etc.\n",
    "    ax.set_xlabel(xlabel)\n",
    "    ax.set_ylabel(ylabel)\n",
    "    ax.set_title(title)\n",
    "    ax.set_xticks(x)\n",
    "    ax.set_xticklabels(name)\n",
    "\n",
    "    def autolabel(rects, xpos='center'):\n",
    "        \"\"\"\n",
    "        Attach a text label above each bar in *rects*, displaying its height.\n",
    "\n",
    "        *xpos* indicates which side to place the text w.r.t. the center of\n",
    "        the bar. It can be one of the following {'center', 'right', 'left'}.\n",
    "        \"\"\"\n",
    "\n",
    "        xpos = xpos.lower()  # normalize the case of the parameter\n",
    "        ha = {'center': 'center', 'right': 'left', 'left': 'right'}\n",
    "        offset = {'center': 0.5, 'right': 0.57, 'left': 0.43}  # x_txt = x + w*off\n",
    "\n",
    "        for rect in rects:\n",
    "            height = rect.get_height()\n",
    "            ax.text(rect.get_x() + rect.get_width()*offset[xpos], 1.01*height,\n",
    "                    '{}'.format(height), ha=ha[xpos], va='bottom')\n",
    "\n",
    "    if bar_label:        \n",
    "        autolabel(bar1, \"center\")\n",
    "    \n",
    "    # save graphic\n",
    "    #plt.savefig('abc.png')\n",
    "    plt.show()   \n",
    "    plt.close() "
   ]
  },
  {
   "cell_type": "code",
   "execution_count": null,
   "metadata": {
    "collapsed": true
   },
   "outputs": [],
   "source": [
    "# Data\n",
    "names = ['A','B','C','D']\n",
    "list1 = [1,2,3,1.4]\n",
    "\n",
    "plot_bar_chart(names, list1, 'Category', 'Count', 'Bar Chart', bar_label=True)"
   ]
  },
  {
   "cell_type": "markdown",
   "metadata": {},
   "source": [
    "> **Stacked Bar Chart**"
   ]
  },
  {
   "cell_type": "code",
   "execution_count": null,
   "metadata": {
    "collapsed": true
   },
   "outputs": [],
   "source": [
    "totals"
   ]
  },
  {
   "cell_type": "code",
   "execution_count": null,
   "metadata": {
    "collapsed": true
   },
   "outputs": [],
   "source": [
    "# Data\n",
    "label_list = ['True','False']\n",
    "names = ['A','B','C']\n",
    "list1 = [1.0,2,3]\n",
    "list2 = [4,3,10]\n",
    "r = np.arange(0.9,len(list1))  \n",
    "\n",
    "# From raw value to percentage\n",
    "totals = [i+j for i,j in zip(list1, list2)]\n",
    "Bars1 = [i / j * 100 for i,j in zip(list1, totals)]\n",
    "Bars2 = [i / j * 100 for i,j in zip(list2, totals)]\n",
    "\n",
    "# plot\n",
    "barWidth = 0.85\n",
    "plt.bar(r, Bars1, width=barWidth, label = str(label_list[0]), color='#49639a')\n",
    "plt.bar(r, Bars2, bottom=Bars1,  edgecolor='white', width=barWidth, label = str(label_list[1]), color='#59a454')\n",
    "\n",
    "# Custom x axis  \n",
    "plt.xticks(r, names)\n",
    "plt.xlabel('Category')\n",
    "plt.ylabel('Ratio')    \n",
    "plt.title('Stacked Bar Chart')    \n",
    "plt.legend(title='Legend Title')\n",
    "# plt.ylim([0, 100])\n",
    "\n",
    "# save graphic\n",
    "plt.show()   \n",
    "plt.close()   "
   ]
  },
  {
   "cell_type": "markdown",
   "metadata": {},
   "source": [
    "> **Stacked Bar Chart version2**"
   ]
  },
  {
   "cell_type": "code",
   "execution_count": null,
   "metadata": {
    "collapsed": true
   },
   "outputs": [],
   "source": [
    "def plot_stacked_bar_chart(name, value1, value2, xlabel, ylabel, title, legend, bar_label = False):\n",
    "    \"\"\"both name and value are list\"\"\"\n",
    "    \n",
    "    # create fig and ax\n",
    "    fig, ax = plt.subplots()#figsize=(20,10)\n",
    "    x = np.arange(len(name))\n",
    "    bar1 = ax.bar(x, value1)\n",
    "    bar2 = ax.bar(x, value2, bottom=value1)  \n",
    "    \n",
    "    # Add some text for labels, title and custom x-axis tick labels, etc.\n",
    "    ax.set_xlabel(xlabel)\n",
    "    ax.set_ylabel(ylabel)\n",
    "    ax.set_title(title)\n",
    "    ax.set_xticks(x)\n",
    "#     plt.xticks(rotation=-30)\n",
    "    ax.set_xticklabels(name)\n",
    "    ax.legend((bar1[0], bar2[0]), legend)\n",
    "\n",
    "    plt.show()   \n",
    "    plt.close() "
   ]
  },
  {
   "cell_type": "code",
   "execution_count": null,
   "metadata": {
    "collapsed": true
   },
   "outputs": [],
   "source": [
    "plot_stacked_bar_chart([1,2,3,4,5], \n",
    "                       [20, 35, 30, 35, 27],                        \n",
    "                       [25, 32, 34, 20, 25],                       \n",
    "                       'x label', \n",
    "                       'y label', \n",
    "                       'Title',\n",
    "                       legend=['Yes','No'],\n",
    "                       bar_label=False)"
   ]
  },
  {
   "cell_type": "markdown",
   "metadata": {},
   "source": [
    "> **plot legend**"
   ]
  },
  {
   "cell_type": "markdown",
   "metadata": {},
   "source": [
    "[Stack](https://stackoverflow.com/questions/4534480/get-legend-as-a-separate-picture-in-matplotlib)"
   ]
  },
  {
   "cell_type": "code",
   "execution_count": null,
   "metadata": {
    "collapsed": true
   },
   "outputs": [],
   "source": [
    "# plot legend on top\n",
    "fig = plt.figure(figsize=(15, 1))\n",
    "ax = fig.add_subplot(111)\n",
    "ax.plot([], [], 'green', label='Test')\n",
    "ax.plot([], [], 'orange', label='Train')\n",
    "ax.legend(*ax.get_legend_handles_labels(), loc='right', prop={'size': 15}, ncol=2)\n",
    "ax.axis('off')\n",
    "ax.set_frame_on(False)"
   ]
  },
  {
   "cell_type": "markdown",
   "metadata": {},
   "source": [
    "> **horizontal bar chart**"
   ]
  },
  {
   "cell_type": "markdown",
   "metadata": {},
   "source": [
    "[stack](https://stackoverflow.com/questions/28931224/adding-value-labels-on-a-matplotlib-bar-chart)"
   ]
  },
  {
   "cell_type": "code",
   "execution_count": null,
   "metadata": {
    "collapsed": true
   },
   "outputs": [],
   "source": [
    "def plot_horizontal_bar(df, title, xlabel, ylabel, in_percentage):\n",
    "    \"\"\"plot horizontal bar chart\"\"\"\n",
    "\n",
    "    # better plotting format using seaborn\n",
    "    sns.set_style(\"dark\")\n",
    "    sns.set_style(\"whitegrid\")\n",
    "    sns.set()\n",
    "\n",
    "    # create fig and ax\n",
    "    fig, ax = plt.subplots()\n",
    "\n",
    "    # update value according to in_percentage or not\n",
    "    name = df.iloc[:, 0]\n",
    "    if in_percentage == True:\n",
    "        value = df.iloc[:, 1] * 100\n",
    "        ax.xaxis.set_major_formatter(mtick.PercentFormatter())\n",
    "    else:\n",
    "        value = df.iloc[:, 1]\n",
    "\n",
    "    # plot horizontal bar\n",
    "    x = np.arange(len(name))\n",
    "    ax.barh(x, value, color='#49639a')\n",
    "    plt.yticks(x, name);\n",
    "\n",
    "    # add title, x-y label\n",
    "    ax.set_title(title, fontsize=15)\n",
    "    ax.set_xlabel(xlabel)\n",
    "    ax.set_ylabel(ylabel)\n",
    "\n",
    "    # For each bar: Place a label\n",
    "    rects = ax.patches\n",
    "    for rect in rects:\n",
    "        # Get X and Y placement of label from rect\n",
    "        x_value = rect.get_width()\n",
    "        y_value = rect.get_y() + rect.get_height() / 2\n",
    "\n",
    "        # Number of points between bar and label\n",
    "        space = 5\n",
    "\n",
    "        # Use X value as label and reformat number\n",
    "        if in_percentage == True:\n",
    "            label = \"{:.0f}%\".format(x_value)\n",
    "        else:\n",
    "            label = \"{:.2f}\".format(x_value)\n",
    "\n",
    "        # Create annotation\n",
    "        plt.annotate(\n",
    "            label,  # Use `label` as label\n",
    "            (x_value, y_value),  # Place label at end of the bar\n",
    "            xytext=(space, 0),  # Horizontally shift label by `space`\n",
    "            textcoords=\"offset points\",  # Interpret `xytext` as offset in points\n",
    "            va='center',\n",
    "            fontweight=\"bold\",\n",
    "            fontsize=12)"
   ]
  },
  {
   "cell_type": "markdown",
   "metadata": {},
   "source": [
    "## <a id='density'>Density Plot</a>"
   ]
  },
  {
   "cell_type": "code",
   "execution_count": null,
   "metadata": {
    "collapsed": true
   },
   "outputs": [],
   "source": [
    "import seaborn as sns\n",
    "import matplotlib.pyplot as plt\n",
    "%matplotlib inline\n",
    "\n",
    "def prob_dist(df, col_name):\n",
    "        \n",
    "    sns.distplot(df[df['ami_flag'] == 0][col_name], hist = False, kde = True,\n",
    "                     kde_kws = {'shade': True, 'linewidth': 1}, \n",
    "                      label = 'ami-')\n",
    "    sns.distplot(df[df['ami_flag'] == 1][col_name], hist = False, kde = True,\n",
    "                     kde_kws = {'shade': True, 'linewidth': 1}, \n",
    "                      label = 'ami+')\n",
    "    \n",
    "    sns.set_style(\"whitegrid\", {'axes.grid' : False})\n",
    "    # Plot formatting\n",
    "    plt.title(col_name + ' Probability Density Plot')\n",
    "    plt.xlabel(col_name)\n",
    "    plt.ylabel('Density')\n",
    "    plt.savefig('/content/drive/My Drive/2018 Fall/Humana-Healthcare-Comp/Final Reports/figures/prob_density_' + col_name +'.png')\n",
    "    plt.show()"
   ]
  }
 ],
 "metadata": {
  "kernelspec": {
   "display_name": "Python 3",
   "language": "python",
   "name": "python3"
  },
  "language_info": {
   "codemirror_mode": {
    "name": "ipython",
    "version": 3
   },
   "file_extension": ".py",
   "mimetype": "text/x-python",
   "name": "python",
   "nbconvert_exporter": "python",
   "pygments_lexer": "ipython3",
   "version": "3.6.3"
  }
 },
 "nbformat": 4,
 "nbformat_minor": 2
}
