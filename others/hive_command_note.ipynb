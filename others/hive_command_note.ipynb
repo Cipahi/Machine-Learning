{
 "cells": [
  {
   "cell_type": "markdown",
   "metadata": {},
   "source": [
    "# Hive Command Note"
   ]
  },
  {
   "cell_type": "markdown",
   "metadata": {
    "collapsed": true
   },
   "source": [
    "* **Access Hive**: in cmd, type *`hive`*\n",
    "* **Run hive script**: xxx.hive"
   ]
  },
  {
   "cell_type": "markdown",
   "metadata": {},
   "source": [
    "* **STRUCT**: mystruct.first\n",
    "    * `<first, second>`\n",
    "* **ARRAY**: myarray[0] \n",
    "    * index based\n",
    "* **MAP**: myMap['KEY']\n",
    "    * key based"
   ]
  },
  {
   "cell_type": "markdown",
   "metadata": {},
   "source": [
    "1. employees.csv -> HDFS\n",
    "2. create table & load employees.csv\n",
    "3. drop employees table (Be careful that by dropping the table, HIVE will actually delete the original csv not just the table itself). Instead, we can create an external table."
   ]
  },
  {
   "cell_type": "code",
   "execution_count": null,
   "metadata": {
    "collapsed": true
   },
   "outputs": [],
   "source": [
    "LOAD DATA INPATH '...' INTO TABLE employees"
   ]
  },
  {
   "cell_type": "markdown",
   "metadata": {},
   "source": [
    "> **Create Table**"
   ]
  },
  {
   "cell_type": "code",
   "execution_count": null,
   "metadata": {
    "collapsed": true
   },
   "outputs": [],
   "source": [
    "CREATE TABLE myemployees( \n",
    "name STRING, \n",
    "salary FLOAT, \n",
    "subordinates ARRAY<STRING>, \n",
    "deductions MAP<STRING, FLOAT>, \n",
    "address STRUCT<street:STRING, city:STRING, state:STRING,zip:INT>)\n",
    "ROW FORMAT DELIMITED #\n",
    "FIELDS TERMINATED BY ',' #\n",
    "COLLECTION ITEMS TERMINATED BY '#' # split the struct type item by `#`\n",
    "MAP KEYS TERMINATED BY '-' # split the map type column by `-`\n",
    "LINES TERMINATED BY '\\N'; # separate line by `\\N`"
   ]
  },
  {
   "cell_type": "code",
   "execution_count": null,
   "metadata": {
    "collapsed": true
   },
   "outputs": [],
   "source": [
    "# create an external table\n",
    "CREATE EXTERNAL TABLE myemployees"
   ]
  },
  {
   "cell_type": "markdown",
   "metadata": {},
   "source": [
    "> **Query**"
   ]
  },
  {
   "cell_type": "code",
   "execution_count": null,
   "metadata": {
    "collapsed": true
   },
   "outputs": [],
   "source": [
    "select address.city from employees"
   ]
  },
  {
   "cell_type": "markdown",
   "metadata": {},
   "source": [
    "> **Database in HIVE**"
   ]
  },
  {
   "cell_type": "markdown",
   "metadata": {},
   "source": [
    "Each database is a collection of tables. \n",
    "[link](http://www.tutorialspoint.com/hive/hive_create_database.htm)"
   ]
  },
  {
   "cell_type": "code",
   "execution_count": null,
   "metadata": {
    "collapsed": true
   },
   "outputs": [],
   "source": [
    "# create database\n",
    "CREATE DATABASE [IF NOT EXISTS] userdb;\n",
    "\n",
    "# show all the databases\n",
    "show databases;\n",
    "\n",
    "# use a certain database, every table we create afterwards will be within the database\n",
    "use databaseName;"
   ]
  },
  {
   "cell_type": "markdown",
   "metadata": {},
   "source": [
    "> **Create User Defined Fucntions (UDF)**"
   ]
  },
  {
   "cell_type": "code",
   "execution_count": null,
   "metadata": {
    "collapsed": true
   },
   "outputs": [],
   "source": [
    "**Steps**\n",
    "* write in java\n",
    "* jar file\n",
    "* import jar file\n",
    "* use UDF as query"
   ]
  }
 ],
 "metadata": {
  "kernelspec": {
   "display_name": "Python 3",
   "language": "python",
   "name": "python3"
  },
  "language_info": {
   "codemirror_mode": {
    "name": "ipython",
    "version": 3
   },
   "file_extension": ".py",
   "mimetype": "text/x-python",
   "name": "python",
   "nbconvert_exporter": "python",
   "pygments_lexer": "ipython3",
   "version": "3.6.3"
  }
 },
 "nbformat": 4,
 "nbformat_minor": 2
}
