{
 "cells": [
  {
   "cell_type": "markdown",
   "metadata": {},
   "source": [
    "# Hive Command Note"
   ]
  },
  {
   "cell_type": "markdown",
   "metadata": {},
   "source": [
    "**Outline**\n",
    "\n",
    "* [Introduction](#intro)\n",
    "* [Syntax](#syntax)\n",
    "* [Reference](#refer)"
   ]
  },
  {
   "cell_type": "markdown",
   "metadata": {},
   "source": [
    "---"
   ]
  },
  {
   "cell_type": "markdown",
   "metadata": {},
   "source": [
    "Hive is a data warehouse infrastructure tool to process structured data in Hadoop. It resides on top of Hadoop to \n",
    "summarize Big Data, and makes querying and analyzing easy."
   ]
  },
  {
   "cell_type": "markdown",
   "metadata": {
    "collapsed": true
   },
   "source": [
    "* **Access Hive**: in cmd, type *`hive`*\n",
    "* **Run hive script**: hive -f xxx.hql"
   ]
  },
  {
   "cell_type": "markdown",
   "metadata": {},
   "source": [
    "> **Database in HIVE**"
   ]
  },
  {
   "cell_type": "markdown",
   "metadata": {},
   "source": [
    "Each database is a collection of tables. \n",
    "[link](http://www.tutorialspoint.com/hive/hive_create_database.htm)"
   ]
  },
  {
   "cell_type": "code",
   "execution_count": null,
   "metadata": {
    "collapsed": true
   },
   "outputs": [],
   "source": [
    "# create database\n",
    "CREATE DATABASE [IF NOT EXISTS] userdb;\n",
    "\n",
    "# show all the databases\n",
    "show databases;\n",
    "\n",
    "# use a certain database, every table we create afterwards will be within the database\n",
    "use databaseName;"
   ]
  },
  {
   "cell_type": "code",
   "execution_count": null,
   "metadata": {
    "collapsed": true
   },
   "outputs": [],
   "source": [
    "# drop database\n",
    "DROP DATABASE IF EXISTS userdb;"
   ]
  },
  {
   "cell_type": "markdown",
   "metadata": {},
   "source": [
    "> **Create Table**"
   ]
  },
  {
   "cell_type": "markdown",
   "metadata": {},
   "source": [
    "1. employees.csv -> HDFS\n",
    "2. create table & load employees.csv\n",
    "3. drop employees table (Be careful that by dropping the table, HIVE will actually delete the original csv not just the table itself). Instead, we can create an external table. \n",
    "    * External tables: if you drop them, data in hdfs will NOT be deleted."
   ]
  },
  {
   "cell_type": "markdown",
   "metadata": {},
   "source": [
    "**Data Types**\n",
    "* **Integers**\n",
    "    * *TINYINT*—1 byte integer\n",
    "    * *SMALLINT*—2 byte integer\n",
    "    * *INT*—4 byte integer\n",
    "    * *BIGINT*—8 byte integer\n",
    "* **Boolean type**\n",
    "    * *BOOLEAN*—TRUE/FALSE\n",
    "* **Floating point numbers**\n",
    "    * *FLOAT*—single precision\n",
    "    * *DOUBLE*—Double precision\n",
    "* **Fixed point numbers**\n",
    "    * *DECIMAL*—a fixed point value of user defined scale and precision\n",
    "* **String types**\n",
    "    * *STRING*—sequence of characters in a specified character set\n",
    "    * *VARCHAR*—sequence of characters in a specified character set with a maximum length\n",
    "    * *CHAR*—sequence of characters in a specified character set with a defined length\n",
    "* **Date and time types**\n",
    "    * *TIMESTAMP*— a specific point in time, up to nanosecond precision\n",
    "    * *DATE*—a date\n",
    "* **Binary types**\n",
    "    * *BINARY*—a sequence of bytes\n",
    "\n",
    "**Complex Types**\n",
    "* **Structs**: the elements within the type can be accessed using the DOT (.) notation. For example, for a column c of type STRUCT {a INT; b INT}, the a field is accessed by the expression c.a\n",
    "    * format: `<first, second>`\n",
    "    * access: mystruct.first    \n",
    "* **Maps (key-value tuples)**: The elements are accessed using ['element name'] notation. For example in a map M comprising of a mapping from 'group' -> gid the gid value can be accessed using M['group']\n",
    "    * format: index based\n",
    "    * access: myarray[0]\n",
    "* **Arrays (indexable lists)**: The elements in the array have to be in the same type. Elements can be accessed using the [n] notation where n is an index (zero-based) into the array. For example, for an array A having the elements ['a', 'b', 'c'], A[1] retruns 'b'.\n",
    "    * format: key based\n",
    "    * access: myMap['KEY']"
   ]
  },
  {
   "cell_type": "markdown",
   "metadata": {},
   "source": [
    "* **ROW FORMAT DELIMITED**: one row per line\n",
    "* **FIELDS TERMINATED BY ','**: split column by comma"
   ]
  },
  {
   "cell_type": "code",
   "execution_count": null,
   "metadata": {
    "collapsed": true
   },
   "outputs": [],
   "source": [
    "# use external table in this example\n",
    "CREATE EXTERNAL TABLE movies(\n",
    "    userid INT,\n",
    "    movieid INT,\n",
    "    rating INT,\n",
    "    timestamp TIMESTAMP)\n",
    "ROW FORMAT DELIMITED\n",
    "FIELDS TERMINATED BY '\\t';"
   ]
  },
  {
   "cell_type": "code",
   "execution_count": null,
   "metadata": {
    "collapsed": true
   },
   "outputs": [],
   "source": [
    "CREATE TABLE myemployees( \n",
    "    name STRING, \n",
    "    salary FLOAT, \n",
    "    subordinates ARRAY<STRING>, \n",
    "    deductions MAP<STRING, FLOAT>, \n",
    "    address STRUCT<street:STRING, city:STRING, state:STRING,zip:INT>)\n",
    "ROW FORMAT DELIMITED # This line is telling Hive to expect the file to contain one row per line. So basically, we are telling Hive that when it finds a new line character that means is a new records.\n",
    "FIELDS TERMINATED BY ',' # split column by comma\n",
    "COLLECTION ITEMS TERMINATED BY '#' # split the struct type item by `#`\n",
    "MAP KEYS TERMINATED BY '-' # split the map type column by `-`\n",
    "LINES TERMINATED BY '\\N'; # separate line by `\\N`"
   ]
  },
  {
   "cell_type": "markdown",
   "metadata": {},
   "source": [
    "> **load file from hdfs into hive**"
   ]
  },
  {
   "cell_type": "markdown",
   "metadata": {},
   "source": [
    "[StackOverFlow: Which is the difference between LOAD DATA INPATH and LOAD DATA LOCAL INPATH in HIVE](https://stackoverflow.com/questions/43204716/which-is-the-difference-between-load-data-inpath-and-load-data-local-inpath-in-h/43205970)"
   ]
  },
  {
   "cell_type": "code",
   "execution_count": null,
   "metadata": {
    "collapsed": true
   },
   "outputs": [],
   "source": [
    "# load data into table movie. Noted that the path is hdfs path\n",
    "# noted that the original file in hdfs://hw5/ will be move to ''hdfs://wolf.xxx.ooo.edu:8000/user/hive/warehouse/jchiu.db/movie/u.data'' after this command\n",
    "LOAD DATA INPATH 'hw5/u.data' into table movie;\n",
    "\n",
    "# load data into table movie. Noted that the path is local path\n",
    "# LOCAL is identifier to specify the local path. It is optional.\n",
    "# when using LOCAL, the file is copied to the hive directory\n",
    "LOAD DATA LOCAL INPATH 'localpath' into table movie;\n",
    "LOAD DATA LOCAL INPATH '/home/public/course/recommendationEngine/u.data' into table movies;"
   ]
  },
  {
   "cell_type": "code",
   "execution_count": null,
   "metadata": {
    "collapsed": true
   },
   "outputs": [],
   "source": [
    "# create an external table\n",
    "CREATE EXTERNAL TABLE myemployees"
   ]
  },
  {
   "cell_type": "code",
   "execution_count": null,
   "metadata": {
    "collapsed": true
   },
   "outputs": [],
   "source": [
    "LOAD DATA INPATH '...' INTO TABLE employees"
   ]
  },
  {
   "cell_type": "markdown",
   "metadata": {},
   "source": [
    "> **see column name; describe table**"
   ]
  },
  {
   "cell_type": "code",
   "execution_count": null,
   "metadata": {
    "collapsed": true
   },
   "outputs": [],
   "source": [
    "# method 1\n",
    "describe database.tablename;\n",
    "\n",
    "# method 2\n",
    "use database;\n",
    "describe tablename;"
   ]
  },
  {
   "cell_type": "markdown",
   "metadata": {},
   "source": [
    "> **Query**"
   ]
  },
  {
   "cell_type": "code",
   "execution_count": null,
   "metadata": {
    "collapsed": true
   },
   "outputs": [],
   "source": [
    "SELECT [ALL | DISTINCT] select_expr, select_expr, ... \n",
    "FROM table_reference \n",
    "[WHERE where_condition] \n",
    "[GROUP BY col_list] \n",
    "[HAVING having_condition] \n",
    "[ORDER BY col_list]] \n",
    "[LIMIT number];"
   ]
  },
  {
   "cell_type": "code",
   "execution_count": null,
   "metadata": {
    "collapsed": true
   },
   "outputs": [],
   "source": [
    "select address.city from employees"
   ]
  },
  {
   "cell_type": "markdown",
   "metadata": {},
   "source": [
    "> **show tables**"
   ]
  },
  {
   "cell_type": "code",
   "execution_count": null,
   "metadata": {
    "collapsed": true
   },
   "outputs": [],
   "source": [
    "# if already use database, it'll show tables in this database; if not, it'll show all the tables\n",
    "show tables;"
   ]
  },
  {
   "cell_type": "markdown",
   "metadata": {},
   "source": [
    "> **drop tables**"
   ]
  },
  {
   "cell_type": "markdown",
   "metadata": {},
   "source": [
    "[] means optional. When used, we don't need these."
   ]
  },
  {
   "cell_type": "code",
   "execution_count": null,
   "metadata": {
    "collapsed": true
   },
   "outputs": [],
   "source": [
    "DROP TABLE [IF EXISTS] table_name;"
   ]
  },
  {
   "cell_type": "markdown",
   "metadata": {},
   "source": [
    "> **create view in hive**"
   ]
  },
  {
   "cell_type": "code",
   "execution_count": null,
   "metadata": {
    "collapsed": true
   },
   "outputs": [],
   "source": [
    "CREATE VIEW [IF NOT EXISTS] emp_30000 AS\n",
    "SELECT * FROM employee\n",
    "WHERE salary>30000;"
   ]
  },
  {
   "cell_type": "markdown",
   "metadata": {},
   "source": [
    "> **drop a view**"
   ]
  },
  {
   "cell_type": "code",
   "execution_count": null,
   "metadata": {
    "collapsed": true
   },
   "outputs": [],
   "source": [
    "DROP VIEW view_name"
   ]
  },
  {
   "cell_type": "markdown",
   "metadata": {},
   "source": [
    "> **join**"
   ]
  },
  {
   "cell_type": "markdown",
   "metadata": {},
   "source": [
    "[tutorialspoint: hiveql join](https://www.tutorialspoint.com/hive/hiveql_joins.htm)\n",
    "\n",
    "Syntax-wise is essentially the same as SQL"
   ]
  },
  {
   "cell_type": "markdown",
   "metadata": {},
   "source": [
    "> **hive built in aggregation functions**"
   ]
  },
  {
   "cell_type": "markdown",
   "metadata": {},
   "source": [
    "[treasuredata: hive-aggregate-functions](https://docs.treasuredata.com/articles/hive-aggregate-functions)"
   ]
  },
  {
   "cell_type": "markdown",
   "metadata": {},
   "source": [
    "> **hive built in operators**"
   ]
  },
  {
   "cell_type": "markdown",
   "metadata": {},
   "source": [
    "[tutorialspoint: built-in operators](https://www.tutorialspoint.com/hive/hive_built_in_operators.htm)\n",
    "\n",
    "deal with NULL/NA, equal...etc"
   ]
  },
  {
   "cell_type": "markdown",
   "metadata": {},
   "source": [
    "> **writing data into the filesystem from queries**"
   ]
  },
  {
   "cell_type": "markdown",
   "metadata": {},
   "source": [
    "[hive doc](https://cwiki.apache.org/confluence/display/Hive/LanguageManual+DML#LanguageManualDML-Writingdataintothefilesystemfromqueries)"
   ]
  },
  {
   "cell_type": "markdown",
   "metadata": {},
   "source": [
    "* If LOCAL keyword is used, Hive will write data to the directory on the local file system.\n",
    "* Data written to the filesystem is serialized as text with columns separated by ^A and rows separated by newlines. If any of the columns are not of primitive type, then those columns are serialized to JSON format."
   ]
  },
  {
   "cell_type": "code",
   "execution_count": null,
   "metadata": {
    "collapsed": true
   },
   "outputs": [],
   "source": [
    "INSERT OVERWRITE [LOCAL] DIRECTORY directory1  \n",
    "  SELECT ... FROM ..."
   ]
  },
  {
   "cell_type": "markdown",
   "metadata": {},
   "source": [
    "> **Create User Defined Fucntions (UDF)**"
   ]
  },
  {
   "cell_type": "markdown",
   "metadata": {
    "collapsed": true
   },
   "source": [
    "**Steps**\n",
    "* write in java\n",
    "* jar file\n",
    "* import jar file\n",
    "* use UDF as query"
   ]
  },
  {
   "cell_type": "markdown",
   "metadata": {},
   "source": [
    "# Lab Material"
   ]
  },
  {
   "cell_type": "code",
   "execution_count": null,
   "metadata": {
    "collapsed": true
   },
   "outputs": [],
   "source": [
    "### sample code from lab\n",
    "\n",
    "CREATE EXTERNAL TABLE employees(\n",
    "name STRING,\n",
    "salary FLOAT)\n",
    "ROW FORMAT DELIMITED\n",
    "FIELDS TERMINATED BY ’,’; \n",
    "LOAD DATA INPATH ‘employees.csv’ into table employees;\n",
    "\n",
    "CREATE DATABASE msia;\n",
    "SHOW DATABASES;\n",
    "DROP DATABASE msia;\n",
    "USE msia;\n",
    "SHOW TABLES;\n",
    "\n",
    "CREATE TABLE employees(\n",
    "name STRING,\n",
    "salary FLOAT,\n",
    "subordinates ARRAY<STRING>, \n",
    "deductions MAP<STRING, FLOAT>, \n",
    "address STRUCT<street:STRING, city: STRING, state: STRING, zip: INT>); CREATE TABLE t (\n",
    "s STRING,\n",
    "f FLOAT,\n",
    "a ARRAY<MAP<STRING, STRUCT<p1: INT, p2:INT> >);\n",
    "ROW FORMAT DELIMITED\n",
    "FIELDS TERMINATED BY ’,’\n",
    "COLLECTION ITEMS TERMINATED BY ’#’\n",
    "MAP KEYS TERMINATED BY ’-’\n",
    "LINES TERMINATED BY ’\\n’;\n",
    "LOAD DATA INPATH ’employees.csv’ into table employees;"
   ]
  },
  {
   "cell_type": "markdown",
   "metadata": {},
   "source": [
    "---"
   ]
  },
  {
   "cell_type": "markdown",
   "metadata": {},
   "source": [
    "# <a id='refer'>Reference</a>"
   ]
  },
  {
   "cell_type": "markdown",
   "metadata": {},
   "source": [
    "* [Tutorialspoint Hive Tutorial](https://www.tutorialspoint.com/hive/index.htm)\n",
    "* [Hive tutorial doc](https://cwiki.apache.org/confluence/display/Hive/Tutorial)"
   ]
  }
 ],
 "metadata": {
  "kernelspec": {
   "display_name": "Python 3",
   "language": "python",
   "name": "python3"
  },
  "language_info": {
   "codemirror_mode": {
    "name": "ipython",
    "version": 3
   },
   "file_extension": ".py",
   "mimetype": "text/x-python",
   "name": "python",
   "nbconvert_exporter": "python",
   "pygments_lexer": "ipython3",
   "version": "3.6.3"
  }
 },
 "nbformat": 4,
 "nbformat_minor": 2
}
