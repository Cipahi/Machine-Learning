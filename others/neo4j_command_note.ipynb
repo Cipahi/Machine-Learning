{
 "cells": [
  {
   "cell_type": "markdown",
   "metadata": {},
   "source": [
    "# Neo4j command note"
   ]
  },
  {
   "cell_type": "markdown",
   "metadata": {},
   "source": [
    "**Outline**\n",
    "\n",
    "* [Introduction](#intro)\n",
    "* [Cypher Note](#cypher)\n",
    "* [Reference](#refer)"
   ]
  },
  {
   "cell_type": "markdown",
   "metadata": {},
   "source": [
    "---"
   ]
  },
  {
   "cell_type": "markdown",
   "metadata": {},
   "source": [
    "# <a id='intro'>Introduction</a>"
   ]
  },
  {
   "cell_type": "markdown",
   "metadata": {},
   "source": [
    "A graph database is an online database management system with Create, Read, Update and Delete (CRUD) operations working on a graph data model. \n",
    "\n",
    "**Why do we need Graph database**:\n",
    "The relationships between data points matter more than the individual points themselves. Generate deep insights over the data.\n",
    "\n",
    "**Graph Databases are composed of two elements: **\n",
    "* Nodes\n",
    "* Relationships (a.k.a. links/edges)\n",
    "\n",
    "**Note**\n",
    "* Both nodes and links can have attributes."
   ]
  },
  {
   "cell_type": "markdown",
   "metadata": {},
   "source": [
    "# <a id='cypher'>Cypher</a>"
   ]
  },
  {
   "cell_type": "markdown",
   "metadata": {},
   "source": [
    "In all the following example, any thing start with $ is a variable, which I can change it into something I want.\n",
    "Here is a screenshot after running the following creating related commands"
   ]
  },
  {
   "cell_type": "markdown",
   "metadata": {},
   "source": [
    "<img src=\"pic/neo4j.png\" style=\"width: 400px;height: 400px;\"/>"
   ]
  },
  {
   "cell_type": "markdown",
   "metadata": {},
   "source": [
    "> **show all nodes**"
   ]
  },
  {
   "cell_type": "code",
   "execution_count": null,
   "metadata": {
    "collapsed": true
   },
   "outputs": [],
   "source": [
    "MATCH (n) RETURN (n)"
   ]
  },
  {
   "cell_type": "markdown",
   "metadata": {},
   "source": [
    "> **create node**"
   ]
  },
  {
   "cell_type": "code",
   "execution_count": null,
   "metadata": {
    "collapsed": true
   },
   "outputs": [],
   "source": [
    "# format\n",
    "create ($variable: $NodeName{name: $value} )"
   ]
  },
  {
   "cell_type": "code",
   "execution_count": null,
   "metadata": {
    "collapsed": true
   },
   "outputs": [],
   "source": [
    "# example\n",
    "create (masud:User{name:\"masud\"}) \n",
    "create (goce:User{name:\"goce\"}) \n",
    "create (diego:User{name:\"diego\"}) \n",
    "create (sarah:User{name:\"sarah\"})"
   ]
  },
  {
   "cell_type": "code",
   "execution_count": null,
   "metadata": {
    "collapsed": true
   },
   "outputs": [],
   "source": [
    "create (gamestream:Channel{name:\"Masud’s online gaming\"}) \n",
    "create (lab430:Channel{name:\"Masud’s 430 lab\"})\n",
    "create (bigdataclass:Channel{name:\"Diego’s big data class\"}) \n",
    "create (sarahCalendar:Channel{name:\"Sarah’s calendar\"}) \n",
    "create (diegoCalendar:Channel{name:\"Diego’s calendar\"})"
   ]
  },
  {
   "cell_type": "markdown",
   "metadata": {},
   "source": [
    "> **delete node**"
   ]
  },
  {
   "cell_type": "code",
   "execution_count": null,
   "metadata": {
    "collapsed": true
   },
   "outputs": [],
   "source": [
    "### format\n",
    "MATCH ($variable: User { name: 'johnny' })\n",
    "DELETE $variable"
   ]
  },
  {
   "cell_type": "code",
   "execution_count": null,
   "metadata": {
    "collapsed": true
   },
   "outputs": [],
   "source": [
    "### example\n",
    "# create the node to be deleted\n",
    "create (jchiu:User{name:\"johnny\"})\n",
    "\n",
    "# delete a specific node using match\n",
    "MATCH (n:User { name: 'johnny' })\n",
    "DELETE n"
   ]
  },
  {
   "cell_type": "code",
   "execution_count": null,
   "metadata": {
    "collapsed": true
   },
   "outputs": [],
   "source": [
    "# delete everything\n",
    "MATCH (n) DETACH DELETE n"
   ]
  },
  {
   "cell_type": "markdown",
   "metadata": {},
   "source": [
    "> **Create links/relationships**"
   ]
  },
  {
   "cell_type": "code",
   "execution_count": null,
   "metadata": {
    "collapsed": true
   },
   "outputs": [],
   "source": [
    "### format version1, Preferable\n",
    "match ($variable1: $node_name1 {name:\"$target_name1\"}), ($variable2: $node_name2 {name:\"$target_name2\"})\n",
    "CREATE ($variable1)-[:$link_name]->($variable2)"
   ]
  },
  {
   "cell_type": "code",
   "execution_count": null,
   "metadata": {
    "collapsed": true
   },
   "outputs": [],
   "source": [
    "### example create in separate command\n",
    "MATCH (u:User {name:\"masud\"}), (c:Channel {name:\"Masud’s online gaming\"}) \n",
    "CREATE (u)-[:OWNS]->(c)\n",
    "\n",
    "MATCH (u:User {name:\"masud\"}), (c:Channel {name:\"Masud’s 430 lab\"})\n",
    "CREATE (u)-[:OWNS]->(c)\n",
    "\n",
    "MATCH (u:User {name:\"diego\"}), (c:Channel {name:\"Diego’s big data class\"}) \n",
    "CREATE (u)-[:OWNS]->(c)\n",
    "\n",
    "MATCH (u:User {name:\"sarah\"}), (c:Channel {name:\"Sarah’s calendar\"}) \n",
    "CREATE (u)-[:OWNS]->(c)\n",
    "\n",
    "MATCH (u:User {name:\"diego\"}), (c:Channel {name:\"Diego’s calendar\"}) \n",
    "CREATE (u)-[:OWNS]->(c)"
   ]
  },
  {
   "cell_type": "code",
   "execution_count": null,
   "metadata": {
    "collapsed": true
   },
   "outputs": [],
   "source": [
    "### format version2\n",
    "# noted that both $variable1 and $variable2 in this case are defined previously\n",
    "# this only works creating for altogheter, i.e., creating node and link in a single query\n",
    "create ($variable1)-[:$link_name]->($variable2)"
   ]
  },
  {
   "cell_type": "code",
   "execution_count": null,
   "metadata": {
    "collapsed": true
   },
   "outputs": [],
   "source": [
    "### example\n",
    "(masud)-[:OWNS]->(gamestream), (masud)-[:OWNS]->(lab430), (diego)-[:OWNS]->(bigdataclass), (sarah)-[:OWNS]->(sarahCalendar), (diego)-[:OWNS]->(diegoCalendar)\n",
    "\n",
    "# or \n",
    "(masud)-[:OWNS]->(gamestream)\n",
    "(masud)-[:OWNS]->(lab430)\n",
    "(diego)-[:OWNS]->(bigdataclass)\n",
    "(sarah)-[:OWNS]->(sarahCalendar)\n",
    "(diego)-[:OWNS]->(diegoCalendar)"
   ]
  },
  {
   "cell_type": "markdown",
   "metadata": {},
   "source": [
    "> **match**"
   ]
  },
  {
   "cell_type": "code",
   "execution_count": null,
   "metadata": {
    "collapsed": true
   },
   "outputs": [],
   "source": [
    "# Find anything named “goce”\n",
    "match (n {name:\"goce\"}) return n\n",
    "\n",
    "# Find users named “goce”\n",
    "match (n:User {name:\"goce\"}) return n\n",
    "\n",
    "# Find all users\n",
    "match (user:User) return user limit 3\n",
    "\n",
    "# Find users, return the names of them limiting output to be 3\n",
    "match (user:User) return user.name limit 3\n",
    "\n",
    "# List all class owned by masud\n",
    "MATCH (masud:User {name:\"masud\"})-[:OWNS]->(masudChannels) \n",
    "return masud,masudChannels\n",
    "\n",
    "# Who owned “Diego’s bigdataclass”?\n",
    "MATCH (c:Channel {name: \"Diego’s big data class\"})<-[:OWNS]-(owner)\n",
    "return owner.name\n",
    "\n",
    "# Masud’sco-subscribers\n",
    "match (masud:User {name:\"masud\"})-[:SUB_TO]->(c)<-[:SUB_TO]-(coSubs)\n",
    "return coSubs.name"
   ]
  },
  {
   "cell_type": "code",
   "execution_count": null,
   "metadata": {
    "collapsed": true
   },
   "outputs": [],
   "source": [
    "# Lets recommend new channels for masud to sub_to.\n",
    "# Extend masud’s co-subs, to find co-sub-channels that masud has not sub_to.\n",
    "\n",
    "# m collect all the channels that masud has subscribe to\n",
    "# coSubs collect all the Users that has subsrcibed to the channels that subcribed by masud\n",
    "# m2 records all the channels that these coSubs has subscribed to\n",
    "# RETURN the name of the courses that all the coSubs has subscribed to\n",
    "# WHERE filter out the channels that masud has not yet subscribed to\n",
    "\n",
    "match (masud:User {name:\"masud\"})-[:SUB_TO]->(m)<-[:SUB_TO]- (coSubs)-[:SUB_TO]->(m2) \n",
    "WHERE NOT (masud)-[:SUB_TO]->(m2) \n",
    "RETURN m2.name AS Recommended, count(*) AS Strength ORDER BY Strength DESC"
   ]
  },
  {
   "cell_type": "markdown",
   "metadata": {},
   "source": [
    "# <a id='refer'>Reference</a>"
   ]
  },
  {
   "cell_type": "markdown",
   "metadata": {},
   "source": [
    "**Reference**\n",
    "* [Neo4j Download Links](https://neo4j.com/download/)\n",
    "* [Install Neo4j: Youtube tutorial](https://www.youtube.com/watch?v=0FO81O-nTrc)\n",
    "* [Cypher Query Language](https://neo4j.com/developer/cypher/)\n",
    "* [Neo4j Sandbox](https://www.youtube.com/watch?v=7aON114bXxA)\n",
    "* [Cypher Documentation](https://neo4j.com/docs/developer-manual/current/cypher/)\n",
    "* Titan DB + Gephi\n",
    "    * [titan](http://titan.thinkaurelius.com/)\n",
    "    * [gephi](https://gephi.org/)"
   ]
  }
 ],
 "metadata": {
  "kernelspec": {
   "display_name": "Python 3",
   "language": "python",
   "name": "python3"
  },
  "language_info": {
   "codemirror_mode": {
    "name": "ipython",
    "version": 3
   },
   "file_extension": ".py",
   "mimetype": "text/x-python",
   "name": "python",
   "nbconvert_exporter": "python",
   "pygments_lexer": "ipython3",
   "version": "3.6.3"
  }
 },
 "nbformat": 4,
 "nbformat_minor": 2
}
