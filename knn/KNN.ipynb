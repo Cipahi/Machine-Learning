{
 "cells": [
  {
   "cell_type": "markdown",
   "metadata": {},
   "source": [
    "# KNN-Based Modeling"
   ]
  },
  {
   "cell_type": "markdown",
   "metadata": {},
   "source": [
    "**Outline**\n",
    "* [K-Nearest Neighbors](#knn)\n",
    "* [Local Polynomial Regression](#local)\n",
    "    * Local Weighted Average\n",
    "    * Local Linear\n",
    "    * Local Quadratic\n",
    "* [Example](#example)    \n",
    "* [Reference](#refer)\n",
    "    "
   ]
  },
  {
   "cell_type": "markdown",
   "metadata": {},
   "source": [
    "---"
   ]
  },
  {
   "cell_type": "markdown",
   "metadata": {},
   "source": [
    "## <a id='knn'>K-Nearest Neighbors</a>"
   ]
  },
  {
   "cell_type": "markdown",
   "metadata": {},
   "source": [
    "> **Idea**"
   ]
  },
  {
   "cell_type": "markdown",
   "metadata": {},
   "source": [
    "K-Nearest Neighbor(KNN) based model are a set of generic nonlinear modeling tool that is extremely flexible. The idea of these methods are perhaps the simplest comparing to other methods. We can somehow guess from the name of the method to know what the alrogithm is trying to do.\n",
    "\n",
    "Assume we have a set of training data {$y_i, x_i: i=1,2,\\dots,n$}. For 1-Nearest Neighbors, to predict $Y$ for a new case with predictos $x$:\n",
    "* find the $x_i$ in the training set that is the closest neighbor to $x$\n",
    "* then take the predicted $Y$ to be the response value for that training observation\n",
    "\n",
    "This is basically what KNN is. Instead of using only 1 nearest neighbor, it uses K nearest neighbor to make the predictions."
   ]
  },
  {
   "cell_type": "markdown",
   "metadata": {},
   "source": [
    "> **Pros and Cons**"
   ]
  },
  {
   "attachments": {},
   "cell_type": "markdown",
   "metadata": {},
   "source": [
    "* Pros\n",
    "    * The most flexible of all. It can represent any nonlinear relationship.\n",
    "    * Easy to use. No model fittign required.\n",
    "* Cons\n",
    "    * Not suitable for interpretation or explanatory purposes, since there is no real fitted model.\n",
    "    * Need to retain all the training data to make predictions.\n",
    "    * With large $k$(the number of predictors), we need very large $n$(number of observations), because neighbors get furhter away in higher dimensions.\n",
    "    * For most supervised learning methods, large n increases the computational expense for training, but not for new case prediction. Large n is more problematic for nearest neighbors, because the \"training\" occurs for every new case prediction \n",
    "    * With very large n, we need computational tricks (e.g. tree-based methods) to efficiently search for nearest neighbors.\n",
    "    * Not well suited for categorical predictors\n"
   ]
  },
  {
   "cell_type": "markdown",
   "metadata": {},
   "source": [
    "## <a id='local'>Local Polynomial Regression</a>"
   ]
  },
  {
   "cell_type": "markdown",
   "metadata": {},
   "source": [
    "KNN gives the same weight to all the nearest neighbors. Intuitively, we might want to give a higher weight to the observations that is nearer to the new observation that we want to make a prediction on. This is basically the idea of \n",
    "local polynomial regression."
   ]
  },
  {
   "cell_type": "markdown",
   "metadata": {},
   "source": [
    "### Local weighted average"
   ]
  },
  {
   "cell_type": "markdown",
   "metadata": {},
   "source": [
    "> **Idea**"
   ]
  },
  {
   "cell_type": "markdown",
   "metadata": {},
   "source": [
    "To further enhance KNN, we apply some functions according to the distance between the new and original observations. The idea is that the nearer the original observation to the new point, the higher weight we want to use when making a prediction. We call these kind of functions ***Kernel Weighting Functions***. "
   ]
  },
  {
   "cell_type": "markdown",
   "metadata": {},
   "source": [
    "> **Kernel Weighting Function**"
   ]
  },
  {
   "cell_type": "markdown",
   "metadata": {},
   "source": [
    "Three common types of kernel functions are shown in the figure below\n",
    "<img src=\"_pic/kernel.png\" style=\"width: 600px;height: 400px;\"/>\n",
    "\n",
    "\n",
    "We can see that for Gaussian kernel function, it smooth out when the distance is further away; while for TRi-cube and Epanechnikov kernel function, it doesn't have any weight for the points that is out of the [-1, 1] range. The trade of between choosing the Gaussian and the other two is *computational expenses*. Gaussian kernel fucntion intuitively makes more sense but it is computational more expense. It'll take more data into account for calculating their average for prediction."
   ]
  },
  {
   "cell_type": "markdown",
   "metadata": {},
   "source": [
    "> **Comparision of KNN and Kernel Weighting Average for sparse data**"
   ]
  },
  {
   "cell_type": "markdown",
   "metadata": {},
   "source": [
    "For sparse data, KNN method will be suffering from higher bias and lower variance, since the local window will try to average the result even if the nearest data point is somehow further away.\n",
    "\n",
    "While for local weighted average, it will have a lower bias but higher variance, since the width of the local window is fixe and it will hence generate a more complex model."
   ]
  },
  {
   "cell_type": "markdown",
   "metadata": {},
   "source": [
    "### Local Linear Regression"
   ]
  },
  {
   "cell_type": "markdown",
   "metadata": {},
   "source": [
    "> **Idea**"
   ]
  },
  {
   "cell_type": "markdown",
   "metadata": {},
   "source": [
    "A problem with both KNN and Local weighted average KNN is that they can have severe bias at the boundaries of the $x$-domain. In other words, if an observation lies on the boundary, it only have neighbors in one side, and making a prediction for these kinds of observation only depending on only one side of nearest neighbors can cause severe bias. An illustration of boundary bias is shown in the figure below\n",
    "\n",
    "<img src=\"_pic/boundary_bias.png\" style=\"width: 600px;height: 400px;\"/>\n"
   ]
  },
  {
   "cell_type": "markdown",
   "metadata": {},
   "source": [
    "The is where local linear regression come into play. Instead of using a local average for the predictor, it fit a local linear regression model.To prediction $Y$ at specific $x$, fit a linear regression that minimize the kernel weighted cost and use the coefficient obtained from minimizing that cost function to make a prediction for the new point. More specifically:\n",
    "\n",
    "$$\\hat{\\beta}(x) = argmin_{\\beta}\\sum_{i=1}^{n} K_{\\lambda}(x, x_i)\\Big[y_i-\\hat{y_i} \\Big]^2$$\n",
    "\n",
    "where \n",
    "\n",
    "$$\\hat{y_i} = \\beta_0+\\beta_1 x_{i,1}$$\n",
    "\n",
    "Noted that we are only interested in using the K nearest point to fit a linear regression. Even though in the above equation we sum up the cost for all the observations in the data, the kernel weighting function will only have weights for those which are near to the new points. To make prediction, i.e., to know what response value should the new point should have:\n",
    "\n",
    "$$\\hat{y}(x) = \\hat{\\beta}_0+\\hat{\\beta_1} x_{1}$$\n",
    "\n",
    "For each $x$ at which we want to predict $Y$, we must refit the model and minimze the above weighted SSE, which will give a different set of coefficients $\\hat{\\beta}(x)$ for __every__ $x$.\n",
    "\n",
    "If we have k features instead of 1 feature, the above equation will become\n",
    "\n",
    "$$\\hat{y_i} = \\beta_0+\\beta_1 x_{i,1}+ \\dots + \\beta_k x_{i,k}$$\n",
    "\n",
    "$$\\hat{y}(x) = \\hat{\\beta}_0+\\hat{\\beta_1} x_{1}+\\dots+\\hat{\\beta_k} x_{k}$$"
   ]
  },
  {
   "cell_type": "markdown",
   "metadata": {},
   "source": [
    "### Local Quadratic Regression"
   ]
  },
  {
   "cell_type": "markdown",
   "metadata": {},
   "source": [
    "> **Idea**"
   ]
  },
  {
   "cell_type": "markdown",
   "metadata": {},
   "source": [
    "Local linear regression may help us solve the boundary bias. Since it fit a straight line in local region, it'll introduce bias in the peak and valley. To address this bias, intuitively, if we can fit a curve instead of a straight line, we can lower the bias further. This is basically what local quaratic regression is.\n",
    "\n",
    "Instead of fitting a local linear regression, we can fit a local quadratic regression. An illustration is also shown in the figure below:\n",
    "\n",
    "<img src=\"_pic/linear_quadratic.png\" style=\"width: 600px;height: 400px;\"/>\n",
    "\n",
    "\n",
    "Noted that if we have k=20 predictors, when we count all the interaction terms of all pairs of predictors, we will need $C_{2}^{20}= \\frac{20\\times19}{2}$ predictors for a local quadratic regression. For each observation, the local window needs at least around 200 data points, aka 200 nearest neighbors."
   ]
  },
  {
   "cell_type": "markdown",
   "metadata": {},
   "source": [
    "> **The pros and cons of local linear vs quadratic regression**\n",
    "\n",
    "* local quadratic regression\n",
    "    * Pros: \n",
    "        * reducing bias, especially in the valley and peak\n",
    "    * Cons\n",
    "        * since the model have more predictors including all the interaction terms, it requires more data in each of the local window. We'll need wider kernel wegihting function to have enough data to fit\n",
    "\n",
    "* local linear regression\n",
    "    * Pros:\n",
    "        * fewer parameter to fit a local linear model. If number of predictor is 20, then we'll need at least 20 data points, aka nearest neighbors.\n",
    "    * Cons:\n",
    "        * bias in curvature\n",
    "        \n",
    "Another cons for both all the knn-based modeling is that because it is hard to find neighbors in high dimension, they generally wouldn't work well when we have a large number of predictors.\n",
    "        "
   ]
  },
  {
   "cell_type": "markdown",
   "metadata": {},
   "source": [
    "> **Choosing the best $\\lambda$**"
   ]
  },
  {
   "cell_type": "markdown",
   "metadata": {},
   "source": [
    "For Local Polynomial Regression, no matter which one it is, we'll need to choose $\\lambda$.\n",
    "\n",
    "There are two ways to do it\n",
    "* Cross validation: choose $\\lambda$ based on the lowest cross validation error. (RMSE for regression; deviance, misclass rate $\\dots$ for classification)\n",
    "* $C_p$: an estimate of test MSE.\n",
    "    * It is derived by minimize $\\sum_{i=1}^{n}\\frac{(\\hat{y}-y)^2}{n}$. The strict derivation is omitted in this notebook.\n",
    "    * $C_p = \\frac{SSE}{n}+\\frac{2trace{S}}{n}\\hat{\\alpha}^2$\n"
   ]
  },
  {
   "cell_type": "markdown",
   "metadata": {},
   "source": [
    "## <a id='example'>Example</a>"
   ]
  },
  {
   "cell_type": "markdown",
   "metadata": {},
   "source": [
    "In the example, we will be using ischemic (coronary) heart disease data. The goal is to predict the total cost of claims by each of the subscribers. Here is a short description of the dataset:\n",
    "\n",
    "A health insurance company collected information on 788 of its subscribers who had made claims resulting from ischemic (coronary) heart disease. Data were obtained on total costs of services provided for these 788 subscribers and the nature of the various services for the period of January 1, 1998 through December 31, 1999. Each line in the data set has an identification number and provides information on 9 other variables for each subscriber. The 10 variables are:\n",
    "1. Identification number\n",
    "2. Total cost of claims by subscriber (dollars)\n",
    "3. Age of subscriber (years)\n",
    "4. Gender (1 = male; 0 = female)\n",
    "5. Total number of Interventions or procedures carried out\n",
    "6. Number of tracked drugs prescribed\n",
    "7. Number of emergency room visits\n",
    "8. Number of complications that arose during heart disease treatment\n",
    "9. Number of other diseases (comorbidities) that the subscriber had during the\n",
    "period\n",
    "10. Number of days of duration of treatment condition"
   ]
  },
  {
   "cell_type": "code",
   "execution_count": 31,
   "metadata": {},
   "outputs": [],
   "source": [
    "library(XLConnect)\n",
    "library(dplyr)\n",
    "library(ggplot2)\n",
    "library(yaImpute)\n",
    "options(warn=-1)"
   ]
  },
  {
   "cell_type": "code",
   "execution_count": 5,
   "metadata": {},
   "outputs": [],
   "source": [
    "isch_df = readWorksheet(loadWorkbook('_data/HW2_data.xls'), sheet = 'Ischemic Heart Dis.', header = TRUE)\n",
    "isch_df = isch_df %>% select(-Col1)\n",
    "isch_df$cost = log10(isch_df$cost)\n",
    "\n",
    "isch_df_scaled = isch_df\n",
    "isch_df_scaled[2:9] = scale(isch_df_scaled[2:9])"
   ]
  },
  {
   "cell_type": "code",
   "execution_count": 30,
   "metadata": {},
   "outputs": [
    {
     "data": {
      "text/html": [
       "<table>\n",
       "<thead><tr><th scope=col>cost</th><th scope=col>age</th><th scope=col>gend</th><th scope=col>intvn</th><th scope=col>drugs</th><th scope=col>ervis</th><th scope=col>comp</th><th scope=col>comorb</th><th scope=col>dur</th></tr></thead>\n",
       "<tbody>\n",
       "\t<tr><td>2.253096</td><td>63      </td><td>0       </td><td> 2      </td><td>1       </td><td>4       </td><td>0       </td><td>3       </td><td>300     </td></tr>\n",
       "\t<tr><td>2.503791</td><td>59      </td><td>0       </td><td> 2      </td><td>0       </td><td>6       </td><td>0       </td><td>0       </td><td>120     </td></tr>\n",
       "\t<tr><td>3.968982</td><td>62      </td><td>0       </td><td>17      </td><td>0       </td><td>2       </td><td>0       </td><td>5       </td><td>353     </td></tr>\n",
       "\t<tr><td>2.448552</td><td>60      </td><td>1       </td><td> 9      </td><td>0       </td><td>7       </td><td>0       </td><td>2       </td><td>332     </td></tr>\n",
       "\t<tr><td>4.272471</td><td>55      </td><td>0       </td><td> 5      </td><td>2       </td><td>7       </td><td>0       </td><td>0       </td><td> 18     </td></tr>\n",
       "\t<tr><td>2.656482</td><td>66      </td><td>0       </td><td> 1      </td><td>0       </td><td>3       </td><td>0       </td><td>4       </td><td>296     </td></tr>\n",
       "</tbody>\n",
       "</table>\n"
      ],
      "text/latex": [
       "\\begin{tabular}{r|lllllllll}\n",
       " cost & age & gend & intvn & drugs & ervis & comp & comorb & dur\\\\\n",
       "\\hline\n",
       "\t 2.253096 & 63       & 0        &  2       & 1        & 4        & 0        & 3        & 300     \\\\\n",
       "\t 2.503791 & 59       & 0        &  2       & 0        & 6        & 0        & 0        & 120     \\\\\n",
       "\t 3.968982 & 62       & 0        & 17       & 0        & 2        & 0        & 5        & 353     \\\\\n",
       "\t 2.448552 & 60       & 1        &  9       & 0        & 7        & 0        & 2        & 332     \\\\\n",
       "\t 4.272471 & 55       & 0        &  5       & 2        & 7        & 0        & 0        &  18     \\\\\n",
       "\t 2.656482 & 66       & 0        &  1       & 0        & 3        & 0        & 4        & 296     \\\\\n",
       "\\end{tabular}\n"
      ],
      "text/markdown": [
       "\n",
       "cost | age | gend | intvn | drugs | ervis | comp | comorb | dur | \n",
       "|---|---|---|---|---|---|\n",
       "| 2.253096 | 63       | 0        |  2       | 1        | 4        | 0        | 3        | 300      | \n",
       "| 2.503791 | 59       | 0        |  2       | 0        | 6        | 0        | 0        | 120      | \n",
       "| 3.968982 | 62       | 0        | 17       | 0        | 2        | 0        | 5        | 353      | \n",
       "| 2.448552 | 60       | 1        |  9       | 0        | 7        | 0        | 2        | 332      | \n",
       "| 4.272471 | 55       | 0        |  5       | 2        | 7        | 0        | 0        |  18      | \n",
       "| 2.656482 | 66       | 0        |  1       | 0        | 3        | 0        | 4        | 296      | \n",
       "\n",
       "\n"
      ],
      "text/plain": [
       "  cost     age gend intvn drugs ervis comp comorb dur\n",
       "1 2.253096 63  0     2    1     4     0    3      300\n",
       "2 2.503791 59  0     2    0     6     0    0      120\n",
       "3 3.968982 62  0    17    0     2     0    5      353\n",
       "4 2.448552 60  1     9    0     7     0    2      332\n",
       "5 4.272471 55  0     5    2     7     0    0       18\n",
       "6 2.656482 66  0     1    0     3     0    4      296"
      ]
     },
     "metadata": {},
     "output_type": "display_data"
    }
   ],
   "source": [
    "head(isch_df)"
   ]
  },
  {
   "cell_type": "markdown",
   "metadata": {},
   "source": [
    "---"
   ]
  },
  {
   "cell_type": "markdown",
   "metadata": {},
   "source": [
    "> **Example 1: KNN**\n",
    "\n",
    "1. Use n-fold CV to find the best K for predicting cost using K-NN. What are the pros and cons of using n-fold CV, versus say 10-fold CV, for nearest neighbors?\n",
    "2. For the optimal K from part (a), what is the CV estimate of the prediction error standard deviation?\n",
    "3. What is the predicted cost for a person with age=59, gend=0, intvn=10, drugs=0, ervis=3, comp=0, comorb=4, and dur=300?"
   ]
  },
  {
   "cell_type": "markdown",
   "metadata": {},
   "source": [
    "**Solution 1**"
   ]
  },
  {
   "cell_type": "code",
   "execution_count": 8,
   "metadata": {
    "collapsed": true
   },
   "outputs": [],
   "source": [
    "CVInd <- function(n,K) {  \n",
    "  # A function to determine the indices in a CV partition\n",
    "  #\n",
    "  # Args\n",
    "  # ----------\n",
    "  #  n (int): sample size\n",
    "  #  K (int): number of parts\n",
    "  #\n",
    "  # Returns\n",
    "  # ----------\n",
    "  # list\n",
    "  #   K-length list of indices for each part\n",
    "  \n",
    "  m<-floor(n/K)  #approximate size of each part\n",
    "  r<-n-m*K  \n",
    "  I<-sample(n,n)  #random reordering of the indices\n",
    "  Ind<-list()  #will be list of indices for all K parts\n",
    "  length(Ind)<-K\n",
    "  for (k in 1:K) {\n",
    "    if (k <= r) kpart <- ((m+1)*(k-1)+1):((m+1)*k)  \n",
    "    else kpart<-((m+1)*r+m*(k-r-1)+1):((m+1)*r+m*(k-r))\n",
    "    Ind[[k]] <- I[kpart]  #indices for kth part of data\n",
    "  }\n",
    "  Ind\n",
    "}"
   ]
  },
  {
   "cell_type": "code",
   "execution_count": 9,
   "metadata": {},
   "outputs": [
    {
     "data": {},
     "metadata": {},
     "output_type": "display_data"
    },
    {
     "data": {
      "image/png": "[encoded data removed]",
      "text/plain": [
       "plot without title"
      ]
     },
     "metadata": {},
     "output_type": "display_data"
    }
   ],
   "source": [
    "my_knn_cv <- function(df, response, Nrep, K, nn){\n",
    "  # Calculating Cross Validation score for K-NN\n",
    "  # \n",
    "  # Args\n",
    "  # ----------\n",
    "  #   df (data.frame)\n",
    "  #   response (str): The response variable\n",
    "  #   Nrep (int): calculate cv using different partition for Nrep number of times\n",
    "  #   K (int): number of folds\n",
    "  #  nn (int): a list contains the nearest neighbor\n",
    "  # \n",
    "  # Returns\n",
    "  # ----------\n",
    "  # list\n",
    "  #    a list records related information about the cross validation result\n",
    "  apply_dim = ifelse(K==nrow(df),2,1)\n",
    "  n.models = length(nn) #number of different models to fit\n",
    "  n = nrow(df)\n",
    "  y = df[,c(response)]\n",
    "  yhat=matrix(0,n,n.models) \n",
    "  MSE<-matrix(0,Nrep,n.models)\n",
    "  for (j in 1:Nrep) {\n",
    "    Ind<-CVInd(n,K)\n",
    "    for (k in 1:K) {\n",
    "      train<-as.matrix(df[-Ind[[k]],] %>% select_(paste('-',response,sep=''))) \n",
    "      test<-as.matrix(df[Ind[[k]],] %>% select_(paste('-',response,sep='')))\n",
    "      ytrain<-df[-Ind[[k]], grep(response, colnames(df))]\n",
    "      \n",
    "      for (index in 1:length(nn)){\n",
    "        out<-ann(train,test,nn[index],verbose=F)\n",
    "        ind<-as.matrix(out$knnIndexDist[,1:nn[index]])\n",
    "        yhat[Ind[[k]],index]<-apply(ind,apply_dim,function(x) mean(ytrain[x]))\n",
    "      }\n",
    "\n",
    "    } #end of k loop\n",
    "    MSE[j,]=apply(yhat,2,function(x) sum((y-x)^2))/n\n",
    "  } #end of j loop\n",
    "  MSEAve<- apply(MSE,2,mean); MSEAve #averaged mean square CV error\n",
    "  MSEsd <- apply(MSE,2,sd); MSEsd   #SD of mean square CV error\n",
    "  r2<-1-MSEAve/var(y); r2  #CV r^2\n",
    "\n",
    "  return(list(best_nn =nn[which.max(r2)],\n",
    "              best_rmse = sqrt(MSEAve[which.min(MSEAve)]),\n",
    "              cvsd=MSEsd[which.max(r2)],\n",
    "              r2df=data.frame(nn, r2)))\n",
    "}\n",
    "knn_tune = my_knn_cv(df=isch_df_scaled, response=\"cost\", Nrep=5, K=nrow(isch_df_scaled), nn=seq(2,20)) \n",
    "\n",
    "ggplot(data=knn_tune$r2df, aes(x=nn, y=r2)) + \n",
    "  geom_point() + \n",
    "  geom_line() + \n",
    "  geom_vline(xintercept = knn_tune$best_nn, colour=\"#BB0000\", linetype=\"dashed\") + \n",
    "  geom_text(aes(label=ifelse(nn==knn_tune$best_nn, nn, \"\")),hjust=1, vjust=0)"
   ]
  },
  {
   "cell_type": "markdown",
   "metadata": {},
   "source": [
    "**Solution 2**"
   ]
  },
  {
   "cell_type": "code",
   "execution_count": 10,
   "metadata": {},
   "outputs": [
    {
     "data": {
      "text/html": [
       "0.532165293151992"
      ],
      "text/latex": [
       "0.532165293151992"
      ],
      "text/markdown": [
       "0.532165293151992"
      ],
      "text/plain": [
       "[1] 0.5321653"
      ]
     },
     "metadata": {},
     "output_type": "display_data"
    }
   ],
   "source": [
    "knn_tune$best_rmse"
   ]
  },
  {
   "cell_type": "markdown",
   "metadata": {},
   "source": [
    "The CV estimate of the prediction error standard deviation shown above"
   ]
  },
  {
   "cell_type": "markdown",
   "metadata": {},
   "source": [
    "**Solution 3**"
   ]
  },
  {
   "cell_type": "code",
   "execution_count": 14,
   "metadata": {},
   "outputs": [
    {
     "data": {
      "text/html": [
       "3.37948923146975"
      ],
      "text/latex": [
       "3.37948923146975"
      ],
      "text/markdown": [
       "3.37948923146975"
      ],
      "text/plain": [
       "[1] 3.379489"
      ]
     },
     "metadata": {},
     "output_type": "display_data"
    }
   ],
   "source": [
    "scale_new_obs <- function(new_obs, df, response){\n",
    "  # Scale the features of the new observation using the statistics from the original dataframe\n",
    "  # \n",
    "  # Args\n",
    "  # ----------\n",
    "  #   new_obs (data.frame)\n",
    "  #   df (data.frame): the original data.frame which we get the statistics from\n",
    "  #   response (str): The response variable for the model\n",
    "  #\n",
    "  # Returns\n",
    "  # ----------\n",
    "  # data.frame\n",
    "  #    a scaled data.frame\n",
    "  \n",
    "  for (col in colnames(df)){\n",
    "    if (col!=response){\n",
    "      mean = mean(df[,c(col)])\n",
    "      sd = sd(df[,c(col)])\n",
    "      new_obs[,c(col)] = (new_obs[,c(col)]-mean)/sd\n",
    "    }\n",
    "  }\n",
    "  return(new_obs)\n",
    "}\n",
    "\n",
    "\n",
    "predict_knn <- function(train_scaled, test_scaled, nn, response){\n",
    "  # Predict the response for the test data with single observation\n",
    "  # \n",
    "  # Args\n",
    "  # ----------\n",
    "  #   train_scaled: scaled train data.frame\n",
    "  #   test_scaled: scaled test data.frame\n",
    "  #   nn: number of nearest neighbors\n",
    "  #   response: str. The response variable for the model\n",
    "  #\n",
    "  # Returns\n",
    "  # ----------\n",
    "  # int: the predicted result the new data\n",
    "  #    \n",
    "  out<-ann(as.matrix(train_scaled %>% select_(paste('-',response,sep=''))),\n",
    "         as.matrix(test_scaled %>% select_(paste('-',response,sep=''))),\n",
    "         nn,\n",
    "         verbose=F)\n",
    "  ind<-as.matrix(out$knnIndexDist[,1:nn])\n",
    "  return(mean(train_scaled[ind,c(response)]))\n",
    "}\n",
    "\n",
    "new_obs = data.frame(age=59, gend=0, intvn=10, drugs=0, ervis=3, comp=0, comorb=4, dur=300, cost=0)\n",
    "new_obs_scaled = scale_new_obs(new_obs, isch_df, \"cost\")\n",
    "prediction_knn = predict_knn(isch_df_scaled, new_obs_scaled, knn_tune$best_nn, \"cost\")\n",
    "prediction_knn"
   ]
  },
  {
   "cell_type": "markdown",
   "metadata": {},
   "source": [
    "> **Example 2: Local Polynomial Regression**"
   ]
  },
  {
   "cell_type": "markdown",
   "metadata": {},
   "source": [
    "This problem involves using kernel methods to predict cost for the ischemic heart disease data. Since the loess() function in R allows at most four predictors, and the ischemic heart disease data involves eight predictors, you will have to choose a good subset of four predictors to work with. From HW2, the best regression tree had the three predictors intvn, comorb, and dur, so these three should probably be in the model. These three also had the smallest P-values from the linear regression fit from HW2 and from the GAM fit in problem 2 above, and the VIFs were all small, so the other larger P-values are not distorted by multicollinearity. The predictor comp had the next smallest P-value in HW2 and in the GAM fit above, but it is discrete, which will cause an error in loess(). So as the fourth predictor for this problem, use ervis, which appears to be the next most relevant predictor from the GAM fit above.\n",
    "\n",
    "1. Use CV to find the best combination of span and degree (0 for local average, 1 for local linear, and 2 for local quadratic regression) for a kernel method.\n",
    "2. Use Cp to find the best combination of span and degree (0 for local average, 1 for local linear, and 2 for local quadratic regression) for a kernel method. Is this in agreement with what CV said was the best span and degree?\n",
    "3. For the optimal model from part (a), what is the CV estimate of the prediction error standard deviation?\n",
    "4. What is the predicted cost for a person with age=59, gend=0, intvn=10, drugs=0, ervis=3, comp=0, comorb=4, and dur=300?"
   ]
  },
  {
   "cell_type": "markdown",
   "metadata": {},
   "source": [
    "**Solution 1**"
   ]
  },
  {
   "cell_type": "code",
   "execution_count": 16,
   "metadata": {
    "collapsed": true
   },
   "outputs": [],
   "source": [
    "param_grid_loess <- function(df, response, Nrep, K, degree_list, span_list){\n",
    "  # Get the best parameters from every combination of the input \n",
    "  # mtry and nodesize according to OOB R^2 obtained from my_rf_oob function\n",
    "  #\n",
    "  # Args\n",
    "  # ----------\n",
    "  #   df (data.frame)\n",
    "  #   response (string): the response variable name\n",
    "  #   Nrep (num): \n",
    "  #       number of replicates of CV. \n",
    "  #       Used in order to check the effect of the randomness when doing CV\n",
    "  #   K (int): number of folds\n",
    "  #   degree_list (list): a list degree values\n",
    "  #   span_list (list): a list span values\n",
    "  #\n",
    "  # Returns\n",
    "  # ----------\n",
    "  # list:\n",
    "  #    a list containing the cross validation result of MSE in each repetition,\n",
    "  #    the best number of degree and span\n",
    "\n",
    "  num_columns = length(degree_list)*length(span_list)\n",
    "  EvaMat<-matrix(0,Nrep,num_columns)\n",
    "  iterator = 1\n",
    "  \n",
    "  for(d in degree_list){\n",
    "    for(s in span_list){\n",
    "      EvaMat[,iterator] = cv_loess(df, \n",
    "                               response=response,\n",
    "                               Nrep=Nrep, \n",
    "                               K=K,\n",
    "                               degree=d,\n",
    "                               span=s\n",
    "      )\n",
    "      iterator= iterator +1\n",
    "    }\n",
    "  }\n",
    "  EvaMatAve<- apply(EvaMat,2,mean)\n",
    "  best_param = get_param_value(EvaMatAve, degree_list, span_list, max=FALSE)\n",
    "  \n",
    "  return(list(matrix=EvaMat,\n",
    "              degree=best_param$outer,\n",
    "              span=best_param$inner))\n",
    "}\n",
    "\n",
    "cv_loess <- function(df, response, Nrep, K, degree, span){\n",
    "  # Run Cross validation using the indicated parameters\n",
    "  #\n",
    "  # Args\n",
    "  # ----------\n",
    "  #   df (data.frame)\n",
    "  #   response (str): the response variable name\n",
    "  #   Nrep (int)\n",
    "  #       number of replicates of CV. \n",
    "  #       Used in order to check the effect of the randomness when doing CV.\n",
    "  #   K (int): K-fold CV on each replicate\n",
    "  #   degree (int): the degree of the polynomials to be used, normally 1 or 2\n",
    "  #   span (num): he parameter alpha which controls the degree of smoothing.\n",
    "  #\n",
    "  # Returns\n",
    "  # --------\n",
    "  #    result of MSE in each repetition. \n",
    "  #    If Nrep=10, then the output will be with dimension 10*1\n",
    "  #\n",
    "  # Note\n",
    "  # --------\n",
    "  # When the fit was made using surface = \"interpolate\" (the default), \n",
    "  # predict.loess will not extrapolate – so points outside an axis-aligned \n",
    "  # hypercube enclosing the original data will have missing (NA) predictions \n",
    "  # and standard errors. Therefore, I added control=loess.control(surface=\"direct\") \n",
    "  # in the loess function. \n",
    "  # Reference (https://stackoverflow.com/questions/27796368/r-loess-prediction-returns-na)\n",
    "  \n",
    "  #Nrep<-3 #number of replicates of CV\n",
    "  #K<-3  #K-fold CV on each replicate\n",
    "  fm = as.formula(paste(response,'~.',sep=''))\n",
    "  n=nrow(df)\n",
    "  y<-df[,c(response)]\n",
    "  yhat=matrix(0,n) # records the prediction for each model. Each column represent a model, each row represent an observation\n",
    "  MSE<-matrix(0,Nrep) # \n",
    "  \n",
    "  for (j in 1:Nrep) {\n",
    "    Ind<-CVInd(n,K)\n",
    "    for (k in 1:K) {\n",
    "      out<-loess(fm, df[-Ind[[k]],],degree=degree,span=span, control=loess.control(surface=\"direct\"))\n",
    "      yhat[Ind[[k]],1]<-predict(out,df[Ind[[k]],])\n",
    "    } #end of k loop\n",
    "    MSE[j,]=apply(yhat,2,function(x) sum((y-x)^2))/n\n",
    "  } #end of j loop\n",
    "\n",
    "  return(MSE)\n",
    "  # MSEAve<- apply(MSE,2,mean); MSEAve #ave\n",
    "}\n",
    "\n",
    "get_param_value <- function(metrics_list, outer_list, inner_list, max=FALSE){\n",
    "  # Get the best param according to the index of the calculated metrics_list\n",
    "  #\n",
    "  # Parameters\n",
    "  # ----------\n",
    "  # metrics_list: list\n",
    "  #     a list contains the estimated evaluation metrics\n",
    "  #     should be generated using cross validation. \n",
    "  #     Each value is the value for some certain values from \n",
    "  #     the combination of outer_list and inner_list\n",
    "  # outer_list: list, the outer loop when tuning the parameters.\n",
    "  # inner_list: list, the inner loop when tuning the parameters.\n",
    "  # max: bool, indicate whether we want max or min value from the metrics_list\n",
    "  #\n",
    "  # Returns\n",
    "  # ----------\n",
    "  # list\n",
    "  #    a list shows the value of outer and inner that generates the lowest average metrics\n",
    "  \n",
    "  if (max==FALSE){\n",
    "    targer_number = which.min(metrics_list)  \n",
    "  }else{\n",
    "    targer_number = which.max(metrics_list)  \n",
    "  }\n",
    "  \n",
    "  \n",
    "  outer_index = ceiling(targer_number/length(inner_list))\n",
    "  inner_index = targer_number%%length(inner_list)\n",
    "  if(inner_index==0){\n",
    "    inner_index=length(inner_list)\n",
    "  }\n",
    "  \n",
    "  return(list(outer=outer_list[outer_index],\n",
    "              inner=inner_list[inner_index]))\n",
    "}"
   ]
  },
  {
   "cell_type": "code",
   "execution_count": 32,
   "metadata": {},
   "outputs": [],
   "source": [
    "param_tune_loess = param_grid_loess(df=isch_df_scaled %>% select(intvn, comorb, dur, ervis, cost),\n",
    "                                     response=\"cost\", \n",
    "                                     Nrep=5, \n",
    "                                     K=10, \n",
    "                                     degree_list=c(0,1,2), \n",
    "                                     span_list=seq(0.1,0.7,0.1))"
   ]
  },
  {
   "cell_type": "code",
   "execution_count": 23,
   "metadata": {},
   "outputs": [
    {
     "data": {
      "text/html": [
       "<ol class=list-inline>\n",
       "\t<li>0.227193493701209</li>\n",
       "\t<li>0.242251245229513</li>\n",
       "\t<li>0.259967134682218</li>\n",
       "\t<li>0.279397467764283</li>\n",
       "\t<li>0.298185800521744</li>\n",
       "\t<li>0.317463431734808</li>\n",
       "\t<li>0.339911186657431</li>\n",
       "\t<li>0.227934223236817</li>\n",
       "\t<li>0.219789266649255</li>\n",
       "\t<li>0.220614352086265</li>\n",
       "\t<li>0.220243196155771</li>\n",
       "\t<li>0.22109087546753</li>\n",
       "\t<li>0.22265623863279</li>\n",
       "\t<li>0.225219460409626</li>\n",
       "\t<li>0.2972705589337</li>\n",
       "\t<li>0.248237162594194</li>\n",
       "\t<li>0.232818395137058</li>\n",
       "\t<li>0.225680607205347</li>\n",
       "\t<li>0.2267962262188</li>\n",
       "\t<li>0.22529009987541</li>\n",
       "\t<li>0.223572087415742</li>\n",
       "</ol>\n"
      ],
      "text/latex": [
       "\\begin{enumerate*}\n",
       "\\item 0.227193493701209\n",
       "\\item 0.242251245229513\n",
       "\\item 0.259967134682218\n",
       "\\item 0.279397467764283\n",
       "\\item 0.298185800521744\n",
       "\\item 0.317463431734808\n",
       "\\item 0.339911186657431\n",
       "\\item 0.227934223236817\n",
       "\\item 0.219789266649255\n",
       "\\item 0.220614352086265\n",
       "\\item 0.220243196155771\n",
       "\\item 0.22109087546753\n",
       "\\item 0.22265623863279\n",
       "\\item 0.225219460409626\n",
       "\\item 0.2972705589337\n",
       "\\item 0.248237162594194\n",
       "\\item 0.232818395137058\n",
       "\\item 0.225680607205347\n",
       "\\item 0.2267962262188\n",
       "\\item 0.22529009987541\n",
       "\\item 0.223572087415742\n",
       "\\end{enumerate*}\n"
      ],
      "text/markdown": [
       "1. 0.227193493701209\n",
       "2. 0.242251245229513\n",
       "3. 0.259967134682218\n",
       "4. 0.279397467764283\n",
       "5. 0.298185800521744\n",
       "6. 0.317463431734808\n",
       "7. 0.339911186657431\n",
       "8. 0.227934223236817\n",
       "9. 0.219789266649255\n",
       "10. 0.220614352086265\n",
       "11. 0.220243196155771\n",
       "12. 0.22109087546753\n",
       "13. 0.22265623863279\n",
       "14. 0.225219460409626\n",
       "15. 0.2972705589337\n",
       "16. 0.248237162594194\n",
       "17. 0.232818395137058\n",
       "18. 0.225680607205347\n",
       "19. 0.2267962262188\n",
       "20. 0.22529009987541\n",
       "21. 0.223572087415742\n",
       "\n",
       "\n"
      ],
      "text/plain": [
       " [1] 0.2271935 0.2422512 0.2599671 0.2793975 0.2981858 0.3174634 0.3399112\n",
       " [8] 0.2279342 0.2197893 0.2206144 0.2202432 0.2210909 0.2226562 0.2252195\n",
       "[15] 0.2972706 0.2482372 0.2328184 0.2256806 0.2267962 0.2252901 0.2235721"
      ]
     },
     "metadata": {},
     "output_type": "display_data"
    },
    {
     "data": {
      "text/html": [
       "0.00328838948019831"
      ],
      "text/latex": [
       "0.00328838948019831"
      ],
      "text/markdown": [
       "0.00328838948019831"
      ],
      "text/plain": [
       "[1] 0.003288389"
      ]
     },
     "metadata": {},
     "output_type": "display_data"
    },
    {
     "data": {
      "text/html": [
       "0.679356049470728"
      ],
      "text/latex": [
       "0.679356049470728"
      ],
      "text/markdown": [
       "0.679356049470728"
      ],
      "text/plain": [
       "[1] 0.679356"
      ]
     },
     "metadata": {},
     "output_type": "display_data"
    }
   ],
   "source": [
    "MSEAve<- apply(param_tune_loess$matrix,2,mean); MSEAve #averaged mean square CV error\n",
    "\n",
    "# tune all the combination of the parameters. The one with the smallest mean MSE is \n",
    "# the one we use for our final model. Therefore, we use pick the minimum MSE as the \n",
    "# one to calculate the final r-squared.\n",
    "minMSEAve = MSEAve[which.min(MSEAve)]\n",
    "kernal_best_rmse = sqrt(minMSEAve)\n",
    "minMSEsd <- sd(param_tune_loess$matrix[,which.min(MSEAve)]); minMSEsd   #SD of mean square CV error\n",
    "y<-isch_df_scaled$cost\n",
    "r2_loess_cv<-1-minMSEAve/var(y); r2_loess_cv #CV r^2"
   ]
  },
  {
   "cell_type": "code",
   "execution_count": 24,
   "metadata": {},
   "outputs": [
    {
     "name": "stdout",
     "output_type": "stream",
     "text": [
      "[1] \"degree:  1\"\n",
      "[1] \"span:  0.2\"\n",
      "[1] \"The cross validation r^2 is 0.679356049470728\"\n"
     ]
    }
   ],
   "source": [
    "print(paste(\"degree: \",param_tune_loess$degree))\n",
    "print(paste(\"span: \",param_tune_loess$span))\n",
    "print(paste(\"The cross validation r^2 is\",r2_loess_cv))"
   ]
  },
  {
   "cell_type": "markdown",
   "metadata": {},
   "source": [
    "**Solution 2**"
   ]
  },
  {
   "cell_type": "code",
   "execution_count": 33,
   "metadata": {},
   "outputs": [
    {
     "name": "stdout",
     "output_type": "stream",
     "text": [
      "[1] 0.0100000 0.5857457\n",
      "[1] 0.0200000 0.4844904\n",
      "[1] 0.0300000 0.4813961\n",
      "[1] 0.0400000 0.4821727\n",
      "[1] 0.050000 0.485394\n",
      "[1] 0.0600000 0.4886634\n",
      "[1] 0.0700000 0.4935487\n",
      "[1] 0.0800000 0.4960235\n",
      "[1] 0.0900000 0.4978843\n",
      "[1] 0.1000000 0.5017093\n",
      "[1] 0.1100000 0.5133619\n",
      "[1] 0.1200000 0.5183665\n",
      "[1] 0.1300000 0.5210468\n",
      "[1] 0.1400000 0.5279226\n",
      "[1] 0.1500000 0.5304162\n",
      "[1] 0.1600000 0.5343597\n",
      "[1] 0.1700000 0.5387402\n",
      "[1] 0.1800000 0.5492153\n",
      "[1] 0.190000 0.549971\n",
      "[1] 0.2000000 0.5588878\n",
      "[1] 0.0100000 0.3453579\n",
      "[1] 0.0200000 0.2512106\n",
      "[1] 0.0300000 0.2450885\n",
      "[1] 0.0400000 0.2434139\n",
      "[1] 0.0500000 0.2450083\n",
      "[1] 0.1000000 0.2559631\n",
      "[1] 0.2000000 0.3133664\n",
      "[1] 0.3000000 0.3592462\n",
      "[1] 0.400000 0.422737\n",
      "[1] 0.5000000 0.4451276\n",
      "[1] 0.6000000 0.4954951\n",
      "[1] 0.7000000 0.5055208\n",
      "[1] 0.8000000 0.5281851\n",
      "[1] 0.9000000 0.5436618\n",
      "[1] 0.0200000 0.7217457\n",
      "[1] 0.0300000 0.5202146\n",
      "[1] 0.0400000 0.4908207\n",
      "[1] 0.05000 0.47997\n",
      "[1] 0.060000 0.477706\n",
      "[1] 0.0700000 0.4764831\n",
      "[1] 0.0800000 0.4696464\n",
      "[1] 0.090000 0.466708\n",
      "[1] 0.1000000 0.4671513\n",
      "[1] 0.1100000 0.4674304\n",
      "[1] 0.1200000 0.4676536\n",
      "[1] 0.1300000 0.4666387\n",
      "[1] 0.1400000 0.4728385\n",
      "[1] 0.150000 0.471835\n",
      "[1] 0.1600000 0.4711656\n",
      "[1] 0.170000 0.471217\n",
      "[1] 0.1800000 0.4710862\n",
      "[1] 0.1900000 0.4685801\n",
      "[1] 0.2000000 0.4708937\n",
      "[1] 0.01000 3.93237\n",
      "[1] 0.0200000 0.4748598\n",
      "[1] 0.0300000 0.2993443\n",
      "[1] 0.0400000 0.2720243\n",
      "[1] 0.050000 0.260209\n",
      "[1] 0.1000000 0.2363853\n",
      "[1] 0.2000000 0.2309627\n",
      "[1] 0.3000000 0.2270233\n",
      "[1] 0.400000 0.225667\n",
      "[1] 0.5000000 0.2249555\n",
      "[1] 0.6000000 0.2263847\n",
      "[1] 0.7000000 0.2288166\n",
      "[1] 0.8000000 0.2326062\n",
      "[1] 0.900000 0.239922\n",
      "[1] 0.0200000 0.7217457\n",
      "[1] 0.0300000 0.5202146\n",
      "[1] 0.0400000 0.4908207\n",
      "[1] 0.05000 0.47997\n",
      "[1] 0.060000 0.477706\n",
      "[1] 0.0700000 0.4764831\n",
      "[1] 0.0800000 0.4696464\n",
      "[1] 0.090000 0.466708\n",
      "[1] 0.1000000 0.4671513\n",
      "[1] 0.1100000 0.4674304\n",
      "[1] 0.1200000 0.4676536\n",
      "[1] 0.1300000 0.4666387\n",
      "[1] 0.1400000 0.4728385\n",
      "[1] 0.150000 0.471835\n",
      "[1] 0.1600000 0.4711656\n",
      "[1] 0.170000 0.471217\n",
      "[1] 0.1800000 0.4710862\n",
      "[1] 0.1900000 0.4685801\n",
      "[1] 0.2000000 0.4708937\n",
      "[1]        0.01 31314041.28\n",
      "[1]    0.02 4095.05\n",
      "[1]  0.03000 17.31495\n",
      "[1]  0.04000 29.89562\n",
      "[1] 0.050000 3.211873\n",
      "[1] 0.1000000 0.4467534\n",
      "[1] 0.2000000 0.3892679\n",
      "[1] 0.3000000 0.3212503\n",
      "[1] 0.4000000 0.3012488\n",
      "[1] 0.5000000 0.2663133\n",
      "[1] 0.600000 0.243059\n",
      "[1] 0.7000000 0.2486909\n",
      "[1] 0.8000000 0.2435639\n",
      "[1] 0.9000000 0.2464292\n"
     ]
    }
   ],
   "source": [
    "##### For degree = 0\n",
    "\n",
    "##first find sigma_hat for a low-bias model###\n",
    "for (lambda in seq(.01,.2,.01)) {\n",
    "  out<-loess(cost ~.,\n",
    "             isch_df_scaled %>% select(intvn, comorb, dur, ervis, cost),\n",
    "             degree=0,\n",
    "             span=lambda)\n",
    "  print(c(lambda,out$s))\n",
    "}\n",
    "sig_hat_0<-0.4844904\n",
    "\n",
    "##now find Cp for various lambda###\n",
    "for (lambda in c(seq(.01,.05,.01), seq(.1,0.9,.1))) {\n",
    "  out<-loess(cost ~.,\n",
    "             isch_df_scaled %>% select(intvn, comorb, dur, ervis, cost),\n",
    "             degree=0,\n",
    "             span=lambda)\n",
    "  SSE<-sum((isch_df_scaled[,c(\"cost\")]-out$fitted)^2)\n",
    "  Cp <- (SSE+2*out$trace.hat*sig_hat_0^2)/nrow(isch_df_scaled)\n",
    "  print(c(lambda,Cp))\n",
    "}\n",
    "\n",
    "# -> the minimum Cp is 0.2434139 when span=0.04\n",
    "\n",
    "##### For degree = 1\n",
    "\n",
    "##first find sigma_hat for a low-bias model###\n",
    "for (lambda in seq(.02,.2,.01)) {\n",
    "  out<-loess(cost ~., \n",
    "             isch_df_scaled %>% select(intvn, comorb, dur, ervis, cost),\n",
    "             degree=1, \n",
    "             span=lambda)\n",
    "  print(c(lambda,out$s))\n",
    "}\n",
    "sig_hat_1<-0.4908207\n",
    "\n",
    "##now find Cp for various lambda###\n",
    "for (lambda in c(seq(.01,.05,.01), seq(.1,0.9,.1))) {\n",
    "  out<-loess(cost ~., \n",
    "             isch_df_scaled %>% select(intvn, comorb, dur, ervis, cost),\n",
    "             degree=1, \n",
    "             span=lambda)     \n",
    "  SSE<-sum((isch_df_scaled[,c(\"cost\")]-out$fitted)^2)\n",
    "  Cp <- (SSE+2*out$trace.hat*sig_hat_1^2)/nrow(isch_df_scaled) \n",
    "  print(c(lambda,Cp))\n",
    "}\n",
    "\n",
    "# -> the minimum Cp is 0.2249555 when span=0.5\n",
    "\n",
    "\n",
    "##### For degree = 2\n",
    "\n",
    "##first find sigma_hat for a low-bias model###\n",
    "for (lambda in seq(.02,.2,.01)) {\n",
    "  out<-loess(cost ~., \n",
    "             isch_df_scaled %>% select(intvn, comorb, dur, ervis, cost),\n",
    "             degree=1, \n",
    "             span=lambda)\n",
    "  print(c(lambda,out$s))\n",
    "}\n",
    "sig_hat_2<-0.4908207\n",
    "\n",
    "##now find Cp for various lambda###\n",
    "for (lambda in c(seq(.01,.05,.01), seq(.1,0.9,.1))) {\n",
    "  out<-loess(cost ~., \n",
    "             isch_df_scaled %>% select(intvn, comorb, dur, ervis, cost),\n",
    "             degree=2, \n",
    "             span=lambda)     \n",
    "  SSE<-sum((isch_df_scaled[,c(\"cost\")]-out$fitted)^2)\n",
    "  Cp <- (SSE+2*out$trace.hat*sig_hat_2^2)/nrow(isch_df_scaled) \n",
    "  print(c(lambda,Cp))\n",
    "}\n",
    "\n",
    "# -> the minimum Cp is 0.243059 when span=0.6"
   ]
  },
  {
   "cell_type": "markdown",
   "metadata": {},
   "source": [
    "The best span and degree obtained using Cp is \n",
    "\n",
    "* degree = 1\n",
    "* span = 0.5"
   ]
  },
  {
   "cell_type": "markdown",
   "metadata": {},
   "source": [
    "**Solution 3**"
   ]
  },
  {
   "cell_type": "code",
   "execution_count": 26,
   "metadata": {},
   "outputs": [
    {
     "data": {
      "text/html": [
       "0.468816879654791"
      ],
      "text/latex": [
       "0.468816879654791"
      ],
      "text/markdown": [
       "0.468816879654791"
      ],
      "text/plain": [
       "[1] 0.4688169"
      ]
     },
     "metadata": {},
     "output_type": "display_data"
    }
   ],
   "source": [
    "kernal_best_rmse"
   ]
  },
  {
   "cell_type": "markdown",
   "metadata": {},
   "source": [
    "The CV estimate of the prediction error standard deviation is shown above"
   ]
  },
  {
   "cell_type": "markdown",
   "metadata": {},
   "source": [
    "**Solution 4**"
   ]
  },
  {
   "cell_type": "code",
   "execution_count": 29,
   "metadata": {},
   "outputs": [
    {
     "data": {
      "text/html": [
       "<strong>1:</strong> 3.54745995253821"
      ],
      "text/latex": [
       "\\textbf{1:} 3.54745995253821"
      ],
      "text/markdown": [
       "**1:** 3.54745995253821"
      ],
      "text/plain": [
       "      1 \n",
       "3.54746 "
      ]
     },
     "metadata": {},
     "output_type": "display_data"
    }
   ],
   "source": [
    "out<-loess(cost~., \n",
    "           isch_df_scaled %>% select(intvn, comorb, dur, ervis, cost),\n",
    "           degree=param_tune_loess$degree,\n",
    "           span=param_tune_loess$span)\n",
    "prediction_loess = predict(out, newdata = new_obs_scaled)\n",
    "prediction_loess"
   ]
  }
 ],
 "metadata": {
  "kernelspec": {
   "display_name": "R",
   "language": "R",
   "name": "ir"
  },
  "language_info": {
   "codemirror_mode": "r",
   "file_extension": ".r",
   "mimetype": "text/x-r-source",
   "name": "R",
   "pygments_lexer": "r",
   "version": "3.4.0"
  }
 },
 "nbformat": 4,
 "nbformat_minor": 2
}
